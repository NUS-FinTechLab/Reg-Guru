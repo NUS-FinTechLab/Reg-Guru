{
 "cells": [
  {
   "cell_type": "markdown",
   "id": "ea59c549",
   "metadata": {},
   "source": [
    "# Introduction\n",
    "* Purpose: Create a local ChromaDB vector store with existing EU legal acts from S3 bucket\n",
    "* Python Environment: regpy10ch\n",
    "\n",
    "# Libraries"
   ]
  },
  {
   "cell_type": "code",
   "execution_count": 23,
   "id": "e92ffca4",
   "metadata": {},
   "outputs": [
    {
     "data": {
      "text/plain": [
       "True"
      ]
     },
     "execution_count": 23,
     "metadata": {},
     "output_type": "execute_result"
    }
   ],
   "source": [
    "import pandas as pd\n",
    "import numpy as np\n",
    "import os\n",
    "import json\n",
    "import boto3\n",
    "import chromadb\n",
    "import logging\n",
    "import traceback\n",
    "from tqdm import tqdm\n",
    "from datetime import datetime\n",
    "from bs4 import BeautifulSoup\n",
    "from multiprocessing import Pool\n",
    "from dotenv import load_dotenv\n",
    "load_dotenv(override=True)"
   ]
  },
  {
   "cell_type": "code",
   "execution_count": 2,
   "id": "ac6cf7d4",
   "metadata": {},
   "outputs": [],
   "source": [
    "import hashlib\n",
    "from langchain.text_splitter import RecursiveCharacterTextSplitter\n",
    "from langchain_community.document_loaders import BSHTMLLoader, UnstructuredXMLLoader\n",
    "from langchain_huggingface import HuggingFaceEmbeddings\n",
    "\n",
    "def extract_mt_code(mt):\n",
    "    if pd.isna(mt):\n",
    "        return None\n",
    "    else:\n",
    "        return mt[0:5]\n",
    "    \n",
    "def extract_mt_term(mt):\n",
    "    if pd.isna(mt):\n",
    "        return None\n",
    "    else:\n",
    "        return mt[5:]\n",
    "\n",
    "def decompose_celex(celex):\n",
    "    sector = celex[0]\n",
    "    year = celex[1:5]\n",
    "    return sector, year\n",
    "\n",
    "def make_id(doc_path):\n",
    "    return hashlib.md5(doc_path[32:].encode(\"utf-8\")).hexdigest()[:12]"
   ]
  },
  {
   "cell_type": "code",
   "execution_count": 3,
   "id": "ad491fd2",
   "metadata": {},
   "outputs": [],
   "source": [
    "AWS_ACCESS_KEY_ID = os.getenv(\"S3_ACCESS_KEY_ID\")\n",
    "AWS_SECRET_ACCESS_KEY = os.getenv(\"S3_SECRET_ACCESS_KEY\")\n",
    "bucket_name = 'regguru'\n",
    "# Create an S3 client\n",
    "s3 = boto3.client(\n",
    "    's3',\n",
    "    aws_access_key_id=AWS_ACCESS_KEY_ID,\n",
    "    aws_secret_access_key=AWS_SECRET_ACCESS_KEY\n",
    ")\n",
    "\n",
    "la_object = 'eu/LEG_EN_HTML_20250721_04_08'\n",
    "mtd_object = 'eu/LEG_MTD_20250709_22_36'"
   ]
  },
  {
   "cell_type": "code",
   "execution_count": 4,
   "id": "e6f3d18e",
   "metadata": {},
   "outputs": [],
   "source": [
    "la_mtd_file = os.getenv(\"EU_LEGAL_ACT_METADATA_FILE\")\n",
    "la_mtd = pd.read_csv(la_mtd_file)\n",
    "la_mtd[\"MT-code\"] = la_mtd[\"MT\"].apply(extract_mt_code)\n",
    "la_mtd[\"MT-term\"] = la_mtd[\"MT\"].apply(extract_mt_term)\n",
    "la_mtd['doc-path'] = \"eu/LEG_EN_HTML_20250721_04_08/\" + la_mtd['work-id'] + \"/\" + la_mtd['format'] + \"/\" + la_mtd['doc']\n",
    "la_mtd['mtd-path'] = \"eu/LEG_MTD_20250709_22_36/\" + la_mtd['work-id'] + \"/tree_non_inferred.rdf\""
   ]
  },
  {
   "cell_type": "code",
   "execution_count": 5,
   "id": "c0173e75",
   "metadata": {},
   "outputs": [],
   "source": [
    "ch_client = chromadb.PersistentClient(path=\"./chroma_data\")"
   ]
  },
  {
   "cell_type": "code",
   "execution_count": 6,
   "id": "da817a08",
   "metadata": {},
   "outputs": [],
   "source": [
    "text_splitter = RecursiveCharacterTextSplitter(\n",
    "    chunk_size=1000,  # Slightly larger chunks\n",
    "    chunk_overlap=200\n",
    ")\n"
   ]
  },
  {
   "cell_type": "markdown",
   "id": "584b9e32",
   "metadata": {},
   "source": [
    "# Test embed documents"
   ]
  },
  {
   "cell_type": "code",
   "execution_count": null,
   "id": "d3f37963",
   "metadata": {},
   "outputs": [],
   "source": [
    "# ch_client.delete_collection(name=\"legal-test\")"
   ]
  },
  {
   "cell_type": "code",
   "execution_count": 16,
   "id": "9f898d43",
   "metadata": {},
   "outputs": [],
   "source": [
    "test_collection = ch_client.get_or_create_collection(name=\"legal-test\") # default embedder: all-MiniLM-L6-v2\n",
    "documents = la_mtd.drop_duplicates('doc-path').iloc[0:5]"
   ]
  },
  {
   "cell_type": "code",
   "execution_count": 17,
   "id": "fec89477",
   "metadata": {},
   "outputs": [
    {
     "name": "stderr",
     "output_type": "stream",
     "text": [
      "Processing documents:  20%|██        | 1/5 [00:06<00:24,  6.17s/it]"
     ]
    },
    {
     "name": "stdout",
     "output_type": "stream",
     "text": [
      "0 | Error embedding eu/LEG_EN_HTML_20250721_04_08/1a1e8486-a474-11e9-9d01-01aa75ed71a1/xhtml/L_2019187EN.01004101.doc.html\n"
     ]
    },
    {
     "name": "stderr",
     "output_type": "stream",
     "text": [
      "Processing documents:  40%|████      | 2/5 [00:10<00:15,  5.18s/it]"
     ]
    },
    {
     "name": "stdout",
     "output_type": "stream",
     "text": [
      "6 | Error embedding eu/LEG_EN_HTML_20250721_04_08/5fa72f58-9564-4ebe-a5a5-853e206ae2ed/html/32000R0212en.html\n"
     ]
    },
    {
     "name": "stderr",
     "output_type": "stream",
     "text": [
      "Processing documents:  60%|██████    | 3/5 [00:15<00:09,  4.86s/it]"
     ]
    },
    {
     "name": "stdout",
     "output_type": "stream",
     "text": [
      "18 | Error embedding eu/LEG_EN_HTML_20250721_04_08/65a9ddff-3e78-403b-ab34-98d7973be2b3/xhtml/L_2010117EN.01006001.doc.html\n"
     ]
    },
    {
     "name": "stderr",
     "output_type": "stream",
     "text": [
      "Processing documents:  80%|████████  | 4/5 [00:19<00:04,  4.60s/it]"
     ]
    },
    {
     "name": "stdout",
     "output_type": "stream",
     "text": [
      "26 | Error embedding eu/LEG_EN_HTML_20250721_04_08/39bcdc85-2e3b-4e36-a488-5197ee502afd/html/31999Y0917_02_en.html\n"
     ]
    },
    {
     "name": "stderr",
     "output_type": "stream",
     "text": [
      "Processing documents: 100%|██████████| 5/5 [00:23<00:00,  4.78s/it]"
     ]
    },
    {
     "name": "stdout",
     "output_type": "stream",
     "text": [
      "31 | Error embedding eu/LEG_EN_HTML_20250721_04_08/a4d26b15-882d-11e9-9369-01aa75ed71a1/xhtml/L_2019148EN.01000101.doc.html\n"
     ]
    },
    {
     "name": "stderr",
     "output_type": "stream",
     "text": [
      "\n"
     ]
    }
   ],
   "source": [
    "for idx, row in tqdm(documents.iterrows(), desc=\"Processing documents\", total=documents.shape[0]):\n",
    "    # Load document from S3\n",
    "    try:\n",
    "        obj = s3.get_object(Bucket=bucket_name, Key=row[\"doc-path\"])\n",
    "        html_content = obj['Body'].read().decode('utf-8')  # HTML as string\n",
    "        soup = BeautifulSoup(html_content, 'html.parser')\n",
    "        text = soup.get_text(separator=\"\\n\")  # plain text\n",
    "    except Exception as e:\n",
    "        logging.error(\"%d | Error loading %s:\\n%s\", idx, row[\"doc-path\"], traceback.format_exc())\n",
    "        print(f\"{idx} | Error loading {row['doc-path']}\")\n",
    "        continue\n",
    "    \n",
    "    # Extract metadata\n",
    "    try:\n",
    "        meta = {}\n",
    "        if soup.title:\n",
    "            meta['title'] = soup.title.string\n",
    "        for m in soup.find_all(\"meta\"):\n",
    "            if m.get(\"name\") and m.get(\"content\"):\n",
    "                meta[m[\"name\"].lower()] = m[\"content\"]\n",
    "        meta_download = la_mtd[(la_mtd[\"work-id\"] == row[\"work-id\"]) & (la_mtd[\"doc\"] == row[\"doc\"])]\n",
    "        terms = meta_download[\"TERMS (PT-NPT)\"].dropna().astype(str).unique()\n",
    "        meta['eurovoc-terms'] = ';'.join(terms)\n",
    "        mts = meta_download[\"MT\"].dropna().astype(str).unique()\n",
    "        meta['eurovoc-mt'] = ';'.join(mts)\n",
    "\n",
    "        sector, year = decompose_celex(row['celex']) if row['celex'] else (None, None)\n",
    "        meta['celex'] = row['celex'] if row['celex'] else None\n",
    "        meta['celex-sector'] = sector # a character\n",
    "        meta['celex-year'] = int(year) # a 4-digit number\n",
    "    except Exception as e:\n",
    "        logging.error(\"%d | Error extracting metadata %s:\\n%s\", idx, row[\"doc-path\"], traceback.format_exc())\n",
    "        print(f\"{idx} | Error extracting metadata {row['doc-path']}\")\n",
    "\n",
    "\n",
    "    # Split, embed, and store\n",
    "    try:\n",
    "        chunks = text_splitter.split_text(text)\n",
    "        texts = [chunk for chunk in chunks]\n",
    "        embeddings = HuggingFaceEmbeddings(model_name=\"all-MiniLM-L6-v2\", model_kwargs={\"device\": \"cpu\"})\n",
    "        test_collection.add(\n",
    "            documents=texts,\n",
    "            metadatas=[meta for _ in range(len(texts))],\n",
    "            embedding=embeddings.embed_documents(texts),\n",
    "            ids=[f\"{make_id(row['doc-path'])}_{i}\" for i in range(len(texts))]\n",
    "        )\n",
    "    except Exception as e:\n",
    "        logging.error(\"%d | Error embedding %s:\\n%s\", idx, row[\"doc-path\"], traceback.format_exc())\n",
    "        print(f\"{idx} | Error embedding {row['doc-path']}\")\n",
    "        continue"
   ]
  },
  {
   "cell_type": "markdown",
   "id": "556afdfc",
   "metadata": {},
   "source": [
    "# Test chroma client"
   ]
  },
  {
   "cell_type": "code",
   "execution_count": 108,
   "id": "1b028015",
   "metadata": {},
   "outputs": [],
   "source": [
    "# test = la_mtd.drop_duplicates('doc-path').iloc[0:5]\n",
    "test_collection = ch_client.get_or_create_collection(name=\"legal-test\") # default embedder: all-MiniLM-L6-v2"
   ]
  },
  {
   "cell_type": "code",
   "execution_count": 109,
   "id": "5044cd38",
   "metadata": {},
   "outputs": [
    {
     "name": "stdout",
     "output_type": "stream",
     "text": [
      "Number of embeddings: 26\n",
      "{'ids': ['9000786f2ac2_0', '9000786f2ac2_1', '9000786f2ac2_2', '9000786f2ac2_3', '9000786f2ac2_4', '9000786f2ac2_5', '9000786f2ac2_6', '9000786f2ac2_7', '9000786f2ac2_8', '9000786f2ac2_9'], 'embeddings': array([[-0.03268745,  0.0328047 ,  0.02150211, ...,  0.00085366,\n",
      "         0.0815249 ,  0.0492176 ],\n",
      "       [-0.0428882 ,  0.06924605,  0.02441872, ...,  0.05517734,\n",
      "         0.0789023 ,  0.00538935],\n",
      "       [ 0.01047072,  0.00346978,  0.01473061, ..., -0.00961938,\n",
      "         0.04713432,  0.01296261],\n",
      "       ...,\n",
      "       [ 0.00838298,  0.03890036, -0.04555006, ...,  0.08372673,\n",
      "        -0.02075115, -0.00260066],\n",
      "       [ 0.00876509,  0.00809463,  0.00598892, ...,  0.02392675,\n",
      "         0.04353177, -0.00210776],\n",
      "       [ 0.02035374, -0.00467432,  0.01529113, ..., -0.04337729,\n",
      "         0.07403102,  0.04721521]], shape=(10, 384)), 'documents': ['L_2019187EN.01004101.xml\\n\\n\\n\\n\\n\\n\\n\\n\\n\\n\\n\\n\\n\\n\\n\\n\\n\\n\\n\\n\\n\\n\\n12.7.2019\\xa0\\xa0\\xa0\\n\\n\\n\\n\\n\\n\\nEN\\n\\n\\n\\n\\n\\n\\nOfficial Journal of the European Union\\n\\n\\n\\n\\n\\n\\nL 187/41\\n\\n\\n\\n\\n\\n\\n\\n\\n\\n\\n\\n\\n\\n\\n\\n\\n\\n            COMMISSION IMPLEMENTING DECISION (EU) 2019/1194\\n\\n\\nof 5\\xa0July 2019\\n         \\n\\n\\non the identification of 4-tert-butylphenol (PTBP) as a substance of very high concern pursuant to Article 57(f) of Regulation (EC) No 1907/2006 of the European Parliament and of the Council\\n\\n\\n\\n\\n\\n\\n(notified under document C(2019) 4987)\\n\\n\\n\\n\\n\\n\\n(Only the English text is authentic)\\n\\n\\n(Text with EEA relevance)\\n\\n\\n\\n\\n\\n\\nTHE EUROPEAN COMMISSION,\\n\\n\\n\\n\\nHaving regard to the Treaty on the Functioning of the European Union,', '(Only the English text is authentic)\\n\\n\\n(Text with EEA relevance)\\n\\n\\n\\n\\n\\n\\nTHE EUROPEAN COMMISSION,\\n\\n\\n\\n\\nHaving regard to the Treaty on the Functioning of the European Union,\\n\\n\\n\\n\\n\\n\\nHaving regard to Regulation (EC) No 1907/2006 of the European Parliament and of the Council of 18\\xa0December 2006 concerning the Registration, Evaluation, Authorisation and Restriction of Chemicals (REACH), establishing a European Chemicals Agency, amending Directive 1999/45/EC and repealing Council Regulation (EEC) No 793/93 and Commission Regulation (EC) No 1488/94 as well as Council Directive 76/769/EEC and Commission Directives 91/155/EEC, 93/67/EEC, 93/105/EC and 2000/21/EC\\xa0\\n(\\n1\\n)\\n, and in particular Article 59(9) thereof,\\n\\n\\n\\n\\nWhereas:\\n\\n\\n\\n\\n\\n\\n\\n\\n\\n\\n\\n\\n\\n\\n\\n\\n(1)', 'Whereas:\\n\\n\\n\\n\\n\\n\\n\\n\\n\\n\\n\\n\\n\\n\\n\\n\\n(1)\\n\\n\\n\\n\\n\\n\\nOn 30\\xa0August 2016, Germany submitted to the European Chemicals Agency (‘the Agency’), in accordance with Article 59(3) of Regulation (EC) No 1907/2006, a dossier prepared in accordance with Annex XV to that Regulation (‘Annex XV dossier’) for the identification of 4-tert-butylphenol [(PTBP) (EC No 202-679-0, CAS No\\xa098-54-4) as a substance of very high concern according to Article 57(f) of that Regulation due to its endocrine disrupting properties, for which there is scientific evidence of probable serious effects to the environment which give rise to an equivalent level of concern to those of other substances listed in points (a) to (e) of Article 57 of Regulation (EC) No 1907/2006.\\n\\n\\n\\n\\n\\n\\n\\n\\n\\n\\n\\n\\n\\n\\n\\n\\n\\n\\n\\n\\n\\n\\n\\n\\n\\n\\n(2)', '(2)\\n\\n\\n\\n\\n\\n\\nOn 15\\xa0December 2016, the Member State Committee of the Agency (MSC) adopted its opinion\\xa0\\n(\\n2\\n)\\n on the Annex\\xa0XV dossier. While a majority of the MSC members considered that PTBP should be identified as a substance of very high concern pursuant to Article 57(f) of Regulation (EC) No 1907/2006, the MSC did not reach unanimous agreement. Two members expressed doubts about the reliability of the key scientific study\\xa0\\n(\\n3\\n)\\n and were of the opinion that the available evidence does not allow to conclude that there is an equivalent level of concern to those of other substances listed in points (a) to (e) of Article 57 of Regulation (EC) No 1907/2006. A third member, while supporting the identification of PTBP as a substance of very high concern, also expressed doubts about the reliability of the key study. The Commission disagrees with the doubts expressed about the reliability of the key scientific study.\\n\\n\\n\\n\\n\\n\\n\\n\\n\\n\\n\\n\\n\\n\\n\\n\\n\\n\\n\\n\\n\\n\\n\\n\\n\\n\\n(3)', '(3)\\n\\n\\n\\n\\n\\n\\nOn 17\\xa0January 2017, pursuant to Article 59(9) of Regulation (EC) No 1907/2006, the Agency referred the MSC opinion to the Commission for a decision on the identification of PTBP on the basis of Article 57(f) of that Regulation.\\n\\n\\n\\n\\n\\n\\n\\n\\n\\n\\n\\n\\n\\n\\n\\n\\n\\n\\n\\n\\n\\n\\n\\n\\n\\n\\n(4)', '(4)\\n\\n\\n\\n\\n\\n\\nThe Commission concurs with the MSC opinion expressing its unanimous agreement on that there is scientific evidence of adverse effects in fish linked to an estrogen mode of action of PTBP, which demonstrates that the substance meets the World Health Organization/International Programme on Chemical Safety (WHO/IPCS)\\xa0\\n(\\n4\\n)\\n definition of an endocrine disruptor. Exposure to PTBP leads to serious and irreversible adverse effects on sexual development of fish, namely a complete and irreversible sex reversal of affected fish populations resulting in all-female populations.\\xa0The conclusion that PTBP exerts endocrine disruptive properties is further supported by read-across from other substances\\xa0\\n(\\n5\\n)\\n belonging to the same chemical class of alkylphenols as PTBP. For these reasons, the Commission concludes that for PTBP there is scientific evidence of probable serious effects to the environment.\\n\\n\\n\\n\\n\\n\\n\\n\\n\\n\\n\\n\\n\\n\\n\\n\\n\\n\\n\\n\\n\\n\\n\\n\\n\\n\\n(5)', 'The Commission considers that the adverse effects are of a severity similar to those of other substances which have been identified as substances of very high concern pursuant to Article 57(f) of Regulation (EC) No 1907/2006 due to their endocrine disrupting properties with probable serious effects to the environment. Effects observed in fish are irreversible and may be relevant for wildlife populations.\\xa0The majority of the MSC was of the opinion that, on the basis of the available information, it appears difficult to derive a safe level of exposure to adequately assess the risks although it may exist. The Commission concurs with that assessment. The Commission therefore considers that the level of concern of the adverse effects is equivalent to those of substances referred to in points (a) to (e) of Article 57 of Regulation (EC) No 1907/2006. The fact that the adverse effects on the sexual development of fish were observed in the key study at low concentration levels (lowest observed', 'to (e) of Article 57 of Regulation (EC) No 1907/2006. The fact that the adverse effects on the sexual development of fish were observed in the key study at low concentration levels (lowest observed effect concentration: 1 μg/l) further strengthens the concern.', '(6)\\n\\n\\n\\n\\n\\n\\nPTBP should be identified pursuant to Article 57(f) of Regulation (EC) No 1907/2006 as a substance of very high concern due to its endocrine disrupting properties with probable serious effects to the environment which give rise to an equivalent level of concern to those of other substances listed in points (a) to (e).\\n\\n\\n\\n\\n\\n\\n\\n\\n\\n\\n\\n\\n\\n\\n\\n\\n\\n\\n\\n\\n\\n\\n\\n\\n\\n\\n(7)\\n\\n\\n\\n\\n\\n\\nThe measures provided for in this Decision are in accordance with the opinion of the Committee established pursuant to Article 133 of Regulation (EC) No 1907/2006,\\n\\n\\n\\n\\n\\n\\n\\n\\n\\n\\n\\n\\nHAS ADOPTED THIS DECISION:\\n\\n\\n\\n\\n\\n\\n\\n\\nArticle 1', 'HAS ADOPTED THIS DECISION:\\n\\n\\n\\n\\n\\n\\n\\n\\nArticle 1\\n\\n\\n\\n\\n1.\\xa0\\xa0\\xa04-tert-butylphenol (PTBP) (EC No 202-679-0, CAS No 98-54-4) is identified as a substance of very high concern pursuant to Article 57(f) of Regulation (EC) No 1907/2006 due to its endocrine disrupting properties with probable serious effects to the environment which give rise to an equivalent level of concern to those of other substances listed in Article 57(a) to (e) of that Regulation.\\n\\n\\n\\n\\n\\n\\n2.\\xa0\\xa0\\xa0The substance referred to in paragraph 1 shall be included in the candidate list referred to in Article 59(1) of Regulation (EC) No 1907/2006 with the following indication under ‘Reason for inclusion’: ‘Endocrine disrupting properties (Article 57(f) - environment)’.\\n\\n\\n\\n\\n\\n\\n\\n\\nArticle 2\\n\\n\\nThis Decision is addressed to the European Chemicals Agency.\\n\\n\\n\\n\\n\\n\\n\\n\\n\\n\\nDone at Brussels, 5\\xa0July 2019.\\n\\n\\n\\n\\n\\n\\nFor the Commission\\n\\n\\n\\n\\nElżbieta BIEŃKOWSKA\\n            \\n\\n\\n\\n\\nMember of the Commission'], 'uris': None, 'included': ['metadatas', 'documents', 'embeddings'], 'data': None, 'metadatas': [{'celex-year': 2019, 'celex': '32019D1194', 'eurovoc-terms': 'fish;endocrine disease;fish disease;chemical product;endocrine disruptor;environmental protection', 'eurovoc-mt': '5641 fisheries;2841 health;5631 agricultural activity;6811 chemistry;5216 deterioration of the environment;5206 environmental policy', 'celex-sector': '3', 'title': 'L_2019187EN.01004101.xml'}, {'celex-year': 2019, 'celex': '32019D1194', 'eurovoc-terms': 'fish;endocrine disease;fish disease;chemical product;endocrine disruptor;environmental protection', 'title': 'L_2019187EN.01004101.xml', 'eurovoc-mt': '5641 fisheries;2841 health;5631 agricultural activity;6811 chemistry;5216 deterioration of the environment;5206 environmental policy', 'celex-sector': '3'}, {'eurovoc-mt': '5641 fisheries;2841 health;5631 agricultural activity;6811 chemistry;5216 deterioration of the environment;5206 environmental policy', 'title': 'L_2019187EN.01004101.xml', 'celex': '32019D1194', 'eurovoc-terms': 'fish;endocrine disease;fish disease;chemical product;endocrine disruptor;environmental protection', 'celex-sector': '3', 'celex-year': 2019}, {'eurovoc-terms': 'fish;endocrine disease;fish disease;chemical product;endocrine disruptor;environmental protection', 'celex': '32019D1194', 'title': 'L_2019187EN.01004101.xml', 'celex-sector': '3', 'eurovoc-mt': '5641 fisheries;2841 health;5631 agricultural activity;6811 chemistry;5216 deterioration of the environment;5206 environmental policy', 'celex-year': 2019}, {'eurovoc-terms': 'fish;endocrine disease;fish disease;chemical product;endocrine disruptor;environmental protection', 'eurovoc-mt': '5641 fisheries;2841 health;5631 agricultural activity;6811 chemistry;5216 deterioration of the environment;5206 environmental policy', 'celex': '32019D1194', 'celex-year': 2019, 'title': 'L_2019187EN.01004101.xml', 'celex-sector': '3'}, {'eurovoc-terms': 'fish;endocrine disease;fish disease;chemical product;endocrine disruptor;environmental protection', 'celex-year': 2019, 'celex-sector': '3', 'title': 'L_2019187EN.01004101.xml', 'eurovoc-mt': '5641 fisheries;2841 health;5631 agricultural activity;6811 chemistry;5216 deterioration of the environment;5206 environmental policy', 'celex': '32019D1194'}, {'title': 'L_2019187EN.01004101.xml', 'eurovoc-terms': 'fish;endocrine disease;fish disease;chemical product;endocrine disruptor;environmental protection', 'celex': '32019D1194', 'eurovoc-mt': '5641 fisheries;2841 health;5631 agricultural activity;6811 chemistry;5216 deterioration of the environment;5206 environmental policy', 'celex-sector': '3', 'celex-year': 2019}, {'celex-sector': '3', 'title': 'L_2019187EN.01004101.xml', 'eurovoc-mt': '5641 fisheries;2841 health;5631 agricultural activity;6811 chemistry;5216 deterioration of the environment;5206 environmental policy', 'celex': '32019D1194', 'celex-year': 2019, 'eurovoc-terms': 'fish;endocrine disease;fish disease;chemical product;endocrine disruptor;environmental protection'}, {'celex-sector': '3', 'eurovoc-terms': 'fish;endocrine disease;fish disease;chemical product;endocrine disruptor;environmental protection', 'eurovoc-mt': '5641 fisheries;2841 health;5631 agricultural activity;6811 chemistry;5216 deterioration of the environment;5206 environmental policy', 'celex': '32019D1194', 'celex-year': 2019, 'title': 'L_2019187EN.01004101.xml'}, {'eurovoc-terms': 'fish;endocrine disease;fish disease;chemical product;endocrine disruptor;environmental protection', 'eurovoc-mt': '5641 fisheries;2841 health;5631 agricultural activity;6811 chemistry;5216 deterioration of the environment;5206 environmental policy', 'celex-year': 2019, 'celex-sector': '3', 'celex': '32019D1194', 'title': 'L_2019187EN.01004101.xml'}]}\n"
     ]
    }
   ],
   "source": [
    "print(\"Number of embeddings:\", test_collection.count())\n",
    "results = test_collection.peek()\n",
    "print(results)"
   ]
  },
  {
   "cell_type": "code",
   "execution_count": 110,
   "id": "5edb31e8",
   "metadata": {},
   "outputs": [
    {
     "name": "stdout",
     "output_type": "stream",
     "text": [
      "{'title': 'L_2019187EN.01004101.xml', 'celex-year': 2019, 'celex-sector': '3', 'celex': '32019D1194', 'eurovoc-mt': '5641 fisheries;2841 health;5631 agricultural activity;6811 chemistry;5216 deterioration of the environment;5206 environmental policy', 'eurovoc-terms': 'fish;endocrine disease;fish disease;chemical product;endocrine disruptor;environmental protection'}\n",
      "{'celex-year': 2019, 'celex-sector': '3', 'celex': '32019D1194', 'title': 'L_2019187EN.01004101.xml', 'eurovoc-terms': 'fish;endocrine disease;fish disease;chemical product;endocrine disruptor;environmental protection', 'eurovoc-mt': '5641 fisheries;2841 health;5631 agricultural activity;6811 chemistry;5216 deterioration of the environment;5206 environmental policy'}\n",
      "{'title': 'L_2019187EN.01004101.xml', 'celex': '32019D1194', 'eurovoc-mt': '5641 fisheries;2841 health;5631 agricultural activity;6811 chemistry;5216 deterioration of the environment;5206 environmental policy', 'celex-year': 2019, 'celex-sector': '3', 'eurovoc-terms': 'fish;endocrine disease;fish disease;chemical product;endocrine disruptor;environmental protection'}\n",
      "{'eurovoc-mt': '5641 fisheries;2841 health;5631 agricultural activity;6811 chemistry;5216 deterioration of the environment;5206 environmental policy', 'celex-sector': '3', 'eurovoc-terms': 'fish;endocrine disease;fish disease;chemical product;endocrine disruptor;environmental protection', 'celex': '32019D1194', 'title': 'L_2019187EN.01004101.xml', 'celex-year': 2019}\n",
      "{'celex-sector': '3', 'celex-year': 2019, 'eurovoc-terms': 'fish;endocrine disease;fish disease;chemical product;endocrine disruptor;environmental protection', 'title': 'L_2019187EN.01004101.xml', 'eurovoc-mt': '5641 fisheries;2841 health;5631 agricultural activity;6811 chemistry;5216 deterioration of the environment;5206 environmental policy', 'celex': '32019D1194'}\n",
      "{'celex-year': 2019, 'eurovoc-mt': '5641 fisheries;2841 health;5631 agricultural activity;6811 chemistry;5216 deterioration of the environment;5206 environmental policy', 'celex': '32019D1194', 'eurovoc-terms': 'fish;endocrine disease;fish disease;chemical product;endocrine disruptor;environmental protection', 'title': 'L_2019187EN.01004101.xml', 'celex-sector': '3'}\n",
      "{'celex': '32019D1194', 'celex-year': 2019, 'eurovoc-terms': 'fish;endocrine disease;fish disease;chemical product;endocrine disruptor;environmental protection', 'title': 'L_2019187EN.01004101.xml', 'eurovoc-mt': '5641 fisheries;2841 health;5631 agricultural activity;6811 chemistry;5216 deterioration of the environment;5206 environmental policy', 'celex-sector': '3'}\n",
      "{'celex': '32019D1194', 'eurovoc-mt': '5641 fisheries;2841 health;5631 agricultural activity;6811 chemistry;5216 deterioration of the environment;5206 environmental policy', 'eurovoc-terms': 'fish;endocrine disease;fish disease;chemical product;endocrine disruptor;environmental protection', 'celex-sector': '3', 'celex-year': 2019, 'title': 'L_2019187EN.01004101.xml'}\n",
      "{'celex-year': 2019, 'celex-sector': '3', 'eurovoc-terms': 'fish;endocrine disease;fish disease;chemical product;endocrine disruptor;environmental protection', 'title': 'L_2019187EN.01004101.xml', 'celex': '32019D1194', 'eurovoc-mt': '5641 fisheries;2841 health;5631 agricultural activity;6811 chemistry;5216 deterioration of the environment;5206 environmental policy'}\n",
      "{'celex-year': 2019, 'celex': '32019D1194', 'eurovoc-terms': 'fish;endocrine disease;fish disease;chemical product;endocrine disruptor;environmental protection', 'title': 'L_2019187EN.01004101.xml', 'eurovoc-mt': '5641 fisheries;2841 health;5631 agricultural activity;6811 chemistry;5216 deterioration of the environment;5206 environmental policy', 'celex-sector': '3'}\n",
      "{'eurovoc-mt': '5641 fisheries;2841 health;5631 agricultural activity;6811 chemistry;5216 deterioration of the environment;5206 environmental policy', 'celex-sector': '3', 'celex': '32019D1194', 'title': 'L_2019187EN.01004101.xml', 'eurovoc-terms': 'fish;endocrine disease;fish disease;chemical product;endocrine disruptor;environmental protection', 'celex-year': 2019}\n",
      "{'celex-sector': '3', 'celex-year': 2000, 'title': 'EUR-Lex - 32000R0212 - EN', 'eurovoc-terms': 'allowances and expenses;Austria;regulations for civil servants;Sweden;European official;Finland', 'dc.description': 'Council Regulation (EC, ECSC, Euratom) No 212/2000 of 24 January 2000 adjusting the daily subsistence allowance rates for officials on mission in Austria, Finland and Sweden laid down in Article 13 of Annex VII to the Staff Regulations of Officials of the European Communities  ', 'dc.language': 'EN', 'celex': '32000R0212', 'dc.type': 'text/html; charset=UNICODE-1-1-UTF-8', 'dc.publisher': 'OPOCE', 'dc.subject': 'Staff regulations and employment conditions - EC, Privileges and immunities, allowances and expenses, regulations for civil servants, Austria, European official, Finland, Sweden, ', 'dc.source': 'Official Journal L 024 , 29/01/2000 P. 0001 - 0002; ', 'dc.title': 'EUR-Lex - 32000R0212 - EN', 'dc.identifier': 'http://europa.eu.int/eur-lex/lex/LexUriServ/LexUriServ.do?uri=CELEX:32000R0212:EN:HTML', 'eurovoc-mt': '4421 personnel management and staff remuneration;7206 Europe;7231 economic geography;7236 political geography;0436 executive power and public service;1006 EU institutions and European civil service'}\n",
      "{'dc.title': 'EUR-Lex - 32000R0212 - EN', 'celex': '32000R0212', 'dc.type': 'text/html; charset=UNICODE-1-1-UTF-8', 'celex-sector': '3', 'dc.description': 'Council Regulation (EC, ECSC, Euratom) No 212/2000 of 24 January 2000 adjusting the daily subsistence allowance rates for officials on mission in Austria, Finland and Sweden laid down in Article 13 of Annex VII to the Staff Regulations of Officials of the European Communities  ', 'eurovoc-terms': 'allowances and expenses;Austria;regulations for civil servants;Sweden;European official;Finland', 'celex-year': 2000, 'dc.source': 'Official Journal L 024 , 29/01/2000 P. 0001 - 0002; ', 'eurovoc-mt': '4421 personnel management and staff remuneration;7206 Europe;7231 economic geography;7236 political geography;0436 executive power and public service;1006 EU institutions and European civil service', 'title': 'EUR-Lex - 32000R0212 - EN', 'dc.language': 'EN', 'dc.subject': 'Staff regulations and employment conditions - EC, Privileges and immunities, allowances and expenses, regulations for civil servants, Austria, European official, Finland, Sweden, ', 'dc.identifier': 'http://europa.eu.int/eur-lex/lex/LexUriServ/LexUriServ.do?uri=CELEX:32000R0212:EN:HTML', 'dc.publisher': 'OPOCE'}\n",
      "{'celex': '32000R0212', 'dc.source': 'Official Journal L 024 , 29/01/2000 P. 0001 - 0002; ', 'dc.type': 'text/html; charset=UNICODE-1-1-UTF-8', 'dc.language': 'EN', 'dc.subject': 'Staff regulations and employment conditions - EC, Privileges and immunities, allowances and expenses, regulations for civil servants, Austria, European official, Finland, Sweden, ', 'title': 'EUR-Lex - 32000R0212 - EN', 'dc.identifier': 'http://europa.eu.int/eur-lex/lex/LexUriServ/LexUriServ.do?uri=CELEX:32000R0212:EN:HTML', 'dc.description': 'Council Regulation (EC, ECSC, Euratom) No 212/2000 of 24 January 2000 adjusting the daily subsistence allowance rates for officials on mission in Austria, Finland and Sweden laid down in Article 13 of Annex VII to the Staff Regulations of Officials of the European Communities  ', 'eurovoc-terms': 'allowances and expenses;Austria;regulations for civil servants;Sweden;European official;Finland', 'celex-year': 2000, 'dc.publisher': 'OPOCE', 'dc.title': 'EUR-Lex - 32000R0212 - EN', 'celex-sector': '3', 'eurovoc-mt': '4421 personnel management and staff remuneration;7206 Europe;7231 economic geography;7236 political geography;0436 executive power and public service;1006 EU institutions and European civil service'}\n",
      "{'dc.title': 'EUR-Lex - 32000R0212 - EN', 'dc.source': 'Official Journal L 024 , 29/01/2000 P. 0001 - 0002; ', 'eurovoc-mt': '4421 personnel management and staff remuneration;7206 Europe;7231 economic geography;7236 political geography;0436 executive power and public service;1006 EU institutions and European civil service', 'dc.description': 'Council Regulation (EC, ECSC, Euratom) No 212/2000 of 24 January 2000 adjusting the daily subsistence allowance rates for officials on mission in Austria, Finland and Sweden laid down in Article 13 of Annex VII to the Staff Regulations of Officials of the European Communities  ', 'dc.publisher': 'OPOCE', 'eurovoc-terms': 'allowances and expenses;Austria;regulations for civil servants;Sweden;European official;Finland', 'dc.subject': 'Staff regulations and employment conditions - EC, Privileges and immunities, allowances and expenses, regulations for civil servants, Austria, European official, Finland, Sweden, ', 'celex': '32000R0212', 'dc.type': 'text/html; charset=UNICODE-1-1-UTF-8', 'celex-sector': '3', 'dc.language': 'EN', 'celex-year': 2000, 'dc.identifier': 'http://europa.eu.int/eur-lex/lex/LexUriServ/LexUriServ.do?uri=CELEX:32000R0212:EN:HTML', 'title': 'EUR-Lex - 32000R0212 - EN'}\n",
      "{'celex-sector': '3', 'eurovoc-terms': 'France;poultrymeat;designation of origin;location of production;labelling;product designation', 'title': 'L_2010117EN.01006001.xml', 'eurovoc-mt': '7206 Europe;7231 economic geography;7236 political geography;6011 animal product;2031 marketing;5611 agricultural structures and production;2026 consumption', 'celex': '32010R0402', 'celex-year': 2010}\n",
      "{'celex-year': 2010, 'eurovoc-terms': 'France;poultrymeat;designation of origin;location of production;labelling;product designation', 'celex-sector': '3', 'title': 'L_2010117EN.01006001.xml', 'celex': '32010R0402', 'eurovoc-mt': '7206 Europe;7231 economic geography;7236 political geography;6011 animal product;2031 marketing;5611 agricultural structures and production;2026 consumption'}\n",
      "{'celex-sector': '3', 'celex-year': 2010, 'eurovoc-terms': 'France;poultrymeat;designation of origin;location of production;labelling;product designation', 'celex': '32010R0402', 'eurovoc-mt': '7206 Europe;7231 economic geography;7236 political geography;6011 animal product;2031 marketing;5611 agricultural structures and production;2026 consumption', 'title': 'L_2010117EN.01006001.xml'}\n",
      "{'dc.subject': 'Energy, Provisions governing the Institutions, electrical energy, energy transport, self-employed person, transit, EC committee, ', 'eurovoc-terms': 'transit;self-employed person;electrical energy;committee (EU);energy transport', 'dc.description': 'Information from the Commission - Appointment of a new member of the Committee of Experts on the Transit of Electricity between Grids set up under Commission Decision 92/167/EEC (Text with EEA relevance)  ', 'dc.language': 'EN', 'dc.source': 'Official Journal C 263 , 17/09/1999 P. 0003 - 0003; ', 'celex-sector': '3', 'title': 'EUR-Lex - 31999Y0917(02) - EN', 'celex-year': 1999, 'dc.identifier': 'http://europa.eu.int/eur-lex/lex/LexUriServ/LexUriServ.do?uri=CELEX:31999Y0917(02):EN:HTML', 'celex': '31999Y0917(02)', 'dc.title': 'EUR-Lex - 31999Y0917(02) - EN', 'dc.type': 'text/html; charset=UNICODE-1-1-UTF-8', 'dc.publisher': 'OPOCE', 'eurovoc-mt': '4811 organisation of transport;4411 labour market;6621 electrical and nuclear industries;1006 EU institutions and European civil service;6606 energy policy'}\n",
      "{'title': 'L_2019148EN.01000101.xml', 'celex-sector': '3', 'eurovoc-mt': '6026 foodstuff;2011 tariff policy', 'celex-year': 2019, 'celex': '32019R0921', 'eurovoc-terms': 'prepared foodstuff;Combined Nomenclature;specification of tariff heading'}\n",
      "{'celex-sector': '3', 'eurovoc-terms': 'prepared foodstuff;Combined Nomenclature;specification of tariff heading', 'eurovoc-mt': '6026 foodstuff;2011 tariff policy', 'celex': '32019R0921', 'celex-year': 2019, 'title': 'L_2019148EN.01000101.xml'}\n",
      "{'celex-year': 2019, 'eurovoc-terms': 'prepared foodstuff;Combined Nomenclature;specification of tariff heading', 'eurovoc-mt': '6026 foodstuff;2011 tariff policy', 'title': 'L_2019148EN.01000101.xml', 'celex-sector': '3', 'celex': '32019R0921'}\n",
      "{'eurovoc-terms': 'prepared foodstuff;Combined Nomenclature;specification of tariff heading', 'celex-year': 2019, 'celex-sector': '3', 'eurovoc-mt': '6026 foodstuff;2011 tariff policy', 'title': 'L_2019148EN.01000101.xml', 'celex': '32019R0921'}\n",
      "{'celex-year': 2019, 'eurovoc-mt': '6026 foodstuff;2011 tariff policy', 'eurovoc-terms': 'prepared foodstuff;Combined Nomenclature;specification of tariff heading', 'celex-sector': '3', 'title': 'L_2019148EN.01000101.xml', 'celex': '32019R0921'}\n",
      "{'celex': '32019R0921', 'eurovoc-mt': '6026 foodstuff;2011 tariff policy', 'title': 'L_2019148EN.01000101.xml', 'eurovoc-terms': 'prepared foodstuff;Combined Nomenclature;specification of tariff heading', 'celex-year': 2019, 'celex-sector': '3'}\n",
      "{'title': 'L_2019148EN.01000101.xml', 'celex-year': 2019, 'eurovoc-mt': '6026 foodstuff;2011 tariff policy', 'eurovoc-terms': 'prepared foodstuff;Combined Nomenclature;specification of tariff heading', 'celex-sector': '3', 'celex': '32019R0921'}\n"
     ]
    }
   ],
   "source": [
    "all_docs = test_collection.get()\n",
    "for doc in all_docs['metadatas']:\n",
    "    print(doc)"
   ]
  },
  {
   "cell_type": "code",
   "execution_count": 111,
   "id": "83c44f30",
   "metadata": {},
   "outputs": [
    {
     "data": {
      "text/plain": [
       "[['HAS ADOPTED THIS DECISION:\\n\\n\\n\\n\\n\\n\\n\\n\\nArticle 1\\n\\n\\n\\n\\n1.\\xa0\\xa0\\xa04-tert-butylphenol (PTBP) (EC No 202-679-0, CAS No 98-54-4) is identified as a substance of very high concern pursuant to Article 57(f) of Regulation (EC) No 1907/2006 due to its endocrine disrupting properties with probable serious effects to the environment which give rise to an equivalent level of concern to those of other substances listed in Article 57(a) to (e) of that Regulation.\\n\\n\\n\\n\\n\\n\\n2.\\xa0\\xa0\\xa0The substance referred to in paragraph 1 shall be included in the candidate list referred to in Article 59(1) of Regulation (EC) No 1907/2006 with the following indication under ‘Reason for inclusion’: ‘Endocrine disrupting properties (Article 57(f) - environment)’.\\n\\n\\n\\n\\n\\n\\n\\n\\nArticle 2\\n\\n\\nThis Decision is addressed to the European Chemicals Agency.\\n\\n\\n\\n\\n\\n\\n\\n\\n\\n\\nDone at Brussels, 5\\xa0July 2019.\\n\\n\\n\\n\\n\\n\\nFor the Commission\\n\\n\\n\\n\\nElżbieta BIEŃKOWSKA\\n            \\n\\n\\n\\n\\nMember of the Commission',\n",
       "  'Whereas:\\n\\n\\n\\n\\n\\n\\n\\n\\n\\n\\n\\n\\n\\n\\n\\n\\n(1)\\n\\n\\n\\n\\n\\n\\nOn 30\\xa0August 2016, Germany submitted to the European Chemicals Agency (‘the Agency’), in accordance with Article 59(3) of Regulation (EC) No 1907/2006, a dossier prepared in accordance with Annex XV to that Regulation (‘Annex XV dossier’) for the identification of 4-tert-butylphenol [(PTBP) (EC No 202-679-0, CAS No\\xa098-54-4) as a substance of very high concern according to Article 57(f) of that Regulation due to its endocrine disrupting properties, for which there is scientific evidence of probable serious effects to the environment which give rise to an equivalent level of concern to those of other substances listed in points (a) to (e) of Article 57 of Regulation (EC) No 1907/2006.\\n\\n\\n\\n\\n\\n\\n\\n\\n\\n\\n\\n\\n\\n\\n\\n\\n\\n\\n\\n\\n\\n\\n\\n\\n\\n\\n(2)',\n",
       "  'Done at Brussels, 5\\xa0July 2019.\\n\\n\\n\\n\\n\\n\\nFor the Commission\\n\\n\\n\\n\\nElżbieta BIEŃKOWSKA\\n            \\n\\n\\n\\n\\nMember of the Commission\\n\\n\\n\\n\\n\\n\\n\\n\\n\\n\\n\\n\\n\\n\\n(\\n1\\n)\\n\\xa0\\xa0\\n            \\nOJ\\xa0L\\xa0396, 30.12.2006, p.\\xa01\\n.\\n\\n\\n\\n\\n(\\n2\\n)\\n\\xa0\\xa0http://echa.europa.eu/role-of-the-member-state-committee-in-the-authorisation-process/svhc-opinions-of-the-member-state-committee\\n\\n\\n\\n\\n(\\n3\\n)\\n\\xa0\\xa0Demska-Zakęś, K. (2005). Wpływ wybranych ksenobiotyków na rozwój układu płciowego ryb. (Olsztyn, Uniwersytet Warminsko-Mazurski w Olsztynie - UWM Olsztyn), p.\\xa061.\\n\\n\\n\\n\\n(\\n4\\n)\\n\\xa0\\xa0World Health Organization/International Programme on Chemical Safety (WHO/IPCS), 2002. Global Assessment of the State-of-the-science of Endocrine Disruptors.\\xa0WHO/PCS/EDC/02.2, publicly available at http://www.who.int/ipcs/publications/new_issues/endocrine_disruptors/en/\\n\\n\\n\\n\\n(\\n5\\n)\\n\\xa0\\xa04-nonylphenol, branched and linear; 4-tert-octylphenol (CAS-No: 140-66-1; EC-No: 205-426-2); 4- -heptylphenol, branched and linear; 4-tert-pentylphenol (CAS-No: 80-46-6; EC-No: 201-280-9).',\n",
       "  '(6)\\n\\n\\n\\n\\n\\n\\nPTBP should be identified pursuant to Article 57(f) of Regulation (EC) No 1907/2006 as a substance of very high concern due to its endocrine disrupting properties with probable serious effects to the environment which give rise to an equivalent level of concern to those of other substances listed in points (a) to (e).\\n\\n\\n\\n\\n\\n\\n\\n\\n\\n\\n\\n\\n\\n\\n\\n\\n\\n\\n\\n\\n\\n\\n\\n\\n\\n\\n(7)\\n\\n\\n\\n\\n\\n\\nThe measures provided for in this Decision are in accordance with the opinion of the Committee established pursuant to Article 133 of Regulation (EC) No 1907/2006,\\n\\n\\n\\n\\n\\n\\n\\n\\n\\n\\n\\n\\nHAS ADOPTED THIS DECISION:\\n\\n\\n\\n\\n\\n\\n\\n\\nArticle 1',\n",
       "  'The Commission considers that the adverse effects are of a severity similar to those of other substances which have been identified as substances of very high concern pursuant to Article 57(f) of Regulation (EC) No 1907/2006 due to their endocrine disrupting properties with probable serious effects to the environment. Effects observed in fish are irreversible and may be relevant for wildlife populations.\\xa0The majority of the MSC was of the opinion that, on the basis of the available information, it appears difficult to derive a safe level of exposure to adequately assess the risks although it may exist. The Commission concurs with that assessment. The Commission therefore considers that the level of concern of the adverse effects is equivalent to those of substances referred to in points (a) to (e) of Article 57 of Regulation (EC) No 1907/2006. The fact that the adverse effects on the sexual development of fish were observed in the key study at low concentration levels (lowest observed'],\n",
       " ['The goods described in column (1) of the table set out in the Annex shall be classified within the Combined Nomenclature under the CN code indicated in column (2) of that table.\\n\\n\\n\\n\\n\\n\\nArticle 2\\n\\n\\nBinding tariff information which does not conform to this Regulation may continue to be invoked in accordance with Article 34(9) of Regulation (EU) No 952/2013 for a period of three months from the date of entry into force of this Regulation.\\n\\n\\n\\n\\n\\n\\nArticle 3\\n\\n\\nThis Regulation shall enter into force on the twentieth day following that of its publication in the \\nOfficial Journal of the European Union\\n.\\n\\n\\n\\n\\n\\n\\n\\n\\n\\n\\nThis Regulation shall be binding in its entirety and directly applicable in all Member States.\\n\\n\\nDone at Brussels, 3\\xa0June 2019.\\n\\n\\n\\n\\n\\n\\nFor the Commission,\\n\\n\\n\\n\\n\\n\\nOn behalf of the President,\\n\\n\\n\\n\\nStephen QUEST\\n            \\n\\n\\n\\n\\nDirector-General\\n\\n\\n\\n\\n\\n\\nDirectorate-General for Taxation and Customs Union\\n\\n\\n\\n\\n\\n\\n\\n\\n\\n\\n\\n\\n\\n\\n(\\n1\\n)\\n\\xa0\\xa0\\n            \\nOJ\\xa0L\\xa0269, 10.10.2013, p.\\xa01\\n.',\n",
       "  '(Only the English text is authentic)\\n\\n\\n(Text with EEA relevance)\\n\\n\\n\\n\\n\\n\\nTHE EUROPEAN COMMISSION,\\n\\n\\n\\n\\nHaving regard to the Treaty on the Functioning of the European Union,\\n\\n\\n\\n\\n\\n\\nHaving regard to Regulation (EC) No 1907/2006 of the European Parliament and of the Council of 18\\xa0December 2006 concerning the Registration, Evaluation, Authorisation and Restriction of Chemicals (REACH), establishing a European Chemicals Agency, amending Directive 1999/45/EC and repealing Council Regulation (EEC) No 793/93 and Commission Regulation (EC) No 1488/94 as well as Council Directive 76/769/EEC and Commission Directives 91/155/EEC, 93/67/EEC, 93/105/EC and 2000/21/EC\\xa0\\n(\\n1\\n)\\n, and in particular Article 59(9) thereof,\\n\\n\\n\\n\\nWhereas:\\n\\n\\n\\n\\n\\n\\n\\n\\n\\n\\n\\n\\n\\n\\n\\n\\n(1)',\n",
       "  'COUNCIL REGULATION (EC, ECSC, EURATOM) No 212/2000\\nof 24 January 2000\\nadjusting the daily subsistence allowance rates for officials on mission in Austria, Finland and Sweden laid down in Article 13 of Annex VII to the Staff Regulations of Officials of the European Communities\\nTHE COUNCIL OF THE EUROPEAN UNION,\\nHaving regard to the Treaty establising the European Community, and in particular Article 283 thereof,\\nHaving regard to the Staff Regulations of Officials and the Conditions of Employment of Other Servants of the European Communities laid down by Regulation (EEC, Euratom, ECSC) No 259/68(1), as last amended by Regulation (EC, Euratom) ECSC No 2700/1999(2), and in particular Article 13 of Annex VII to the Staff Regulations and Articles 22 and 67 of the Conditions of Employment,\\nHaving regard to the proposal from the Commission,',\n",
       "  'L_2019148EN.01000101.xml\\n\\n\\n\\n\\n\\n\\n\\n\\n\\n\\n\\n\\n\\n\\n\\n\\n\\n\\n\\n\\n\\n\\n6.6.2019\\xa0\\xa0\\xa0\\n\\n\\n\\n\\n\\n\\nEN\\n\\n\\n\\n\\n\\n\\nOfficial Journal of the European Union\\n\\n\\n\\n\\n\\n\\nL 148/1\\n\\n\\n\\n\\n\\n\\n\\n\\n\\n\\n\\n\\n\\n\\n\\n\\n\\n            COMMISSION IMPLEMENTING REGULATION (EU) 2019/921\\n\\n\\nof 3\\xa0June 2019\\n         \\n\\n\\nconcerning the classification of certain goods in the Combined Nomenclature\\n\\n\\n\\n\\n\\n\\nTHE EUROPEAN COMMISSION,\\n\\n\\n\\n\\nHaving regard to the Treaty on the Functioning of the European Union,\\n\\n\\n\\n\\n\\n\\nHaving regard to Regulation (EU) No 952/2013 of the European Parliament and of the Council of 9\\xa0October 2013 laying down the Union Customs Code\\xa0\\n(\\n1\\n)\\n, and in particular Article 57(4) and Article 58(2) thereof,\\n\\n\\n\\n\\nWhereas:\\n\\n\\n\\n\\n\\n\\n\\n\\n\\n\\n\\n\\n\\n\\n\\n\\n(1)\\n\\n\\n\\n\\n\\n\\nIn order to ensure uniform application of the Combined Nomenclature annexed to Council Regulation (EEC) No 2658/87\\xa0\\n(\\n2\\n)\\n, it is necessary to adopt measures concerning the classification of the goods referred to in the Annex to this Regulation.\\n\\n\\n\\n\\n\\n\\n\\n\\n\\n\\n\\n\\n\\n\\n\\n\\n\\n\\n\\n\\n\\n\\n\\n\\n\\n\\n(2)',\n",
       "  'This Regulation shall be binding in its entirety and directly applicable in all Member States.\\nDone at Brussels, 24 January 2000.\\nFor the Council\\nThe President\\nL. CAPOULAS SANTOS\\n(1) OJ L 56, 4.3.1968, p. 1.\\n(2) OJ L 327, 21.12.1999, p. 1.']]"
      ]
     },
     "execution_count": 111,
     "metadata": {},
     "output_type": "execute_result"
    }
   ],
   "source": [
    "# Semantic search\n",
    "results = test_collection.query(\n",
    "    query_texts=[\n",
    "        \"Which chemical was classified as a substance of very high concern for its endocrine-disrupting effects under the EU Commission Implementing Decision 2019/1194?\",\n",
    "        \"On what date did EU Regulation 402/2010 become effective?\"],\n",
    "    n_results=5\n",
    ")\n",
    "\n",
    "results[\"documents\"]"
   ]
  },
  {
   "cell_type": "markdown",
   "id": "bff08c49",
   "metadata": {},
   "source": [
    "Metadata filtering"
   ]
  },
  {
   "cell_type": "code",
   "execution_count": 112,
   "id": "41b2dd99",
   "metadata": {},
   "outputs": [
    {
     "data": {
      "text/plain": [
       "[['EUR-Lex - 31999Y0917(02) - EN\\n\\n\\n\\n\\n\\n\\n\\n\\n\\n\\n\\n\\n\\n\\nAvis juridique important\\n\\n\\n\\n\\n\\n\\n\\n\\n\\n\\n|\\n\\n\\n\\n\\n\\n\\n\\n\\n31999Y0917(02)\\n\\n\\n\\n\\nInformation from the Commission - Appointment of a new member of the Committee of Experts on the Transit of Electricity between Grids set up under Commission Decision 92/167/EEC (Text with EEA relevance)  \\n\\n\\n\\n\\n\\n\\nOfficial Journal C 263 , 17/09/1999 P. 0003 - 0003\\n \\n\\n\\n\\n\\n\\n\\n\\n\\n\\n\\n\\n\\nAppointment of a new member of the Committee of Experts on the Transit of Electricity between Grids set up under Commission Decision 92/167/EEC\\n(1999/C 263/03)\\n(Text with EEA relevance)\\nBy its decision of 13 September 1999 the Commission appointed to the position of new member of the Committee of Experts on the Transit of Electricity between Grids:\\nas Spanish representative of the high-voltage grids,\\nMr Victoriano Casajús, Director General of Transport, Red Electrica, to replace the outgoing Mr Novales.',\n",
       "  'EUR-Lex - 32000R0212 - EN\\n\\n\\n\\n\\n\\n\\n\\n\\n\\n\\n\\n\\n\\n\\nAvis juridique important\\n\\n\\n\\n\\n\\n\\n\\n\\n\\n\\n|\\n\\n\\n\\n\\n\\n\\n\\n\\n32000R0212\\n\\n\\n\\n\\nCouncil Regulation (EC, ECSC, Euratom) No 212/2000 of 24 January 2000 adjusting the daily subsistence allowance rates for officials on mission in Austria, Finland and Sweden laid down in Article 13 of Annex VII to the Staff Regulations of Officials of the European Communities  \\n\\n\\n\\n\\n\\n\\nOfficial Journal L 024 , 29/01/2000 P. 0001 - 0002',\n",
       "  'COUNCIL REGULATION (EC, ECSC, EURATOM) No 212/2000\\nof 24 January 2000\\nadjusting the daily subsistence allowance rates for officials on mission in Austria, Finland and Sweden laid down in Article 13 of Annex VII to the Staff Regulations of Officials of the European Communities\\nTHE COUNCIL OF THE EUROPEAN UNION,\\nHaving regard to the Treaty establising the European Community, and in particular Article 283 thereof,\\nHaving regard to the Staff Regulations of Officials and the Conditions of Employment of Other Servants of the European Communities laid down by Regulation (EEC, Euratom, ECSC) No 259/68(1), as last amended by Regulation (EC, Euratom) ECSC No 2700/1999(2), and in particular Article 13 of Annex VII to the Staff Regulations and Articles 22 and 67 of the Conditions of Employment,\\nHaving regard to the proposal from the Commission,',\n",
       "  'This Regulation shall be binding in its entirety and directly applicable in all Member States.\\nDone at Brussels, 24 January 2000.\\nFor the Council\\nThe President\\nL. CAPOULAS SANTOS\\n(1) OJ L 56, 4.3.1968, p. 1.\\n(2) OJ L 327, 21.12.1999, p. 1.',\n",
       "  'Having regard to the proposal from the Commission,\\nWhereas the rates of the daily subsistence allowance for officials on mission should be adjusted in order to take account of the changes in prices and exchange rates recorded in Austria, Finland and Sweden since 1991,\\nHAS ADOPTED THIS REGULATION:\\nArticle 1\\nArticle 13 of Annex VII to the Staff Regulations shall be amended as follows:\\n1. The amounts for Austria, Finland and Sweden in the scale in paragraph 1(a) shall be replaced by the following:\\n>TABLE>\\n2. The amounts for Austria, Finland and Sweden in the first sentence in paragraph 2 shall be replaced by the following:\\nEUR 128,58 for Austria;\\nEUR 140,98 for Finland;\\nEUR 141,77 for Sweden.\\nArticle 2\\nThis Regulation shall enter into force on the day of its publication in the Official Journal of the European Communities.\\nThis Regulation shall be binding in its entirety and directly applicable in all Member States.\\nDone at Brussels, 24 January 2000.\\nFor the Council\\nThe President']]"
      ]
     },
     "execution_count": 112,
     "metadata": {},
     "output_type": "execute_result"
    }
   ],
   "source": [
    "# Before limiting to a specific year\n",
    "results = test_collection.query(\n",
    "    query_texts=[\"civil servants\"],\n",
    "    n_results=5\n",
    ")\n",
    "\n",
    "results[\"documents\"]"
   ]
  },
  {
   "cell_type": "code",
   "execution_count": 113,
   "id": "72a8a263",
   "metadata": {},
   "outputs": [
    {
     "data": {
      "text/plain": [
       "[['EUR-Lex - 32000R0212 - EN\\n\\n\\n\\n\\n\\n\\n\\n\\n\\n\\n\\n\\n\\n\\nAvis juridique important\\n\\n\\n\\n\\n\\n\\n\\n\\n\\n\\n|\\n\\n\\n\\n\\n\\n\\n\\n\\n32000R0212\\n\\n\\n\\n\\nCouncil Regulation (EC, ECSC, Euratom) No 212/2000 of 24 January 2000 adjusting the daily subsistence allowance rates for officials on mission in Austria, Finland and Sweden laid down in Article 13 of Annex VII to the Staff Regulations of Officials of the European Communities  \\n\\n\\n\\n\\n\\n\\nOfficial Journal L 024 , 29/01/2000 P. 0001 - 0002',\n",
       "  'COUNCIL REGULATION (EC, ECSC, EURATOM) No 212/2000\\nof 24 January 2000\\nadjusting the daily subsistence allowance rates for officials on mission in Austria, Finland and Sweden laid down in Article 13 of Annex VII to the Staff Regulations of Officials of the European Communities\\nTHE COUNCIL OF THE EUROPEAN UNION,\\nHaving regard to the Treaty establising the European Community, and in particular Article 283 thereof,\\nHaving regard to the Staff Regulations of Officials and the Conditions of Employment of Other Servants of the European Communities laid down by Regulation (EEC, Euratom, ECSC) No 259/68(1), as last amended by Regulation (EC, Euratom) ECSC No 2700/1999(2), and in particular Article 13 of Annex VII to the Staff Regulations and Articles 22 and 67 of the Conditions of Employment,\\nHaving regard to the proposal from the Commission,',\n",
       "  'This Regulation shall be binding in its entirety and directly applicable in all Member States.\\nDone at Brussels, 24 January 2000.\\nFor the Council\\nThe President\\nL. CAPOULAS SANTOS\\n(1) OJ L 56, 4.3.1968, p. 1.\\n(2) OJ L 327, 21.12.1999, p. 1.',\n",
       "  'Having regard to the proposal from the Commission,\\nWhereas the rates of the daily subsistence allowance for officials on mission should be adjusted in order to take account of the changes in prices and exchange rates recorded in Austria, Finland and Sweden since 1991,\\nHAS ADOPTED THIS REGULATION:\\nArticle 1\\nArticle 13 of Annex VII to the Staff Regulations shall be amended as follows:\\n1. The amounts for Austria, Finland and Sweden in the scale in paragraph 1(a) shall be replaced by the following:\\n>TABLE>\\n2. The amounts for Austria, Finland and Sweden in the first sentence in paragraph 2 shall be replaced by the following:\\nEUR 128,58 for Austria;\\nEUR 140,98 for Finland;\\nEUR 141,77 for Sweden.\\nArticle 2\\nThis Regulation shall enter into force on the day of its publication in the Official Journal of the European Communities.\\nThis Regulation shall be binding in its entirety and directly applicable in all Member States.\\nDone at Brussels, 24 January 2000.\\nFor the Council\\nThe President']]"
      ]
     },
     "execution_count": 113,
     "metadata": {},
     "output_type": "execute_result"
    }
   ],
   "source": [
    "# After limiting to a specific year\n",
    "results = test_collection.query(\n",
    "    query_texts=[\"civil servants\"],\n",
    "    where={\"celex-year\": 2000},\n",
    "    n_results=5\n",
    ")\n",
    "\n",
    "results[\"documents\"]"
   ]
  },
  {
   "cell_type": "code",
   "execution_count": 87,
   "id": "d4a6c889",
   "metadata": {},
   "outputs": [],
   "source": [
    "# results = collection.query(\n",
    "#     query_texts=[\"Tropical\"],\n",
    "#     where={\"$and\": [\n",
    "#         {\"color\": \"yellow\"},\n",
    "#         {\"weight\": {\"$gt\": 150}}\n",
    "#     ]},\n",
    "#     n_results=5\n",
    "# )\n",
    "\n",
    "# print(results[\"documents\"][0])"
   ]
  },
  {
   "cell_type": "code",
   "execution_count": 114,
   "id": "f9902892",
   "metadata": {},
   "outputs": [
    {
     "data": {
      "text/plain": [
       "['L_2019148EN.01000101.xml\\n\\n\\n\\n\\n\\n\\n\\n\\n\\n\\n\\n\\n\\n\\n\\n\\n\\n\\n\\n\\n\\n\\n6.6.2019\\xa0\\xa0\\xa0\\n\\n\\n\\n\\n\\n\\nEN\\n\\n\\n\\n\\n\\n\\nOfficial Journal of the European Union\\n\\n\\n\\n\\n\\n\\nL 148/1\\n\\n\\n\\n\\n\\n\\n\\n\\n\\n\\n\\n\\n\\n\\n\\n\\n\\n            COMMISSION IMPLEMENTING REGULATION (EU) 2019/921\\n\\n\\nof 3\\xa0June 2019\\n         \\n\\n\\nconcerning the classification of certain goods in the Combined Nomenclature\\n\\n\\n\\n\\n\\n\\nTHE EUROPEAN COMMISSION,\\n\\n\\n\\n\\nHaving regard to the Treaty on the Functioning of the European Union,\\n\\n\\n\\n\\n\\n\\nHaving regard to Regulation (EU) No 952/2013 of the European Parliament and of the Council of 9\\xa0October 2013 laying down the Union Customs Code\\xa0\\n(\\n1\\n)\\n, and in particular Article 57(4) and Article 58(2) thereof,\\n\\n\\n\\n\\nWhereas:\\n\\n\\n\\n\\n\\n\\n\\n\\n\\n\\n\\n\\n\\n\\n\\n\\n(1)\\n\\n\\n\\n\\n\\n\\nIn order to ensure uniform application of the Combined Nomenclature annexed to Council Regulation (EEC) No 2658/87\\xa0\\n(\\n2\\n)\\n, it is necessary to adopt measures concerning the classification of the goods referred to in the Annex to this Regulation.\\n\\n\\n\\n\\n\\n\\n\\n\\n\\n\\n\\n\\n\\n\\n\\n\\n\\n\\n\\n\\n\\n\\n\\n\\n\\n\\n(2)']"
      ]
     },
     "execution_count": 114,
     "metadata": {},
     "output_type": "execute_result"
    }
   ],
   "source": [
    "# Full text search\n",
    "results = test_collection.get(\n",
    "    where_document={\"$contains\": \"Union Customs Code\"}\n",
    ")\n",
    "\n",
    "results[\"documents\"]"
   ]
  },
  {
   "cell_type": "markdown",
   "id": "fac039bf",
   "metadata": {},
   "source": [
    "# Embed all documents"
   ]
  },
  {
   "cell_type": "code",
   "execution_count": 13,
   "id": "5c61f717",
   "metadata": {},
   "outputs": [],
   "source": [
    "log_filename = datetime.now().strftime(\"errors_%Y%m%d_%H%M%S.log\")\n",
    "logging.basicConfig(\n",
    "    filename=log_filename,          # file to write logs\n",
    "    level=logging.ERROR,            # log only errors and above\n",
    "    format=\"%(asctime)s - %(levelname)s - %(message)s\"\n",
    ")"
   ]
  },
  {
   "cell_type": "code",
   "execution_count": null,
   "id": "39d7e157",
   "metadata": {},
   "outputs": [
    {
     "name": "stdout",
     "output_type": "stream",
     "text": [
      "46665 documents to process\n"
     ]
    }
   ],
   "source": [
    "# ch_client.delete_collection(name=\"legal\")\n",
    "collection = ch_client.get_or_create_collection(name=\"legal\")\n",
    "documents = la_mtd.drop_duplicates('doc-path').reset_index(drop=True)\n",
    "print(documents.shape[0], \"documents to process\")"
   ]
  },
  {
   "cell_type": "markdown",
   "id": "dd34c8da",
   "metadata": {},
   "source": [
    "## Loop\n",
    "stop at 3067"
   ]
  },
  {
   "cell_type": "code",
   "execution_count": 16,
   "id": "a13602eb",
   "metadata": {},
   "outputs": [
    {
     "name": "stderr",
     "output_type": "stream",
     "text": [
      "Processing documents:   0%|          | 165/46665 [29:10<90:08:02,  6.98s/it] ERROR:root:165 | Error loading eu/LEG_EN_HTML_20250721_04_08/e9cc666d-ab4d-4716-a3e8-df42fc0e0747/xhtml/FOR-C_2007070EN.01000101.notes.0002.xml.jpg:\n",
      "Traceback (most recent call last):\n",
      "  File \"/var/folders/zj/t8mz7g111911kcsdk6nwh8g00000gn/T/ipykernel_1963/64700856.py\", line 5, in <module>\n",
      "    html_content = obj['Body'].read().decode('utf-8')  # HTML as string\n",
      "UnicodeDecodeError: 'utf-8' codec can't decode byte 0xff in position 0: invalid start byte\n",
      "\n",
      "ERROR:root:166 | Error loading eu/LEG_EN_HTML_20250721_04_08/e9cc666d-ab4d-4716-a3e8-df42fc0e0747/xhtml/FOR-C_2007070EN.01000501.notes.0011.xml.jpg:\n",
      "Traceback (most recent call last):\n",
      "  File \"/var/folders/zj/t8mz7g111911kcsdk6nwh8g00000gn/T/ipykernel_1963/64700856.py\", line 5, in <module>\n",
      "    html_content = obj['Body'].read().decode('utf-8')  # HTML as string\n",
      "UnicodeDecodeError: 'utf-8' codec can't decode byte 0xff in position 0: invalid start byte\n",
      "\n",
      "Processing documents:   0%|          | 167/46665 [29:10<48:52:52,  3.78s/it]ERROR:root:167 | Error loading eu/LEG_EN_HTML_20250721_04_08/e9cc666d-ab4d-4716-a3e8-df42fc0e0747/xhtml/FOR-C_2007070EN.01000501.notes.0001.xml.jpg:\n",
      "Traceback (most recent call last):\n",
      "  File \"/var/folders/zj/t8mz7g111911kcsdk6nwh8g00000gn/T/ipykernel_1963/64700856.py\", line 5, in <module>\n",
      "    html_content = obj['Body'].read().decode('utf-8')  # HTML as string\n",
      "UnicodeDecodeError: 'utf-8' codec can't decode byte 0xff in position 0: invalid start byte\n",
      "\n",
      "ERROR:root:168 | Error loading eu/LEG_EN_HTML_20250721_04_08/e9cc666d-ab4d-4716-a3e8-df42fc0e0747/xhtml/FOR-C_2007070EN.01001301.notes.0013.xml.jpg:\n",
      "Traceback (most recent call last):\n",
      "  File \"/var/folders/zj/t8mz7g111911kcsdk6nwh8g00000gn/T/ipykernel_1963/64700856.py\", line 5, in <module>\n",
      "    html_content = obj['Body'].read().decode('utf-8')  # HTML as string\n",
      "UnicodeDecodeError: 'utf-8' codec can't decode byte 0xff in position 0: invalid start byte\n",
      "\n",
      "ERROR:root:169 | Error loading eu/LEG_EN_HTML_20250721_04_08/e9cc666d-ab4d-4716-a3e8-df42fc0e0747/xhtml/FOR-C_2007070EN.01001301.notes.0003.xml.jpg:\n",
      "Traceback (most recent call last):\n",
      "  File \"/var/folders/zj/t8mz7g111911kcsdk6nwh8g00000gn/T/ipykernel_1963/64700856.py\", line 5, in <module>\n",
      "    html_content = obj['Body'].read().decode('utf-8')  # HTML as string\n",
      "UnicodeDecodeError: 'utf-8' codec can't decode byte 0xff in position 0: invalid start byte\n",
      "\n",
      "Processing documents:   0%|          | 170/46665 [29:10<24:54:13,  1.93s/it]"
     ]
    },
    {
     "name": "stdout",
     "output_type": "stream",
     "text": [
      "165 | Error loading eu/LEG_EN_HTML_20250721_04_08/e9cc666d-ab4d-4716-a3e8-df42fc0e0747/xhtml/FOR-C_2007070EN.01000101.notes.0002.xml.jpg | 'utf-8' codec can't decode byte 0xff in position 0: invalid start byte\n",
      "166 | Error loading eu/LEG_EN_HTML_20250721_04_08/e9cc666d-ab4d-4716-a3e8-df42fc0e0747/xhtml/FOR-C_2007070EN.01000501.notes.0011.xml.jpg | 'utf-8' codec can't decode byte 0xff in position 0: invalid start byte\n",
      "167 | Error loading eu/LEG_EN_HTML_20250721_04_08/e9cc666d-ab4d-4716-a3e8-df42fc0e0747/xhtml/FOR-C_2007070EN.01000501.notes.0001.xml.jpg | 'utf-8' codec can't decode byte 0xff in position 0: invalid start byte\n",
      "168 | Error loading eu/LEG_EN_HTML_20250721_04_08/e9cc666d-ab4d-4716-a3e8-df42fc0e0747/xhtml/FOR-C_2007070EN.01001301.notes.0013.xml.jpg | 'utf-8' codec can't decode byte 0xff in position 0: invalid start byte\n",
      "169 | Error loading eu/LEG_EN_HTML_20250721_04_08/e9cc666d-ab4d-4716-a3e8-df42fc0e0747/xhtml/FOR-C_2007070EN.01001301.notes.0003.xml.jpg | 'utf-8' codec can't decode byte 0xff in position 0: invalid start byte\n"
     ]
    },
    {
     "name": "stderr",
     "output_type": "stream",
     "text": [
      "ERROR:root:170 | Error loading eu/LEG_EN_HTML_20250721_04_08/e9cc666d-ab4d-4716-a3e8-df42fc0e0747/xhtml/FOR-C_2007070EN.01002401.notes.0003.xml.jpg:\n",
      "Traceback (most recent call last):\n",
      "  File \"/var/folders/zj/t8mz7g111911kcsdk6nwh8g00000gn/T/ipykernel_1963/64700856.py\", line 5, in <module>\n",
      "    html_content = obj['Body'].read().decode('utf-8')  # HTML as string\n",
      "UnicodeDecodeError: 'utf-8' codec can't decode byte 0xff in position 0: invalid start byte\n",
      "\n",
      "Processing documents:   0%|          | 171/46665 [29:10<20:54:46,  1.62s/it]ERROR:root:171 | Error loading eu/LEG_EN_HTML_20250721_04_08/e9cc666d-ab4d-4716-a3e8-df42fc0e0747/xhtml/FOR-C_2007070EN.01000901.notes.0004.xml.jpg:\n",
      "Traceback (most recent call last):\n",
      "  File \"/var/folders/zj/t8mz7g111911kcsdk6nwh8g00000gn/T/ipykernel_1963/64700856.py\", line 5, in <module>\n",
      "    html_content = obj['Body'].read().decode('utf-8')  # HTML as string\n",
      "UnicodeDecodeError: 'utf-8' codec can't decode byte 0xff in position 0: invalid start byte\n",
      "\n",
      "ERROR:root:172 | Error loading eu/LEG_EN_HTML_20250721_04_08/e9cc666d-ab4d-4716-a3e8-df42fc0e0747/xhtml/FOR-C_2007070EN.01000501.notes.0027.xml.jpg:\n",
      "Traceback (most recent call last):\n",
      "  File \"/var/folders/zj/t8mz7g111911kcsdk6nwh8g00000gn/T/ipykernel_1963/64700856.py\", line 5, in <module>\n",
      "    html_content = obj['Body'].read().decode('utf-8')  # HTML as string\n",
      "UnicodeDecodeError: 'utf-8' codec can't decode byte 0xff in position 0: invalid start byte\n",
      "\n",
      "Processing documents:   0%|          | 173/46665 [29:11<13:45:22,  1.07s/it]ERROR:root:173 | Error loading eu/LEG_EN_HTML_20250721_04_08/e9cc666d-ab4d-4716-a3e8-df42fc0e0747/xhtml/FOR-C_2007070EN.01002101.notes.0013.xml.jpg:\n",
      "Traceback (most recent call last):\n",
      "  File \"/var/folders/zj/t8mz7g111911kcsdk6nwh8g00000gn/T/ipykernel_1963/64700856.py\", line 5, in <module>\n",
      "    html_content = obj['Body'].read().decode('utf-8')  # HTML as string\n",
      "UnicodeDecodeError: 'utf-8' codec can't decode byte 0xff in position 0: invalid start byte\n",
      "\n"
     ]
    },
    {
     "name": "stdout",
     "output_type": "stream",
     "text": [
      "170 | Error loading eu/LEG_EN_HTML_20250721_04_08/e9cc666d-ab4d-4716-a3e8-df42fc0e0747/xhtml/FOR-C_2007070EN.01002401.notes.0003.xml.jpg | 'utf-8' codec can't decode byte 0xff in position 0: invalid start byte\n",
      "171 | Error loading eu/LEG_EN_HTML_20250721_04_08/e9cc666d-ab4d-4716-a3e8-df42fc0e0747/xhtml/FOR-C_2007070EN.01000901.notes.0004.xml.jpg | 'utf-8' codec can't decode byte 0xff in position 0: invalid start byte\n",
      "172 | Error loading eu/LEG_EN_HTML_20250721_04_08/e9cc666d-ab4d-4716-a3e8-df42fc0e0747/xhtml/FOR-C_2007070EN.01000501.notes.0027.xml.jpg | 'utf-8' codec can't decode byte 0xff in position 0: invalid start byte\n",
      "173 | Error loading eu/LEG_EN_HTML_20250721_04_08/e9cc666d-ab4d-4716-a3e8-df42fc0e0747/xhtml/FOR-C_2007070EN.01002101.notes.0013.xml.jpg | 'utf-8' codec can't decode byte 0xff in position 0: invalid start byte\n"
     ]
    },
    {
     "name": "stderr",
     "output_type": "stream",
     "text": [
      "ERROR:root:174 | Error loading eu/LEG_EN_HTML_20250721_04_08/e9cc666d-ab4d-4716-a3e8-df42fc0e0747/xhtml/FOR-C_2007070EN.01002101.notes.0003.xml.jpg:\n",
      "Traceback (most recent call last):\n",
      "  File \"/var/folders/zj/t8mz7g111911kcsdk6nwh8g00000gn/T/ipykernel_1963/64700856.py\", line 5, in <module>\n",
      "    html_content = obj['Body'].read().decode('utf-8')  # HTML as string\n",
      "UnicodeDecodeError: 'utf-8' codec can't decode byte 0xff in position 0: invalid start byte\n",
      "\n",
      "Processing documents:   0%|          | 175/46665 [29:11<9:26:02,  1.37it/s] ERROR:root:175 | Error loading eu/LEG_EN_HTML_20250721_04_08/e9cc666d-ab4d-4716-a3e8-df42fc0e0747/xhtml/FOR-C_2007070EN.01000501.notes.0008.xml.jpg:\n",
      "Traceback (most recent call last):\n",
      "  File \"/var/folders/zj/t8mz7g111911kcsdk6nwh8g00000gn/T/ipykernel_1963/64700856.py\", line 5, in <module>\n",
      "    html_content = obj['Body'].read().decode('utf-8')  # HTML as string\n",
      "UnicodeDecodeError: 'utf-8' codec can't decode byte 0xff in position 0: invalid start byte\n",
      "\n",
      "ERROR:root:176 | Error loading eu/LEG_EN_HTML_20250721_04_08/e9cc666d-ab4d-4716-a3e8-df42fc0e0747/xhtml/FOR-C_2007070EN.01000501.notes.0018.xml.jpg:\n",
      "Traceback (most recent call last):\n",
      "  File \"/var/folders/zj/t8mz7g111911kcsdk6nwh8g00000gn/T/ipykernel_1963/64700856.py\", line 5, in <module>\n",
      "    html_content = obj['Body'].read().decode('utf-8')  # HTML as string\n",
      "UnicodeDecodeError: 'utf-8' codec can't decode byte 0xff in position 0: invalid start byte\n",
      "\n",
      "Processing documents:   0%|          | 177/46665 [29:11<6:37:45,  1.95it/s]ERROR:root:177 | Error loading eu/LEG_EN_HTML_20250721_04_08/e9cc666d-ab4d-4716-a3e8-df42fc0e0747/xhtml/FOR-C_2007070EN.01002401.notes.0002.xml.jpg:\n",
      "Traceback (most recent call last):\n",
      "  File \"/var/folders/zj/t8mz7g111911kcsdk6nwh8g00000gn/T/ipykernel_1963/64700856.py\", line 5, in <module>\n",
      "    html_content = obj['Body'].read().decode('utf-8')  # HTML as string\n",
      "UnicodeDecodeError: 'utf-8' codec can't decode byte 0xff in position 0: invalid start byte\n",
      "\n"
     ]
    },
    {
     "name": "stdout",
     "output_type": "stream",
     "text": [
      "174 | Error loading eu/LEG_EN_HTML_20250721_04_08/e9cc666d-ab4d-4716-a3e8-df42fc0e0747/xhtml/FOR-C_2007070EN.01002101.notes.0003.xml.jpg | 'utf-8' codec can't decode byte 0xff in position 0: invalid start byte\n",
      "175 | Error loading eu/LEG_EN_HTML_20250721_04_08/e9cc666d-ab4d-4716-a3e8-df42fc0e0747/xhtml/FOR-C_2007070EN.01000501.notes.0008.xml.jpg | 'utf-8' codec can't decode byte 0xff in position 0: invalid start byte\n",
      "176 | Error loading eu/LEG_EN_HTML_20250721_04_08/e9cc666d-ab4d-4716-a3e8-df42fc0e0747/xhtml/FOR-C_2007070EN.01000501.notes.0018.xml.jpg | 'utf-8' codec can't decode byte 0xff in position 0: invalid start byte\n",
      "177 | Error loading eu/LEG_EN_HTML_20250721_04_08/e9cc666d-ab4d-4716-a3e8-df42fc0e0747/xhtml/FOR-C_2007070EN.01002401.notes.0002.xml.jpg | 'utf-8' codec can't decode byte 0xff in position 0: invalid start byte\n"
     ]
    },
    {
     "name": "stderr",
     "output_type": "stream",
     "text": [
      "ERROR:root:178 | Error loading eu/LEG_EN_HTML_20250721_04_08/e9cc666d-ab4d-4716-a3e8-df42fc0e0747/xhtml/FOR-C_2007070EN.01000501.notes.0026.xml.jpg:\n",
      "Traceback (most recent call last):\n",
      "  File \"/var/folders/zj/t8mz7g111911kcsdk6nwh8g00000gn/T/ipykernel_1963/64700856.py\", line 5, in <module>\n",
      "    html_content = obj['Body'].read().decode('utf-8')  # HTML as string\n",
      "UnicodeDecodeError: 'utf-8' codec can't decode byte 0xff in position 0: invalid start byte\n",
      "\n",
      "Processing documents:   0%|          | 179/46665 [29:11<4:45:18,  2.72it/s]ERROR:root:179 | Error loading eu/LEG_EN_HTML_20250721_04_08/e9cc666d-ab4d-4716-a3e8-df42fc0e0747/xhtml/FOR-C_2007070EN.01000901.notes.0005.xml.jpg:\n",
      "Traceback (most recent call last):\n",
      "  File \"/var/folders/zj/t8mz7g111911kcsdk6nwh8g00000gn/T/ipykernel_1963/64700856.py\", line 5, in <module>\n",
      "    html_content = obj['Body'].read().decode('utf-8')  # HTML as string\n",
      "UnicodeDecodeError: 'utf-8' codec can't decode byte 0xff in position 0: invalid start byte\n",
      "\n",
      "ERROR:root:180 | Error loading eu/LEG_EN_HTML_20250721_04_08/e9cc666d-ab4d-4716-a3e8-df42fc0e0747/xhtml/FOR-C_2007070EN.01002101.notes.0002.xml.jpg:\n",
      "Traceback (most recent call last):\n",
      "  File \"/var/folders/zj/t8mz7g111911kcsdk6nwh8g00000gn/T/ipykernel_1963/64700856.py\", line 5, in <module>\n",
      "    html_content = obj['Body'].read().decode('utf-8')  # HTML as string\n",
      "UnicodeDecodeError: 'utf-8' codec can't decode byte 0xff in position 0: invalid start byte\n",
      "\n",
      "Processing documents:   0%|          | 181/46665 [29:11<3:28:51,  3.71it/s]ERROR:root:181 | Error loading eu/LEG_EN_HTML_20250721_04_08/e9cc666d-ab4d-4716-a3e8-df42fc0e0747/xhtml/FOR-C_2007070EN.01002101.notes.0012.xml.jpg:\n",
      "Traceback (most recent call last):\n",
      "  File \"/var/folders/zj/t8mz7g111911kcsdk6nwh8g00000gn/T/ipykernel_1963/64700856.py\", line 5, in <module>\n",
      "    html_content = obj['Body'].read().decode('utf-8')  # HTML as string\n",
      "UnicodeDecodeError: 'utf-8' codec can't decode byte 0xff in position 0: invalid start byte\n",
      "\n"
     ]
    },
    {
     "name": "stdout",
     "output_type": "stream",
     "text": [
      "178 | Error loading eu/LEG_EN_HTML_20250721_04_08/e9cc666d-ab4d-4716-a3e8-df42fc0e0747/xhtml/FOR-C_2007070EN.01000501.notes.0026.xml.jpg | 'utf-8' codec can't decode byte 0xff in position 0: invalid start byte\n",
      "179 | Error loading eu/LEG_EN_HTML_20250721_04_08/e9cc666d-ab4d-4716-a3e8-df42fc0e0747/xhtml/FOR-C_2007070EN.01000901.notes.0005.xml.jpg | 'utf-8' codec can't decode byte 0xff in position 0: invalid start byte\n",
      "180 | Error loading eu/LEG_EN_HTML_20250721_04_08/e9cc666d-ab4d-4716-a3e8-df42fc0e0747/xhtml/FOR-C_2007070EN.01002101.notes.0002.xml.jpg | 'utf-8' codec can't decode byte 0xff in position 0: invalid start byte\n",
      "181 | Error loading eu/LEG_EN_HTML_20250721_04_08/e9cc666d-ab4d-4716-a3e8-df42fc0e0747/xhtml/FOR-C_2007070EN.01002101.notes.0012.xml.jpg | 'utf-8' codec can't decode byte 0xff in position 0: invalid start byte\n"
     ]
    },
    {
     "name": "stderr",
     "output_type": "stream",
     "text": [
      "ERROR:root:182 | Error loading eu/LEG_EN_HTML_20250721_04_08/e9cc666d-ab4d-4716-a3e8-df42fc0e0747/xhtml/FOR-C_2007070EN.01000501.notes.0019.xml.jpg:\n",
      "Traceback (most recent call last):\n",
      "  File \"/var/folders/zj/t8mz7g111911kcsdk6nwh8g00000gn/T/ipykernel_1963/64700856.py\", line 5, in <module>\n",
      "    html_content = obj['Body'].read().decode('utf-8')  # HTML as string\n",
      "UnicodeDecodeError: 'utf-8' codec can't decode byte 0xff in position 0: invalid start byte\n",
      "\n",
      "Processing documents:   0%|          | 183/46665 [29:11<2:38:03,  4.90it/s]ERROR:root:183 | Error loading eu/LEG_EN_HTML_20250721_04_08/e9cc666d-ab4d-4716-a3e8-df42fc0e0747/xhtml/FOR-C_2007070EN.01000501.notes.0009.xml.jpg:\n",
      "Traceback (most recent call last):\n",
      "  File \"/var/folders/zj/t8mz7g111911kcsdk6nwh8g00000gn/T/ipykernel_1963/64700856.py\", line 5, in <module>\n",
      "    html_content = obj['Body'].read().decode('utf-8')  # HTML as string\n",
      "UnicodeDecodeError: 'utf-8' codec can't decode byte 0xff in position 0: invalid start byte\n",
      "\n",
      "ERROR:root:184 | Error loading eu/LEG_EN_HTML_20250721_04_08/e9cc666d-ab4d-4716-a3e8-df42fc0e0747/xhtml/FOR-C_2007070EN.01000101.notes.0003.xml.jpg:\n",
      "Traceback (most recent call last):\n",
      "  File \"/var/folders/zj/t8mz7g111911kcsdk6nwh8g00000gn/T/ipykernel_1963/64700856.py\", line 5, in <module>\n",
      "    html_content = obj['Body'].read().decode('utf-8')  # HTML as string\n",
      "UnicodeDecodeError: 'utf-8' codec can't decode byte 0xff in position 0: invalid start byte\n",
      "\n",
      "ERROR:root:185 | Error loading eu/LEG_EN_HTML_20250721_04_08/e9cc666d-ab4d-4716-a3e8-df42fc0e0747/xhtml/FOR-C_2007070EN.01001701.notes.0001.xml.jpg:\n",
      "Traceback (most recent call last):\n",
      "  File \"/var/folders/zj/t8mz7g111911kcsdk6nwh8g00000gn/T/ipykernel_1963/64700856.py\", line 5, in <module>\n",
      "    html_content = obj['Body'].read().decode('utf-8')  # HTML as string\n",
      "UnicodeDecodeError: 'utf-8' codec can't decode byte 0xff in position 0: invalid start byte\n",
      "\n",
      "Processing documents:   0%|          | 186/46665 [29:11<1:50:46,  6.99it/s]"
     ]
    },
    {
     "name": "stdout",
     "output_type": "stream",
     "text": [
      "182 | Error loading eu/LEG_EN_HTML_20250721_04_08/e9cc666d-ab4d-4716-a3e8-df42fc0e0747/xhtml/FOR-C_2007070EN.01000501.notes.0019.xml.jpg | 'utf-8' codec can't decode byte 0xff in position 0: invalid start byte\n",
      "183 | Error loading eu/LEG_EN_HTML_20250721_04_08/e9cc666d-ab4d-4716-a3e8-df42fc0e0747/xhtml/FOR-C_2007070EN.01000501.notes.0009.xml.jpg | 'utf-8' codec can't decode byte 0xff in position 0: invalid start byte\n",
      "184 | Error loading eu/LEG_EN_HTML_20250721_04_08/e9cc666d-ab4d-4716-a3e8-df42fc0e0747/xhtml/FOR-C_2007070EN.01000101.notes.0003.xml.jpg | 'utf-8' codec can't decode byte 0xff in position 0: invalid start byte\n",
      "185 | Error loading eu/LEG_EN_HTML_20250721_04_08/e9cc666d-ab4d-4716-a3e8-df42fc0e0747/xhtml/FOR-C_2007070EN.01001701.notes.0001.xml.jpg | 'utf-8' codec can't decode byte 0xff in position 0: invalid start byte\n"
     ]
    },
    {
     "name": "stderr",
     "output_type": "stream",
     "text": [
      "ERROR:root:186 | Error loading eu/LEG_EN_HTML_20250721_04_08/e9cc666d-ab4d-4716-a3e8-df42fc0e0747/xhtml/FOR-C_2007070EN.01001301.notes.0002.xml.jpg:\n",
      "Traceback (most recent call last):\n",
      "  File \"/var/folders/zj/t8mz7g111911kcsdk6nwh8g00000gn/T/ipykernel_1963/64700856.py\", line 5, in <module>\n",
      "    html_content = obj['Body'].read().decode('utf-8')  # HTML as string\n",
      "UnicodeDecodeError: 'utf-8' codec can't decode byte 0xff in position 0: invalid start byte\n",
      "\n",
      "ERROR:root:187 | Error loading eu/LEG_EN_HTML_20250721_04_08/e9cc666d-ab4d-4716-a3e8-df42fc0e0747/xhtml/FOR-C_2007070EN.01001301.notes.0012.xml.jpg:\n",
      "Traceback (most recent call last):\n",
      "  File \"/var/folders/zj/t8mz7g111911kcsdk6nwh8g00000gn/T/ipykernel_1963/64700856.py\", line 5, in <module>\n",
      "    html_content = obj['Body'].read().decode('utf-8')  # HTML as string\n",
      "UnicodeDecodeError: 'utf-8' codec can't decode byte 0xff in position 0: invalid start byte\n",
      "\n",
      "Processing documents:   0%|          | 188/46665 [29:11<1:32:59,  8.33it/s]ERROR:root:188 | Error loading eu/LEG_EN_HTML_20250721_04_08/e9cc666d-ab4d-4716-a3e8-df42fc0e0747/xhtml/FOR-C_2007070EN.01000501.notes.0010.xml.jpg:\n",
      "Traceback (most recent call last):\n",
      "  File \"/var/folders/zj/t8mz7g111911kcsdk6nwh8g00000gn/T/ipykernel_1963/64700856.py\", line 5, in <module>\n",
      "    html_content = obj['Body'].read().decode('utf-8')  # HTML as string\n",
      "UnicodeDecodeError: 'utf-8' codec can't decode byte 0xff in position 0: invalid start byte\n",
      "\n",
      "ERROR:root:189 | Error loading eu/LEG_EN_HTML_20250721_04_08/e9cc666d-ab4d-4716-a3e8-df42fc0e0747/xhtml/FOR-C_2007070EN.01000501.notes.0024.xml.jpg:\n",
      "Traceback (most recent call last):\n",
      "  File \"/var/folders/zj/t8mz7g111911kcsdk6nwh8g00000gn/T/ipykernel_1963/64700856.py\", line 5, in <module>\n",
      "    html_content = obj['Body'].read().decode('utf-8')  # HTML as string\n",
      "UnicodeDecodeError: 'utf-8' codec can't decode byte 0xff in position 0: invalid start byte\n",
      "\n"
     ]
    },
    {
     "name": "stdout",
     "output_type": "stream",
     "text": [
      "186 | Error loading eu/LEG_EN_HTML_20250721_04_08/e9cc666d-ab4d-4716-a3e8-df42fc0e0747/xhtml/FOR-C_2007070EN.01001301.notes.0002.xml.jpg | 'utf-8' codec can't decode byte 0xff in position 0: invalid start byte\n",
      "187 | Error loading eu/LEG_EN_HTML_20250721_04_08/e9cc666d-ab4d-4716-a3e8-df42fc0e0747/xhtml/FOR-C_2007070EN.01001301.notes.0012.xml.jpg | 'utf-8' codec can't decode byte 0xff in position 0: invalid start byte\n",
      "188 | Error loading eu/LEG_EN_HTML_20250721_04_08/e9cc666d-ab4d-4716-a3e8-df42fc0e0747/xhtml/FOR-C_2007070EN.01000501.notes.0010.xml.jpg | 'utf-8' codec can't decode byte 0xff in position 0: invalid start byte\n"
     ]
    },
    {
     "name": "stderr",
     "output_type": "stream",
     "text": [
      "Processing documents:   0%|          | 190/46665 [29:12<1:28:14,  8.78it/s]ERROR:root:190 | Error loading eu/LEG_EN_HTML_20250721_04_08/e9cc666d-ab4d-4716-a3e8-df42fc0e0747/xhtml/FOR-C_2007070EN.01000901.notes.0007.xml.jpg:\n",
      "Traceback (most recent call last):\n",
      "  File \"/var/folders/zj/t8mz7g111911kcsdk6nwh8g00000gn/T/ipykernel_1963/64700856.py\", line 5, in <module>\n",
      "    html_content = obj['Body'].read().decode('utf-8')  # HTML as string\n",
      "UnicodeDecodeError: 'utf-8' codec can't decode byte 0xff in position 0: invalid start byte\n",
      "\n",
      "ERROR:root:191 | Error loading eu/LEG_EN_HTML_20250721_04_08/e9cc666d-ab4d-4716-a3e8-df42fc0e0747/xhtml/FOR-C_2007070EN.01001301.notes.0009.xml.jpg:\n",
      "Traceback (most recent call last):\n",
      "  File \"/var/folders/zj/t8mz7g111911kcsdk6nwh8g00000gn/T/ipykernel_1963/64700856.py\", line 5, in <module>\n",
      "    html_content = obj['Body'].read().decode('utf-8')  # HTML as string\n",
      "UnicodeDecodeError: 'utf-8' codec can't decode byte 0xff in position 0: invalid start byte\n",
      "\n"
     ]
    },
    {
     "name": "stdout",
     "output_type": "stream",
     "text": [
      "189 | Error loading eu/LEG_EN_HTML_20250721_04_08/e9cc666d-ab4d-4716-a3e8-df42fc0e0747/xhtml/FOR-C_2007070EN.01000501.notes.0024.xml.jpg | 'utf-8' codec can't decode byte 0xff in position 0: invalid start byte\n",
      "190 | Error loading eu/LEG_EN_HTML_20250721_04_08/e9cc666d-ab4d-4716-a3e8-df42fc0e0747/xhtml/FOR-C_2007070EN.01000901.notes.0007.xml.jpg | 'utf-8' codec can't decode byte 0xff in position 0: invalid start byte\n"
     ]
    },
    {
     "name": "stderr",
     "output_type": "stream",
     "text": [
      "Processing documents:   0%|          | 192/46665 [29:12<1:34:15,  8.22it/s]ERROR:root:192 | Error loading eu/LEG_EN_HTML_20250721_04_08/e9cc666d-ab4d-4716-a3e8-df42fc0e0747/xhtml/FOR-C_2007070EN.01002101.notes.0010.xml.jpg:\n",
      "Traceback (most recent call last):\n",
      "  File \"/var/folders/zj/t8mz7g111911kcsdk6nwh8g00000gn/T/ipykernel_1963/64700856.py\", line 5, in <module>\n",
      "    html_content = obj['Body'].read().decode('utf-8')  # HTML as string\n",
      "UnicodeDecodeError: 'utf-8' codec can't decode byte 0xff in position 0: invalid start byte\n",
      "\n",
      "ERROR:root:193 | Error loading eu/LEG_EN_HTML_20250721_04_08/e9cc666d-ab4d-4716-a3e8-df42fc0e0747/xhtml/FOR-C_2007070EN.01000101.notes.0001.xml.jpg:\n",
      "Traceback (most recent call last):\n",
      "  File \"/var/folders/zj/t8mz7g111911kcsdk6nwh8g00000gn/T/ipykernel_1963/64700856.py\", line 5, in <module>\n",
      "    html_content = obj['Body'].read().decode('utf-8')  # HTML as string\n",
      "UnicodeDecodeError: 'utf-8' codec can't decode byte 0xff in position 0: invalid start byte\n",
      "\n",
      "Processing documents:   0%|          | 194/46665 [29:12<1:18:09,  9.91it/s]ERROR:root:194 | Error loading eu/LEG_EN_HTML_20250721_04_08/e9cc666d-ab4d-4716-a3e8-df42fc0e0747/xhtml/FOR-C_2007070EN.01001701.notes.0003.xml.jpg:\n",
      "Traceback (most recent call last):\n",
      "  File \"/var/folders/zj/t8mz7g111911kcsdk6nwh8g00000gn/T/ipykernel_1963/64700856.py\", line 5, in <module>\n",
      "    html_content = obj['Body'].read().decode('utf-8')  # HTML as string\n",
      "UnicodeDecodeError: 'utf-8' codec can't decode byte 0xff in position 0: invalid start byte\n",
      "\n",
      "ERROR:root:195 | Error loading eu/LEG_EN_HTML_20250721_04_08/e9cc666d-ab4d-4716-a3e8-df42fc0e0747/xhtml/FOR-C_2007070EN.01002101.notes.0009.xml.jpg:\n",
      "Traceback (most recent call last):\n",
      "  File \"/var/folders/zj/t8mz7g111911kcsdk6nwh8g00000gn/T/ipykernel_1963/64700856.py\", line 5, in <module>\n",
      "    html_content = obj['Body'].read().decode('utf-8')  # HTML as string\n",
      "UnicodeDecodeError: 'utf-8' codec can't decode byte 0xff in position 0: invalid start byte\n",
      "\n"
     ]
    },
    {
     "name": "stdout",
     "output_type": "stream",
     "text": [
      "191 | Error loading eu/LEG_EN_HTML_20250721_04_08/e9cc666d-ab4d-4716-a3e8-df42fc0e0747/xhtml/FOR-C_2007070EN.01001301.notes.0009.xml.jpg | 'utf-8' codec can't decode byte 0xff in position 0: invalid start byte\n",
      "192 | Error loading eu/LEG_EN_HTML_20250721_04_08/e9cc666d-ab4d-4716-a3e8-df42fc0e0747/xhtml/FOR-C_2007070EN.01002101.notes.0010.xml.jpg | 'utf-8' codec can't decode byte 0xff in position 0: invalid start byte\n",
      "193 | Error loading eu/LEG_EN_HTML_20250721_04_08/e9cc666d-ab4d-4716-a3e8-df42fc0e0747/xhtml/FOR-C_2007070EN.01000101.notes.0001.xml.jpg | 'utf-8' codec can't decode byte 0xff in position 0: invalid start byte\n",
      "194 | Error loading eu/LEG_EN_HTML_20250721_04_08/e9cc666d-ab4d-4716-a3e8-df42fc0e0747/xhtml/FOR-C_2007070EN.01001701.notes.0003.xml.jpg | 'utf-8' codec can't decode byte 0xff in position 0: invalid start byte\n",
      "195 | Error loading eu/LEG_EN_HTML_20250721_04_08/e9cc666d-ab4d-4716-a3e8-df42fc0e0747/xhtml/FOR-C_2007070EN.01002101.notes.0009.xml.jpg | 'utf-8' codec can't decode byte 0xff in position 0: invalid start byte\n"
     ]
    },
    {
     "name": "stderr",
     "output_type": "stream",
     "text": [
      "ERROR:root:196 | Error loading eu/LEG_EN_HTML_20250721_04_08/e9cc666d-ab4d-4716-a3e8-df42fc0e0747/xhtml/FOR-C_2007070EN.01001301.notes.0010.xml.jpg:\n",
      "Traceback (most recent call last):\n",
      "  File \"/var/folders/zj/t8mz7g111911kcsdk6nwh8g00000gn/T/ipykernel_1963/64700856.py\", line 5, in <module>\n",
      "    html_content = obj['Body'].read().decode('utf-8')  # HTML as string\n",
      "UnicodeDecodeError: 'utf-8' codec can't decode byte 0xff in position 0: invalid start byte\n",
      "\n",
      "Processing documents:   0%|          | 197/46665 [29:12<1:01:32, 12.58it/s]ERROR:root:197 | Error loading eu/LEG_EN_HTML_20250721_04_08/e9cc666d-ab4d-4716-a3e8-df42fc0e0747/xhtml/FOR-C_2007070EN.01000501.notes.0012.xml.jpg:\n",
      "Traceback (most recent call last):\n",
      "  File \"/var/folders/zj/t8mz7g111911kcsdk6nwh8g00000gn/T/ipykernel_1963/64700856.py\", line 5, in <module>\n",
      "    html_content = obj['Body'].read().decode('utf-8')  # HTML as string\n",
      "UnicodeDecodeError: 'utf-8' codec can't decode byte 0xff in position 0: invalid start byte\n",
      "\n",
      "ERROR:root:198 | Error loading eu/LEG_EN_HTML_20250721_04_08/e9cc666d-ab4d-4716-a3e8-df42fc0e0747/xhtml/FOR-C_2007070EN.01000501.notes.0002.xml.jpg:\n",
      "Traceback (most recent call last):\n",
      "  File \"/var/folders/zj/t8mz7g111911kcsdk6nwh8g00000gn/T/ipykernel_1963/64700856.py\", line 5, in <module>\n",
      "    html_content = obj['Body'].read().decode('utf-8')  # HTML as string\n",
      "UnicodeDecodeError: 'utf-8' codec can't decode byte 0xff in position 0: invalid start byte\n",
      "\n",
      "Processing documents:   0%|          | 199/46665 [29:12<56:21, 13.74it/s]  ERROR:root:199 | Error loading eu/LEG_EN_HTML_20250721_04_08/e9cc666d-ab4d-4716-a3e8-df42fc0e0747/xhtml/FOR-C_2007070EN.01001701.notes.0002.xml.jpg:\n",
      "Traceback (most recent call last):\n",
      "  File \"/var/folders/zj/t8mz7g111911kcsdk6nwh8g00000gn/T/ipykernel_1963/64700856.py\", line 5, in <module>\n",
      "    html_content = obj['Body'].read().decode('utf-8')  # HTML as string\n",
      "UnicodeDecodeError: 'utf-8' codec can't decode byte 0xff in position 0: invalid start byte\n",
      "\n"
     ]
    },
    {
     "name": "stdout",
     "output_type": "stream",
     "text": [
      "196 | Error loading eu/LEG_EN_HTML_20250721_04_08/e9cc666d-ab4d-4716-a3e8-df42fc0e0747/xhtml/FOR-C_2007070EN.01001301.notes.0010.xml.jpg | 'utf-8' codec can't decode byte 0xff in position 0: invalid start byte\n",
      "197 | Error loading eu/LEG_EN_HTML_20250721_04_08/e9cc666d-ab4d-4716-a3e8-df42fc0e0747/xhtml/FOR-C_2007070EN.01000501.notes.0012.xml.jpg | 'utf-8' codec can't decode byte 0xff in position 0: invalid start byte\n",
      "198 | Error loading eu/LEG_EN_HTML_20250721_04_08/e9cc666d-ab4d-4716-a3e8-df42fc0e0747/xhtml/FOR-C_2007070EN.01000501.notes.0002.xml.jpg | 'utf-8' codec can't decode byte 0xff in position 0: invalid start byte\n",
      "199 | Error loading eu/LEG_EN_HTML_20250721_04_08/e9cc666d-ab4d-4716-a3e8-df42fc0e0747/xhtml/FOR-C_2007070EN.01001701.notes.0002.xml.jpg | 'utf-8' codec can't decode byte 0xff in position 0: invalid start byte\n"
     ]
    },
    {
     "name": "stderr",
     "output_type": "stream",
     "text": [
      "ERROR:root:200 | Error loading eu/LEG_EN_HTML_20250721_04_08/e9cc666d-ab4d-4716-a3e8-df42fc0e0747/xhtml/FOR-C_2007070EN.01002101.notes.0008.xml.jpg:\n",
      "Traceback (most recent call last):\n",
      "  File \"/var/folders/zj/t8mz7g111911kcsdk6nwh8g00000gn/T/ipykernel_1963/64700856.py\", line 5, in <module>\n",
      "    html_content = obj['Body'].read().decode('utf-8')  # HTML as string\n",
      "UnicodeDecodeError: 'utf-8' codec can't decode byte 0xff in position 0: invalid start byte\n",
      "\n",
      "Processing documents:   0%|          | 201/46665 [29:12<52:27, 14.76it/s]ERROR:root:201 | Error loading eu/LEG_EN_HTML_20250721_04_08/e9cc666d-ab4d-4716-a3e8-df42fc0e0747/xhtml/FOR-C_2007070EN.01000501.notes.0003.xml.jpg:\n",
      "Traceback (most recent call last):\n",
      "  File \"/var/folders/zj/t8mz7g111911kcsdk6nwh8g00000gn/T/ipykernel_1963/64700856.py\", line 5, in <module>\n",
      "    html_content = obj['Body'].read().decode('utf-8')  # HTML as string\n",
      "UnicodeDecodeError: 'utf-8' codec can't decode byte 0xff in position 0: invalid start byte\n",
      "\n",
      "ERROR:root:202 | Error loading eu/LEG_EN_HTML_20250721_04_08/e9cc666d-ab4d-4716-a3e8-df42fc0e0747/xhtml/FOR-C_2007070EN.01000501.notes.0013.xml.jpg:\n",
      "Traceback (most recent call last):\n",
      "  File \"/var/folders/zj/t8mz7g111911kcsdk6nwh8g00000gn/T/ipykernel_1963/64700856.py\", line 5, in <module>\n",
      "    html_content = obj['Body'].read().decode('utf-8')  # HTML as string\n",
      "UnicodeDecodeError: 'utf-8' codec can't decode byte 0xff in position 0: invalid start byte\n",
      "\n",
      "ERROR:root:203 | Error loading eu/LEG_EN_HTML_20250721_04_08/e9cc666d-ab4d-4716-a3e8-df42fc0e0747/xhtml/FOR-C_2007070EN.01001301.notes.0001.xml.jpg:\n",
      "Traceback (most recent call last):\n",
      "  File \"/var/folders/zj/t8mz7g111911kcsdk6nwh8g00000gn/T/ipykernel_1963/64700856.py\", line 5, in <module>\n",
      "    html_content = obj['Body'].read().decode('utf-8')  # HTML as string\n",
      "UnicodeDecodeError: 'utf-8' codec can't decode byte 0xff in position 0: invalid start byte\n",
      "\n",
      "Processing documents:   0%|          | 204/46665 [29:12<45:35, 16.99it/s]ERROR:root:204 | Error loading eu/LEG_EN_HTML_20250721_04_08/e9cc666d-ab4d-4716-a3e8-df42fc0e0747/xhtml/FOR-C_2007070EN.01001301.notes.0011.xml.jpg:\n",
      "Traceback (most recent call last):\n",
      "  File \"/var/folders/zj/t8mz7g111911kcsdk6nwh8g00000gn/T/ipykernel_1963/64700856.py\", line 5, in <module>\n",
      "    html_content = obj['Body'].read().decode('utf-8')  # HTML as string\n",
      "UnicodeDecodeError: 'utf-8' codec can't decode byte 0xff in position 0: invalid start byte\n",
      "\n"
     ]
    },
    {
     "name": "stdout",
     "output_type": "stream",
     "text": [
      "200 | Error loading eu/LEG_EN_HTML_20250721_04_08/e9cc666d-ab4d-4716-a3e8-df42fc0e0747/xhtml/FOR-C_2007070EN.01002101.notes.0008.xml.jpg | 'utf-8' codec can't decode byte 0xff in position 0: invalid start byte\n",
      "201 | Error loading eu/LEG_EN_HTML_20250721_04_08/e9cc666d-ab4d-4716-a3e8-df42fc0e0747/xhtml/FOR-C_2007070EN.01000501.notes.0003.xml.jpg | 'utf-8' codec can't decode byte 0xff in position 0: invalid start byte\n",
      "202 | Error loading eu/LEG_EN_HTML_20250721_04_08/e9cc666d-ab4d-4716-a3e8-df42fc0e0747/xhtml/FOR-C_2007070EN.01000501.notes.0013.xml.jpg | 'utf-8' codec can't decode byte 0xff in position 0: invalid start byte\n",
      "203 | Error loading eu/LEG_EN_HTML_20250721_04_08/e9cc666d-ab4d-4716-a3e8-df42fc0e0747/xhtml/FOR-C_2007070EN.01001301.notes.0001.xml.jpg | 'utf-8' codec can't decode byte 0xff in position 0: invalid start byte\n",
      "204 | Error loading eu/LEG_EN_HTML_20250721_04_08/e9cc666d-ab4d-4716-a3e8-df42fc0e0747/xhtml/FOR-C_2007070EN.01001301.notes.0011.xml.jpg | 'utf-8' codec can't decode byte 0xff in position 0: invalid start byte\n"
     ]
    },
    {
     "name": "stderr",
     "output_type": "stream",
     "text": [
      "ERROR:root:205 | Error loading eu/LEG_EN_HTML_20250721_04_08/e9cc666d-ab4d-4716-a3e8-df42fc0e0747/xhtml/FOR-C_2007070EN.01000901.notes.0006.xml.jpg:\n",
      "Traceback (most recent call last):\n",
      "  File \"/var/folders/zj/t8mz7g111911kcsdk6nwh8g00000gn/T/ipykernel_1963/64700856.py\", line 5, in <module>\n",
      "    html_content = obj['Body'].read().decode('utf-8')  # HTML as string\n",
      "UnicodeDecodeError: 'utf-8' codec can't decode byte 0xff in position 0: invalid start byte\n",
      "\n",
      "Processing documents:   0%|          | 206/46665 [29:13<43:48, 17.68it/s]ERROR:root:206 | Error loading eu/LEG_EN_HTML_20250721_04_08/e9cc666d-ab4d-4716-a3e8-df42fc0e0747/xhtml/FOR-C_2007070EN.01000501.notes.0025.xml.jpg:\n",
      "Traceback (most recent call last):\n",
      "  File \"/var/folders/zj/t8mz7g111911kcsdk6nwh8g00000gn/T/ipykernel_1963/64700856.py\", line 5, in <module>\n",
      "    html_content = obj['Body'].read().decode('utf-8')  # HTML as string\n",
      "UnicodeDecodeError: 'utf-8' codec can't decode byte 0xff in position 0: invalid start byte\n",
      "\n",
      "ERROR:root:207 | Error loading eu/LEG_EN_HTML_20250721_04_08/e9cc666d-ab4d-4716-a3e8-df42fc0e0747/xhtml/FOR-C_2007070EN.01002401.notes.0001.xml.jpg:\n",
      "Traceback (most recent call last):\n",
      "  File \"/var/folders/zj/t8mz7g111911kcsdk6nwh8g00000gn/T/ipykernel_1963/64700856.py\", line 5, in <module>\n",
      "    html_content = obj['Body'].read().decode('utf-8')  # HTML as string\n",
      "UnicodeDecodeError: 'utf-8' codec can't decode byte 0xff in position 0: invalid start byte\n",
      "\n",
      "ERROR:root:208 | Error loading eu/LEG_EN_HTML_20250721_04_08/e9cc666d-ab4d-4716-a3e8-df42fc0e0747/xhtml/FOR-C_2007070EN.01001301.notes.0008.xml.jpg:\n",
      "Traceback (most recent call last):\n",
      "  File \"/var/folders/zj/t8mz7g111911kcsdk6nwh8g00000gn/T/ipykernel_1963/64700856.py\", line 5, in <module>\n",
      "    html_content = obj['Body'].read().decode('utf-8')  # HTML as string\n",
      "UnicodeDecodeError: 'utf-8' codec can't decode byte 0xff in position 0: invalid start byte\n",
      "\n",
      "Processing documents:   0%|          | 209/46665 [29:13<40:20, 19.19it/s]ERROR:root:209 | Error loading eu/LEG_EN_HTML_20250721_04_08/e9cc666d-ab4d-4716-a3e8-df42fc0e0747/xhtml/FOR-C_2007070EN.01002101.notes.0001.xml.jpg:\n",
      "Traceback (most recent call last):\n",
      "  File \"/var/folders/zj/t8mz7g111911kcsdk6nwh8g00000gn/T/ipykernel_1963/64700856.py\", line 5, in <module>\n",
      "    html_content = obj['Body'].read().decode('utf-8')  # HTML as string\n",
      "UnicodeDecodeError: 'utf-8' codec can't decode byte 0xff in position 0: invalid start byte\n",
      "\n"
     ]
    },
    {
     "name": "stdout",
     "output_type": "stream",
     "text": [
      "205 | Error loading eu/LEG_EN_HTML_20250721_04_08/e9cc666d-ab4d-4716-a3e8-df42fc0e0747/xhtml/FOR-C_2007070EN.01000901.notes.0006.xml.jpg | 'utf-8' codec can't decode byte 0xff in position 0: invalid start byte\n",
      "206 | Error loading eu/LEG_EN_HTML_20250721_04_08/e9cc666d-ab4d-4716-a3e8-df42fc0e0747/xhtml/FOR-C_2007070EN.01000501.notes.0025.xml.jpg | 'utf-8' codec can't decode byte 0xff in position 0: invalid start byte\n",
      "207 | Error loading eu/LEG_EN_HTML_20250721_04_08/e9cc666d-ab4d-4716-a3e8-df42fc0e0747/xhtml/FOR-C_2007070EN.01002401.notes.0001.xml.jpg | 'utf-8' codec can't decode byte 0xff in position 0: invalid start byte\n",
      "208 | Error loading eu/LEG_EN_HTML_20250721_04_08/e9cc666d-ab4d-4716-a3e8-df42fc0e0747/xhtml/FOR-C_2007070EN.01001301.notes.0008.xml.jpg | 'utf-8' codec can't decode byte 0xff in position 0: invalid start byte\n",
      "209 | Error loading eu/LEG_EN_HTML_20250721_04_08/e9cc666d-ab4d-4716-a3e8-df42fc0e0747/xhtml/FOR-C_2007070EN.01002101.notes.0001.xml.jpg | 'utf-8' codec can't decode byte 0xff in position 0: invalid start byte\n"
     ]
    },
    {
     "name": "stderr",
     "output_type": "stream",
     "text": [
      "ERROR:root:210 | Error loading eu/LEG_EN_HTML_20250721_04_08/e9cc666d-ab4d-4716-a3e8-df42fc0e0747/xhtml/FOR-C_2007070EN.01002101.notes.0011.xml.jpg:\n",
      "Traceback (most recent call last):\n",
      "  File \"/var/folders/zj/t8mz7g111911kcsdk6nwh8g00000gn/T/ipykernel_1963/64700856.py\", line 5, in <module>\n",
      "    html_content = obj['Body'].read().decode('utf-8')  # HTML as string\n",
      "UnicodeDecodeError: 'utf-8' codec can't decode byte 0xff in position 0: invalid start byte\n",
      "\n",
      "ERROR:root:211 | Error loading eu/LEG_EN_HTML_20250721_04_08/e9cc666d-ab4d-4716-a3e8-df42fc0e0747/xhtml/FOR-C_2007070EN.01002101.notes.0004.xml.jpg:\n",
      "Traceback (most recent call last):\n",
      "  File \"/var/folders/zj/t8mz7g111911kcsdk6nwh8g00000gn/T/ipykernel_1963/64700856.py\", line 5, in <module>\n",
      "    html_content = obj['Body'].read().decode('utf-8')  # HTML as string\n",
      "UnicodeDecodeError: 'utf-8' codec can't decode byte 0xff in position 0: invalid start byte\n",
      "\n",
      "Processing documents:   0%|          | 212/46665 [29:13<45:24, 17.05it/s]ERROR:root:212 | Error loading eu/LEG_EN_HTML_20250721_04_08/e9cc666d-ab4d-4716-a3e8-df42fc0e0747/xhtml/FOR-C_2007070EN.01000901.notes.0003.xml.jpg:\n",
      "Traceback (most recent call last):\n",
      "  File \"/var/folders/zj/t8mz7g111911kcsdk6nwh8g00000gn/T/ipykernel_1963/64700856.py\", line 5, in <module>\n",
      "    html_content = obj['Body'].read().decode('utf-8')  # HTML as string\n",
      "UnicodeDecodeError: 'utf-8' codec can't decode byte 0xff in position 0: invalid start byte\n",
      "\n",
      "ERROR:root:213 | Error loading eu/LEG_EN_HTML_20250721_04_08/e9cc666d-ab4d-4716-a3e8-df42fc0e0747/xhtml/FOR-C_2007070EN.01000501.notes.0030.xml.jpg:\n",
      "Traceback (most recent call last):\n",
      "  File \"/var/folders/zj/t8mz7g111911kcsdk6nwh8g00000gn/T/ipykernel_1963/64700856.py\", line 5, in <module>\n",
      "    html_content = obj['Body'].read().decode('utf-8')  # HTML as string\n",
      "UnicodeDecodeError: 'utf-8' codec can't decode byte 0xff in position 0: invalid start byte\n",
      "\n",
      "Processing documents:   0%|          | 214/46665 [29:13<44:44, 17.30it/s]"
     ]
    },
    {
     "name": "stdout",
     "output_type": "stream",
     "text": [
      "210 | Error loading eu/LEG_EN_HTML_20250721_04_08/e9cc666d-ab4d-4716-a3e8-df42fc0e0747/xhtml/FOR-C_2007070EN.01002101.notes.0011.xml.jpg | 'utf-8' codec can't decode byte 0xff in position 0: invalid start byte\n",
      "211 | Error loading eu/LEG_EN_HTML_20250721_04_08/e9cc666d-ab4d-4716-a3e8-df42fc0e0747/xhtml/FOR-C_2007070EN.01002101.notes.0004.xml.jpg | 'utf-8' codec can't decode byte 0xff in position 0: invalid start byte\n",
      "212 | Error loading eu/LEG_EN_HTML_20250721_04_08/e9cc666d-ab4d-4716-a3e8-df42fc0e0747/xhtml/FOR-C_2007070EN.01000901.notes.0003.xml.jpg | 'utf-8' codec can't decode byte 0xff in position 0: invalid start byte\n",
      "213 | Error loading eu/LEG_EN_HTML_20250721_04_08/e9cc666d-ab4d-4716-a3e8-df42fc0e0747/xhtml/FOR-C_2007070EN.01000501.notes.0030.xml.jpg | 'utf-8' codec can't decode byte 0xff in position 0: invalid start byte\n"
     ]
    },
    {
     "name": "stderr",
     "output_type": "stream",
     "text": [
      "ERROR:root:214 | Error loading eu/LEG_EN_HTML_20250721_04_08/e9cc666d-ab4d-4716-a3e8-df42fc0e0747/xhtml/FOR-C_2007070EN.01000501.notes.0020.xml.jpg:\n",
      "Traceback (most recent call last):\n",
      "  File \"/var/folders/zj/t8mz7g111911kcsdk6nwh8g00000gn/T/ipykernel_1963/64700856.py\", line 5, in <module>\n",
      "    html_content = obj['Body'].read().decode('utf-8')  # HTML as string\n",
      "UnicodeDecodeError: 'utf-8' codec can't decode byte 0xff in position 0: invalid start byte\n",
      "\n",
      "ERROR:root:215 | Error loading eu/LEG_EN_HTML_20250721_04_08/e9cc666d-ab4d-4716-a3e8-df42fc0e0747/xhtml/FOR-C_2007070EN.01002401.notes.0004.xml.jpg:\n",
      "Traceback (most recent call last):\n",
      "  File \"/var/folders/zj/t8mz7g111911kcsdk6nwh8g00000gn/T/ipykernel_1963/64700856.py\", line 5, in <module>\n",
      "    html_content = obj['Body'].read().decode('utf-8')  # HTML as string\n",
      "UnicodeDecodeError: 'utf-8' codec can't decode byte 0xff in position 0: invalid start byte\n",
      "\n",
      "ERROR:root:216 | Error loading eu/LEG_EN_HTML_20250721_04_08/e9cc666d-ab4d-4716-a3e8-df42fc0e0747/xhtml/FOR-C_2007070EN.01000501.notes.0016.xml.jpg:\n",
      "Traceback (most recent call last):\n",
      "  File \"/var/folders/zj/t8mz7g111911kcsdk6nwh8g00000gn/T/ipykernel_1963/64700856.py\", line 5, in <module>\n",
      "    html_content = obj['Body'].read().decode('utf-8')  # HTML as string\n",
      "UnicodeDecodeError: 'utf-8' codec can't decode byte 0xff in position 0: invalid start byte\n",
      "\n",
      "Processing documents:   0%|          | 217/46665 [29:13<41:55, 18.46it/s]ERROR:root:217 | Error loading eu/LEG_EN_HTML_20250721_04_08/e9cc666d-ab4d-4716-a3e8-df42fc0e0747/xhtml/FOR-C_2007070EN.01000501.notes.0006.xml.jpg:\n",
      "Traceback (most recent call last):\n",
      "  File \"/var/folders/zj/t8mz7g111911kcsdk6nwh8g00000gn/T/ipykernel_1963/64700856.py\", line 5, in <module>\n",
      "    html_content = obj['Body'].read().decode('utf-8')  # HTML as string\n",
      "UnicodeDecodeError: 'utf-8' codec can't decode byte 0xff in position 0: invalid start byte\n",
      "\n",
      "ERROR:root:218 | Error loading eu/LEG_EN_HTML_20250721_04_08/e9cc666d-ab4d-4716-a3e8-df42fc0e0747/xhtml/FOR-C_2007070EN.01001301.notes.0014.xml.jpg:\n",
      "Traceback (most recent call last):\n",
      "  File \"/var/folders/zj/t8mz7g111911kcsdk6nwh8g00000gn/T/ipykernel_1963/64700856.py\", line 5, in <module>\n",
      "    html_content = obj['Body'].read().decode('utf-8')  # HTML as string\n",
      "UnicodeDecodeError: 'utf-8' codec can't decode byte 0xff in position 0: invalid start byte\n",
      "\n"
     ]
    },
    {
     "name": "stdout",
     "output_type": "stream",
     "text": [
      "214 | Error loading eu/LEG_EN_HTML_20250721_04_08/e9cc666d-ab4d-4716-a3e8-df42fc0e0747/xhtml/FOR-C_2007070EN.01000501.notes.0020.xml.jpg | 'utf-8' codec can't decode byte 0xff in position 0: invalid start byte\n",
      "215 | Error loading eu/LEG_EN_HTML_20250721_04_08/e9cc666d-ab4d-4716-a3e8-df42fc0e0747/xhtml/FOR-C_2007070EN.01002401.notes.0004.xml.jpg | 'utf-8' codec can't decode byte 0xff in position 0: invalid start byte\n",
      "216 | Error loading eu/LEG_EN_HTML_20250721_04_08/e9cc666d-ab4d-4716-a3e8-df42fc0e0747/xhtml/FOR-C_2007070EN.01000501.notes.0016.xml.jpg | 'utf-8' codec can't decode byte 0xff in position 0: invalid start byte\n",
      "217 | Error loading eu/LEG_EN_HTML_20250721_04_08/e9cc666d-ab4d-4716-a3e8-df42fc0e0747/xhtml/FOR-C_2007070EN.01000501.notes.0006.xml.jpg | 'utf-8' codec can't decode byte 0xff in position 0: invalid start byte\n",
      "218 | Error loading eu/LEG_EN_HTML_20250721_04_08/e9cc666d-ab4d-4716-a3e8-df42fc0e0747/xhtml/FOR-C_2007070EN.01001301.notes.0014.xml.jpg | 'utf-8' codec can't decode byte 0xff in position 0: invalid start byte\n"
     ]
    },
    {
     "name": "stderr",
     "output_type": "stream",
     "text": [
      "ERROR:root:219 | Error loading eu/LEG_EN_HTML_20250721_04_08/e9cc666d-ab4d-4716-a3e8-df42fc0e0747/xhtml/FOR-C_2007070EN.01001301.notes.0004.xml.jpg:\n",
      "Traceback (most recent call last):\n",
      "  File \"/var/folders/zj/t8mz7g111911kcsdk6nwh8g00000gn/T/ipykernel_1963/64700856.py\", line 5, in <module>\n",
      "    html_content = obj['Body'].read().decode('utf-8')  # HTML as string\n",
      "UnicodeDecodeError: 'utf-8' codec can't decode byte 0xff in position 0: invalid start byte\n",
      "\n",
      "Processing documents:   0%|          | 220/46665 [29:13<38:21, 20.18it/s]ERROR:root:220 | Error loading eu/LEG_EN_HTML_20250721_04_08/e9cc666d-ab4d-4716-a3e8-df42fc0e0747/xhtml/FOR-C_2007070EN.01000501.notes.0029.xml.jpg:\n",
      "Traceback (most recent call last):\n",
      "  File \"/var/folders/zj/t8mz7g111911kcsdk6nwh8g00000gn/T/ipykernel_1963/64700856.py\", line 5, in <module>\n",
      "    html_content = obj['Body'].read().decode('utf-8')  # HTML as string\n",
      "UnicodeDecodeError: 'utf-8' codec can't decode byte 0xff in position 0: invalid start byte\n",
      "\n",
      "ERROR:root:221 | Error loading eu/LEG_EN_HTML_20250721_04_08/e9cc666d-ab4d-4716-a3e8-df42fc0e0747/xhtml/FOR-C_2007070EN.01001301.notes.0005.xml.jpg:\n",
      "Traceback (most recent call last):\n",
      "  File \"/var/folders/zj/t8mz7g111911kcsdk6nwh8g00000gn/T/ipykernel_1963/64700856.py\", line 5, in <module>\n",
      "    html_content = obj['Body'].read().decode('utf-8')  # HTML as string\n",
      "UnicodeDecodeError: 'utf-8' codec can't decode byte 0xff in position 0: invalid start byte\n",
      "\n",
      "ERROR:root:222 | Error loading eu/LEG_EN_HTML_20250721_04_08/e9cc666d-ab4d-4716-a3e8-df42fc0e0747/xhtml/FOR-C_2007070EN.01001301.notes.0015.xml.jpg:\n",
      "Traceback (most recent call last):\n",
      "  File \"/var/folders/zj/t8mz7g111911kcsdk6nwh8g00000gn/T/ipykernel_1963/64700856.py\", line 5, in <module>\n",
      "    html_content = obj['Body'].read().decode('utf-8')  # HTML as string\n",
      "UnicodeDecodeError: 'utf-8' codec can't decode byte 0xff in position 0: invalid start byte\n",
      "\n",
      "Processing documents:   0%|          | 223/46665 [29:13<38:56, 19.87it/s]ERROR:root:223 | Error loading eu/LEG_EN_HTML_20250721_04_08/e9cc666d-ab4d-4716-a3e8-df42fc0e0747/xhtml/FOR-C_2007070EN.01000501.notes.0007.xml.jpg:\n",
      "Traceback (most recent call last):\n",
      "  File \"/var/folders/zj/t8mz7g111911kcsdk6nwh8g00000gn/T/ipykernel_1963/64700856.py\", line 5, in <module>\n",
      "    html_content = obj['Body'].read().decode('utf-8')  # HTML as string\n",
      "UnicodeDecodeError: 'utf-8' codec can't decode byte 0xff in position 0: invalid start byte\n",
      "\n"
     ]
    },
    {
     "name": "stdout",
     "output_type": "stream",
     "text": [
      "219 | Error loading eu/LEG_EN_HTML_20250721_04_08/e9cc666d-ab4d-4716-a3e8-df42fc0e0747/xhtml/FOR-C_2007070EN.01001301.notes.0004.xml.jpg | 'utf-8' codec can't decode byte 0xff in position 0: invalid start byte\n",
      "220 | Error loading eu/LEG_EN_HTML_20250721_04_08/e9cc666d-ab4d-4716-a3e8-df42fc0e0747/xhtml/FOR-C_2007070EN.01000501.notes.0029.xml.jpg | 'utf-8' codec can't decode byte 0xff in position 0: invalid start byte\n",
      "221 | Error loading eu/LEG_EN_HTML_20250721_04_08/e9cc666d-ab4d-4716-a3e8-df42fc0e0747/xhtml/FOR-C_2007070EN.01001301.notes.0005.xml.jpg | 'utf-8' codec can't decode byte 0xff in position 0: invalid start byte\n",
      "222 | Error loading eu/LEG_EN_HTML_20250721_04_08/e9cc666d-ab4d-4716-a3e8-df42fc0e0747/xhtml/FOR-C_2007070EN.01001301.notes.0015.xml.jpg | 'utf-8' codec can't decode byte 0xff in position 0: invalid start byte\n",
      "223 | Error loading eu/LEG_EN_HTML_20250721_04_08/e9cc666d-ab4d-4716-a3e8-df42fc0e0747/xhtml/FOR-C_2007070EN.01000501.notes.0007.xml.jpg | 'utf-8' codec can't decode byte 0xff in position 0: invalid start byte\n"
     ]
    },
    {
     "name": "stderr",
     "output_type": "stream",
     "text": [
      "ERROR:root:224 | Error loading eu/LEG_EN_HTML_20250721_04_08/e9cc666d-ab4d-4716-a3e8-df42fc0e0747/xhtml/FOR-C_2007070EN.01000501.notes.0017.xml.jpg:\n",
      "Traceback (most recent call last):\n",
      "  File \"/var/folders/zj/t8mz7g111911kcsdk6nwh8g00000gn/T/ipykernel_1963/64700856.py\", line 5, in <module>\n",
      "    html_content = obj['Body'].read().decode('utf-8')  # HTML as string\n",
      "UnicodeDecodeError: 'utf-8' codec can't decode byte 0xff in position 0: invalid start byte\n",
      "\n",
      "ERROR:root:225 | Error loading eu/LEG_EN_HTML_20250721_04_08/e9cc666d-ab4d-4716-a3e8-df42fc0e0747/xhtml/FOR-C_2007070EN.01000101.notes.0004.xml.jpg:\n",
      "Traceback (most recent call last):\n",
      "  File \"/var/folders/zj/t8mz7g111911kcsdk6nwh8g00000gn/T/ipykernel_1963/64700856.py\", line 5, in <module>\n",
      "    html_content = obj['Body'].read().decode('utf-8')  # HTML as string\n",
      "UnicodeDecodeError: 'utf-8' codec can't decode byte 0xff in position 0: invalid start byte\n",
      "\n",
      "Processing documents:   0%|          | 226/46665 [29:14<38:12, 20.26it/s]ERROR:root:226 | Error loading eu/LEG_EN_HTML_20250721_04_08/e9cc666d-ab4d-4716-a3e8-df42fc0e0747/xhtml/FOR-C_2007070EN.01000501.notes.0028.xml.jpg:\n",
      "Traceback (most recent call last):\n",
      "  File \"/var/folders/zj/t8mz7g111911kcsdk6nwh8g00000gn/T/ipykernel_1963/64700856.py\", line 5, in <module>\n",
      "    html_content = obj['Body'].read().decode('utf-8')  # HTML as string\n",
      "UnicodeDecodeError: 'utf-8' codec can't decode byte 0xff in position 0: invalid start byte\n",
      "\n",
      "ERROR:root:227 | Error loading eu/LEG_EN_HTML_20250721_04_08/e9cc666d-ab4d-4716-a3e8-df42fc0e0747/xhtml/FOR-C_2007070EN.01002101.notes.0005.xml.jpg:\n",
      "Traceback (most recent call last):\n",
      "  File \"/var/folders/zj/t8mz7g111911kcsdk6nwh8g00000gn/T/ipykernel_1963/64700856.py\", line 5, in <module>\n",
      "    html_content = obj['Body'].read().decode('utf-8')  # HTML as string\n",
      "UnicodeDecodeError: 'utf-8' codec can't decode byte 0xff in position 0: invalid start byte\n",
      "\n",
      "ERROR:root:228 | Error loading eu/LEG_EN_HTML_20250721_04_08/e9cc666d-ab4d-4716-a3e8-df42fc0e0747/xhtml/FOR-C_2007070EN.01000501.notes.0021.xml.jpg:\n",
      "Traceback (most recent call last):\n",
      "  File \"/var/folders/zj/t8mz7g111911kcsdk6nwh8g00000gn/T/ipykernel_1963/64700856.py\", line 5, in <module>\n",
      "    html_content = obj['Body'].read().decode('utf-8')  # HTML as string\n",
      "UnicodeDecodeError: 'utf-8' codec can't decode byte 0xff in position 0: invalid start byte\n",
      "\n",
      "Processing documents:   0%|          | 229/46665 [29:14<37:34, 20.60it/s]"
     ]
    },
    {
     "name": "stdout",
     "output_type": "stream",
     "text": [
      "224 | Error loading eu/LEG_EN_HTML_20250721_04_08/e9cc666d-ab4d-4716-a3e8-df42fc0e0747/xhtml/FOR-C_2007070EN.01000501.notes.0017.xml.jpg | 'utf-8' codec can't decode byte 0xff in position 0: invalid start byte\n",
      "225 | Error loading eu/LEG_EN_HTML_20250721_04_08/e9cc666d-ab4d-4716-a3e8-df42fc0e0747/xhtml/FOR-C_2007070EN.01000101.notes.0004.xml.jpg | 'utf-8' codec can't decode byte 0xff in position 0: invalid start byte\n",
      "226 | Error loading eu/LEG_EN_HTML_20250721_04_08/e9cc666d-ab4d-4716-a3e8-df42fc0e0747/xhtml/FOR-C_2007070EN.01000501.notes.0028.xml.jpg | 'utf-8' codec can't decode byte 0xff in position 0: invalid start byte\n",
      "227 | Error loading eu/LEG_EN_HTML_20250721_04_08/e9cc666d-ab4d-4716-a3e8-df42fc0e0747/xhtml/FOR-C_2007070EN.01002101.notes.0005.xml.jpg | 'utf-8' codec can't decode byte 0xff in position 0: invalid start byte\n",
      "228 | Error loading eu/LEG_EN_HTML_20250721_04_08/e9cc666d-ab4d-4716-a3e8-df42fc0e0747/xhtml/FOR-C_2007070EN.01000501.notes.0021.xml.jpg | 'utf-8' codec can't decode byte 0xff in position 0: invalid start byte\n"
     ]
    },
    {
     "name": "stderr",
     "output_type": "stream",
     "text": [
      "ERROR:root:229 | Error loading eu/LEG_EN_HTML_20250721_04_08/e9cc666d-ab4d-4716-a3e8-df42fc0e0747/xhtml/FOR-C_2007070EN.01000501.notes.0031.xml.jpg:\n",
      "Traceback (most recent call last):\n",
      "  File \"/var/folders/zj/t8mz7g111911kcsdk6nwh8g00000gn/T/ipykernel_1963/64700856.py\", line 5, in <module>\n",
      "    html_content = obj['Body'].read().decode('utf-8')  # HTML as string\n",
      "UnicodeDecodeError: 'utf-8' codec can't decode byte 0xff in position 0: invalid start byte\n",
      "\n",
      "ERROR:root:230 | Error loading eu/LEG_EN_HTML_20250721_04_08/e9cc666d-ab4d-4716-a3e8-df42fc0e0747/xhtml/FOR-C_2007070EN.01000901.notes.0002.xml.jpg:\n",
      "Traceback (most recent call last):\n",
      "  File \"/var/folders/zj/t8mz7g111911kcsdk6nwh8g00000gn/T/ipykernel_1963/64700856.py\", line 5, in <module>\n",
      "    html_content = obj['Body'].read().decode('utf-8')  # HTML as string\n",
      "UnicodeDecodeError: 'utf-8' codec can't decode byte 0xff in position 0: invalid start byte\n",
      "\n",
      "ERROR:root:231 | Error loading eu/LEG_EN_HTML_20250721_04_08/e9cc666d-ab4d-4716-a3e8-df42fc0e0747/xhtml/FOR-C_2007070EN.01002401.notes.0005.xml.jpg:\n",
      "Traceback (most recent call last):\n",
      "  File \"/var/folders/zj/t8mz7g111911kcsdk6nwh8g00000gn/T/ipykernel_1963/64700856.py\", line 5, in <module>\n",
      "    html_content = obj['Body'].read().decode('utf-8')  # HTML as string\n",
      "UnicodeDecodeError: 'utf-8' codec can't decode byte 0xff in position 0: invalid start byte\n",
      "\n",
      "Processing documents:   0%|          | 232/46665 [29:14<48:02, 16.11it/s]ERROR:root:232 | Error loading eu/LEG_EN_HTML_20250721_04_08/e9cc666d-ab4d-4716-a3e8-df42fc0e0747/xhtml/FOR-C_2007070EN.01001301.notes.0017.xml.jpg:\n",
      "Traceback (most recent call last):\n",
      "  File \"/var/folders/zj/t8mz7g111911kcsdk6nwh8g00000gn/T/ipykernel_1963/64700856.py\", line 5, in <module>\n",
      "    html_content = obj['Body'].read().decode('utf-8')  # HTML as string\n",
      "UnicodeDecodeError: 'utf-8' codec can't decode byte 0xff in position 0: invalid start byte\n",
      "\n",
      "ERROR:root:233 | Error loading eu/LEG_EN_HTML_20250721_04_08/e9cc666d-ab4d-4716-a3e8-df42fc0e0747/xhtml/FOR-C_2007070EN.01001301.notes.0007.xml.jpg:\n",
      "Traceback (most recent call last):\n",
      "  File \"/var/folders/zj/t8mz7g111911kcsdk6nwh8g00000gn/T/ipykernel_1963/64700856.py\", line 5, in <module>\n",
      "    html_content = obj['Body'].read().decode('utf-8')  # HTML as string\n",
      "UnicodeDecodeError: 'utf-8' codec can't decode byte 0xff in position 0: invalid start byte\n",
      "\n"
     ]
    },
    {
     "name": "stdout",
     "output_type": "stream",
     "text": [
      "229 | Error loading eu/LEG_EN_HTML_20250721_04_08/e9cc666d-ab4d-4716-a3e8-df42fc0e0747/xhtml/FOR-C_2007070EN.01000501.notes.0031.xml.jpg | 'utf-8' codec can't decode byte 0xff in position 0: invalid start byte\n",
      "230 | Error loading eu/LEG_EN_HTML_20250721_04_08/e9cc666d-ab4d-4716-a3e8-df42fc0e0747/xhtml/FOR-C_2007070EN.01000901.notes.0002.xml.jpg | 'utf-8' codec can't decode byte 0xff in position 0: invalid start byte\n",
      "231 | Error loading eu/LEG_EN_HTML_20250721_04_08/e9cc666d-ab4d-4716-a3e8-df42fc0e0747/xhtml/FOR-C_2007070EN.01002401.notes.0005.xml.jpg | 'utf-8' codec can't decode byte 0xff in position 0: invalid start byte\n",
      "232 | Error loading eu/LEG_EN_HTML_20250721_04_08/e9cc666d-ab4d-4716-a3e8-df42fc0e0747/xhtml/FOR-C_2007070EN.01001301.notes.0017.xml.jpg | 'utf-8' codec can't decode byte 0xff in position 0: invalid start byte\n",
      "233 | Error loading eu/LEG_EN_HTML_20250721_04_08/e9cc666d-ab4d-4716-a3e8-df42fc0e0747/xhtml/FOR-C_2007070EN.01001301.notes.0007.xml.jpg | 'utf-8' codec can't decode byte 0xff in position 0: invalid start byte\n"
     ]
    },
    {
     "name": "stderr",
     "output_type": "stream",
     "text": [
      "Processing documents:   1%|          | 234/46665 [29:14<46:21, 16.69it/s]ERROR:root:234 | Error loading eu/LEG_EN_HTML_20250721_04_08/e9cc666d-ab4d-4716-a3e8-df42fc0e0747/xhtml/FOR-C_2007070EN.01000501.notes.0015.xml.jpg:\n",
      "Traceback (most recent call last):\n",
      "  File \"/var/folders/zj/t8mz7g111911kcsdk6nwh8g00000gn/T/ipykernel_1963/64700856.py\", line 5, in <module>\n",
      "    html_content = obj['Body'].read().decode('utf-8')  # HTML as string\n",
      "UnicodeDecodeError: 'utf-8' codec can't decode byte 0xff in position 0: invalid start byte\n",
      "\n",
      "ERROR:root:235 | Error loading eu/LEG_EN_HTML_20250721_04_08/e9cc666d-ab4d-4716-a3e8-df42fc0e0747/xhtml/FOR-C_2007070EN.01000501.notes.0005.xml.jpg:\n",
      "Traceback (most recent call last):\n",
      "  File \"/var/folders/zj/t8mz7g111911kcsdk6nwh8g00000gn/T/ipykernel_1963/64700856.py\", line 5, in <module>\n",
      "    html_content = obj['Body'].read().decode('utf-8')  # HTML as string\n",
      "UnicodeDecodeError: 'utf-8' codec can't decode byte 0xff in position 0: invalid start byte\n",
      "\n",
      "Processing documents:   1%|          | 236/46665 [29:14<48:09, 16.07it/s]ERROR:root:236 | Error loading eu/LEG_EN_HTML_20250721_04_08/e9cc666d-ab4d-4716-a3e8-df42fc0e0747/xhtml/FOR-C_2007070EN.01001701.notes.0004.xml.jpg:\n",
      "Traceback (most recent call last):\n",
      "  File \"/var/folders/zj/t8mz7g111911kcsdk6nwh8g00000gn/T/ipykernel_1963/64700856.py\", line 5, in <module>\n",
      "    html_content = obj['Body'].read().decode('utf-8')  # HTML as string\n",
      "UnicodeDecodeError: 'utf-8' codec can't decode byte 0xff in position 0: invalid start byte\n",
      "\n",
      "ERROR:root:237 | Error loading eu/LEG_EN_HTML_20250721_04_08/e9cc666d-ab4d-4716-a3e8-df42fc0e0747/xhtml/FOR-C_2007070EN.01000901.notes.0009.xml.jpg:\n",
      "Traceback (most recent call last):\n",
      "  File \"/var/folders/zj/t8mz7g111911kcsdk6nwh8g00000gn/T/ipykernel_1963/64700856.py\", line 5, in <module>\n",
      "    html_content = obj['Body'].read().decode('utf-8')  # HTML as string\n",
      "UnicodeDecodeError: 'utf-8' codec can't decode byte 0xff in position 0: invalid start byte\n",
      "\n",
      "Processing documents:   1%|          | 238/46665 [29:14<46:54, 16.50it/s]"
     ]
    },
    {
     "name": "stdout",
     "output_type": "stream",
     "text": [
      "234 | Error loading eu/LEG_EN_HTML_20250721_04_08/e9cc666d-ab4d-4716-a3e8-df42fc0e0747/xhtml/FOR-C_2007070EN.01000501.notes.0015.xml.jpg | 'utf-8' codec can't decode byte 0xff in position 0: invalid start byte\n",
      "235 | Error loading eu/LEG_EN_HTML_20250721_04_08/e9cc666d-ab4d-4716-a3e8-df42fc0e0747/xhtml/FOR-C_2007070EN.01000501.notes.0005.xml.jpg | 'utf-8' codec can't decode byte 0xff in position 0: invalid start byte\n",
      "236 | Error loading eu/LEG_EN_HTML_20250721_04_08/e9cc666d-ab4d-4716-a3e8-df42fc0e0747/xhtml/FOR-C_2007070EN.01001701.notes.0004.xml.jpg | 'utf-8' codec can't decode byte 0xff in position 0: invalid start byte\n",
      "237 | Error loading eu/LEG_EN_HTML_20250721_04_08/e9cc666d-ab4d-4716-a3e8-df42fc0e0747/xhtml/FOR-C_2007070EN.01000901.notes.0009.xml.jpg | 'utf-8' codec can't decode byte 0xff in position 0: invalid start byte\n"
     ]
    },
    {
     "name": "stderr",
     "output_type": "stream",
     "text": [
      "ERROR:root:238 | Error loading eu/LEG_EN_HTML_20250721_04_08/e9cc666d-ab4d-4716-a3e8-df42fc0e0747/xhtml/FOR-C_2007070EN.01002101.notes.0007.xml.jpg:\n",
      "Traceback (most recent call last):\n",
      "  File \"/var/folders/zj/t8mz7g111911kcsdk6nwh8g00000gn/T/ipykernel_1963/64700856.py\", line 5, in <module>\n",
      "    html_content = obj['Body'].read().decode('utf-8')  # HTML as string\n",
      "UnicodeDecodeError: 'utf-8' codec can't decode byte 0xff in position 0: invalid start byte\n",
      "\n",
      "ERROR:root:239 | Error loading eu/LEG_EN_HTML_20250721_04_08/e9cc666d-ab4d-4716-a3e8-df42fc0e0747/xhtml/FOR-C_2007070EN.01000501.notes.0023.xml.jpg:\n",
      "Traceback (most recent call last):\n",
      "  File \"/var/folders/zj/t8mz7g111911kcsdk6nwh8g00000gn/T/ipykernel_1963/64700856.py\", line 5, in <module>\n",
      "    html_content = obj['Body'].read().decode('utf-8')  # HTML as string\n",
      "UnicodeDecodeError: 'utf-8' codec can't decode byte 0xff in position 0: invalid start byte\n",
      "\n",
      "Processing documents:   1%|          | 240/46665 [29:15<54:30, 14.20it/s]ERROR:root:240 | Error loading eu/LEG_EN_HTML_20250721_04_08/e9cc666d-ab4d-4716-a3e8-df42fc0e0747/xhtml/FOR-C_2007070EN.01000901.notes.0010.xml.jpg:\n",
      "Traceback (most recent call last):\n",
      "  File \"/var/folders/zj/t8mz7g111911kcsdk6nwh8g00000gn/T/ipykernel_1963/64700856.py\", line 5, in <module>\n",
      "    html_content = obj['Body'].read().decode('utf-8')  # HTML as string\n",
      "UnicodeDecodeError: 'utf-8' codec can't decode byte 0xff in position 0: invalid start byte\n",
      "\n",
      "ERROR:root:241 | Error loading eu/LEG_EN_HTML_20250721_04_08/e9cc666d-ab4d-4716-a3e8-df42fc0e0747/xhtml/FOR-C_2007070EN.01002101.notes.0006.xml.jpg:\n",
      "Traceback (most recent call last):\n",
      "  File \"/var/folders/zj/t8mz7g111911kcsdk6nwh8g00000gn/T/ipykernel_1963/64700856.py\", line 5, in <module>\n",
      "    html_content = obj['Body'].read().decode('utf-8')  # HTML as string\n",
      "UnicodeDecodeError: 'utf-8' codec can't decode byte 0xff in position 0: invalid start byte\n",
      "\n",
      "ERROR:root:242 | Error loading eu/LEG_EN_HTML_20250721_04_08/e9cc666d-ab4d-4716-a3e8-df42fc0e0747/xhtml/FOR-C_2007070EN.01000901.notes.0011.xml.jpg:\n",
      "Traceback (most recent call last):\n",
      "  File \"/var/folders/zj/t8mz7g111911kcsdk6nwh8g00000gn/T/ipykernel_1963/64700856.py\", line 5, in <module>\n",
      "    html_content = obj['Body'].read().decode('utf-8')  # HTML as string\n",
      "UnicodeDecodeError: 'utf-8' codec can't decode byte 0xff in position 0: invalid start byte\n",
      "\n",
      "Processing documents:   1%|          | 243/46665 [29:15<47:11, 16.40it/s]"
     ]
    },
    {
     "name": "stdout",
     "output_type": "stream",
     "text": [
      "238 | Error loading eu/LEG_EN_HTML_20250721_04_08/e9cc666d-ab4d-4716-a3e8-df42fc0e0747/xhtml/FOR-C_2007070EN.01002101.notes.0007.xml.jpg | 'utf-8' codec can't decode byte 0xff in position 0: invalid start byte\n",
      "239 | Error loading eu/LEG_EN_HTML_20250721_04_08/e9cc666d-ab4d-4716-a3e8-df42fc0e0747/xhtml/FOR-C_2007070EN.01000501.notes.0023.xml.jpg | 'utf-8' codec can't decode byte 0xff in position 0: invalid start byte\n",
      "240 | Error loading eu/LEG_EN_HTML_20250721_04_08/e9cc666d-ab4d-4716-a3e8-df42fc0e0747/xhtml/FOR-C_2007070EN.01000901.notes.0010.xml.jpg | 'utf-8' codec can't decode byte 0xff in position 0: invalid start byte\n",
      "241 | Error loading eu/LEG_EN_HTML_20250721_04_08/e9cc666d-ab4d-4716-a3e8-df42fc0e0747/xhtml/FOR-C_2007070EN.01002101.notes.0006.xml.jpg | 'utf-8' codec can't decode byte 0xff in position 0: invalid start byte\n",
      "242 | Error loading eu/LEG_EN_HTML_20250721_04_08/e9cc666d-ab4d-4716-a3e8-df42fc0e0747/xhtml/FOR-C_2007070EN.01000901.notes.0011.xml.jpg | 'utf-8' codec can't decode byte 0xff in position 0: invalid start byte\n"
     ]
    },
    {
     "name": "stderr",
     "output_type": "stream",
     "text": [
      "ERROR:root:244 | Error loading eu/LEG_EN_HTML_20250721_04_08/e9cc666d-ab4d-4716-a3e8-df42fc0e0747/xhtml/FOR-C_2007070EN.01000901.notes.0001.xml.jpg:\n",
      "Traceback (most recent call last):\n",
      "  File \"/var/folders/zj/t8mz7g111911kcsdk6nwh8g00000gn/T/ipykernel_1963/64700856.py\", line 5, in <module>\n",
      "    html_content = obj['Body'].read().decode('utf-8')  # HTML as string\n",
      "UnicodeDecodeError: 'utf-8' codec can't decode byte 0xff in position 0: invalid start byte\n",
      "\n",
      "Processing documents:   1%|          | 245/46665 [29:22<12:57:17,  1.00s/it]ERROR:root:245 | Error loading eu/LEG_EN_HTML_20250721_04_08/e9cc666d-ab4d-4716-a3e8-df42fc0e0747/xhtml/FOR-C_2007070EN.01000501.notes.0022.xml.jpg:\n",
      "Traceback (most recent call last):\n",
      "  File \"/var/folders/zj/t8mz7g111911kcsdk6nwh8g00000gn/T/ipykernel_1963/64700856.py\", line 5, in <module>\n",
      "    html_content = obj['Body'].read().decode('utf-8')  # HTML as string\n",
      "UnicodeDecodeError: 'utf-8' codec can't decode byte 0xff in position 0: invalid start byte\n",
      "\n",
      "ERROR:root:246 | Error loading eu/LEG_EN_HTML_20250721_04_08/e9cc666d-ab4d-4716-a3e8-df42fc0e0747/xhtml/FOR-C_2007070EN.01000501.notes.0004.xml.jpg:\n",
      "Traceback (most recent call last):\n",
      "  File \"/var/folders/zj/t8mz7g111911kcsdk6nwh8g00000gn/T/ipykernel_1963/64700856.py\", line 5, in <module>\n",
      "    html_content = obj['Body'].read().decode('utf-8')  # HTML as string\n",
      "UnicodeDecodeError: 'utf-8' codec can't decode byte 0xff in position 0: invalid start byte\n",
      "\n",
      "Processing documents:   1%|          | 247/46665 [29:22<9:43:34,  1.33it/s] "
     ]
    },
    {
     "name": "stdout",
     "output_type": "stream",
     "text": [
      "244 | Error loading eu/LEG_EN_HTML_20250721_04_08/e9cc666d-ab4d-4716-a3e8-df42fc0e0747/xhtml/FOR-C_2007070EN.01000901.notes.0001.xml.jpg | 'utf-8' codec can't decode byte 0xff in position 0: invalid start byte\n",
      "245 | Error loading eu/LEG_EN_HTML_20250721_04_08/e9cc666d-ab4d-4716-a3e8-df42fc0e0747/xhtml/FOR-C_2007070EN.01000501.notes.0022.xml.jpg | 'utf-8' codec can't decode byte 0xff in position 0: invalid start byte\n",
      "246 | Error loading eu/LEG_EN_HTML_20250721_04_08/e9cc666d-ab4d-4716-a3e8-df42fc0e0747/xhtml/FOR-C_2007070EN.01000501.notes.0004.xml.jpg | 'utf-8' codec can't decode byte 0xff in position 0: invalid start byte\n"
     ]
    },
    {
     "name": "stderr",
     "output_type": "stream",
     "text": [
      "ERROR:root:247 | Error loading eu/LEG_EN_HTML_20250721_04_08/e9cc666d-ab4d-4716-a3e8-df42fc0e0747/xhtml/FOR-C_2007070EN.01000501.notes.0014.xml.jpg:\n",
      "Traceback (most recent call last):\n",
      "  File \"/var/folders/zj/t8mz7g111911kcsdk6nwh8g00000gn/T/ipykernel_1963/64700856.py\", line 5, in <module>\n",
      "    html_content = obj['Body'].read().decode('utf-8')  # HTML as string\n",
      "UnicodeDecodeError: 'utf-8' codec can't decode byte 0xff in position 0: invalid start byte\n",
      "\n",
      "ERROR:root:248 | Error loading eu/LEG_EN_HTML_20250721_04_08/e9cc666d-ab4d-4716-a3e8-df42fc0e0747/xhtml/FOR-C_2007070EN.01001301.notes.0006.xml.jpg:\n",
      "Traceback (most recent call last):\n",
      "  File \"/var/folders/zj/t8mz7g111911kcsdk6nwh8g00000gn/T/ipykernel_1963/64700856.py\", line 5, in <module>\n",
      "    html_content = obj['Body'].read().decode('utf-8')  # HTML as string\n",
      "UnicodeDecodeError: 'utf-8' codec can't decode byte 0xff in position 0: invalid start byte\n",
      "\n",
      "Processing documents:   1%|          | 249/46665 [29:22<7:16:46,  1.77it/s]ERROR:root:249 | Error loading eu/LEG_EN_HTML_20250721_04_08/e9cc666d-ab4d-4716-a3e8-df42fc0e0747/xhtml/FOR-C_2007070EN.01001301.notes.0016.xml.jpg:\n",
      "Traceback (most recent call last):\n",
      "  File \"/var/folders/zj/t8mz7g111911kcsdk6nwh8g00000gn/T/ipykernel_1963/64700856.py\", line 5, in <module>\n",
      "    html_content = obj['Body'].read().decode('utf-8')  # HTML as string\n",
      "UnicodeDecodeError: 'utf-8' codec can't decode byte 0xff in position 0: invalid start byte\n",
      "\n"
     ]
    },
    {
     "name": "stdout",
     "output_type": "stream",
     "text": [
      "247 | Error loading eu/LEG_EN_HTML_20250721_04_08/e9cc666d-ab4d-4716-a3e8-df42fc0e0747/xhtml/FOR-C_2007070EN.01000501.notes.0014.xml.jpg | 'utf-8' codec can't decode byte 0xff in position 0: invalid start byte\n",
      "248 | Error loading eu/LEG_EN_HTML_20250721_04_08/e9cc666d-ab4d-4716-a3e8-df42fc0e0747/xhtml/FOR-C_2007070EN.01001301.notes.0006.xml.jpg | 'utf-8' codec can't decode byte 0xff in position 0: invalid start byte\n",
      "249 | Error loading eu/LEG_EN_HTML_20250721_04_08/e9cc666d-ab4d-4716-a3e8-df42fc0e0747/xhtml/FOR-C_2007070EN.01001301.notes.0016.xml.jpg | 'utf-8' codec can't decode byte 0xff in position 0: invalid start byte\n"
     ]
    },
    {
     "name": "stderr",
     "output_type": "stream",
     "text": [
      "ERROR:root:250 | Error loading eu/LEG_EN_HTML_20250721_04_08/e9cc666d-ab4d-4716-a3e8-df42fc0e0747/xhtml/FOR-C_2007070EN.01000901.notes.0008.xml.jpg:\n",
      "Traceback (most recent call last):\n",
      "  File \"/var/folders/zj/t8mz7g111911kcsdk6nwh8g00000gn/T/ipykernel_1963/64700856.py\", line 5, in <module>\n",
      "    html_content = obj['Body'].read().decode('utf-8')  # HTML as string\n",
      "UnicodeDecodeError: 'utf-8' codec can't decode byte 0xff in position 0: invalid start byte\n",
      "\n",
      "Processing documents:   1%|          | 251/46665 [29:23<5:32:31,  2.33it/s]"
     ]
    },
    {
     "name": "stdout",
     "output_type": "stream",
     "text": [
      "250 | Error loading eu/LEG_EN_HTML_20250721_04_08/e9cc666d-ab4d-4716-a3e8-df42fc0e0747/xhtml/FOR-C_2007070EN.01000901.notes.0008.xml.jpg | 'utf-8' codec can't decode byte 0xff in position 0: invalid start byte\n"
     ]
    },
    {
     "name": "stderr",
     "output_type": "stream",
     "text": [
      "Processing documents:   1%|          | 470/46665 [1:15:07<126:41:48,  9.87s/it]  ERROR:root:470 | Error loading eu/LEG_EN_HTML_20250721_04_08/7d563afe-3f24-4d51-97d6-5bd889c3606c/xhtml/FOR-C_2006082EN.01003101.notes.0001.xml.jpg:\n",
      "Traceback (most recent call last):\n",
      "  File \"/var/folders/zj/t8mz7g111911kcsdk6nwh8g00000gn/T/ipykernel_1963/64700856.py\", line 5, in <module>\n",
      "    html_content = obj['Body'].read().decode('utf-8')  # HTML as string\n",
      "UnicodeDecodeError: 'utf-8' codec can't decode byte 0xff in position 0: invalid start byte\n",
      "\n",
      "Processing documents:   1%|          | 471/46665 [1:15:07<89:16:01,  6.96s/it] "
     ]
    },
    {
     "name": "stdout",
     "output_type": "stream",
     "text": [
      "470 | Error loading eu/LEG_EN_HTML_20250721_04_08/7d563afe-3f24-4d51-97d6-5bd889c3606c/xhtml/FOR-C_2006082EN.01003101.notes.0001.xml.jpg | 'utf-8' codec can't decode byte 0xff in position 0: invalid start byte\n"
     ]
    },
    {
     "name": "stderr",
     "output_type": "stream",
     "text": [
      "Processing documents:   1%|          | 472/46665 [1:15:15<93:05:50,  7.26s/it]ERROR:root:472 | Error loading eu/LEG_EN_HTML_20250721_04_08/7d563afe-3f24-4d51-97d6-5bd889c3606c/xhtml/FOR-C_2006082EN.01005201.notes.0001.xml.jpg:\n",
      "Traceback (most recent call last):\n",
      "  File \"/var/folders/zj/t8mz7g111911kcsdk6nwh8g00000gn/T/ipykernel_1963/64700856.py\", line 5, in <module>\n",
      "    html_content = obj['Body'].read().decode('utf-8')  # HTML as string\n",
      "UnicodeDecodeError: 'utf-8' codec can't decode byte 0xff in position 0: invalid start byte\n",
      "\n",
      "Processing documents:   1%|          | 473/46665 [1:15:15<65:50:46,  5.13s/it]ERROR:root:473 | Error loading eu/LEG_EN_HTML_20250721_04_08/7d563afe-3f24-4d51-97d6-5bd889c3606c/xhtml/FOR-C_2006082EN.01004401.notes.0001.xml.jpg:\n",
      "Traceback (most recent call last):\n",
      "  File \"/var/folders/zj/t8mz7g111911kcsdk6nwh8g00000gn/T/ipykernel_1963/64700856.py\", line 5, in <module>\n",
      "    html_content = obj['Body'].read().decode('utf-8')  # HTML as string\n",
      "UnicodeDecodeError: 'utf-8' codec can't decode byte 0xff in position 0: invalid start byte\n",
      "\n",
      "Processing documents:   1%|          | 474/46665 [1:15:16<46:37:13,  3.63s/it]"
     ]
    },
    {
     "name": "stdout",
     "output_type": "stream",
     "text": [
      "472 | Error loading eu/LEG_EN_HTML_20250721_04_08/7d563afe-3f24-4d51-97d6-5bd889c3606c/xhtml/FOR-C_2006082EN.01005201.notes.0001.xml.jpg | 'utf-8' codec can't decode byte 0xff in position 0: invalid start byte\n",
      "473 | Error loading eu/LEG_EN_HTML_20250721_04_08/7d563afe-3f24-4d51-97d6-5bd889c3606c/xhtml/FOR-C_2006082EN.01004401.notes.0001.xml.jpg | 'utf-8' codec can't decode byte 0xff in position 0: invalid start byte\n"
     ]
    },
    {
     "name": "stderr",
     "output_type": "stream",
     "text": [
      "Processing documents:   2%|▏         | 857/46665 [2:36:03<106:42:14,  8.39s/it]  ERROR:root:857 | Error loading eu/LEG_EN_HTML_20250721_04_08/58708103-2a78-42e0-beaa-3f88048f23df/xhtml/FOR-C_2006055EN.01001701.notes.0001.xml.jpg:\n",
      "Traceback (most recent call last):\n",
      "  File \"/var/folders/zj/t8mz7g111911kcsdk6nwh8g00000gn/T/ipykernel_1963/64700856.py\", line 5, in <module>\n",
      "    html_content = obj['Body'].read().decode('utf-8')  # HTML as string\n",
      "UnicodeDecodeError: 'utf-8' codec can't decode byte 0xff in position 0: invalid start byte\n",
      "\n",
      "Processing documents:   2%|▏         | 858/46665 [2:36:03<75:27:27,  5.93s/it] ERROR:root:858 | Error loading eu/LEG_EN_HTML_20250721_04_08/58708103-2a78-42e0-beaa-3f88048f23df/xhtml/FOR-C_2006055EN.01000501.notes.0001.xml.jpg:\n",
      "Traceback (most recent call last):\n",
      "  File \"/var/folders/zj/t8mz7g111911kcsdk6nwh8g00000gn/T/ipykernel_1963/64700856.py\", line 5, in <module>\n",
      "    html_content = obj['Body'].read().decode('utf-8')  # HTML as string\n",
      "UnicodeDecodeError: 'utf-8' codec can't decode byte 0xff in position 0: invalid start byte\n",
      "\n",
      "ERROR:root:859 | Error loading eu/LEG_EN_HTML_20250721_04_08/58708103-2a78-42e0-beaa-3f88048f23df/xhtml/FOR-C_2006055EN.01004101.notes.0001.xml.jpg:\n",
      "Traceback (most recent call last):\n",
      "  File \"/var/folders/zj/t8mz7g111911kcsdk6nwh8g00000gn/T/ipykernel_1963/64700856.py\", line 5, in <module>\n",
      "    html_content = obj['Body'].read().decode('utf-8')  # HTML as string\n",
      "UnicodeDecodeError: 'utf-8' codec can't decode byte 0xff in position 0: invalid start byte\n",
      "\n",
      "Processing documents:   2%|▏         | 860/46665 [2:36:03<41:02:14,  3.23s/it]ERROR:root:860 | Error loading eu/LEG_EN_HTML_20250721_04_08/58708103-2a78-42e0-beaa-3f88048f23df/xhtml/FOR-C_2006055EN.01001301.notes.0001.xml.jpg:\n",
      "Traceback (most recent call last):\n",
      "  File \"/var/folders/zj/t8mz7g111911kcsdk6nwh8g00000gn/T/ipykernel_1963/64700856.py\", line 5, in <module>\n",
      "    html_content = obj['Body'].read().decode('utf-8')  # HTML as string\n",
      "UnicodeDecodeError: 'utf-8' codec can't decode byte 0xff in position 0: invalid start byte\n",
      "\n"
     ]
    },
    {
     "name": "stdout",
     "output_type": "stream",
     "text": [
      "857 | Error loading eu/LEG_EN_HTML_20250721_04_08/58708103-2a78-42e0-beaa-3f88048f23df/xhtml/FOR-C_2006055EN.01001701.notes.0001.xml.jpg | 'utf-8' codec can't decode byte 0xff in position 0: invalid start byte\n",
      "858 | Error loading eu/LEG_EN_HTML_20250721_04_08/58708103-2a78-42e0-beaa-3f88048f23df/xhtml/FOR-C_2006055EN.01000501.notes.0001.xml.jpg | 'utf-8' codec can't decode byte 0xff in position 0: invalid start byte\n",
      "859 | Error loading eu/LEG_EN_HTML_20250721_04_08/58708103-2a78-42e0-beaa-3f88048f23df/xhtml/FOR-C_2006055EN.01004101.notes.0001.xml.jpg | 'utf-8' codec can't decode byte 0xff in position 0: invalid start byte\n",
      "860 | Error loading eu/LEG_EN_HTML_20250721_04_08/58708103-2a78-42e0-beaa-3f88048f23df/xhtml/FOR-C_2006055EN.01001301.notes.0001.xml.jpg | 'utf-8' codec can't decode byte 0xff in position 0: invalid start byte\n"
     ]
    },
    {
     "name": "stderr",
     "output_type": "stream",
     "text": [
      "ERROR:root:861 | Error loading eu/LEG_EN_HTML_20250721_04_08/58708103-2a78-42e0-beaa-3f88048f23df/xhtml/FOR-C_2006055EN.01001701.notes.0002.xml.jpg:\n",
      "Traceback (most recent call last):\n",
      "  File \"/var/folders/zj/t8mz7g111911kcsdk6nwh8g00000gn/T/ipykernel_1963/64700856.py\", line 5, in <module>\n",
      "    html_content = obj['Body'].read().decode('utf-8')  # HTML as string\n",
      "UnicodeDecodeError: 'utf-8' codec can't decode byte 0xff in position 0: invalid start byte\n",
      "\n",
      "Processing documents:   2%|▏         | 862/46665 [2:36:03<25:00:49,  1.97s/it]"
     ]
    },
    {
     "name": "stdout",
     "output_type": "stream",
     "text": [
      "861 | Error loading eu/LEG_EN_HTML_20250721_04_08/58708103-2a78-42e0-beaa-3f88048f23df/xhtml/FOR-C_2006055EN.01001701.notes.0002.xml.jpg | 'utf-8' codec can't decode byte 0xff in position 0: invalid start byte\n"
     ]
    },
    {
     "name": "stderr",
     "output_type": "stream",
     "text": [
      "Processing documents:   2%|▏         | 915/46665 [2:47:56<104:53:07,  8.25s/it] ERROR:root:915 | Error loading eu/LEG_EN_HTML_20250721_04_08/a1c35c51-a6bb-11e8-99ee-01aa75ed71a1/xhtml/MTF_2018_9008_FIN_ENG_xhtml_01001.jpg:\n",
      "Traceback (most recent call last):\n",
      "  File \"/var/folders/zj/t8mz7g111911kcsdk6nwh8g00000gn/T/ipykernel_1963/64700856.py\", line 5, in <module>\n",
      "    html_content = obj['Body'].read().decode('utf-8')  # HTML as string\n",
      "UnicodeDecodeError: 'utf-8' codec can't decode byte 0xff in position 0: invalid start byte\n",
      "\n",
      "Processing documents:   2%|▏         | 916/46665 [2:47:56<74:07:30,  5.83s/it] "
     ]
    },
    {
     "name": "stdout",
     "output_type": "stream",
     "text": [
      "915 | Error loading eu/LEG_EN_HTML_20250721_04_08/a1c35c51-a6bb-11e8-99ee-01aa75ed71a1/xhtml/MTF_2018_9008_FIN_ENG_xhtml_01001.jpg | 'utf-8' codec can't decode byte 0xff in position 0: invalid start byte\n"
     ]
    },
    {
     "name": "stderr",
     "output_type": "stream",
     "text": [
      "Processing documents:   2%|▏         | 1016/46665 [3:34:57<108:30:40,  8.56s/it]  ERROR:root:1016 | Error embedding eu/LEG_EN_HTML_20250721_04_08/894f347a-dd2d-11ee-b9d9-01aa75ed71a1/xhtml/L_202400348EN.html:\n",
      "Traceback (most recent call last):\n",
      "  File \"/var/folders/zj/t8mz7g111911kcsdk6nwh8g00000gn/T/ipykernel_1963/64700856.py\", line 41, in <module>\n",
      "    collection.add(\n",
      "  File \"/Users/demouser/anaconda3/envs/regpy10ch/lib/python3.10/site-packages/chromadb/api/models/Collection.py\", line 89, in add\n",
      "    self._client._add(\n",
      "  File \"/Users/demouser/anaconda3/envs/regpy10ch/lib/python3.10/site-packages/chromadb/api/rust.py\", line 407, in _add\n",
      "    return self.bindings.add(\n",
      "chromadb.errors.InternalError: ValueError: Batch size of 33719 is greater than max batch size of 5461\n",
      "\n",
      "Processing documents:   2%|▏         | 1017/46665 [5:42:32<29193:34:32, 2302.33s/it]"
     ]
    },
    {
     "name": "stdout",
     "output_type": "stream",
     "text": [
      "1016 | Error embedding eu/LEG_EN_HTML_20250721_04_08/894f347a-dd2d-11ee-b9d9-01aa75ed71a1/xhtml/L_202400348EN.html | ValueError: Batch size of 33719 is greater than max batch size of 5461\n"
     ]
    },
    {
     "name": "stderr",
     "output_type": "stream",
     "text": [
      "Processing documents:   2%|▏         | 1025/46665 [5:46:06<1951:43:10, 153.95s/it]  ERROR:root:1025 | Error loading eu/LEG_EN_HTML_20250721_04_08/3a8bb2db-4f56-4fc5-935f-742c73709883/xhtml/FOR-C_2007089EN.01000701.notes.0001.xml.jpg:\n",
      "Traceback (most recent call last):\n",
      "  File \"/var/folders/zj/t8mz7g111911kcsdk6nwh8g00000gn/T/ipykernel_1963/64700856.py\", line 5, in <module>\n",
      "    html_content = obj['Body'].read().decode('utf-8')  # HTML as string\n",
      "UnicodeDecodeError: 'utf-8' codec can't decode byte 0xff in position 0: invalid start byte\n",
      "\n",
      "ERROR:root:1026 | Error loading eu/LEG_EN_HTML_20250721_04_08/3a8bb2db-4f56-4fc5-935f-742c73709883/xhtml/FOR-C_2007089EN.01001101.notes.0013.xml.jpg:\n",
      "Traceback (most recent call last):\n",
      "  File \"/var/folders/zj/t8mz7g111911kcsdk6nwh8g00000gn/T/ipykernel_1963/64700856.py\", line 5, in <module>\n",
      "    html_content = obj['Body'].read().decode('utf-8')  # HTML as string\n",
      "UnicodeDecodeError: 'utf-8' codec can't decode byte 0xff in position 0: invalid start byte\n",
      "\n",
      "Processing documents:   2%|▏         | 1027/46665 [5:46:06<1051:11:23, 82.92s/it] ERROR:root:1027 | Error loading eu/LEG_EN_HTML_20250721_04_08/3a8bb2db-4f56-4fc5-935f-742c73709883/xhtml/FOR-C_2007089EN.01001101.notes.0003.xml.jpg:\n",
      "Traceback (most recent call last):\n",
      "  File \"/var/folders/zj/t8mz7g111911kcsdk6nwh8g00000gn/T/ipykernel_1963/64700856.py\", line 5, in <module>\n",
      "    html_content = obj['Body'].read().decode('utf-8')  # HTML as string\n",
      "UnicodeDecodeError: 'utf-8' codec can't decode byte 0xff in position 0: invalid start byte\n",
      "\n",
      "Processing documents:   2%|▏         | 1028/46665 [5:46:06<790:53:59, 62.39s/it] "
     ]
    },
    {
     "name": "stdout",
     "output_type": "stream",
     "text": [
      "1025 | Error loading eu/LEG_EN_HTML_20250721_04_08/3a8bb2db-4f56-4fc5-935f-742c73709883/xhtml/FOR-C_2007089EN.01000701.notes.0001.xml.jpg | 'utf-8' codec can't decode byte 0xff in position 0: invalid start byte\n",
      "1026 | Error loading eu/LEG_EN_HTML_20250721_04_08/3a8bb2db-4f56-4fc5-935f-742c73709883/xhtml/FOR-C_2007089EN.01001101.notes.0013.xml.jpg | 'utf-8' codec can't decode byte 0xff in position 0: invalid start byte\n",
      "1027 | Error loading eu/LEG_EN_HTML_20250721_04_08/3a8bb2db-4f56-4fc5-935f-742c73709883/xhtml/FOR-C_2007089EN.01001101.notes.0003.xml.jpg | 'utf-8' codec can't decode byte 0xff in position 0: invalid start byte\n"
     ]
    },
    {
     "name": "stderr",
     "output_type": "stream",
     "text": [
      "ERROR:root:1028 | Error loading eu/LEG_EN_HTML_20250721_04_08/3a8bb2db-4f56-4fc5-935f-742c73709883/xhtml/FOR-C_2007089EN.01000201.notes.0001.xml.jpg:\n",
      "Traceback (most recent call last):\n",
      "  File \"/var/folders/zj/t8mz7g111911kcsdk6nwh8g00000gn/T/ipykernel_1963/64700856.py\", line 5, in <module>\n",
      "    html_content = obj['Body'].read().decode('utf-8')  # HTML as string\n",
      "UnicodeDecodeError: 'utf-8' codec can't decode byte 0xff in position 0: invalid start byte\n",
      "\n",
      "ERROR:root:1029 | Error loading eu/LEG_EN_HTML_20250721_04_08/3a8bb2db-4f56-4fc5-935f-742c73709883/xhtml/FOR-C_2007089EN.01001901.notes.0004.xml.jpg:\n",
      "Traceback (most recent call last):\n",
      "  File \"/var/folders/zj/t8mz7g111911kcsdk6nwh8g00000gn/T/ipykernel_1963/64700856.py\", line 5, in <module>\n",
      "    html_content = obj['Body'].read().decode('utf-8')  # HTML as string\n",
      "UnicodeDecodeError: 'utf-8' codec can't decode byte 0xff in position 0: invalid start byte\n",
      "\n",
      "Processing documents:   2%|▏         | 1030/46665 [5:46:06<463:34:35, 36.57s/it]"
     ]
    },
    {
     "name": "stdout",
     "output_type": "stream",
     "text": [
      "1028 | Error loading eu/LEG_EN_HTML_20250721_04_08/3a8bb2db-4f56-4fc5-935f-742c73709883/xhtml/FOR-C_2007089EN.01000201.notes.0001.xml.jpg | 'utf-8' codec can't decode byte 0xff in position 0: invalid start byte\n",
      "1029 | Error loading eu/LEG_EN_HTML_20250721_04_08/3a8bb2db-4f56-4fc5-935f-742c73709883/xhtml/FOR-C_2007089EN.01001901.notes.0004.xml.jpg | 'utf-8' codec can't decode byte 0xff in position 0: invalid start byte\n"
     ]
    },
    {
     "name": "stderr",
     "output_type": "stream",
     "text": [
      "Processing documents:   2%|▏         | 1031/46665 [5:46:12<373:37:20, 29.47s/it]ERROR:root:1031 | Error loading eu/LEG_EN_HTML_20250721_04_08/3a8bb2db-4f56-4fc5-935f-742c73709883/xhtml/FOR-C_2007089EN.01001501.notes.0008.xml.jpg:\n",
      "Traceback (most recent call last):\n",
      "  File \"/var/folders/zj/t8mz7g111911kcsdk6nwh8g00000gn/T/ipykernel_1963/64700856.py\", line 5, in <module>\n",
      "    html_content = obj['Body'].read().decode('utf-8')  # HTML as string\n",
      "UnicodeDecodeError: 'utf-8' codec can't decode byte 0xff in position 0: invalid start byte\n",
      "\n",
      "Processing documents:   2%|▏         | 1032/46665 [5:46:12<282:06:18, 22.26s/it]"
     ]
    },
    {
     "name": "stdout",
     "output_type": "stream",
     "text": [
      "1031 | Error loading eu/LEG_EN_HTML_20250721_04_08/3a8bb2db-4f56-4fc5-935f-742c73709883/xhtml/FOR-C_2007089EN.01001501.notes.0008.xml.jpg | 'utf-8' codec can't decode byte 0xff in position 0: invalid start byte\n"
     ]
    },
    {
     "name": "stderr",
     "output_type": "stream",
     "text": [
      "ERROR:root:1032 | Error loading eu/LEG_EN_HTML_20250721_04_08/3a8bb2db-4f56-4fc5-935f-742c73709883/xhtml/FOR-C_2007089EN.01001101.notes.0002.xml.jpg:\n",
      "Traceback (most recent call last):\n",
      "  File \"/var/folders/zj/t8mz7g111911kcsdk6nwh8g00000gn/T/ipykernel_1963/64700856.py\", line 5, in <module>\n",
      "    html_content = obj['Body'].read().decode('utf-8')  # HTML as string\n",
      "UnicodeDecodeError: 'utf-8' codec can't decode byte 0xff in position 0: invalid start byte\n",
      "\n",
      "Processing documents:   2%|▏         | 1033/46665 [5:46:12<209:32:28, 16.53s/it]ERROR:root:1033 | Error loading eu/LEG_EN_HTML_20250721_04_08/3a8bb2db-4f56-4fc5-935f-742c73709883/xhtml/FOR-C_2007089EN.01001101.notes.0012.xml.jpg:\n",
      "Traceback (most recent call last):\n",
      "  File \"/var/folders/zj/t8mz7g111911kcsdk6nwh8g00000gn/T/ipykernel_1963/64700856.py\", line 5, in <module>\n",
      "    html_content = obj['Body'].read().decode('utf-8')  # HTML as string\n",
      "UnicodeDecodeError: 'utf-8' codec can't decode byte 0xff in position 0: invalid start byte\n",
      "\n",
      "ERROR:root:1034 | Error loading eu/LEG_EN_HTML_20250721_04_08/3a8bb2db-4f56-4fc5-935f-742c73709883/xhtml/FOR-C_2007089EN.01001501.notes.0001.xml.jpg:\n",
      "Traceback (most recent call last):\n",
      "  File \"/var/folders/zj/t8mz7g111911kcsdk6nwh8g00000gn/T/ipykernel_1963/64700856.py\", line 5, in <module>\n",
      "    html_content = obj['Body'].read().decode('utf-8')  # HTML as string\n",
      "UnicodeDecodeError: 'utf-8' codec can't decode byte 0xff in position 0: invalid start byte\n",
      "\n",
      "Processing documents:   2%|▏         | 1035/46665 [5:46:12<120:31:04,  9.51s/it]ERROR:root:1035 | Error loading eu/LEG_EN_HTML_20250721_04_08/3a8bb2db-4f56-4fc5-935f-742c73709883/xhtml/FOR-C_2007089EN.01001101.notes.0009.xml.jpg:\n",
      "Traceback (most recent call last):\n",
      "  File \"/var/folders/zj/t8mz7g111911kcsdk6nwh8g00000gn/T/ipykernel_1963/64700856.py\", line 5, in <module>\n",
      "    html_content = obj['Body'].read().decode('utf-8')  # HTML as string\n",
      "UnicodeDecodeError: 'utf-8' codec can't decode byte 0xff in position 0: invalid start byte\n",
      "\n"
     ]
    },
    {
     "name": "stdout",
     "output_type": "stream",
     "text": [
      "1032 | Error loading eu/LEG_EN_HTML_20250721_04_08/3a8bb2db-4f56-4fc5-935f-742c73709883/xhtml/FOR-C_2007089EN.01001101.notes.0002.xml.jpg | 'utf-8' codec can't decode byte 0xff in position 0: invalid start byte\n",
      "1033 | Error loading eu/LEG_EN_HTML_20250721_04_08/3a8bb2db-4f56-4fc5-935f-742c73709883/xhtml/FOR-C_2007089EN.01001101.notes.0012.xml.jpg | 'utf-8' codec can't decode byte 0xff in position 0: invalid start byte\n",
      "1034 | Error loading eu/LEG_EN_HTML_20250721_04_08/3a8bb2db-4f56-4fc5-935f-742c73709883/xhtml/FOR-C_2007089EN.01001501.notes.0001.xml.jpg | 'utf-8' codec can't decode byte 0xff in position 0: invalid start byte\n",
      "1035 | Error loading eu/LEG_EN_HTML_20250721_04_08/3a8bb2db-4f56-4fc5-935f-742c73709883/xhtml/FOR-C_2007089EN.01001101.notes.0009.xml.jpg | 'utf-8' codec can't decode byte 0xff in position 0: invalid start byte\n"
     ]
    },
    {
     "name": "stderr",
     "output_type": "stream",
     "text": [
      "ERROR:root:1036 | Error loading eu/LEG_EN_HTML_20250721_04_08/3a8bb2db-4f56-4fc5-935f-742c73709883/xhtml/FOR-C_2007089EN.01001101.notes.0010.xml.jpg:\n",
      "Traceback (most recent call last):\n",
      "  File \"/var/folders/zj/t8mz7g111911kcsdk6nwh8g00000gn/T/ipykernel_1963/64700856.py\", line 5, in <module>\n",
      "    html_content = obj['Body'].read().decode('utf-8')  # HTML as string\n",
      "UnicodeDecodeError: 'utf-8' codec can't decode byte 0xff in position 0: invalid start byte\n",
      "\n",
      "Processing documents:   2%|▏         | 1037/46665 [5:46:12<75:14:24,  5.94s/it] ERROR:root:1037 | Error loading eu/LEG_EN_HTML_20250721_04_08/3a8bb2db-4f56-4fc5-935f-742c73709883/xhtml/FOR-C_2007089EN.01000701.notes.0002.xml.jpg:\n",
      "Traceback (most recent call last):\n",
      "  File \"/var/folders/zj/t8mz7g111911kcsdk6nwh8g00000gn/T/ipykernel_1963/64700856.py\", line 5, in <module>\n",
      "    html_content = obj['Body'].read().decode('utf-8')  # HTML as string\n",
      "UnicodeDecodeError: 'utf-8' codec can't decode byte 0xff in position 0: invalid start byte\n",
      "\n",
      "ERROR:root:1038 | Error loading eu/LEG_EN_HTML_20250721_04_08/3a8bb2db-4f56-4fc5-935f-742c73709883/xhtml/FOR-C_2007089EN.01000201.notes.0002.xml.jpg:\n",
      "Traceback (most recent call last):\n",
      "  File \"/var/folders/zj/t8mz7g111911kcsdk6nwh8g00000gn/T/ipykernel_1963/64700856.py\", line 5, in <module>\n",
      "    html_content = obj['Body'].read().decode('utf-8')  # HTML as string\n",
      "UnicodeDecodeError: 'utf-8' codec can't decode byte 0xff in position 0: invalid start byte\n",
      "\n"
     ]
    },
    {
     "name": "stdout",
     "output_type": "stream",
     "text": [
      "1036 | Error loading eu/LEG_EN_HTML_20250721_04_08/3a8bb2db-4f56-4fc5-935f-742c73709883/xhtml/FOR-C_2007089EN.01001101.notes.0010.xml.jpg | 'utf-8' codec can't decode byte 0xff in position 0: invalid start byte\n",
      "1037 | Error loading eu/LEG_EN_HTML_20250721_04_08/3a8bb2db-4f56-4fc5-935f-742c73709883/xhtml/FOR-C_2007089EN.01000701.notes.0002.xml.jpg | 'utf-8' codec can't decode byte 0xff in position 0: invalid start byte\n"
     ]
    },
    {
     "name": "stderr",
     "output_type": "stream",
     "text": [
      "Processing documents:   2%|▏         | 1039/46665 [5:46:13<49:18:16,  3.89s/it]ERROR:root:1039 | Error loading eu/LEG_EN_HTML_20250721_04_08/3a8bb2db-4f56-4fc5-935f-742c73709883/xhtml/FOR-C_2007089EN.01001501.notes.0003.xml.jpg:\n",
      "Traceback (most recent call last):\n",
      "  File \"/var/folders/zj/t8mz7g111911kcsdk6nwh8g00000gn/T/ipykernel_1963/64700856.py\", line 5, in <module>\n",
      "    html_content = obj['Body'].read().decode('utf-8')  # HTML as string\n",
      "UnicodeDecodeError: 'utf-8' codec can't decode byte 0xff in position 0: invalid start byte\n",
      "\n"
     ]
    },
    {
     "name": "stdout",
     "output_type": "stream",
     "text": [
      "1038 | Error loading eu/LEG_EN_HTML_20250721_04_08/3a8bb2db-4f56-4fc5-935f-742c73709883/xhtml/FOR-C_2007089EN.01000201.notes.0002.xml.jpg | 'utf-8' codec can't decode byte 0xff in position 0: invalid start byte\n",
      "1039 | Error loading eu/LEG_EN_HTML_20250721_04_08/3a8bb2db-4f56-4fc5-935f-742c73709883/xhtml/FOR-C_2007089EN.01001501.notes.0003.xml.jpg | 'utf-8' codec can't decode byte 0xff in position 0: invalid start byte\n"
     ]
    },
    {
     "name": "stderr",
     "output_type": "stream",
     "text": [
      "ERROR:root:1040 | Error loading eu/LEG_EN_HTML_20250721_04_08/3a8bb2db-4f56-4fc5-935f-742c73709883/xhtml/FOR-C_2007089EN.01000701.notes.0003.xml.jpg:\n",
      "Traceback (most recent call last):\n",
      "  File \"/var/folders/zj/t8mz7g111911kcsdk6nwh8g00000gn/T/ipykernel_1963/64700856.py\", line 5, in <module>\n",
      "    html_content = obj['Body'].read().decode('utf-8')  # HTML as string\n",
      "UnicodeDecodeError: 'utf-8' codec can't decode byte 0xff in position 0: invalid start byte\n",
      "\n",
      "Processing documents:   2%|▏         | 1041/46665 [5:46:13<33:21:57,  2.63s/it]ERROR:root:1041 | Error loading eu/LEG_EN_HTML_20250721_04_08/3a8bb2db-4f56-4fc5-935f-742c73709883/xhtml/FOR-C_2007089EN.01001101.notes.0001.xml.jpg:\n",
      "Traceback (most recent call last):\n",
      "  File \"/var/folders/zj/t8mz7g111911kcsdk6nwh8g00000gn/T/ipykernel_1963/64700856.py\", line 5, in <module>\n",
      "    html_content = obj['Body'].read().decode('utf-8')  # HTML as string\n",
      "UnicodeDecodeError: 'utf-8' codec can't decode byte 0xff in position 0: invalid start byte\n",
      "\n",
      "ERROR:root:1042 | Error loading eu/LEG_EN_HTML_20250721_04_08/3a8bb2db-4f56-4fc5-935f-742c73709883/xhtml/FOR-C_2007089EN.01001101.notes.0011.xml.jpg:\n",
      "Traceback (most recent call last):\n",
      "  File \"/var/folders/zj/t8mz7g111911kcsdk6nwh8g00000gn/T/ipykernel_1963/64700856.py\", line 5, in <module>\n",
      "    html_content = obj['Body'].read().decode('utf-8')  # HTML as string\n",
      "UnicodeDecodeError: 'utf-8' codec can't decode byte 0xff in position 0: invalid start byte\n",
      "\n",
      "Processing documents:   2%|▏         | 1043/46665 [5:46:13<22:59:16,  1.81s/it]"
     ]
    },
    {
     "name": "stdout",
     "output_type": "stream",
     "text": [
      "1040 | Error loading eu/LEG_EN_HTML_20250721_04_08/3a8bb2db-4f56-4fc5-935f-742c73709883/xhtml/FOR-C_2007089EN.01000701.notes.0003.xml.jpg | 'utf-8' codec can't decode byte 0xff in position 0: invalid start byte\n",
      "1041 | Error loading eu/LEG_EN_HTML_20250721_04_08/3a8bb2db-4f56-4fc5-935f-742c73709883/xhtml/FOR-C_2007089EN.01001101.notes.0001.xml.jpg | 'utf-8' codec can't decode byte 0xff in position 0: invalid start byte\n",
      "1042 | Error loading eu/LEG_EN_HTML_20250721_04_08/3a8bb2db-4f56-4fc5-935f-742c73709883/xhtml/FOR-C_2007089EN.01001101.notes.0011.xml.jpg | 'utf-8' codec can't decode byte 0xff in position 0: invalid start byte\n"
     ]
    },
    {
     "name": "stderr",
     "output_type": "stream",
     "text": [
      "ERROR:root:1043 | Error loading eu/LEG_EN_HTML_20250721_04_08/3a8bb2db-4f56-4fc5-935f-742c73709883/xhtml/FOR-C_2007089EN.01001501.notes.0002.xml.jpg:\n",
      "Traceback (most recent call last):\n",
      "  File \"/var/folders/zj/t8mz7g111911kcsdk6nwh8g00000gn/T/ipykernel_1963/64700856.py\", line 5, in <module>\n",
      "    html_content = obj['Body'].read().decode('utf-8')  # HTML as string\n",
      "UnicodeDecodeError: 'utf-8' codec can't decode byte 0xff in position 0: invalid start byte\n",
      "\n",
      "ERROR:root:1044 | Error loading eu/LEG_EN_HTML_20250721_04_08/3a8bb2db-4f56-4fc5-935f-742c73709883/xhtml/FOR-C_2007089EN.01000201.notes.0003.xml.jpg:\n",
      "Traceback (most recent call last):\n",
      "  File \"/var/folders/zj/t8mz7g111911kcsdk6nwh8g00000gn/T/ipykernel_1963/64700856.py\", line 5, in <module>\n",
      "    html_content = obj['Body'].read().decode('utf-8')  # HTML as string\n",
      "UnicodeDecodeError: 'utf-8' codec can't decode byte 0xff in position 0: invalid start byte\n",
      "\n",
      "Processing documents:   2%|▏         | 1045/46665 [5:46:13<15:59:19,  1.26s/it]ERROR:root:1045 | Error loading eu/LEG_EN_HTML_20250721_04_08/3a8bb2db-4f56-4fc5-935f-742c73709883/xhtml/FOR-C_2007089EN.01001101.notes.0008.xml.jpg:\n",
      "Traceback (most recent call last):\n",
      "  File \"/var/folders/zj/t8mz7g111911kcsdk6nwh8g00000gn/T/ipykernel_1963/64700856.py\", line 5, in <module>\n",
      "    html_content = obj['Body'].read().decode('utf-8')  # HTML as string\n",
      "UnicodeDecodeError: 'utf-8' codec can't decode byte 0xff in position 0: invalid start byte\n",
      "\n"
     ]
    },
    {
     "name": "stdout",
     "output_type": "stream",
     "text": [
      "1043 | Error loading eu/LEG_EN_HTML_20250721_04_08/3a8bb2db-4f56-4fc5-935f-742c73709883/xhtml/FOR-C_2007089EN.01001501.notes.0002.xml.jpg | 'utf-8' codec can't decode byte 0xff in position 0: invalid start byte\n",
      "1044 | Error loading eu/LEG_EN_HTML_20250721_04_08/3a8bb2db-4f56-4fc5-935f-742c73709883/xhtml/FOR-C_2007089EN.01000201.notes.0003.xml.jpg | 'utf-8' codec can't decode byte 0xff in position 0: invalid start byte\n",
      "1045 | Error loading eu/LEG_EN_HTML_20250721_04_08/3a8bb2db-4f56-4fc5-935f-742c73709883/xhtml/FOR-C_2007089EN.01001101.notes.0008.xml.jpg | 'utf-8' codec can't decode byte 0xff in position 0: invalid start byte\n"
     ]
    },
    {
     "name": "stderr",
     "output_type": "stream",
     "text": [
      "ERROR:root:1046 | Error loading eu/LEG_EN_HTML_20250721_04_08/3a8bb2db-4f56-4fc5-935f-742c73709883/xhtml/FOR-C_2007089EN.01001901.notes.0002.xml.jpg:\n",
      "Traceback (most recent call last):\n",
      "  File \"/var/folders/zj/t8mz7g111911kcsdk6nwh8g00000gn/T/ipykernel_1963/64700856.py\", line 5, in <module>\n",
      "    html_content = obj['Body'].read().decode('utf-8')  # HTML as string\n",
      "UnicodeDecodeError: 'utf-8' codec can't decode byte 0xff in position 0: invalid start byte\n",
      "\n",
      "Processing documents:   2%|▏         | 1047/46665 [5:46:13<11:18:49,  1.12it/s]ERROR:root:1047 | Error loading eu/LEG_EN_HTML_20250721_04_08/3a8bb2db-4f56-4fc5-935f-742c73709883/xhtml/FOR-C_2007089EN.01001501.notes.0007.xml.jpg:\n",
      "Traceback (most recent call last):\n",
      "  File \"/var/folders/zj/t8mz7g111911kcsdk6nwh8g00000gn/T/ipykernel_1963/64700856.py\", line 5, in <module>\n",
      "    html_content = obj['Body'].read().decode('utf-8')  # HTML as string\n",
      "UnicodeDecodeError: 'utf-8' codec can't decode byte 0xff in position 0: invalid start byte\n",
      "\n",
      "ERROR:root:1048 | Error loading eu/LEG_EN_HTML_20250721_04_08/3a8bb2db-4f56-4fc5-935f-742c73709883/xhtml/FOR-C_2007089EN.01001101.notes.0014.xml.jpg:\n",
      "Traceback (most recent call last):\n",
      "  File \"/var/folders/zj/t8mz7g111911kcsdk6nwh8g00000gn/T/ipykernel_1963/64700856.py\", line 5, in <module>\n",
      "    html_content = obj['Body'].read().decode('utf-8')  # HTML as string\n",
      "UnicodeDecodeError: 'utf-8' codec can't decode byte 0xff in position 0: invalid start byte\n",
      "\n",
      "Processing documents:   2%|▏         | 1049/46665 [5:46:14<8:12:00,  1.55it/s] "
     ]
    },
    {
     "name": "stdout",
     "output_type": "stream",
     "text": [
      "1046 | Error loading eu/LEG_EN_HTML_20250721_04_08/3a8bb2db-4f56-4fc5-935f-742c73709883/xhtml/FOR-C_2007089EN.01001901.notes.0002.xml.jpg | 'utf-8' codec can't decode byte 0xff in position 0: invalid start byte\n",
      "1047 | Error loading eu/LEG_EN_HTML_20250721_04_08/3a8bb2db-4f56-4fc5-935f-742c73709883/xhtml/FOR-C_2007089EN.01001501.notes.0007.xml.jpg | 'utf-8' codec can't decode byte 0xff in position 0: invalid start byte\n",
      "1048 | Error loading eu/LEG_EN_HTML_20250721_04_08/3a8bb2db-4f56-4fc5-935f-742c73709883/xhtml/FOR-C_2007089EN.01001101.notes.0014.xml.jpg | 'utf-8' codec can't decode byte 0xff in position 0: invalid start byte\n"
     ]
    },
    {
     "name": "stderr",
     "output_type": "stream",
     "text": [
      "ERROR:root:1049 | Error loading eu/LEG_EN_HTML_20250721_04_08/3a8bb2db-4f56-4fc5-935f-742c73709883/xhtml/FOR-C_2007089EN.01001101.notes.0004.xml.jpg:\n",
      "Traceback (most recent call last):\n",
      "  File \"/var/folders/zj/t8mz7g111911kcsdk6nwh8g00000gn/T/ipykernel_1963/64700856.py\", line 5, in <module>\n",
      "    html_content = obj['Body'].read().decode('utf-8')  # HTML as string\n",
      "UnicodeDecodeError: 'utf-8' codec can't decode byte 0xff in position 0: invalid start byte\n",
      "\n",
      "ERROR:root:1050 | Error loading eu/LEG_EN_HTML_20250721_04_08/3a8bb2db-4f56-4fc5-935f-742c73709883/xhtml/FOR-C_2007089EN.01001501.notes.0006.xml.jpg:\n",
      "Traceback (most recent call last):\n",
      "  File \"/var/folders/zj/t8mz7g111911kcsdk6nwh8g00000gn/T/ipykernel_1963/64700856.py\", line 5, in <module>\n",
      "    html_content = obj['Body'].read().decode('utf-8')  # HTML as string\n",
      "UnicodeDecodeError: 'utf-8' codec can't decode byte 0xff in position 0: invalid start byte\n",
      "\n",
      "Processing documents:   2%|▏         | 1051/46665 [5:46:14<5:55:42,  2.14it/s]ERROR:root:1051 | Error loading eu/LEG_EN_HTML_20250721_04_08/3a8bb2db-4f56-4fc5-935f-742c73709883/xhtml/FOR-C_2007089EN.01001101.notes.0005.xml.jpg:\n",
      "Traceback (most recent call last):\n",
      "  File \"/var/folders/zj/t8mz7g111911kcsdk6nwh8g00000gn/T/ipykernel_1963/64700856.py\", line 5, in <module>\n",
      "    html_content = obj['Body'].read().decode('utf-8')  # HTML as string\n",
      "UnicodeDecodeError: 'utf-8' codec can't decode byte 0xff in position 0: invalid start byte\n",
      "\n",
      "ERROR:root:1052 | Error loading eu/LEG_EN_HTML_20250721_04_08/3a8bb2db-4f56-4fc5-935f-742c73709883/xhtml/FOR-C_2007089EN.01001101.notes.0015.xml.jpg:\n",
      "Traceback (most recent call last):\n",
      "  File \"/var/folders/zj/t8mz7g111911kcsdk6nwh8g00000gn/T/ipykernel_1963/64700856.py\", line 5, in <module>\n",
      "    html_content = obj['Body'].read().decode('utf-8')  # HTML as string\n",
      "UnicodeDecodeError: 'utf-8' codec can't decode byte 0xff in position 0: invalid start byte\n",
      "\n",
      "Processing documents:   2%|▏         | 1053/46665 [5:46:14<4:24:38,  2.87it/s]"
     ]
    },
    {
     "name": "stdout",
     "output_type": "stream",
     "text": [
      "1049 | Error loading eu/LEG_EN_HTML_20250721_04_08/3a8bb2db-4f56-4fc5-935f-742c73709883/xhtml/FOR-C_2007089EN.01001101.notes.0004.xml.jpg | 'utf-8' codec can't decode byte 0xff in position 0: invalid start byte\n",
      "1050 | Error loading eu/LEG_EN_HTML_20250721_04_08/3a8bb2db-4f56-4fc5-935f-742c73709883/xhtml/FOR-C_2007089EN.01001501.notes.0006.xml.jpg | 'utf-8' codec can't decode byte 0xff in position 0: invalid start byte\n",
      "1051 | Error loading eu/LEG_EN_HTML_20250721_04_08/3a8bb2db-4f56-4fc5-935f-742c73709883/xhtml/FOR-C_2007089EN.01001101.notes.0005.xml.jpg | 'utf-8' codec can't decode byte 0xff in position 0: invalid start byte\n",
      "1052 | Error loading eu/LEG_EN_HTML_20250721_04_08/3a8bb2db-4f56-4fc5-935f-742c73709883/xhtml/FOR-C_2007089EN.01001101.notes.0015.xml.jpg | 'utf-8' codec can't decode byte 0xff in position 0: invalid start byte\n"
     ]
    },
    {
     "name": "stderr",
     "output_type": "stream",
     "text": [
      "ERROR:root:1053 | Error loading eu/LEG_EN_HTML_20250721_04_08/3a8bb2db-4f56-4fc5-935f-742c73709883/xhtml/FOR-C_2007089EN.01001901.notes.0003.xml.jpg:\n",
      "Traceback (most recent call last):\n",
      "  File \"/var/folders/zj/t8mz7g111911kcsdk6nwh8g00000gn/T/ipykernel_1963/64700856.py\", line 5, in <module>\n",
      "    html_content = obj['Body'].read().decode('utf-8')  # HTML as string\n",
      "UnicodeDecodeError: 'utf-8' codec can't decode byte 0xff in position 0: invalid start byte\n",
      "\n",
      "ERROR:root:1054 | Error loading eu/LEG_EN_HTML_20250721_04_08/3a8bb2db-4f56-4fc5-935f-742c73709883/xhtml/FOR-C_2007089EN.01000201.notes.0005.xml.jpg:\n",
      "Traceback (most recent call last):\n",
      "  File \"/var/folders/zj/t8mz7g111911kcsdk6nwh8g00000gn/T/ipykernel_1963/64700856.py\", line 5, in <module>\n",
      "    html_content = obj['Body'].read().decode('utf-8')  # HTML as string\n",
      "UnicodeDecodeError: 'utf-8' codec can't decode byte 0xff in position 0: invalid start byte\n",
      "\n",
      "Processing documents:   2%|▏         | 1055/46665 [5:46:14<3:29:17,  3.63it/s]ERROR:root:1055 | Error loading eu/LEG_EN_HTML_20250721_04_08/3a8bb2db-4f56-4fc5-935f-742c73709883/xhtml/FOR-C_2007089EN.01001501.notes.0004.xml.jpg:\n",
      "Traceback (most recent call last):\n",
      "  File \"/var/folders/zj/t8mz7g111911kcsdk6nwh8g00000gn/T/ipykernel_1963/64700856.py\", line 5, in <module>\n",
      "    html_content = obj['Body'].read().decode('utf-8')  # HTML as string\n",
      "UnicodeDecodeError: 'utf-8' codec can't decode byte 0xff in position 0: invalid start byte\n",
      "\n"
     ]
    },
    {
     "name": "stdout",
     "output_type": "stream",
     "text": [
      "1053 | Error loading eu/LEG_EN_HTML_20250721_04_08/3a8bb2db-4f56-4fc5-935f-742c73709883/xhtml/FOR-C_2007089EN.01001901.notes.0003.xml.jpg | 'utf-8' codec can't decode byte 0xff in position 0: invalid start byte\n",
      "1054 | Error loading eu/LEG_EN_HTML_20250721_04_08/3a8bb2db-4f56-4fc5-935f-742c73709883/xhtml/FOR-C_2007089EN.01000201.notes.0005.xml.jpg | 'utf-8' codec can't decode byte 0xff in position 0: invalid start byte\n",
      "1055 | Error loading eu/LEG_EN_HTML_20250721_04_08/3a8bb2db-4f56-4fc5-935f-742c73709883/xhtml/FOR-C_2007089EN.01001501.notes.0004.xml.jpg | 'utf-8' codec can't decode byte 0xff in position 0: invalid start byte\n"
     ]
    },
    {
     "name": "stderr",
     "output_type": "stream",
     "text": [
      "ERROR:root:1056 | Error loading eu/LEG_EN_HTML_20250721_04_08/3a8bb2db-4f56-4fc5-935f-742c73709883/xhtml/FOR-C_2007089EN.01001101.notes.0007.xml.jpg:\n",
      "Traceback (most recent call last):\n",
      "  File \"/var/folders/zj/t8mz7g111911kcsdk6nwh8g00000gn/T/ipykernel_1963/64700856.py\", line 5, in <module>\n",
      "    html_content = obj['Body'].read().decode('utf-8')  # HTML as string\n",
      "UnicodeDecodeError: 'utf-8' codec can't decode byte 0xff in position 0: invalid start byte\n",
      "\n",
      "Processing documents:   2%|▏         | 1057/46665 [5:46:14<2:54:05,  4.37it/s]ERROR:root:1057 | Error loading eu/LEG_EN_HTML_20250721_04_08/3a8bb2db-4f56-4fc5-935f-742c73709883/xhtml/FOR-C_2007089EN.01001901.notes.0001.xml.jpg:\n",
      "Traceback (most recent call last):\n",
      "  File \"/var/folders/zj/t8mz7g111911kcsdk6nwh8g00000gn/T/ipykernel_1963/64700856.py\", line 5, in <module>\n",
      "    html_content = obj['Body'].read().decode('utf-8')  # HTML as string\n",
      "UnicodeDecodeError: 'utf-8' codec can't decode byte 0xff in position 0: invalid start byte\n",
      "\n",
      "ERROR:root:1058 | Error loading eu/LEG_EN_HTML_20250721_04_08/3a8bb2db-4f56-4fc5-935f-742c73709883/xhtml/FOR-C_2007089EN.01001501.notes.0005.xml.jpg:\n",
      "Traceback (most recent call last):\n",
      "  File \"/var/folders/zj/t8mz7g111911kcsdk6nwh8g00000gn/T/ipykernel_1963/64700856.py\", line 5, in <module>\n",
      "    html_content = obj['Body'].read().decode('utf-8')  # HTML as string\n",
      "UnicodeDecodeError: 'utf-8' codec can't decode byte 0xff in position 0: invalid start byte\n",
      "\n",
      "Processing documents:   2%|▏         | 1059/46665 [5:46:15<2:27:54,  5.14it/s]"
     ]
    },
    {
     "name": "stdout",
     "output_type": "stream",
     "text": [
      "1056 | Error loading eu/LEG_EN_HTML_20250721_04_08/3a8bb2db-4f56-4fc5-935f-742c73709883/xhtml/FOR-C_2007089EN.01001101.notes.0007.xml.jpg | 'utf-8' codec can't decode byte 0xff in position 0: invalid start byte\n",
      "1057 | Error loading eu/LEG_EN_HTML_20250721_04_08/3a8bb2db-4f56-4fc5-935f-742c73709883/xhtml/FOR-C_2007089EN.01001901.notes.0001.xml.jpg | 'utf-8' codec can't decode byte 0xff in position 0: invalid start byte\n",
      "1058 | Error loading eu/LEG_EN_HTML_20250721_04_08/3a8bb2db-4f56-4fc5-935f-742c73709883/xhtml/FOR-C_2007089EN.01001501.notes.0005.xml.jpg | 'utf-8' codec can't decode byte 0xff in position 0: invalid start byte\n"
     ]
    },
    {
     "name": "stderr",
     "output_type": "stream",
     "text": [
      "ERROR:root:1059 | Error loading eu/LEG_EN_HTML_20250721_04_08/3a8bb2db-4f56-4fc5-935f-742c73709883/xhtml/FOR-C_2007089EN.01000201.notes.0004.xml.jpg:\n",
      "Traceback (most recent call last):\n",
      "  File \"/var/folders/zj/t8mz7g111911kcsdk6nwh8g00000gn/T/ipykernel_1963/64700856.py\", line 5, in <module>\n",
      "    html_content = obj['Body'].read().decode('utf-8')  # HTML as string\n",
      "UnicodeDecodeError: 'utf-8' codec can't decode byte 0xff in position 0: invalid start byte\n",
      "\n",
      "ERROR:root:1060 | Error loading eu/LEG_EN_HTML_20250721_04_08/3a8bb2db-4f56-4fc5-935f-742c73709883/xhtml/FOR-C_2007089EN.01000701.notes.0004.xml.jpg:\n",
      "Traceback (most recent call last):\n",
      "  File \"/var/folders/zj/t8mz7g111911kcsdk6nwh8g00000gn/T/ipykernel_1963/64700856.py\", line 5, in <module>\n",
      "    html_content = obj['Body'].read().decode('utf-8')  # HTML as string\n",
      "UnicodeDecodeError: 'utf-8' codec can't decode byte 0xff in position 0: invalid start byte\n",
      "\n",
      "Processing documents:   2%|▏         | 1061/46665 [5:46:15<2:10:44,  5.81it/s]ERROR:root:1061 | Error loading eu/LEG_EN_HTML_20250721_04_08/3a8bb2db-4f56-4fc5-935f-742c73709883/xhtml/FOR-C_2007089EN.01001101.notes.0006.xml.jpg:\n",
      "Traceback (most recent call last):\n",
      "  File \"/var/folders/zj/t8mz7g111911kcsdk6nwh8g00000gn/T/ipykernel_1963/64700856.py\", line 5, in <module>\n",
      "    html_content = obj['Body'].read().decode('utf-8')  # HTML as string\n",
      "UnicodeDecodeError: 'utf-8' codec can't decode byte 0xff in position 0: invalid start byte\n",
      "\n"
     ]
    },
    {
     "name": "stdout",
     "output_type": "stream",
     "text": [
      "1059 | Error loading eu/LEG_EN_HTML_20250721_04_08/3a8bb2db-4f56-4fc5-935f-742c73709883/xhtml/FOR-C_2007089EN.01000201.notes.0004.xml.jpg | 'utf-8' codec can't decode byte 0xff in position 0: invalid start byte\n",
      "1060 | Error loading eu/LEG_EN_HTML_20250721_04_08/3a8bb2db-4f56-4fc5-935f-742c73709883/xhtml/FOR-C_2007089EN.01000701.notes.0004.xml.jpg | 'utf-8' codec can't decode byte 0xff in position 0: invalid start byte\n",
      "1061 | Error loading eu/LEG_EN_HTML_20250721_04_08/3a8bb2db-4f56-4fc5-935f-742c73709883/xhtml/FOR-C_2007089EN.01001101.notes.0006.xml.jpg | 'utf-8' codec can't decode byte 0xff in position 0: invalid start byte\n"
     ]
    },
    {
     "name": "stderr",
     "output_type": "stream",
     "text": [
      "ERROR:root:1062 | Error loading eu/LEG_EN_HTML_20250721_04_08/3a8bb2db-4f56-4fc5-935f-742c73709883/xhtml/FOR-C_2007089EN.01001101.notes.0016.xml.jpg:\n",
      "Traceback (most recent call last):\n",
      "  File \"/var/folders/zj/t8mz7g111911kcsdk6nwh8g00000gn/T/ipykernel_1963/64700856.py\", line 5, in <module>\n",
      "    html_content = obj['Body'].read().decode('utf-8')  # HTML as string\n",
      "UnicodeDecodeError: 'utf-8' codec can't decode byte 0xff in position 0: invalid start byte\n",
      "\n",
      "Processing documents:   2%|▏         | 1063/46665 [5:46:15<1:47:04,  7.10it/s]"
     ]
    },
    {
     "name": "stdout",
     "output_type": "stream",
     "text": [
      "1062 | Error loading eu/LEG_EN_HTML_20250721_04_08/3a8bb2db-4f56-4fc5-935f-742c73709883/xhtml/FOR-C_2007089EN.01001101.notes.0016.xml.jpg | 'utf-8' codec can't decode byte 0xff in position 0: invalid start byte\n"
     ]
    },
    {
     "name": "stderr",
     "output_type": "stream",
     "text": [
      "Processing documents:   3%|▎         | 1330/46665 [6:43:37<221:44:45, 17.61s/it]ERROR:root:1330 | Error loading eu/LEG_EN_HTML_20250721_04_08/1ffa1590-8958-11e7-b5c6-01aa75ed71a1/xhtml/C_2017281EN.01001402.tif.jpg:\n",
      "Traceback (most recent call last):\n",
      "  File \"/var/folders/zj/t8mz7g111911kcsdk6nwh8g00000gn/T/ipykernel_1963/64700856.py\", line 5, in <module>\n",
      "    html_content = obj['Body'].read().decode('utf-8')  # HTML as string\n",
      "UnicodeDecodeError: 'utf-8' codec can't decode byte 0xff in position 0: invalid start byte\n",
      "\n"
     ]
    },
    {
     "name": "stdout",
     "output_type": "stream",
     "text": [
      "1330 | Error loading eu/LEG_EN_HTML_20250721_04_08/1ffa1590-8958-11e7-b5c6-01aa75ed71a1/xhtml/C_2017281EN.01001402.tif.jpg | 'utf-8' codec can't decode byte 0xff in position 0: invalid start byte\n"
     ]
    },
    {
     "name": "stderr",
     "output_type": "stream",
     "text": [
      "Processing documents:   3%|▎         | 1375/46665 [6:50:58<119:58:27,  9.54s/it]ERROR:root:1375 | Error loading eu/LEG_EN_HTML_20250721_04_08/de17c0c7-ba3d-11e8-99ee-01aa75ed71a1/xhtml/C_2018327EN.01000601.tif.jpg:\n",
      "Traceback (most recent call last):\n",
      "  File \"/var/folders/zj/t8mz7g111911kcsdk6nwh8g00000gn/T/ipykernel_1963/64700856.py\", line 5, in <module>\n",
      "    html_content = obj['Body'].read().decode('utf-8')  # HTML as string\n",
      "UnicodeDecodeError: 'utf-8' codec can't decode byte 0xff in position 0: invalid start byte\n",
      "\n",
      "Processing documents:   3%|▎         | 1376/46665 [6:50:58<84:36:42,  6.73s/it] "
     ]
    },
    {
     "name": "stdout",
     "output_type": "stream",
     "text": [
      "1375 | Error loading eu/LEG_EN_HTML_20250721_04_08/de17c0c7-ba3d-11e8-99ee-01aa75ed71a1/xhtml/C_2018327EN.01000601.tif.jpg | 'utf-8' codec can't decode byte 0xff in position 0: invalid start byte\n"
     ]
    },
    {
     "name": "stderr",
     "output_type": "stream",
     "text": [
      "Processing documents:   3%|▎         | 1395/46665 [6:58:37<195:52:15, 15.58s/it]ERROR:root:1395 | Error extracting metadata eu/LEG_EN_HTML_20250721_04_08/a4a13718-61e1-11f0-bf4e-01aa75ed71a1/xhtml/C_202503941EN.html:\n",
      "Traceback (most recent call last):\n",
      "  File \"/var/folders/zj/t8mz7g111911kcsdk6nwh8g00000gn/T/ipykernel_1963/64700856.py\", line 27, in <module>\n",
      "    sector, year = decompose_celex(row['celex']) if row['celex'] else (None, None)\n",
      "  File \"/var/folders/zj/t8mz7g111911kcsdk6nwh8g00000gn/T/ipykernel_1963/2677490457.py\", line 19, in decompose_celex\n",
      "    sector = celex[0]\n",
      "TypeError: 'float' object is not subscriptable\n",
      "\n"
     ]
    },
    {
     "name": "stdout",
     "output_type": "stream",
     "text": [
      "1395 | Error extracting metadata eu/LEG_EN_HTML_20250721_04_08/a4a13718-61e1-11f0-bf4e-01aa75ed71a1/xhtml/C_202503941EN.html | 'float' object is not subscriptable\n"
     ]
    },
    {
     "name": "stderr",
     "output_type": "stream",
     "text": [
      "Processing documents:   3%|▎         | 1545/46665 [7:23:34<149:12:31, 11.90s/it]ERROR:root:1545 | Error extracting metadata eu/LEG_EN_HTML_20250721_04_08/5290cd79-62a6-11f0-bf4e-01aa75ed71a1/xhtml/L_202501430EN.html:\n",
      "Traceback (most recent call last):\n",
      "  File \"/var/folders/zj/t8mz7g111911kcsdk6nwh8g00000gn/T/ipykernel_1963/64700856.py\", line 27, in <module>\n",
      "    sector, year = decompose_celex(row['celex']) if row['celex'] else (None, None)\n",
      "  File \"/var/folders/zj/t8mz7g111911kcsdk6nwh8g00000gn/T/ipykernel_1963/2677490457.py\", line 19, in decompose_celex\n",
      "    sector = celex[0]\n",
      "TypeError: 'float' object is not subscriptable\n",
      "\n"
     ]
    },
    {
     "name": "stdout",
     "output_type": "stream",
     "text": [
      "1545 | Error extracting metadata eu/LEG_EN_HTML_20250721_04_08/5290cd79-62a6-11f0-bf4e-01aa75ed71a1/xhtml/L_202501430EN.html | 'float' object is not subscriptable\n"
     ]
    },
    {
     "name": "stderr",
     "output_type": "stream",
     "text": [
      "Processing documents:   4%|▎         | 1695/46665 [8:38:05<168:38:27, 13.50s/it]  ERROR:root:1695 | Error loading eu/LEG_EN_HTML_20250721_04_08/2b3a2a49-a92f-11e9-9d01-01aa75ed71a1/xhtml/C_2019242EN.01000901.tif.jpg:\n",
      "Traceback (most recent call last):\n",
      "  File \"/var/folders/zj/t8mz7g111911kcsdk6nwh8g00000gn/T/ipykernel_1963/64700856.py\", line 5, in <module>\n",
      "    html_content = obj['Body'].read().decode('utf-8')  # HTML as string\n",
      "UnicodeDecodeError: 'utf-8' codec can't decode byte 0xff in position 0: invalid start byte\n",
      "\n",
      "Processing documents:   4%|▎         | 1696/46665 [8:38:05<118:51:04,  9.51s/it]ERROR:root:1696 | Error loading eu/LEG_EN_HTML_20250721_04_08/2b3a2a49-a92f-11e9-9d01-01aa75ed71a1/xhtml/C_2019242EN.01001001.tif.jpg:\n",
      "Traceback (most recent call last):\n",
      "  File \"/var/folders/zj/t8mz7g111911kcsdk6nwh8g00000gn/T/ipykernel_1963/64700856.py\", line 5, in <module>\n",
      "    html_content = obj['Body'].read().decode('utf-8')  # HTML as string\n",
      "UnicodeDecodeError: 'utf-8' codec can't decode byte 0xff in position 0: invalid start byte\n",
      "\n"
     ]
    },
    {
     "name": "stdout",
     "output_type": "stream",
     "text": [
      "1695 | Error loading eu/LEG_EN_HTML_20250721_04_08/2b3a2a49-a92f-11e9-9d01-01aa75ed71a1/xhtml/C_2019242EN.01000901.tif.jpg | 'utf-8' codec can't decode byte 0xff in position 0: invalid start byte\n",
      "1696 | Error loading eu/LEG_EN_HTML_20250721_04_08/2b3a2a49-a92f-11e9-9d01-01aa75ed71a1/xhtml/C_2019242EN.01001001.tif.jpg | 'utf-8' codec can't decode byte 0xff in position 0: invalid start byte\n"
     ]
    },
    {
     "name": "stderr",
     "output_type": "stream",
     "text": [
      "Processing documents:   4%|▎         | 1736/46665 [8:46:50<347:45:50, 27.87s/it]ERROR:root:1736 | Error loading eu/LEG_EN_HTML_20250721_04_08/05dcec40-bade-11e7-a7f8-01aa75ed71a1/xhtml/C_2017364EN.01001302.tif.jpg:\n",
      "Traceback (most recent call last):\n",
      "  File \"/var/folders/zj/t8mz7g111911kcsdk6nwh8g00000gn/T/ipykernel_1963/64700856.py\", line 5, in <module>\n",
      "    html_content = obj['Body'].read().decode('utf-8')  # HTML as string\n",
      "UnicodeDecodeError: 'utf-8' codec can't decode byte 0xff in position 0: invalid start byte\n",
      "\n",
      "Processing documents:   4%|▎         | 1737/46665 [8:46:51<244:21:07, 19.58s/it]ERROR:root:1737 | Error loading eu/LEG_EN_HTML_20250721_04_08/05dcec40-bade-11e7-a7f8-01aa75ed71a1/xhtml/C_2017364EN.01003402.tif.jpg:\n",
      "Traceback (most recent call last):\n",
      "  File \"/var/folders/zj/t8mz7g111911kcsdk6nwh8g00000gn/T/ipykernel_1963/64700856.py\", line 5, in <module>\n",
      "    html_content = obj['Body'].read().decode('utf-8')  # HTML as string\n",
      "UnicodeDecodeError: 'utf-8' codec can't decode byte 0xff in position 0: invalid start byte\n",
      "\n"
     ]
    },
    {
     "name": "stdout",
     "output_type": "stream",
     "text": [
      "1736 | Error loading eu/LEG_EN_HTML_20250721_04_08/05dcec40-bade-11e7-a7f8-01aa75ed71a1/xhtml/C_2017364EN.01001302.tif.jpg | 'utf-8' codec can't decode byte 0xff in position 0: invalid start byte\n"
     ]
    },
    {
     "name": "stderr",
     "output_type": "stream",
     "text": [
      "Processing documents:   4%|▎         | 1738/46665 [8:46:51<171:57:16, 13.78s/it]ERROR:root:1738 | Error loading eu/LEG_EN_HTML_20250721_04_08/05dcec40-bade-11e7-a7f8-01aa75ed71a1/xhtml/C_2017364EN.01001301.tif.jpg:\n",
      "Traceback (most recent call last):\n",
      "  File \"/var/folders/zj/t8mz7g111911kcsdk6nwh8g00000gn/T/ipykernel_1963/64700856.py\", line 5, in <module>\n",
      "    html_content = obj['Body'].read().decode('utf-8')  # HTML as string\n",
      "UnicodeDecodeError: 'utf-8' codec can't decode byte 0xff in position 0: invalid start byte\n",
      "\n",
      "Processing documents:   4%|▎         | 1739/46665 [8:46:51<120:59:11,  9.69s/it]"
     ]
    },
    {
     "name": "stdout",
     "output_type": "stream",
     "text": [
      "1737 | Error loading eu/LEG_EN_HTML_20250721_04_08/05dcec40-bade-11e7-a7f8-01aa75ed71a1/xhtml/C_2017364EN.01003402.tif.jpg | 'utf-8' codec can't decode byte 0xff in position 0: invalid start byte\n",
      "1738 | Error loading eu/LEG_EN_HTML_20250721_04_08/05dcec40-bade-11e7-a7f8-01aa75ed71a1/xhtml/C_2017364EN.01001301.tif.jpg | 'utf-8' codec can't decode byte 0xff in position 0: invalid start byte\n"
     ]
    },
    {
     "name": "stderr",
     "output_type": "stream",
     "text": [
      "Processing documents:   4%|▍         | 1776/46665 [8:52:59<174:21:38, 13.98s/it]ERROR:root:1776 | Error loading eu/LEG_EN_HTML_20250721_04_08/5e152044-a6be-11e8-99ee-01aa75ed71a1/xhtml/MTF_2018_8978_FIN_ENG_xhtml_01001.jpg:\n",
      "Traceback (most recent call last):\n",
      "  File \"/var/folders/zj/t8mz7g111911kcsdk6nwh8g00000gn/T/ipykernel_1963/64700856.py\", line 5, in <module>\n",
      "    html_content = obj['Body'].read().decode('utf-8')  # HTML as string\n",
      "UnicodeDecodeError: 'utf-8' codec can't decode byte 0xff in position 0: invalid start byte\n",
      "\n",
      "Processing documents:   4%|▍         | 1777/46665 [8:52:59<123:05:11,  9.87s/it]"
     ]
    },
    {
     "name": "stdout",
     "output_type": "stream",
     "text": [
      "1776 | Error loading eu/LEG_EN_HTML_20250721_04_08/5e152044-a6be-11e8-99ee-01aa75ed71a1/xhtml/MTF_2018_8978_FIN_ENG_xhtml_01001.jpg | 'utf-8' codec can't decode byte 0xff in position 0: invalid start byte\n"
     ]
    },
    {
     "name": "stderr",
     "output_type": "stream",
     "text": [
      "Processing documents:   4%|▍         | 1784/46665 [8:54:00<123:06:11,  9.87s/it]ERROR:root:1784 | Error loading eu/LEG_EN_HTML_20250721_04_08/ef1c174d-b49d-11e7-837e-01aa75ed71a1/xhtml/C_2017351EN.01000503.tif.jpg:\n",
      "Traceback (most recent call last):\n",
      "  File \"/var/folders/zj/t8mz7g111911kcsdk6nwh8g00000gn/T/ipykernel_1963/64700856.py\", line 5, in <module>\n",
      "    html_content = obj['Body'].read().decode('utf-8')  # HTML as string\n",
      "UnicodeDecodeError: 'utf-8' codec can't decode byte 0xff in position 0: invalid start byte\n",
      "\n",
      "Processing documents:   4%|▍         | 1785/46665 [8:54:00<87:03:20,  6.98s/it] "
     ]
    },
    {
     "name": "stdout",
     "output_type": "stream",
     "text": [
      "1784 | Error loading eu/LEG_EN_HTML_20250721_04_08/ef1c174d-b49d-11e7-837e-01aa75ed71a1/xhtml/C_2017351EN.01000503.tif.jpg | 'utf-8' codec can't decode byte 0xff in position 0: invalid start byte\n"
     ]
    },
    {
     "name": "stderr",
     "output_type": "stream",
     "text": [
      "Processing documents:   4%|▍         | 1859/46665 [9:06:56<126:35:19, 10.17s/it]ERROR:root:1859 | Error loading eu/LEG_EN_HTML_20250721_04_08/c277d948-f0d0-11eb-a71c-01aa75ed71a1/xhtml/L_2021273EN.01006202.tif.jpg:\n",
      "Traceback (most recent call last):\n",
      "  File \"/var/folders/zj/t8mz7g111911kcsdk6nwh8g00000gn/T/ipykernel_1963/64700856.py\", line 5, in <module>\n",
      "    html_content = obj['Body'].read().decode('utf-8')  # HTML as string\n",
      "UnicodeDecodeError: 'utf-8' codec can't decode byte 0xff in position 0: invalid start byte\n",
      "\n",
      "Processing documents:   4%|▍         | 1860/46665 [9:06:57<89:29:24,  7.19s/it] ERROR:root:1860 | Error loading eu/LEG_EN_HTML_20250721_04_08/c277d948-f0d0-11eb-a71c-01aa75ed71a1/xhtml/L_2021273EN.01005702.tif.jpg:\n",
      "Traceback (most recent call last):\n",
      "  File \"/var/folders/zj/t8mz7g111911kcsdk6nwh8g00000gn/T/ipykernel_1963/64700856.py\", line 5, in <module>\n",
      "    html_content = obj['Body'].read().decode('utf-8')  # HTML as string\n",
      "UnicodeDecodeError: 'utf-8' codec can't decode byte 0xff in position 0: invalid start byte\n",
      "\n",
      "Processing documents:   4%|▍         | 1861/46665 [9:06:57<63:03:02,  5.07s/it]"
     ]
    },
    {
     "name": "stdout",
     "output_type": "stream",
     "text": [
      "1859 | Error loading eu/LEG_EN_HTML_20250721_04_08/c277d948-f0d0-11eb-a71c-01aa75ed71a1/xhtml/L_2021273EN.01006202.tif.jpg | 'utf-8' codec can't decode byte 0xff in position 0: invalid start byte\n",
      "1860 | Error loading eu/LEG_EN_HTML_20250721_04_08/c277d948-f0d0-11eb-a71c-01aa75ed71a1/xhtml/L_2021273EN.01005702.tif.jpg | 'utf-8' codec can't decode byte 0xff in position 0: invalid start byte\n"
     ]
    },
    {
     "name": "stderr",
     "output_type": "stream",
     "text": [
      "ERROR:root:1861 | Error loading eu/LEG_EN_HTML_20250721_04_08/c277d948-f0d0-11eb-a71c-01aa75ed71a1/xhtml/L_2021273EN.01003902.tif.jpg:\n",
      "Traceback (most recent call last):\n",
      "  File \"/var/folders/zj/t8mz7g111911kcsdk6nwh8g00000gn/T/ipykernel_1963/64700856.py\", line 5, in <module>\n",
      "    html_content = obj['Body'].read().decode('utf-8')  # HTML as string\n",
      "UnicodeDecodeError: 'utf-8' codec can't decode byte 0xff in position 0: invalid start byte\n",
      "\n",
      "Processing documents:   4%|▍         | 1862/46665 [9:06:57<44:32:58,  3.58s/it]ERROR:root:1862 | Error loading eu/LEG_EN_HTML_20250721_04_08/c277d948-f0d0-11eb-a71c-01aa75ed71a1/xhtml/L_2021273EN.01003501.tif.jpg:\n",
      "Traceback (most recent call last):\n",
      "  File \"/var/folders/zj/t8mz7g111911kcsdk6nwh8g00000gn/T/ipykernel_1963/64700856.py\", line 5, in <module>\n",
      "    html_content = obj['Body'].read().decode('utf-8')  # HTML as string\n",
      "UnicodeDecodeError: 'utf-8' codec can't decode byte 0xff in position 0: invalid start byte\n",
      "\n",
      "ERROR:root:1863 | Error loading eu/LEG_EN_HTML_20250721_04_08/c277d948-f0d0-11eb-a71c-01aa75ed71a1/xhtml/L_2021273EN.01004302.tif.jpg:\n",
      "Traceback (most recent call last):\n",
      "  File \"/var/folders/zj/t8mz7g111911kcsdk6nwh8g00000gn/T/ipykernel_1963/64700856.py\", line 5, in <module>\n",
      "    html_content = obj['Body'].read().decode('utf-8')  # HTML as string\n",
      "UnicodeDecodeError: 'utf-8' codec can't decode byte 0xff in position 0: invalid start byte\n",
      "\n",
      "Processing documents:   4%|▍         | 1864/46665 [9:06:57<24:32:49,  1.97s/it]"
     ]
    },
    {
     "name": "stdout",
     "output_type": "stream",
     "text": [
      "1861 | Error loading eu/LEG_EN_HTML_20250721_04_08/c277d948-f0d0-11eb-a71c-01aa75ed71a1/xhtml/L_2021273EN.01003902.tif.jpg | 'utf-8' codec can't decode byte 0xff in position 0: invalid start byte\n",
      "1862 | Error loading eu/LEG_EN_HTML_20250721_04_08/c277d948-f0d0-11eb-a71c-01aa75ed71a1/xhtml/L_2021273EN.01003501.tif.jpg | 'utf-8' codec can't decode byte 0xff in position 0: invalid start byte\n",
      "1863 | Error loading eu/LEG_EN_HTML_20250721_04_08/c277d948-f0d0-11eb-a71c-01aa75ed71a1/xhtml/L_2021273EN.01004302.tif.jpg | 'utf-8' codec can't decode byte 0xff in position 0: invalid start byte\n"
     ]
    },
    {
     "name": "stderr",
     "output_type": "stream",
     "text": [
      "ERROR:root:1864 | Error loading eu/LEG_EN_HTML_20250721_04_08/c277d948-f0d0-11eb-a71c-01aa75ed71a1/xhtml/L_2021273EN.01006301.tif.jpg:\n",
      "Traceback (most recent call last):\n",
      "  File \"/var/folders/zj/t8mz7g111911kcsdk6nwh8g00000gn/T/ipykernel_1963/64700856.py\", line 5, in <module>\n",
      "    html_content = obj['Body'].read().decode('utf-8')  # HTML as string\n",
      "UnicodeDecodeError: 'utf-8' codec can't decode byte 0xff in position 0: invalid start byte\n",
      "\n",
      "Processing documents:   4%|▍         | 1865/46665 [9:06:57<18:50:29,  1.51s/it]ERROR:root:1865 | Error loading eu/LEG_EN_HTML_20250721_04_08/c277d948-f0d0-11eb-a71c-01aa75ed71a1/xhtml/L_2021273EN.01001901.tif.jpg:\n",
      "Traceback (most recent call last):\n",
      "  File \"/var/folders/zj/t8mz7g111911kcsdk6nwh8g00000gn/T/ipykernel_1963/64700856.py\", line 5, in <module>\n",
      "    html_content = obj['Body'].read().decode('utf-8')  # HTML as string\n",
      "UnicodeDecodeError: 'utf-8' codec can't decode byte 0xff in position 0: invalid start byte\n",
      "\n",
      "ERROR:root:1866 | Error loading eu/LEG_EN_HTML_20250721_04_08/c277d948-f0d0-11eb-a71c-01aa75ed71a1/xhtml/L_2021273EN.01004503.tif.jpg:\n",
      "Traceback (most recent call last):\n",
      "  File \"/var/folders/zj/t8mz7g111911kcsdk6nwh8g00000gn/T/ipykernel_1963/64700856.py\", line 5, in <module>\n",
      "    html_content = obj['Body'].read().decode('utf-8')  # HTML as string\n",
      "UnicodeDecodeError: 'utf-8' codec can't decode byte 0xff in position 0: invalid start byte\n",
      "\n",
      "Processing documents:   4%|▍         | 1867/46665 [9:06:57<11:32:19,  1.08it/s]"
     ]
    },
    {
     "name": "stdout",
     "output_type": "stream",
     "text": [
      "1864 | Error loading eu/LEG_EN_HTML_20250721_04_08/c277d948-f0d0-11eb-a71c-01aa75ed71a1/xhtml/L_2021273EN.01006301.tif.jpg | 'utf-8' codec can't decode byte 0xff in position 0: invalid start byte\n",
      "1865 | Error loading eu/LEG_EN_HTML_20250721_04_08/c277d948-f0d0-11eb-a71c-01aa75ed71a1/xhtml/L_2021273EN.01001901.tif.jpg | 'utf-8' codec can't decode byte 0xff in position 0: invalid start byte\n",
      "1866 | Error loading eu/LEG_EN_HTML_20250721_04_08/c277d948-f0d0-11eb-a71c-01aa75ed71a1/xhtml/L_2021273EN.01004503.tif.jpg | 'utf-8' codec can't decode byte 0xff in position 0: invalid start byte\n"
     ]
    },
    {
     "name": "stderr",
     "output_type": "stream",
     "text": [
      "ERROR:root:1867 | Error loading eu/LEG_EN_HTML_20250721_04_08/c277d948-f0d0-11eb-a71c-01aa75ed71a1/xhtml/L_2021273EN.01011001.tif.jpg:\n",
      "Traceback (most recent call last):\n",
      "  File \"/var/folders/zj/t8mz7g111911kcsdk6nwh8g00000gn/T/ipykernel_1963/64700856.py\", line 5, in <module>\n",
      "    html_content = obj['Body'].read().decode('utf-8')  # HTML as string\n",
      "UnicodeDecodeError: 'utf-8' codec can't decode byte 0xff in position 0: invalid start byte\n",
      "\n",
      "Processing documents:   4%|▍         | 1868/46665 [9:06:57<9:25:50,  1.32it/s] ERROR:root:1868 | Error loading eu/LEG_EN_HTML_20250721_04_08/c277d948-f0d0-11eb-a71c-01aa75ed71a1/xhtml/L_2021273EN.01005601.tif.jpg:\n",
      "Traceback (most recent call last):\n",
      "  File \"/var/folders/zj/t8mz7g111911kcsdk6nwh8g00000gn/T/ipykernel_1963/64700856.py\", line 5, in <module>\n",
      "    html_content = obj['Body'].read().decode('utf-8')  # HTML as string\n",
      "UnicodeDecodeError: 'utf-8' codec can't decode byte 0xff in position 0: invalid start byte\n",
      "\n",
      "Processing documents:   4%|▍         | 1869/46665 [9:06:58<7:34:13,  1.64it/s]"
     ]
    },
    {
     "name": "stdout",
     "output_type": "stream",
     "text": [
      "1867 | Error loading eu/LEG_EN_HTML_20250721_04_08/c277d948-f0d0-11eb-a71c-01aa75ed71a1/xhtml/L_2021273EN.01011001.tif.jpg | 'utf-8' codec can't decode byte 0xff in position 0: invalid start byte\n",
      "1868 | Error loading eu/LEG_EN_HTML_20250721_04_08/c277d948-f0d0-11eb-a71c-01aa75ed71a1/xhtml/L_2021273EN.01005601.tif.jpg | 'utf-8' codec can't decode byte 0xff in position 0: invalid start byte\n"
     ]
    },
    {
     "name": "stderr",
     "output_type": "stream",
     "text": [
      "ERROR:root:1869 | Error loading eu/LEG_EN_HTML_20250721_04_08/c277d948-f0d0-11eb-a71c-01aa75ed71a1/xhtml/L_2021273EN.01006403.tif.jpg:\n",
      "Traceback (most recent call last):\n",
      "  File \"/var/folders/zj/t8mz7g111911kcsdk6nwh8g00000gn/T/ipykernel_1963/64700856.py\", line 5, in <module>\n",
      "    html_content = obj['Body'].read().decode('utf-8')  # HTML as string\n",
      "UnicodeDecodeError: 'utf-8' codec can't decode byte 0xff in position 0: invalid start byte\n",
      "\n",
      "Processing documents:   4%|▍         | 1870/46665 [9:06:58<5:59:22,  2.08it/s]ERROR:root:1870 | Error loading eu/LEG_EN_HTML_20250721_04_08/c277d948-f0d0-11eb-a71c-01aa75ed71a1/xhtml/L_2021273EN.01004201.tif.jpg:\n",
      "Traceback (most recent call last):\n",
      "  File \"/var/folders/zj/t8mz7g111911kcsdk6nwh8g00000gn/T/ipykernel_1963/64700856.py\", line 5, in <module>\n",
      "    html_content = obj['Body'].read().decode('utf-8')  # HTML as string\n",
      "UnicodeDecodeError: 'utf-8' codec can't decode byte 0xff in position 0: invalid start byte\n",
      "\n",
      "ERROR:root:1871 | Error loading eu/LEG_EN_HTML_20250721_04_08/c277d948-f0d0-11eb-a71c-01aa75ed71a1/xhtml/L_2021273EN.01013603.tif.jpg:\n",
      "Traceback (most recent call last):\n",
      "  File \"/var/folders/zj/t8mz7g111911kcsdk6nwh8g00000gn/T/ipykernel_1963/64700856.py\", line 5, in <module>\n",
      "    html_content = obj['Body'].read().decode('utf-8')  # HTML as string\n",
      "UnicodeDecodeError: 'utf-8' codec can't decode byte 0xff in position 0: invalid start byte\n",
      "\n",
      "Processing documents:   4%|▍         | 1872/46665 [9:06:58<3:51:45,  3.22it/s]"
     ]
    },
    {
     "name": "stdout",
     "output_type": "stream",
     "text": [
      "1869 | Error loading eu/LEG_EN_HTML_20250721_04_08/c277d948-f0d0-11eb-a71c-01aa75ed71a1/xhtml/L_2021273EN.01006403.tif.jpg | 'utf-8' codec can't decode byte 0xff in position 0: invalid start byte\n",
      "1870 | Error loading eu/LEG_EN_HTML_20250721_04_08/c277d948-f0d0-11eb-a71c-01aa75ed71a1/xhtml/L_2021273EN.01004201.tif.jpg | 'utf-8' codec can't decode byte 0xff in position 0: invalid start byte\n",
      "1871 | Error loading eu/LEG_EN_HTML_20250721_04_08/c277d948-f0d0-11eb-a71c-01aa75ed71a1/xhtml/L_2021273EN.01013603.tif.jpg | 'utf-8' codec can't decode byte 0xff in position 0: invalid start byte\n"
     ]
    },
    {
     "name": "stderr",
     "output_type": "stream",
     "text": [
      "ERROR:root:1872 | Error loading eu/LEG_EN_HTML_20250721_04_08/c277d948-f0d0-11eb-a71c-01aa75ed71a1/xhtml/L_2021273EN.01003402.tif.jpg:\n",
      "Traceback (most recent call last):\n",
      "  File \"/var/folders/zj/t8mz7g111911kcsdk6nwh8g00000gn/T/ipykernel_1963/64700856.py\", line 5, in <module>\n",
      "    html_content = obj['Body'].read().decode('utf-8')  # HTML as string\n",
      "UnicodeDecodeError: 'utf-8' codec can't decode byte 0xff in position 0: invalid start byte\n",
      "\n",
      "Processing documents:   4%|▍         | 1873/46665 [9:06:58<3:16:39,  3.80it/s]ERROR:root:1873 | Error loading eu/LEG_EN_HTML_20250721_04_08/c277d948-f0d0-11eb-a71c-01aa75ed71a1/xhtml/L_2021273EN.01003801.tif.jpg:\n",
      "Traceback (most recent call last):\n",
      "  File \"/var/folders/zj/t8mz7g111911kcsdk6nwh8g00000gn/T/ipykernel_1963/64700856.py\", line 5, in <module>\n",
      "    html_content = obj['Body'].read().decode('utf-8')  # HTML as string\n",
      "UnicodeDecodeError: 'utf-8' codec can't decode byte 0xff in position 0: invalid start byte\n",
      "\n",
      "Processing documents:   4%|▍         | 1874/46665 [9:06:58<2:56:45,  4.22it/s]"
     ]
    },
    {
     "name": "stdout",
     "output_type": "stream",
     "text": [
      "1872 | Error loading eu/LEG_EN_HTML_20250721_04_08/c277d948-f0d0-11eb-a71c-01aa75ed71a1/xhtml/L_2021273EN.01003402.tif.jpg | 'utf-8' codec can't decode byte 0xff in position 0: invalid start byte\n",
      "1873 | Error loading eu/LEG_EN_HTML_20250721_04_08/c277d948-f0d0-11eb-a71c-01aa75ed71a1/xhtml/L_2021273EN.01003801.tif.jpg | 'utf-8' codec can't decode byte 0xff in position 0: invalid start byte\n"
     ]
    },
    {
     "name": "stderr",
     "output_type": "stream",
     "text": [
      "ERROR:root:1874 | Error loading eu/LEG_EN_HTML_20250721_04_08/c277d948-f0d0-11eb-a71c-01aa75ed71a1/xhtml/L_2021273EN.01005916.tif.jpg:\n",
      "Traceback (most recent call last):\n",
      "  File \"/var/folders/zj/t8mz7g111911kcsdk6nwh8g00000gn/T/ipykernel_1963/64700856.py\", line 5, in <module>\n",
      "    html_content = obj['Body'].read().decode('utf-8')  # HTML as string\n",
      "UnicodeDecodeError: 'utf-8' codec can't decode byte 0xff in position 0: invalid start byte\n",
      "\n",
      "ERROR:root:1875 | Error loading eu/LEG_EN_HTML_20250721_04_08/c277d948-f0d0-11eb-a71c-01aa75ed71a1/xhtml/L_2021273EN.01005906.tif.jpg:\n",
      "Traceback (most recent call last):\n",
      "  File \"/var/folders/zj/t8mz7g111911kcsdk6nwh8g00000gn/T/ipykernel_1963/64700856.py\", line 5, in <module>\n",
      "    html_content = obj['Body'].read().decode('utf-8')  # HTML as string\n",
      "UnicodeDecodeError: 'utf-8' codec can't decode byte 0xff in position 0: invalid start byte\n",
      "\n",
      "Processing documents:   4%|▍         | 1876/46665 [9:06:58<2:05:27,  5.95it/s]ERROR:root:1876 | Error loading eu/LEG_EN_HTML_20250721_04_08/c277d948-f0d0-11eb-a71c-01aa75ed71a1/xhtml/L_2021273EN.01002701.tif.jpg:\n",
      "Traceback (most recent call last):\n",
      "  File \"/var/folders/zj/t8mz7g111911kcsdk6nwh8g00000gn/T/ipykernel_1963/64700856.py\", line 5, in <module>\n",
      "    html_content = obj['Body'].read().decode('utf-8')  # HTML as string\n",
      "UnicodeDecodeError: 'utf-8' codec can't decode byte 0xff in position 0: invalid start byte\n",
      "\n",
      "ERROR:root:1877 | Error loading eu/LEG_EN_HTML_20250721_04_08/c277d948-f0d0-11eb-a71c-01aa75ed71a1/xhtml/L_2021273EN.01006004.tif.jpg:\n",
      "Traceback (most recent call last):\n",
      "  File \"/var/folders/zj/t8mz7g111911kcsdk6nwh8g00000gn/T/ipykernel_1963/64700856.py\", line 5, in <module>\n",
      "    html_content = obj['Body'].read().decode('utf-8')  # HTML as string\n",
      "UnicodeDecodeError: 'utf-8' codec can't decode byte 0xff in position 0: invalid start byte\n",
      "\n",
      "Processing documents:   4%|▍         | 1878/46665 [9:06:58<1:37:40,  7.64it/s]"
     ]
    },
    {
     "name": "stdout",
     "output_type": "stream",
     "text": [
      "1874 | Error loading eu/LEG_EN_HTML_20250721_04_08/c277d948-f0d0-11eb-a71c-01aa75ed71a1/xhtml/L_2021273EN.01005916.tif.jpg | 'utf-8' codec can't decode byte 0xff in position 0: invalid start byte\n",
      "1875 | Error loading eu/LEG_EN_HTML_20250721_04_08/c277d948-f0d0-11eb-a71c-01aa75ed71a1/xhtml/L_2021273EN.01005906.tif.jpg | 'utf-8' codec can't decode byte 0xff in position 0: invalid start byte\n",
      "1876 | Error loading eu/LEG_EN_HTML_20250721_04_08/c277d948-f0d0-11eb-a71c-01aa75ed71a1/xhtml/L_2021273EN.01002701.tif.jpg | 'utf-8' codec can't decode byte 0xff in position 0: invalid start byte\n",
      "1877 | Error loading eu/LEG_EN_HTML_20250721_04_08/c277d948-f0d0-11eb-a71c-01aa75ed71a1/xhtml/L_2021273EN.01006004.tif.jpg | 'utf-8' codec can't decode byte 0xff in position 0: invalid start byte\n"
     ]
    },
    {
     "name": "stderr",
     "output_type": "stream",
     "text": [
      "ERROR:root:1878 | Error loading eu/LEG_EN_HTML_20250721_04_08/c277d948-f0d0-11eb-a71c-01aa75ed71a1/xhtml/L_2021273EN.01004502.tif.jpg:\n",
      "Traceback (most recent call last):\n",
      "  File \"/var/folders/zj/t8mz7g111911kcsdk6nwh8g00000gn/T/ipykernel_1963/64700856.py\", line 5, in <module>\n",
      "    html_content = obj['Body'].read().decode('utf-8')  # HTML as string\n",
      "UnicodeDecodeError: 'utf-8' codec can't decode byte 0xff in position 0: invalid start byte\n",
      "\n",
      "ERROR:root:1879 | Error loading eu/LEG_EN_HTML_20250721_04_08/c277d948-f0d0-11eb-a71c-01aa75ed71a1/xhtml/L_2021273EN.01003301.tif.jpg:\n",
      "Traceback (most recent call last):\n",
      "  File \"/var/folders/zj/t8mz7g111911kcsdk6nwh8g00000gn/T/ipykernel_1963/64700856.py\", line 5, in <module>\n",
      "    html_content = obj['Body'].read().decode('utf-8')  # HTML as string\n",
      "UnicodeDecodeError: 'utf-8' codec can't decode byte 0xff in position 0: invalid start byte\n",
      "\n",
      "Processing documents:   4%|▍         | 1880/46665 [9:06:59<1:34:27,  7.90it/s]ERROR:root:1880 | Error loading eu/LEG_EN_HTML_20250721_04_08/c277d948-f0d0-11eb-a71c-01aa75ed71a1/xhtml/L_2021273EN.01006402.tif.jpg:\n",
      "Traceback (most recent call last):\n",
      "  File \"/var/folders/zj/t8mz7g111911kcsdk6nwh8g00000gn/T/ipykernel_1963/64700856.py\", line 5, in <module>\n",
      "    html_content = obj['Body'].read().decode('utf-8')  # HTML as string\n",
      "UnicodeDecodeError: 'utf-8' codec can't decode byte 0xff in position 0: invalid start byte\n",
      "\n"
     ]
    },
    {
     "name": "stdout",
     "output_type": "stream",
     "text": [
      "1878 | Error loading eu/LEG_EN_HTML_20250721_04_08/c277d948-f0d0-11eb-a71c-01aa75ed71a1/xhtml/L_2021273EN.01004502.tif.jpg | 'utf-8' codec can't decode byte 0xff in position 0: invalid start byte\n",
      "1879 | Error loading eu/LEG_EN_HTML_20250721_04_08/c277d948-f0d0-11eb-a71c-01aa75ed71a1/xhtml/L_2021273EN.01003301.tif.jpg | 'utf-8' codec can't decode byte 0xff in position 0: invalid start byte\n",
      "1880 | Error loading eu/LEG_EN_HTML_20250721_04_08/c277d948-f0d0-11eb-a71c-01aa75ed71a1/xhtml/L_2021273EN.01006402.tif.jpg | 'utf-8' codec can't decode byte 0xff in position 0: invalid start byte\n"
     ]
    },
    {
     "name": "stderr",
     "output_type": "stream",
     "text": [
      "ERROR:root:1881 | Error loading eu/LEG_EN_HTML_20250721_04_08/c277d948-f0d0-11eb-a71c-01aa75ed71a1/xhtml/L_2021273EN.01006801.tif.jpg:\n",
      "Traceback (most recent call last):\n",
      "  File \"/var/folders/zj/t8mz7g111911kcsdk6nwh8g00000gn/T/ipykernel_1963/64700856.py\", line 5, in <module>\n",
      "    html_content = obj['Body'].read().decode('utf-8')  # HTML as string\n",
      "UnicodeDecodeError: 'utf-8' codec can't decode byte 0xff in position 0: invalid start byte\n",
      "\n",
      "Processing documents:   4%|▍         | 1882/46665 [9:06:59<1:24:46,  8.80it/s]ERROR:root:1882 | Error loading eu/LEG_EN_HTML_20250721_04_08/c277d948-f0d0-11eb-a71c-01aa75ed71a1/xhtml/L_2021273EN.01005907.tif.jpg:\n",
      "Traceback (most recent call last):\n",
      "  File \"/var/folders/zj/t8mz7g111911kcsdk6nwh8g00000gn/T/ipykernel_1963/64700856.py\", line 5, in <module>\n",
      "    html_content = obj['Body'].read().decode('utf-8')  # HTML as string\n",
      "UnicodeDecodeError: 'utf-8' codec can't decode byte 0xff in position 0: invalid start byte\n",
      "\n",
      "ERROR:root:1883 | Error loading eu/LEG_EN_HTML_20250721_04_08/c277d948-f0d0-11eb-a71c-01aa75ed71a1/xhtml/L_2021273EN.01013602.tif.jpg:\n",
      "Traceback (most recent call last):\n",
      "  File \"/var/folders/zj/t8mz7g111911kcsdk6nwh8g00000gn/T/ipykernel_1963/64700856.py\", line 5, in <module>\n",
      "    html_content = obj['Body'].read().decode('utf-8')  # HTML as string\n",
      "UnicodeDecodeError: 'utf-8' codec can't decode byte 0xff in position 0: invalid start byte\n",
      "\n",
      "Processing documents:   4%|▍         | 1884/46665 [9:06:59<1:11:34, 10.43it/s]"
     ]
    },
    {
     "name": "stdout",
     "output_type": "stream",
     "text": [
      "1881 | Error loading eu/LEG_EN_HTML_20250721_04_08/c277d948-f0d0-11eb-a71c-01aa75ed71a1/xhtml/L_2021273EN.01006801.tif.jpg | 'utf-8' codec can't decode byte 0xff in position 0: invalid start byte\n",
      "1882 | Error loading eu/LEG_EN_HTML_20250721_04_08/c277d948-f0d0-11eb-a71c-01aa75ed71a1/xhtml/L_2021273EN.01005907.tif.jpg | 'utf-8' codec can't decode byte 0xff in position 0: invalid start byte\n",
      "1883 | Error loading eu/LEG_EN_HTML_20250721_04_08/c277d948-f0d0-11eb-a71c-01aa75ed71a1/xhtml/L_2021273EN.01013602.tif.jpg | 'utf-8' codec can't decode byte 0xff in position 0: invalid start byte\n"
     ]
    },
    {
     "name": "stderr",
     "output_type": "stream",
     "text": [
      "ERROR:root:1884 | Error loading eu/LEG_EN_HTML_20250721_04_08/c277d948-f0d0-11eb-a71c-01aa75ed71a1/xhtml/L_2021273EN.01005001.tif.jpg:\n",
      "Traceback (most recent call last):\n",
      "  File \"/var/folders/zj/t8mz7g111911kcsdk6nwh8g00000gn/T/ipykernel_1963/64700856.py\", line 5, in <module>\n",
      "    html_content = obj['Body'].read().decode('utf-8')  # HTML as string\n",
      "UnicodeDecodeError: 'utf-8' codec can't decode byte 0xff in position 0: invalid start byte\n",
      "\n",
      "ERROR:root:1885 | Error loading eu/LEG_EN_HTML_20250721_04_08/c277d948-f0d0-11eb-a71c-01aa75ed71a1/xhtml/L_2021273EN.01006203.tif.jpg:\n",
      "Traceback (most recent call last):\n",
      "  File \"/var/folders/zj/t8mz7g111911kcsdk6nwh8g00000gn/T/ipykernel_1963/64700856.py\", line 5, in <module>\n",
      "    html_content = obj['Body'].read().decode('utf-8')  # HTML as string\n",
      "UnicodeDecodeError: 'utf-8' codec can't decode byte 0xff in position 0: invalid start byte\n",
      "\n",
      "Processing documents:   4%|▍         | 1886/46665 [9:06:59<1:14:15, 10.05it/s]ERROR:root:1886 | Error loading eu/LEG_EN_HTML_20250721_04_08/c277d948-f0d0-11eb-a71c-01aa75ed71a1/xhtml/L_2021273EN.01010201.tif.jpg:\n",
      "Traceback (most recent call last):\n",
      "  File \"/var/folders/zj/t8mz7g111911kcsdk6nwh8g00000gn/T/ipykernel_1963/64700856.py\", line 5, in <module>\n",
      "    html_content = obj['Body'].read().decode('utf-8')  # HTML as string\n",
      "UnicodeDecodeError: 'utf-8' codec can't decode byte 0xff in position 0: invalid start byte\n",
      "\n"
     ]
    },
    {
     "name": "stdout",
     "output_type": "stream",
     "text": [
      "1884 | Error loading eu/LEG_EN_HTML_20250721_04_08/c277d948-f0d0-11eb-a71c-01aa75ed71a1/xhtml/L_2021273EN.01005001.tif.jpg | 'utf-8' codec can't decode byte 0xff in position 0: invalid start byte\n",
      "1885 | Error loading eu/LEG_EN_HTML_20250721_04_08/c277d948-f0d0-11eb-a71c-01aa75ed71a1/xhtml/L_2021273EN.01006203.tif.jpg | 'utf-8' codec can't decode byte 0xff in position 0: invalid start byte\n",
      "1886 | Error loading eu/LEG_EN_HTML_20250721_04_08/c277d948-f0d0-11eb-a71c-01aa75ed71a1/xhtml/L_2021273EN.01010201.tif.jpg | 'utf-8' codec can't decode byte 0xff in position 0: invalid start byte\n"
     ]
    },
    {
     "name": "stderr",
     "output_type": "stream",
     "text": [
      "ERROR:root:1887 | Error loading eu/LEG_EN_HTML_20250721_04_08/c277d948-f0d0-11eb-a71c-01aa75ed71a1/xhtml/L_2021273EN.01006501.tif.jpg:\n",
      "Traceback (most recent call last):\n",
      "  File \"/var/folders/zj/t8mz7g111911kcsdk6nwh8g00000gn/T/ipykernel_1963/64700856.py\", line 5, in <module>\n",
      "    html_content = obj['Body'].read().decode('utf-8')  # HTML as string\n",
      "UnicodeDecodeError: 'utf-8' codec can't decode byte 0xff in position 0: invalid start byte\n",
      "\n",
      "Processing documents:   4%|▍         | 1888/46665 [9:06:59<1:08:40, 10.87it/s]ERROR:root:1888 | Error loading eu/LEG_EN_HTML_20250721_04_08/c277d948-f0d0-11eb-a71c-01aa75ed71a1/xhtml/L_2021273EN.01003604.tif.jpg:\n",
      "Traceback (most recent call last):\n",
      "  File \"/var/folders/zj/t8mz7g111911kcsdk6nwh8g00000gn/T/ipykernel_1963/64700856.py\", line 5, in <module>\n",
      "    html_content = obj['Body'].read().decode('utf-8')  # HTML as string\n",
      "UnicodeDecodeError: 'utf-8' codec can't decode byte 0xff in position 0: invalid start byte\n",
      "\n",
      "ERROR:root:1889 | Error loading eu/LEG_EN_HTML_20250721_04_08/c277d948-f0d0-11eb-a71c-01aa75ed71a1/xhtml/L_2021273EN.01013701.tif.jpg:\n",
      "Traceback (most recent call last):\n",
      "  File \"/var/folders/zj/t8mz7g111911kcsdk6nwh8g00000gn/T/ipykernel_1963/64700856.py\", line 5, in <module>\n",
      "    html_content = obj['Body'].read().decode('utf-8')  # HTML as string\n",
      "UnicodeDecodeError: 'utf-8' codec can't decode byte 0xff in position 0: invalid start byte\n",
      "\n",
      "Processing documents:   4%|▍         | 1890/46665 [9:06:59<59:17, 12.59it/s]  ERROR:root:1890 | Error loading eu/LEG_EN_HTML_20250721_04_08/c277d948-f0d0-11eb-a71c-01aa75ed71a1/xhtml/L_2021273EN.01003903.tif.jpg:\n",
      "Traceback (most recent call last):\n",
      "  File \"/var/folders/zj/t8mz7g111911kcsdk6nwh8g00000gn/T/ipykernel_1963/64700856.py\", line 5, in <module>\n",
      "    html_content = obj['Body'].read().decode('utf-8')  # HTML as string\n",
      "UnicodeDecodeError: 'utf-8' codec can't decode byte 0xff in position 0: invalid start byte\n",
      "\n"
     ]
    },
    {
     "name": "stdout",
     "output_type": "stream",
     "text": [
      "1887 | Error loading eu/LEG_EN_HTML_20250721_04_08/c277d948-f0d0-11eb-a71c-01aa75ed71a1/xhtml/L_2021273EN.01006501.tif.jpg | 'utf-8' codec can't decode byte 0xff in position 0: invalid start byte\n",
      "1888 | Error loading eu/LEG_EN_HTML_20250721_04_08/c277d948-f0d0-11eb-a71c-01aa75ed71a1/xhtml/L_2021273EN.01003604.tif.jpg | 'utf-8' codec can't decode byte 0xff in position 0: invalid start byte\n",
      "1889 | Error loading eu/LEG_EN_HTML_20250721_04_08/c277d948-f0d0-11eb-a71c-01aa75ed71a1/xhtml/L_2021273EN.01013701.tif.jpg | 'utf-8' codec can't decode byte 0xff in position 0: invalid start byte\n"
     ]
    },
    {
     "name": "stderr",
     "output_type": "stream",
     "text": [
      "ERROR:root:1891 | Error loading eu/LEG_EN_HTML_20250721_04_08/c277d948-f0d0-11eb-a71c-01aa75ed71a1/xhtml/L_2021273EN.01006302.tif.jpg:\n",
      "Traceback (most recent call last):\n",
      "  File \"/var/folders/zj/t8mz7g111911kcsdk6nwh8g00000gn/T/ipykernel_1963/64700856.py\", line 5, in <module>\n",
      "    html_content = obj['Body'].read().decode('utf-8')  # HTML as string\n",
      "UnicodeDecodeError: 'utf-8' codec can't decode byte 0xff in position 0: invalid start byte\n",
      "\n",
      "Processing documents:   4%|▍         | 1892/46665 [9:07:00<1:05:00, 11.48it/s]ERROR:root:1892 | Error loading eu/LEG_EN_HTML_20250721_04_08/c277d948-f0d0-11eb-a71c-01aa75ed71a1/xhtml/L_2021273EN.01005915.tif.jpg:\n",
      "Traceback (most recent call last):\n",
      "  File \"/var/folders/zj/t8mz7g111911kcsdk6nwh8g00000gn/T/ipykernel_1963/64700856.py\", line 5, in <module>\n",
      "    html_content = obj['Body'].read().decode('utf-8')  # HTML as string\n",
      "UnicodeDecodeError: 'utf-8' codec can't decode byte 0xff in position 0: invalid start byte\n",
      "\n"
     ]
    },
    {
     "name": "stdout",
     "output_type": "stream",
     "text": [
      "1890 | Error loading eu/LEG_EN_HTML_20250721_04_08/c277d948-f0d0-11eb-a71c-01aa75ed71a1/xhtml/L_2021273EN.01003903.tif.jpg | 'utf-8' codec can't decode byte 0xff in position 0: invalid start byte\n",
      "1891 | Error loading eu/LEG_EN_HTML_20250721_04_08/c277d948-f0d0-11eb-a71c-01aa75ed71a1/xhtml/L_2021273EN.01006302.tif.jpg | 'utf-8' codec can't decode byte 0xff in position 0: invalid start byte\n",
      "1892 | Error loading eu/LEG_EN_HTML_20250721_04_08/c277d948-f0d0-11eb-a71c-01aa75ed71a1/xhtml/L_2021273EN.01005915.tif.jpg | 'utf-8' codec can't decode byte 0xff in position 0: invalid start byte\n"
     ]
    },
    {
     "name": "stderr",
     "output_type": "stream",
     "text": [
      "ERROR:root:1893 | Error loading eu/LEG_EN_HTML_20250721_04_08/c277d948-f0d0-11eb-a71c-01aa75ed71a1/xhtml/L_2021273EN.01005905.tif.jpg:\n",
      "Traceback (most recent call last):\n",
      "  File \"/var/folders/zj/t8mz7g111911kcsdk6nwh8g00000gn/T/ipykernel_1963/64700856.py\", line 5, in <module>\n",
      "    html_content = obj['Body'].read().decode('utf-8')  # HTML as string\n",
      "UnicodeDecodeError: 'utf-8' codec can't decode byte 0xff in position 0: invalid start byte\n",
      "\n",
      "Processing documents:   4%|▍         | 1894/46665 [9:07:00<1:02:32, 11.93it/s]ERROR:root:1894 | Error loading eu/LEG_EN_HTML_20250721_04_08/c277d948-f0d0-11eb-a71c-01aa75ed71a1/xhtml/L_2021273EN.01003802.tif.jpg:\n",
      "Traceback (most recent call last):\n",
      "  File \"/var/folders/zj/t8mz7g111911kcsdk6nwh8g00000gn/T/ipykernel_1963/64700856.py\", line 5, in <module>\n",
      "    html_content = obj['Body'].read().decode('utf-8')  # HTML as string\n",
      "UnicodeDecodeError: 'utf-8' codec can't decode byte 0xff in position 0: invalid start byte\n",
      "\n",
      "ERROR:root:1895 | Error loading eu/LEG_EN_HTML_20250721_04_08/c277d948-f0d0-11eb-a71c-01aa75ed71a1/xhtml/L_2021273EN.01004202.tif.jpg:\n",
      "Traceback (most recent call last):\n",
      "  File \"/var/folders/zj/t8mz7g111911kcsdk6nwh8g00000gn/T/ipykernel_1963/64700856.py\", line 5, in <module>\n",
      "    html_content = obj['Body'].read().decode('utf-8')  # HTML as string\n",
      "UnicodeDecodeError: 'utf-8' codec can't decode byte 0xff in position 0: invalid start byte\n",
      "\n",
      "Processing documents:   4%|▍         | 1896/46665 [9:07:00<1:06:01, 11.30it/s]"
     ]
    },
    {
     "name": "stdout",
     "output_type": "stream",
     "text": [
      "1893 | Error loading eu/LEG_EN_HTML_20250721_04_08/c277d948-f0d0-11eb-a71c-01aa75ed71a1/xhtml/L_2021273EN.01005905.tif.jpg | 'utf-8' codec can't decode byte 0xff in position 0: invalid start byte\n",
      "1894 | Error loading eu/LEG_EN_HTML_20250721_04_08/c277d948-f0d0-11eb-a71c-01aa75ed71a1/xhtml/L_2021273EN.01003802.tif.jpg | 'utf-8' codec can't decode byte 0xff in position 0: invalid start byte\n",
      "1895 | Error loading eu/LEG_EN_HTML_20250721_04_08/c277d948-f0d0-11eb-a71c-01aa75ed71a1/xhtml/L_2021273EN.01004202.tif.jpg | 'utf-8' codec can't decode byte 0xff in position 0: invalid start byte\n"
     ]
    },
    {
     "name": "stderr",
     "output_type": "stream",
     "text": [
      "ERROR:root:1896 | Error loading eu/LEG_EN_HTML_20250721_04_08/c277d948-f0d0-11eb-a71c-01aa75ed71a1/xhtml/L_2021273EN.01003401.tif.jpg:\n",
      "Traceback (most recent call last):\n",
      "  File \"/var/folders/zj/t8mz7g111911kcsdk6nwh8g00000gn/T/ipykernel_1963/64700856.py\", line 5, in <module>\n",
      "    html_content = obj['Body'].read().decode('utf-8')  # HTML as string\n",
      "UnicodeDecodeError: 'utf-8' codec can't decode byte 0xff in position 0: invalid start byte\n",
      "\n",
      "ERROR:root:1897 | Error loading eu/LEG_EN_HTML_20250721_04_08/c277d948-f0d0-11eb-a71c-01aa75ed71a1/xhtml/L_2021273EN.01006201.tif.jpg:\n",
      "Traceback (most recent call last):\n",
      "  File \"/var/folders/zj/t8mz7g111911kcsdk6nwh8g00000gn/T/ipykernel_1963/64700856.py\", line 5, in <module>\n",
      "    html_content = obj['Body'].read().decode('utf-8')  # HTML as string\n",
      "UnicodeDecodeError: 'utf-8' codec can't decode byte 0xff in position 0: invalid start byte\n",
      "\n",
      "Processing documents:   4%|▍         | 1898/46665 [9:07:00<1:03:52, 11.68it/s]ERROR:root:1898 | Error loading eu/LEG_EN_HTML_20250721_04_08/c277d948-f0d0-11eb-a71c-01aa75ed71a1/xhtml/L_2021273EN.01003502.tif.jpg:\n",
      "Traceback (most recent call last):\n",
      "  File \"/var/folders/zj/t8mz7g111911kcsdk6nwh8g00000gn/T/ipykernel_1963/64700856.py\", line 5, in <module>\n",
      "    html_content = obj['Body'].read().decode('utf-8')  # HTML as string\n",
      "UnicodeDecodeError: 'utf-8' codec can't decode byte 0xff in position 0: invalid start byte\n",
      "\n"
     ]
    },
    {
     "name": "stdout",
     "output_type": "stream",
     "text": [
      "1896 | Error loading eu/LEG_EN_HTML_20250721_04_08/c277d948-f0d0-11eb-a71c-01aa75ed71a1/xhtml/L_2021273EN.01003401.tif.jpg | 'utf-8' codec can't decode byte 0xff in position 0: invalid start byte\n",
      "1897 | Error loading eu/LEG_EN_HTML_20250721_04_08/c277d948-f0d0-11eb-a71c-01aa75ed71a1/xhtml/L_2021273EN.01006201.tif.jpg | 'utf-8' codec can't decode byte 0xff in position 0: invalid start byte\n",
      "1898 | Error loading eu/LEG_EN_HTML_20250721_04_08/c277d948-f0d0-11eb-a71c-01aa75ed71a1/xhtml/L_2021273EN.01003502.tif.jpg | 'utf-8' codec can't decode byte 0xff in position 0: invalid start byte\n"
     ]
    },
    {
     "name": "stderr",
     "output_type": "stream",
     "text": [
      "ERROR:root:1899 | Error loading eu/LEG_EN_HTML_20250721_04_08/c277d948-f0d0-11eb-a71c-01aa75ed71a1/xhtml/L_2021273EN.01004301.tif.jpg:\n",
      "Traceback (most recent call last):\n",
      "  File \"/var/folders/zj/t8mz7g111911kcsdk6nwh8g00000gn/T/ipykernel_1963/64700856.py\", line 5, in <module>\n",
      "    html_content = obj['Body'].read().decode('utf-8')  # HTML as string\n",
      "UnicodeDecodeError: 'utf-8' codec can't decode byte 0xff in position 0: invalid start byte\n",
      "\n",
      "Processing documents:   4%|▍         | 1900/46665 [9:07:00<1:00:54, 12.25it/s]ERROR:root:1900 | Error loading eu/LEG_EN_HTML_20250721_04_08/c277d948-f0d0-11eb-a71c-01aa75ed71a1/xhtml/L_2021273EN.01003901.tif.jpg:\n",
      "Traceback (most recent call last):\n",
      "  File \"/var/folders/zj/t8mz7g111911kcsdk6nwh8g00000gn/T/ipykernel_1963/64700856.py\", line 5, in <module>\n",
      "    html_content = obj['Body'].read().decode('utf-8')  # HTML as string\n",
      "UnicodeDecodeError: 'utf-8' codec can't decode byte 0xff in position 0: invalid start byte\n",
      "\n",
      "ERROR:root:1901 | Error loading eu/LEG_EN_HTML_20250721_04_08/c277d948-f0d0-11eb-a71c-01aa75ed71a1/xhtml/L_2021273EN.01005701.tif.jpg:\n",
      "Traceback (most recent call last):\n",
      "  File \"/var/folders/zj/t8mz7g111911kcsdk6nwh8g00000gn/T/ipykernel_1963/64700856.py\", line 5, in <module>\n",
      "    html_content = obj['Body'].read().decode('utf-8')  # HTML as string\n",
      "UnicodeDecodeError: 'utf-8' codec can't decode byte 0xff in position 0: invalid start byte\n",
      "\n",
      "Processing documents:   4%|▍         | 1902/46665 [9:07:00<59:42, 12.50it/s]  "
     ]
    },
    {
     "name": "stdout",
     "output_type": "stream",
     "text": [
      "1899 | Error loading eu/LEG_EN_HTML_20250721_04_08/c277d948-f0d0-11eb-a71c-01aa75ed71a1/xhtml/L_2021273EN.01004301.tif.jpg | 'utf-8' codec can't decode byte 0xff in position 0: invalid start byte\n",
      "1900 | Error loading eu/LEG_EN_HTML_20250721_04_08/c277d948-f0d0-11eb-a71c-01aa75ed71a1/xhtml/L_2021273EN.01003901.tif.jpg | 'utf-8' codec can't decode byte 0xff in position 0: invalid start byte\n",
      "1901 | Error loading eu/LEG_EN_HTML_20250721_04_08/c277d948-f0d0-11eb-a71c-01aa75ed71a1/xhtml/L_2021273EN.01005701.tif.jpg | 'utf-8' codec can't decode byte 0xff in position 0: invalid start byte\n"
     ]
    },
    {
     "name": "stderr",
     "output_type": "stream",
     "text": [
      "ERROR:root:1902 | Error loading eu/LEG_EN_HTML_20250721_04_08/c277d948-f0d0-11eb-a71c-01aa75ed71a1/xhtml/L_2021273EN.01006104.tif.jpg:\n",
      "Traceback (most recent call last):\n",
      "  File \"/var/folders/zj/t8mz7g111911kcsdk6nwh8g00000gn/T/ipykernel_1963/64700856.py\", line 5, in <module>\n",
      "    html_content = obj['Body'].read().decode('utf-8')  # HTML as string\n",
      "UnicodeDecodeError: 'utf-8' codec can't decode byte 0xff in position 0: invalid start byte\n",
      "\n"
     ]
    },
    {
     "name": "stdout",
     "output_type": "stream",
     "text": [
      "1902 | Error loading eu/LEG_EN_HTML_20250721_04_08/c277d948-f0d0-11eb-a71c-01aa75ed71a1/xhtml/L_2021273EN.01006104.tif.jpg | 'utf-8' codec can't decode byte 0xff in position 0: invalid start byte\n"
     ]
    },
    {
     "name": "stderr",
     "output_type": "stream",
     "text": [
      "Processing documents:   4%|▍         | 1904/46665 [9:08:41<189:25:13, 15.23s/it]ERROR:root:1904 | Error loading eu/LEG_EN_HTML_20250721_04_08/c277d948-f0d0-11eb-a71c-01aa75ed71a1/xhtml/L_2021273EN.01003201.tif.jpg:\n",
      "Traceback (most recent call last):\n",
      "  File \"/var/folders/zj/t8mz7g111911kcsdk6nwh8g00000gn/T/ipykernel_1963/64700856.py\", line 5, in <module>\n",
      "    html_content = obj['Body'].read().decode('utf-8')  # HTML as string\n",
      "UnicodeDecodeError: 'utf-8' codec can't decode byte 0xff in position 0: invalid start byte\n",
      "\n",
      "Processing documents:   4%|▍         | 1905/46665 [9:08:42<156:23:59, 12.58s/it]ERROR:root:1905 | Error loading eu/LEG_EN_HTML_20250721_04_08/c277d948-f0d0-11eb-a71c-01aa75ed71a1/xhtml/L_2021273EN.01010202.tif.jpg:\n",
      "Traceback (most recent call last):\n",
      "  File \"/var/folders/zj/t8mz7g111911kcsdk6nwh8g00000gn/T/ipykernel_1963/64700856.py\", line 5, in <module>\n",
      "    html_content = obj['Body'].read().decode('utf-8')  # HTML as string\n",
      "UnicodeDecodeError: 'utf-8' codec can't decode byte 0xff in position 0: invalid start byte\n",
      "\n"
     ]
    },
    {
     "name": "stdout",
     "output_type": "stream",
     "text": [
      "1904 | Error loading eu/LEG_EN_HTML_20250721_04_08/c277d948-f0d0-11eb-a71c-01aa75ed71a1/xhtml/L_2021273EN.01003201.tif.jpg | 'utf-8' codec can't decode byte 0xff in position 0: invalid start byte\n",
      "1905 | Error loading eu/LEG_EN_HTML_20250721_04_08/c277d948-f0d0-11eb-a71c-01aa75ed71a1/xhtml/L_2021273EN.01010202.tif.jpg | 'utf-8' codec can't decode byte 0xff in position 0: invalid start byte\n"
     ]
    },
    {
     "name": "stderr",
     "output_type": "stream",
     "text": [
      "ERROR:root:1906 | Error loading eu/LEG_EN_HTML_20250721_04_08/c277d948-f0d0-11eb-a71c-01aa75ed71a1/xhtml/L_2021273EN.01004801.tif.jpg:\n",
      "Traceback (most recent call last):\n",
      "  File \"/var/folders/zj/t8mz7g111911kcsdk6nwh8g00000gn/T/ipykernel_1963/64700856.py\", line 5, in <module>\n",
      "    html_content = obj['Body'].read().decode('utf-8')  # HTML as string\n",
      "UnicodeDecodeError: 'utf-8' codec can't decode byte 0xff in position 0: invalid start byte\n",
      "\n",
      "Processing documents:   4%|▍         | 1907/46665 [9:08:42<104:37:24,  8.42s/it]ERROR:root:1907 | Error loading eu/LEG_EN_HTML_20250721_04_08/c277d948-f0d0-11eb-a71c-01aa75ed71a1/xhtml/L_2021273EN.01003503.tif.jpg:\n",
      "Traceback (most recent call last):\n",
      "  File \"/var/folders/zj/t8mz7g111911kcsdk6nwh8g00000gn/T/ipykernel_1963/64700856.py\", line 5, in <module>\n",
      "    html_content = obj['Body'].read().decode('utf-8')  # HTML as string\n",
      "UnicodeDecodeError: 'utf-8' codec can't decode byte 0xff in position 0: invalid start byte\n",
      "\n",
      "ERROR:root:1908 | Error loading eu/LEG_EN_HTML_20250721_04_08/c277d948-f0d0-11eb-a71c-01aa75ed71a1/xhtml/L_2021273EN.01006901.tif.jpg:\n",
      "Traceback (most recent call last):\n",
      "  File \"/var/folders/zj/t8mz7g111911kcsdk6nwh8g00000gn/T/ipykernel_1963/64700856.py\", line 5, in <module>\n",
      "    html_content = obj['Body'].read().decode('utf-8')  # HTML as string\n",
      "UnicodeDecodeError: 'utf-8' codec can't decode byte 0xff in position 0: invalid start byte\n",
      "\n",
      "Processing documents:   4%|▍         | 1909/46665 [9:08:42<71:09:13,  5.72s/it] "
     ]
    },
    {
     "name": "stdout",
     "output_type": "stream",
     "text": [
      "1906 | Error loading eu/LEG_EN_HTML_20250721_04_08/c277d948-f0d0-11eb-a71c-01aa75ed71a1/xhtml/L_2021273EN.01004801.tif.jpg | 'utf-8' codec can't decode byte 0xff in position 0: invalid start byte\n",
      "1907 | Error loading eu/LEG_EN_HTML_20250721_04_08/c277d948-f0d0-11eb-a71c-01aa75ed71a1/xhtml/L_2021273EN.01003503.tif.jpg | 'utf-8' codec can't decode byte 0xff in position 0: invalid start byte\n",
      "1908 | Error loading eu/LEG_EN_HTML_20250721_04_08/c277d948-f0d0-11eb-a71c-01aa75ed71a1/xhtml/L_2021273EN.01006901.tif.jpg | 'utf-8' codec can't decode byte 0xff in position 0: invalid start byte\n"
     ]
    },
    {
     "name": "stderr",
     "output_type": "stream",
     "text": [
      "ERROR:root:1909 | Error loading eu/LEG_EN_HTML_20250721_04_08/c277d948-f0d0-11eb-a71c-01aa75ed71a1/xhtml/L_2021273EN.01004501.tif.jpg:\n",
      "Traceback (most recent call last):\n",
      "  File \"/var/folders/zj/t8mz7g111911kcsdk6nwh8g00000gn/T/ipykernel_1963/64700856.py\", line 5, in <module>\n",
      "    html_content = obj['Body'].read().decode('utf-8')  # HTML as string\n",
      "UnicodeDecodeError: 'utf-8' codec can't decode byte 0xff in position 0: invalid start byte\n",
      "\n",
      "Processing documents:   4%|▍         | 1910/46665 [9:08:42<58:09:46,  4.68s/it]ERROR:root:1910 | Error loading eu/LEG_EN_HTML_20250721_04_08/c277d948-f0d0-11eb-a71c-01aa75ed71a1/xhtml/L_2021273EN.01005101.tif.jpg:\n",
      "Traceback (most recent call last):\n",
      "  File \"/var/folders/zj/t8mz7g111911kcsdk6nwh8g00000gn/T/ipykernel_1963/64700856.py\", line 5, in <module>\n",
      "    html_content = obj['Body'].read().decode('utf-8')  # HTML as string\n",
      "UnicodeDecodeError: 'utf-8' codec can't decode byte 0xff in position 0: invalid start byte\n",
      "\n",
      "Processing documents:   4%|▍         | 1911/46665 [9:08:43<46:18:05,  3.72s/it]"
     ]
    },
    {
     "name": "stdout",
     "output_type": "stream",
     "text": [
      "1909 | Error loading eu/LEG_EN_HTML_20250721_04_08/c277d948-f0d0-11eb-a71c-01aa75ed71a1/xhtml/L_2021273EN.01004501.tif.jpg | 'utf-8' codec can't decode byte 0xff in position 0: invalid start byte\n",
      "1910 | Error loading eu/LEG_EN_HTML_20250721_04_08/c277d948-f0d0-11eb-a71c-01aa75ed71a1/xhtml/L_2021273EN.01005101.tif.jpg | 'utf-8' codec can't decode byte 0xff in position 0: invalid start byte\n"
     ]
    },
    {
     "name": "stderr",
     "output_type": "stream",
     "text": [
      "ERROR:root:1911 | Error loading eu/LEG_EN_HTML_20250721_04_08/c277d948-f0d0-11eb-a71c-01aa75ed71a1/xhtml/L_2021273EN.01006303.tif.jpg:\n",
      "Traceback (most recent call last):\n",
      "  File \"/var/folders/zj/t8mz7g111911kcsdk6nwh8g00000gn/T/ipykernel_1963/64700856.py\", line 5, in <module>\n",
      "    html_content = obj['Body'].read().decode('utf-8')  # HTML as string\n",
      "UnicodeDecodeError: 'utf-8' codec can't decode byte 0xff in position 0: invalid start byte\n",
      "\n",
      "ERROR:root:1912 | Error loading eu/LEG_EN_HTML_20250721_04_08/c277d948-f0d0-11eb-a71c-01aa75ed71a1/xhtml/L_2021273EN.01013601.tif.jpg:\n",
      "Traceback (most recent call last):\n",
      "  File \"/var/folders/zj/t8mz7g111911kcsdk6nwh8g00000gn/T/ipykernel_1963/64700856.py\", line 5, in <module>\n",
      "    html_content = obj['Body'].read().decode('utf-8')  # HTML as string\n",
      "UnicodeDecodeError: 'utf-8' codec can't decode byte 0xff in position 0: invalid start byte\n",
      "\n",
      "Processing documents:   4%|▍         | 1913/46665 [9:08:43<29:15:21,  2.35s/it]ERROR:root:1913 | Error loading eu/LEG_EN_HTML_20250721_04_08/c277d948-f0d0-11eb-a71c-01aa75ed71a1/xhtml/L_2021273EN.01004203.tif.jpg:\n",
      "Traceback (most recent call last):\n",
      "  File \"/var/folders/zj/t8mz7g111911kcsdk6nwh8g00000gn/T/ipykernel_1963/64700856.py\", line 5, in <module>\n",
      "    html_content = obj['Body'].read().decode('utf-8')  # HTML as string\n",
      "UnicodeDecodeError: 'utf-8' codec can't decode byte 0xff in position 0: invalid start byte\n",
      "\n"
     ]
    },
    {
     "name": "stdout",
     "output_type": "stream",
     "text": [
      "1911 | Error loading eu/LEG_EN_HTML_20250721_04_08/c277d948-f0d0-11eb-a71c-01aa75ed71a1/xhtml/L_2021273EN.01006303.tif.jpg | 'utf-8' codec can't decode byte 0xff in position 0: invalid start byte\n",
      "1912 | Error loading eu/LEG_EN_HTML_20250721_04_08/c277d948-f0d0-11eb-a71c-01aa75ed71a1/xhtml/L_2021273EN.01013601.tif.jpg | 'utf-8' codec can't decode byte 0xff in position 0: invalid start byte\n",
      "1913 | Error loading eu/LEG_EN_HTML_20250721_04_08/c277d948-f0d0-11eb-a71c-01aa75ed71a1/xhtml/L_2021273EN.01004203.tif.jpg | 'utf-8' codec can't decode byte 0xff in position 0: invalid start byte\n"
     ]
    },
    {
     "name": "stderr",
     "output_type": "stream",
     "text": [
      "ERROR:root:1914 | Error loading eu/LEG_EN_HTML_20250721_04_08/c277d948-f0d0-11eb-a71c-01aa75ed71a1/xhtml/L_2021273EN.01005904.tif.jpg:\n",
      "Traceback (most recent call last):\n",
      "  File \"/var/folders/zj/t8mz7g111911kcsdk6nwh8g00000gn/T/ipykernel_1963/64700856.py\", line 5, in <module>\n",
      "    html_content = obj['Body'].read().decode('utf-8')  # HTML as string\n",
      "UnicodeDecodeError: 'utf-8' codec can't decode byte 0xff in position 0: invalid start byte\n",
      "\n",
      "Processing documents:   4%|▍         | 1915/46665 [9:08:43<19:17:29,  1.55s/it]ERROR:root:1915 | Error loading eu/LEG_EN_HTML_20250721_04_08/c277d948-f0d0-11eb-a71c-01aa75ed71a1/xhtml/L_2021273EN.01005914.tif.jpg:\n",
      "Traceback (most recent call last):\n",
      "  File \"/var/folders/zj/t8mz7g111911kcsdk6nwh8g00000gn/T/ipykernel_1963/64700856.py\", line 5, in <module>\n",
      "    html_content = obj['Body'].read().decode('utf-8')  # HTML as string\n",
      "UnicodeDecodeError: 'utf-8' codec can't decode byte 0xff in position 0: invalid start byte\n",
      "\n",
      "ERROR:root:1916 | Error loading eu/LEG_EN_HTML_20250721_04_08/c277d948-f0d0-11eb-a71c-01aa75ed71a1/xhtml/L_2021273EN.01006401.tif.jpg:\n",
      "Traceback (most recent call last):\n",
      "  File \"/var/folders/zj/t8mz7g111911kcsdk6nwh8g00000gn/T/ipykernel_1963/64700856.py\", line 5, in <module>\n",
      "    html_content = obj['Body'].read().decode('utf-8')  # HTML as string\n",
      "UnicodeDecodeError: 'utf-8' codec can't decode byte 0xff in position 0: invalid start byte\n",
      "\n",
      "Processing documents:   4%|▍         | 1917/46665 [9:08:43<13:10:00,  1.06s/it]"
     ]
    },
    {
     "name": "stdout",
     "output_type": "stream",
     "text": [
      "1914 | Error loading eu/LEG_EN_HTML_20250721_04_08/c277d948-f0d0-11eb-a71c-01aa75ed71a1/xhtml/L_2021273EN.01005904.tif.jpg | 'utf-8' codec can't decode byte 0xff in position 0: invalid start byte\n",
      "1915 | Error loading eu/LEG_EN_HTML_20250721_04_08/c277d948-f0d0-11eb-a71c-01aa75ed71a1/xhtml/L_2021273EN.01005914.tif.jpg | 'utf-8' codec can't decode byte 0xff in position 0: invalid start byte\n",
      "1916 | Error loading eu/LEG_EN_HTML_20250721_04_08/c277d948-f0d0-11eb-a71c-01aa75ed71a1/xhtml/L_2021273EN.01006401.tif.jpg | 'utf-8' codec can't decode byte 0xff in position 0: invalid start byte\n"
     ]
    },
    {
     "name": "stderr",
     "output_type": "stream",
     "text": [
      "ERROR:root:1917 | Error loading eu/LEG_EN_HTML_20250721_04_08/c277d948-f0d0-11eb-a71c-01aa75ed71a1/xhtml/L_2021273EN.01012201.tif.jpg:\n",
      "Traceback (most recent call last):\n",
      "  File \"/var/folders/zj/t8mz7g111911kcsdk6nwh8g00000gn/T/ipykernel_1963/64700856.py\", line 5, in <module>\n",
      "    html_content = obj['Body'].read().decode('utf-8')  # HTML as string\n",
      "UnicodeDecodeError: 'utf-8' codec can't decode byte 0xff in position 0: invalid start byte\n",
      "\n",
      "ERROR:root:1918 | Error loading eu/LEG_EN_HTML_20250721_04_08/c277d948-f0d0-11eb-a71c-01aa75ed71a1/xhtml/L_2021273EN.01013604.tif.jpg:\n",
      "Traceback (most recent call last):\n",
      "  File \"/var/folders/zj/t8mz7g111911kcsdk6nwh8g00000gn/T/ipykernel_1963/64700856.py\", line 5, in <module>\n",
      "    html_content = obj['Body'].read().decode('utf-8')  # HTML as string\n",
      "UnicodeDecodeError: 'utf-8' codec can't decode byte 0xff in position 0: invalid start byte\n",
      "\n",
      "Processing documents:   4%|▍         | 1919/46665 [9:08:43<9:18:01,  1.34it/s] ERROR:root:1919 | Error loading eu/LEG_EN_HTML_20250721_04_08/c277d948-f0d0-11eb-a71c-01aa75ed71a1/xhtml/L_2021273EN.01005911.tif.jpg:\n",
      "Traceback (most recent call last):\n",
      "  File \"/var/folders/zj/t8mz7g111911kcsdk6nwh8g00000gn/T/ipykernel_1963/64700856.py\", line 5, in <module>\n",
      "    html_content = obj['Body'].read().decode('utf-8')  # HTML as string\n",
      "UnicodeDecodeError: 'utf-8' codec can't decode byte 0xff in position 0: invalid start byte\n",
      "\n",
      "ERROR:root:1920 | Error loading eu/LEG_EN_HTML_20250721_04_08/c277d948-f0d0-11eb-a71c-01aa75ed71a1/xhtml/L_2021273EN.01005901.tif.jpg:\n",
      "Traceback (most recent call last):\n",
      "  File \"/var/folders/zj/t8mz7g111911kcsdk6nwh8g00000gn/T/ipykernel_1963/64700856.py\", line 5, in <module>\n",
      "    html_content = obj['Body'].read().decode('utf-8')  # HTML as string\n",
      "UnicodeDecodeError: 'utf-8' codec can't decode byte 0xff in position 0: invalid start byte\n",
      "\n",
      "Processing documents:   4%|▍         | 1921/46665 [9:08:43<6:38:32,  1.87it/s]"
     ]
    },
    {
     "name": "stdout",
     "output_type": "stream",
     "text": [
      "1917 | Error loading eu/LEG_EN_HTML_20250721_04_08/c277d948-f0d0-11eb-a71c-01aa75ed71a1/xhtml/L_2021273EN.01012201.tif.jpg | 'utf-8' codec can't decode byte 0xff in position 0: invalid start byte\n",
      "1918 | Error loading eu/LEG_EN_HTML_20250721_04_08/c277d948-f0d0-11eb-a71c-01aa75ed71a1/xhtml/L_2021273EN.01013604.tif.jpg | 'utf-8' codec can't decode byte 0xff in position 0: invalid start byte\n",
      "1919 | Error loading eu/LEG_EN_HTML_20250721_04_08/c277d948-f0d0-11eb-a71c-01aa75ed71a1/xhtml/L_2021273EN.01005911.tif.jpg | 'utf-8' codec can't decode byte 0xff in position 0: invalid start byte\n",
      "1920 | Error loading eu/LEG_EN_HTML_20250721_04_08/c277d948-f0d0-11eb-a71c-01aa75ed71a1/xhtml/L_2021273EN.01005901.tif.jpg | 'utf-8' codec can't decode byte 0xff in position 0: invalid start byte\n"
     ]
    },
    {
     "name": "stderr",
     "output_type": "stream",
     "text": [
      "ERROR:root:1921 | Error loading eu/LEG_EN_HTML_20250721_04_08/c277d948-f0d0-11eb-a71c-01aa75ed71a1/xhtml/L_2021273EN.01003701.tif.jpg:\n",
      "Traceback (most recent call last):\n",
      "  File \"/var/folders/zj/t8mz7g111911kcsdk6nwh8g00000gn/T/ipykernel_1963/64700856.py\", line 5, in <module>\n",
      "    html_content = obj['Body'].read().decode('utf-8')  # HTML as string\n",
      "UnicodeDecodeError: 'utf-8' codec can't decode byte 0xff in position 0: invalid start byte\n",
      "\n",
      "ERROR:root:1922 | Error loading eu/LEG_EN_HTML_20250721_04_08/c277d948-f0d0-11eb-a71c-01aa75ed71a1/xhtml/L_2021273EN.01004102.tif.jpg:\n",
      "Traceback (most recent call last):\n",
      "  File \"/var/folders/zj/t8mz7g111911kcsdk6nwh8g00000gn/T/ipykernel_1963/64700856.py\", line 5, in <module>\n",
      "    html_content = obj['Body'].read().decode('utf-8')  # HTML as string\n",
      "UnicodeDecodeError: 'utf-8' codec can't decode byte 0xff in position 0: invalid start byte\n",
      "\n",
      "Processing documents:   4%|▍         | 1923/46665 [9:08:43<4:48:08,  2.59it/s]ERROR:root:1923 | Error loading eu/LEG_EN_HTML_20250721_04_08/c277d948-f0d0-11eb-a71c-01aa75ed71a1/xhtml/L_2021273EN.01006002.tif.jpg:\n",
      "Traceback (most recent call last):\n",
      "  File \"/var/folders/zj/t8mz7g111911kcsdk6nwh8g00000gn/T/ipykernel_1963/64700856.py\", line 5, in <module>\n",
      "    html_content = obj['Body'].read().decode('utf-8')  # HTML as string\n",
      "UnicodeDecodeError: 'utf-8' codec can't decode byte 0xff in position 0: invalid start byte\n",
      "\n",
      "ERROR:root:1924 | Error loading eu/LEG_EN_HTML_20250721_04_08/c277d948-f0d0-11eb-a71c-01aa75ed71a1/xhtml/L_2021273EN.01003003.tif.jpg:\n",
      "Traceback (most recent call last):\n",
      "  File \"/var/folders/zj/t8mz7g111911kcsdk6nwh8g00000gn/T/ipykernel_1963/64700856.py\", line 5, in <module>\n",
      "    html_content = obj['Body'].read().decode('utf-8')  # HTML as string\n",
      "UnicodeDecodeError: 'utf-8' codec can't decode byte 0xff in position 0: invalid start byte\n",
      "\n",
      "Processing documents:   4%|▍         | 1925/46665 [9:08:44<3:36:40,  3.44it/s]"
     ]
    },
    {
     "name": "stdout",
     "output_type": "stream",
     "text": [
      "1921 | Error loading eu/LEG_EN_HTML_20250721_04_08/c277d948-f0d0-11eb-a71c-01aa75ed71a1/xhtml/L_2021273EN.01003701.tif.jpg | 'utf-8' codec can't decode byte 0xff in position 0: invalid start byte\n",
      "1922 | Error loading eu/LEG_EN_HTML_20250721_04_08/c277d948-f0d0-11eb-a71c-01aa75ed71a1/xhtml/L_2021273EN.01004102.tif.jpg | 'utf-8' codec can't decode byte 0xff in position 0: invalid start byte\n",
      "1923 | Error loading eu/LEG_EN_HTML_20250721_04_08/c277d948-f0d0-11eb-a71c-01aa75ed71a1/xhtml/L_2021273EN.01006002.tif.jpg | 'utf-8' codec can't decode byte 0xff in position 0: invalid start byte\n",
      "1924 | Error loading eu/LEG_EN_HTML_20250721_04_08/c277d948-f0d0-11eb-a71c-01aa75ed71a1/xhtml/L_2021273EN.01003003.tif.jpg | 'utf-8' codec can't decode byte 0xff in position 0: invalid start byte\n"
     ]
    },
    {
     "name": "stderr",
     "output_type": "stream",
     "text": [
      "ERROR:root:1925 | Error loading eu/LEG_EN_HTML_20250721_04_08/c277d948-f0d0-11eb-a71c-01aa75ed71a1/xhtml/L_2021273EN.01005401.tif.jpg:\n",
      "Traceback (most recent call last):\n",
      "  File \"/var/folders/zj/t8mz7g111911kcsdk6nwh8g00000gn/T/ipykernel_1963/64700856.py\", line 5, in <module>\n",
      "    html_content = obj['Body'].read().decode('utf-8')  # HTML as string\n",
      "UnicodeDecodeError: 'utf-8' codec can't decode byte 0xff in position 0: invalid start byte\n",
      "\n",
      "ERROR:root:1926 | Error loading eu/LEG_EN_HTML_20250721_04_08/c277d948-f0d0-11eb-a71c-01aa75ed71a1/xhtml/L_2021273EN.01004001.tif.jpg:\n",
      "Traceback (most recent call last):\n",
      "  File \"/var/folders/zj/t8mz7g111911kcsdk6nwh8g00000gn/T/ipykernel_1963/64700856.py\", line 5, in <module>\n",
      "    html_content = obj['Body'].read().decode('utf-8')  # HTML as string\n",
      "UnicodeDecodeError: 'utf-8' codec can't decode byte 0xff in position 0: invalid start byte\n",
      "\n",
      "Processing documents:   4%|▍         | 1927/46665 [9:08:44<2:50:01,  4.39it/s]ERROR:root:1927 | Error loading eu/LEG_EN_HTML_20250721_04_08/c277d948-f0d0-11eb-a71c-01aa75ed71a1/xhtml/L_2021273EN.01003602.tif.jpg:\n",
      "Traceback (most recent call last):\n",
      "  File \"/var/folders/zj/t8mz7g111911kcsdk6nwh8g00000gn/T/ipykernel_1963/64700856.py\", line 5, in <module>\n",
      "    html_content = obj['Body'].read().decode('utf-8')  # HTML as string\n",
      "UnicodeDecodeError: 'utf-8' codec can't decode byte 0xff in position 0: invalid start byte\n",
      "\n"
     ]
    },
    {
     "name": "stdout",
     "output_type": "stream",
     "text": [
      "1925 | Error loading eu/LEG_EN_HTML_20250721_04_08/c277d948-f0d0-11eb-a71c-01aa75ed71a1/xhtml/L_2021273EN.01005401.tif.jpg | 'utf-8' codec can't decode byte 0xff in position 0: invalid start byte\n",
      "1926 | Error loading eu/LEG_EN_HTML_20250721_04_08/c277d948-f0d0-11eb-a71c-01aa75ed71a1/xhtml/L_2021273EN.01004001.tif.jpg | 'utf-8' codec can't decode byte 0xff in position 0: invalid start byte\n",
      "1927 | Error loading eu/LEG_EN_HTML_20250721_04_08/c277d948-f0d0-11eb-a71c-01aa75ed71a1/xhtml/L_2021273EN.01003602.tif.jpg | 'utf-8' codec can't decode byte 0xff in position 0: invalid start byte\n"
     ]
    },
    {
     "name": "stderr",
     "output_type": "stream",
     "text": [
      "ERROR:root:1928 | Error loading eu/LEG_EN_HTML_20250721_04_08/c277d948-f0d0-11eb-a71c-01aa75ed71a1/xhtml/L_2021273EN.01005908.tif.jpg:\n",
      "Traceback (most recent call last):\n",
      "  File \"/var/folders/zj/t8mz7g111911kcsdk6nwh8g00000gn/T/ipykernel_1963/64700856.py\", line 5, in <module>\n",
      "    html_content = obj['Body'].read().decode('utf-8')  # HTML as string\n",
      "UnicodeDecodeError: 'utf-8' codec can't decode byte 0xff in position 0: invalid start byte\n",
      "\n",
      "Processing documents:   4%|▍         | 1929/46665 [9:08:44<2:19:40,  5.34it/s]ERROR:root:1929 | Error loading eu/LEG_EN_HTML_20250721_04_08/c277d948-f0d0-11eb-a71c-01aa75ed71a1/xhtml/L_2021273EN.01006101.tif.jpg:\n",
      "Traceback (most recent call last):\n",
      "  File \"/var/folders/zj/t8mz7g111911kcsdk6nwh8g00000gn/T/ipykernel_1963/64700856.py\", line 5, in <module>\n",
      "    html_content = obj['Body'].read().decode('utf-8')  # HTML as string\n",
      "UnicodeDecodeError: 'utf-8' codec can't decode byte 0xff in position 0: invalid start byte\n",
      "\n",
      "ERROR:root:1930 | Error loading eu/LEG_EN_HTML_20250721_04_08/c277d948-f0d0-11eb-a71c-01aa75ed71a1/xhtml/L_2021273EN.01002903.tif.jpg:\n",
      "Traceback (most recent call last):\n",
      "  File \"/var/folders/zj/t8mz7g111911kcsdk6nwh8g00000gn/T/ipykernel_1963/64700856.py\", line 5, in <module>\n",
      "    html_content = obj['Body'].read().decode('utf-8')  # HTML as string\n",
      "UnicodeDecodeError: 'utf-8' codec can't decode byte 0xff in position 0: invalid start byte\n",
      "\n",
      "ERROR:root:1931 | Error loading eu/LEG_EN_HTML_20250721_04_08/c277d948-f0d0-11eb-a71c-01aa75ed71a1/xhtml/L_2021273EN.01013301.tif.jpg:\n",
      "Traceback (most recent call last):\n",
      "  File \"/var/folders/zj/t8mz7g111911kcsdk6nwh8g00000gn/T/ipykernel_1963/64700856.py\", line 5, in <module>\n",
      "    html_content = obj['Body'].read().decode('utf-8')  # HTML as string\n",
      "UnicodeDecodeError: 'utf-8' codec can't decode byte 0xff in position 0: invalid start byte\n",
      "\n",
      "Processing documents:   4%|▍         | 1932/46665 [9:08:44<1:41:16,  7.36it/s]"
     ]
    },
    {
     "name": "stdout",
     "output_type": "stream",
     "text": [
      "1928 | Error loading eu/LEG_EN_HTML_20250721_04_08/c277d948-f0d0-11eb-a71c-01aa75ed71a1/xhtml/L_2021273EN.01005908.tif.jpg | 'utf-8' codec can't decode byte 0xff in position 0: invalid start byte\n",
      "1929 | Error loading eu/LEG_EN_HTML_20250721_04_08/c277d948-f0d0-11eb-a71c-01aa75ed71a1/xhtml/L_2021273EN.01006101.tif.jpg | 'utf-8' codec can't decode byte 0xff in position 0: invalid start byte\n",
      "1930 | Error loading eu/LEG_EN_HTML_20250721_04_08/c277d948-f0d0-11eb-a71c-01aa75ed71a1/xhtml/L_2021273EN.01002903.tif.jpg | 'utf-8' codec can't decode byte 0xff in position 0: invalid start byte\n",
      "1931 | Error loading eu/LEG_EN_HTML_20250721_04_08/c277d948-f0d0-11eb-a71c-01aa75ed71a1/xhtml/L_2021273EN.01013301.tif.jpg | 'utf-8' codec can't decode byte 0xff in position 0: invalid start byte\n"
     ]
    },
    {
     "name": "stderr",
     "output_type": "stream",
     "text": [
      "ERROR:root:1932 | Error loading eu/LEG_EN_HTML_20250721_04_08/c277d948-f0d0-11eb-a71c-01aa75ed71a1/xhtml/L_2021273EN.01005909.tif.jpg:\n",
      "Traceback (most recent call last):\n",
      "  File \"/var/folders/zj/t8mz7g111911kcsdk6nwh8g00000gn/T/ipykernel_1963/64700856.py\", line 5, in <module>\n",
      "    html_content = obj['Body'].read().decode('utf-8')  # HTML as string\n",
      "UnicodeDecodeError: 'utf-8' codec can't decode byte 0xff in position 0: invalid start byte\n",
      "\n",
      "ERROR:root:1933 | Error loading eu/LEG_EN_HTML_20250721_04_08/c277d948-f0d0-11eb-a71c-01aa75ed71a1/xhtml/L_2021273EN.01003603.tif.jpg:\n",
      "Traceback (most recent call last):\n",
      "  File \"/var/folders/zj/t8mz7g111911kcsdk6nwh8g00000gn/T/ipykernel_1963/64700856.py\", line 5, in <module>\n",
      "    html_content = obj['Body'].read().decode('utf-8')  # HTML as string\n",
      "UnicodeDecodeError: 'utf-8' codec can't decode byte 0xff in position 0: invalid start byte\n",
      "\n",
      "Processing documents:   4%|▍         | 1934/46665 [9:08:44<1:25:22,  8.73it/s]ERROR:root:1934 | Error loading eu/LEG_EN_HTML_20250721_04_08/c277d948-f0d0-11eb-a71c-01aa75ed71a1/xhtml/L_2021273EN.01002902.tif.jpg:\n",
      "Traceback (most recent call last):\n",
      "  File \"/var/folders/zj/t8mz7g111911kcsdk6nwh8g00000gn/T/ipykernel_1963/64700856.py\", line 5, in <module>\n",
      "    html_content = obj['Body'].read().decode('utf-8')  # HTML as string\n",
      "UnicodeDecodeError: 'utf-8' codec can't decode byte 0xff in position 0: invalid start byte\n",
      "\n",
      "ERROR:root:1935 | Error loading eu/LEG_EN_HTML_20250721_04_08/c277d948-f0d0-11eb-a71c-01aa75ed71a1/xhtml/L_2021273EN.01003101.tif.jpg:\n",
      "Traceback (most recent call last):\n",
      "  File \"/var/folders/zj/t8mz7g111911kcsdk6nwh8g00000gn/T/ipykernel_1963/64700856.py\", line 5, in <module>\n",
      "    html_content = obj['Body'].read().decode('utf-8')  # HTML as string\n",
      "UnicodeDecodeError: 'utf-8' codec can't decode byte 0xff in position 0: invalid start byte\n",
      "\n",
      "Processing documents:   4%|▍         | 1936/46665 [9:08:44<1:16:05,  9.80it/s]"
     ]
    },
    {
     "name": "stdout",
     "output_type": "stream",
     "text": [
      "1932 | Error loading eu/LEG_EN_HTML_20250721_04_08/c277d948-f0d0-11eb-a71c-01aa75ed71a1/xhtml/L_2021273EN.01005909.tif.jpg | 'utf-8' codec can't decode byte 0xff in position 0: invalid start byte\n",
      "1933 | Error loading eu/LEG_EN_HTML_20250721_04_08/c277d948-f0d0-11eb-a71c-01aa75ed71a1/xhtml/L_2021273EN.01003603.tif.jpg | 'utf-8' codec can't decode byte 0xff in position 0: invalid start byte\n",
      "1934 | Error loading eu/LEG_EN_HTML_20250721_04_08/c277d948-f0d0-11eb-a71c-01aa75ed71a1/xhtml/L_2021273EN.01002902.tif.jpg | 'utf-8' codec can't decode byte 0xff in position 0: invalid start byte\n",
      "1935 | Error loading eu/LEG_EN_HTML_20250721_04_08/c277d948-f0d0-11eb-a71c-01aa75ed71a1/xhtml/L_2021273EN.01003101.tif.jpg | 'utf-8' codec can't decode byte 0xff in position 0: invalid start byte\n"
     ]
    },
    {
     "name": "stderr",
     "output_type": "stream",
     "text": [
      "ERROR:root:1936 | Error loading eu/LEG_EN_HTML_20250721_04_08/c277d948-f0d0-11eb-a71c-01aa75ed71a1/xhtml/L_2021273EN.01006204.tif.jpg:\n",
      "Traceback (most recent call last):\n",
      "  File \"/var/folders/zj/t8mz7g111911kcsdk6nwh8g00000gn/T/ipykernel_1963/64700856.py\", line 5, in <module>\n",
      "    html_content = obj['Body'].read().decode('utf-8')  # HTML as string\n",
      "UnicodeDecodeError: 'utf-8' codec can't decode byte 0xff in position 0: invalid start byte\n",
      "\n",
      "ERROR:root:1937 | Error loading eu/LEG_EN_HTML_20250721_04_08/c277d948-f0d0-11eb-a71c-01aa75ed71a1/xhtml/L_2021273EN.01008201.tif.jpg:\n",
      "Traceback (most recent call last):\n",
      "  File \"/var/folders/zj/t8mz7g111911kcsdk6nwh8g00000gn/T/ipykernel_1963/64700856.py\", line 5, in <module>\n",
      "    html_content = obj['Body'].read().decode('utf-8')  # HTML as string\n",
      "UnicodeDecodeError: 'utf-8' codec can't decode byte 0xff in position 0: invalid start byte\n",
      "\n",
      "Processing documents:   4%|▍         | 1938/46665 [9:08:45<1:27:58,  8.47it/s]ERROR:root:1938 | Error loading eu/LEG_EN_HTML_20250721_04_08/c277d948-f0d0-11eb-a71c-01aa75ed71a1/xhtml/L_2021273EN.01005910.tif.jpg:\n",
      "Traceback (most recent call last):\n",
      "  File \"/var/folders/zj/t8mz7g111911kcsdk6nwh8g00000gn/T/ipykernel_1963/64700856.py\", line 5, in <module>\n",
      "    html_content = obj['Body'].read().decode('utf-8')  # HTML as string\n",
      "UnicodeDecodeError: 'utf-8' codec can't decode byte 0xff in position 0: invalid start byte\n",
      "\n"
     ]
    },
    {
     "name": "stdout",
     "output_type": "stream",
     "text": [
      "1936 | Error loading eu/LEG_EN_HTML_20250721_04_08/c277d948-f0d0-11eb-a71c-01aa75ed71a1/xhtml/L_2021273EN.01006204.tif.jpg | 'utf-8' codec can't decode byte 0xff in position 0: invalid start byte\n",
      "1937 | Error loading eu/LEG_EN_HTML_20250721_04_08/c277d948-f0d0-11eb-a71c-01aa75ed71a1/xhtml/L_2021273EN.01008201.tif.jpg | 'utf-8' codec can't decode byte 0xff in position 0: invalid start byte\n",
      "1938 | Error loading eu/LEG_EN_HTML_20250721_04_08/c277d948-f0d0-11eb-a71c-01aa75ed71a1/xhtml/L_2021273EN.01005910.tif.jpg | 'utf-8' codec can't decode byte 0xff in position 0: invalid start byte\n"
     ]
    },
    {
     "name": "stderr",
     "output_type": "stream",
     "text": [
      "ERROR:root:1939 | Error loading eu/LEG_EN_HTML_20250721_04_08/c277d948-f0d0-11eb-a71c-01aa75ed71a1/xhtml/L_2021273EN.01006701.tif.jpg:\n",
      "Traceback (most recent call last):\n",
      "  File \"/var/folders/zj/t8mz7g111911kcsdk6nwh8g00000gn/T/ipykernel_1963/64700856.py\", line 5, in <module>\n",
      "    html_content = obj['Body'].read().decode('utf-8')  # HTML as string\n",
      "UnicodeDecodeError: 'utf-8' codec can't decode byte 0xff in position 0: invalid start byte\n",
      "\n",
      "Processing documents:   4%|▍         | 1940/46665 [9:08:45<1:23:09,  8.96it/s]ERROR:root:1940 | Error loading eu/LEG_EN_HTML_20250721_04_08/c277d948-f0d0-11eb-a71c-01aa75ed71a1/xhtml/L_2021273EN.01013501.tif.jpg:\n",
      "Traceback (most recent call last):\n",
      "  File \"/var/folders/zj/t8mz7g111911kcsdk6nwh8g00000gn/T/ipykernel_1963/64700856.py\", line 5, in <module>\n",
      "    html_content = obj['Body'].read().decode('utf-8')  # HTML as string\n",
      "UnicodeDecodeError: 'utf-8' codec can't decode byte 0xff in position 0: invalid start byte\n",
      "\n",
      "ERROR:root:1941 | Error loading eu/LEG_EN_HTML_20250721_04_08/c277d948-f0d0-11eb-a71c-01aa75ed71a1/xhtml/L_2021273EN.01005201.tif.jpg:\n",
      "Traceback (most recent call last):\n",
      "  File \"/var/folders/zj/t8mz7g111911kcsdk6nwh8g00000gn/T/ipykernel_1963/64700856.py\", line 5, in <module>\n",
      "    html_content = obj['Body'].read().decode('utf-8')  # HTML as string\n",
      "UnicodeDecodeError: 'utf-8' codec can't decode byte 0xff in position 0: invalid start byte\n",
      "\n",
      "Processing documents:   4%|▍         | 1942/46665 [9:08:45<1:20:02,  9.31it/s]"
     ]
    },
    {
     "name": "stdout",
     "output_type": "stream",
     "text": [
      "1939 | Error loading eu/LEG_EN_HTML_20250721_04_08/c277d948-f0d0-11eb-a71c-01aa75ed71a1/xhtml/L_2021273EN.01006701.tif.jpg | 'utf-8' codec can't decode byte 0xff in position 0: invalid start byte\n",
      "1940 | Error loading eu/LEG_EN_HTML_20250721_04_08/c277d948-f0d0-11eb-a71c-01aa75ed71a1/xhtml/L_2021273EN.01013501.tif.jpg | 'utf-8' codec can't decode byte 0xff in position 0: invalid start byte\n",
      "1941 | Error loading eu/LEG_EN_HTML_20250721_04_08/c277d948-f0d0-11eb-a71c-01aa75ed71a1/xhtml/L_2021273EN.01005201.tif.jpg | 'utf-8' codec can't decode byte 0xff in position 0: invalid start byte\n"
     ]
    },
    {
     "name": "stderr",
     "output_type": "stream",
     "text": [
      "ERROR:root:1942 | Error loading eu/LEG_EN_HTML_20250721_04_08/c277d948-f0d0-11eb-a71c-01aa75ed71a1/xhtml/L_2021273EN.01006003.tif.jpg:\n",
      "Traceback (most recent call last):\n",
      "  File \"/var/folders/zj/t8mz7g111911kcsdk6nwh8g00000gn/T/ipykernel_1963/64700856.py\", line 5, in <module>\n",
      "    html_content = obj['Body'].read().decode('utf-8')  # HTML as string\n",
      "UnicodeDecodeError: 'utf-8' codec can't decode byte 0xff in position 0: invalid start byte\n",
      "\n",
      "ERROR:root:1943 | Error loading eu/LEG_EN_HTML_20250721_04_08/c277d948-f0d0-11eb-a71c-01aa75ed71a1/xhtml/L_2021273EN.01002801.tif.jpg:\n",
      "Traceback (most recent call last):\n",
      "  File \"/var/folders/zj/t8mz7g111911kcsdk6nwh8g00000gn/T/ipykernel_1963/64700856.py\", line 5, in <module>\n",
      "    html_content = obj['Body'].read().decode('utf-8')  # HTML as string\n",
      "UnicodeDecodeError: 'utf-8' codec can't decode byte 0xff in position 0: invalid start byte\n",
      "\n",
      "Processing documents:   4%|▍         | 1944/46665 [9:08:45<1:15:10,  9.91it/s]ERROR:root:1944 | Error loading eu/LEG_EN_HTML_20250721_04_08/c277d948-f0d0-11eb-a71c-01aa75ed71a1/xhtml/L_2021273EN.01003002.tif.jpg:\n",
      "Traceback (most recent call last):\n",
      "  File \"/var/folders/zj/t8mz7g111911kcsdk6nwh8g00000gn/T/ipykernel_1963/64700856.py\", line 5, in <module>\n",
      "    html_content = obj['Body'].read().decode('utf-8')  # HTML as string\n",
      "UnicodeDecodeError: 'utf-8' codec can't decode byte 0xff in position 0: invalid start byte\n",
      "\n",
      "ERROR:root:1945 | Error loading eu/LEG_EN_HTML_20250721_04_08/c277d948-f0d0-11eb-a71c-01aa75ed71a1/xhtml/L_2021273EN.01010001.tif.jpg:\n",
      "Traceback (most recent call last):\n",
      "  File \"/var/folders/zj/t8mz7g111911kcsdk6nwh8g00000gn/T/ipykernel_1963/64700856.py\", line 5, in <module>\n",
      "    html_content = obj['Body'].read().decode('utf-8')  # HTML as string\n",
      "UnicodeDecodeError: 'utf-8' codec can't decode byte 0xff in position 0: invalid start byte\n",
      "\n",
      "Processing documents:   4%|▍         | 1946/46665 [9:08:45<1:08:30, 10.88it/s]"
     ]
    },
    {
     "name": "stdout",
     "output_type": "stream",
     "text": [
      "1942 | Error loading eu/LEG_EN_HTML_20250721_04_08/c277d948-f0d0-11eb-a71c-01aa75ed71a1/xhtml/L_2021273EN.01006003.tif.jpg | 'utf-8' codec can't decode byte 0xff in position 0: invalid start byte\n",
      "1943 | Error loading eu/LEG_EN_HTML_20250721_04_08/c277d948-f0d0-11eb-a71c-01aa75ed71a1/xhtml/L_2021273EN.01002801.tif.jpg | 'utf-8' codec can't decode byte 0xff in position 0: invalid start byte\n",
      "1944 | Error loading eu/LEG_EN_HTML_20250721_04_08/c277d948-f0d0-11eb-a71c-01aa75ed71a1/xhtml/L_2021273EN.01003002.tif.jpg | 'utf-8' codec can't decode byte 0xff in position 0: invalid start byte\n",
      "1945 | Error loading eu/LEG_EN_HTML_20250721_04_08/c277d948-f0d0-11eb-a71c-01aa75ed71a1/xhtml/L_2021273EN.01010001.tif.jpg | 'utf-8' codec can't decode byte 0xff in position 0: invalid start byte\n"
     ]
    },
    {
     "name": "stderr",
     "output_type": "stream",
     "text": [
      "ERROR:root:1946 | Error loading eu/LEG_EN_HTML_20250721_04_08/c277d948-f0d0-11eb-a71c-01aa75ed71a1/xhtml/L_2021273EN.01004601.tif.jpg:\n",
      "Traceback (most recent call last):\n",
      "  File \"/var/folders/zj/t8mz7g111911kcsdk6nwh8g00000gn/T/ipykernel_1963/64700856.py\", line 5, in <module>\n",
      "    html_content = obj['Body'].read().decode('utf-8')  # HTML as string\n",
      "UnicodeDecodeError: 'utf-8' codec can't decode byte 0xff in position 0: invalid start byte\n",
      "\n",
      "ERROR:root:1947 | Error loading eu/LEG_EN_HTML_20250721_04_08/c277d948-f0d0-11eb-a71c-01aa75ed71a1/xhtml/L_2021273EN.01004002.tif.jpg:\n",
      "Traceback (most recent call last):\n",
      "  File \"/var/folders/zj/t8mz7g111911kcsdk6nwh8g00000gn/T/ipykernel_1963/64700856.py\", line 5, in <module>\n",
      "    html_content = obj['Body'].read().decode('utf-8')  # HTML as string\n",
      "UnicodeDecodeError: 'utf-8' codec can't decode byte 0xff in position 0: invalid start byte\n",
      "\n",
      "Processing documents:   4%|▍         | 1948/46665 [9:08:46<1:14:29, 10.00it/s]ERROR:root:1948 | Error loading eu/LEG_EN_HTML_20250721_04_08/c277d948-f0d0-11eb-a71c-01aa75ed71a1/xhtml/L_2021273EN.01003601.tif.jpg:\n",
      "Traceback (most recent call last):\n",
      "  File \"/var/folders/zj/t8mz7g111911kcsdk6nwh8g00000gn/T/ipykernel_1963/64700856.py\", line 5, in <module>\n",
      "    html_content = obj['Body'].read().decode('utf-8')  # HTML as string\n",
      "UnicodeDecodeError: 'utf-8' codec can't decode byte 0xff in position 0: invalid start byte\n",
      "\n"
     ]
    },
    {
     "name": "stdout",
     "output_type": "stream",
     "text": [
      "1946 | Error loading eu/LEG_EN_HTML_20250721_04_08/c277d948-f0d0-11eb-a71c-01aa75ed71a1/xhtml/L_2021273EN.01004601.tif.jpg | 'utf-8' codec can't decode byte 0xff in position 0: invalid start byte\n",
      "1947 | Error loading eu/LEG_EN_HTML_20250721_04_08/c277d948-f0d0-11eb-a71c-01aa75ed71a1/xhtml/L_2021273EN.01004002.tif.jpg | 'utf-8' codec can't decode byte 0xff in position 0: invalid start byte\n",
      "1948 | Error loading eu/LEG_EN_HTML_20250721_04_08/c277d948-f0d0-11eb-a71c-01aa75ed71a1/xhtml/L_2021273EN.01003601.tif.jpg | 'utf-8' codec can't decode byte 0xff in position 0: invalid start byte\n"
     ]
    },
    {
     "name": "stderr",
     "output_type": "stream",
     "text": [
      "ERROR:root:1949 | Error loading eu/LEG_EN_HTML_20250721_04_08/c277d948-f0d0-11eb-a71c-01aa75ed71a1/xhtml/L_2021273EN.01005801.tif.jpg:\n",
      "Traceback (most recent call last):\n",
      "  File \"/var/folders/zj/t8mz7g111911kcsdk6nwh8g00000gn/T/ipykernel_1963/64700856.py\", line 5, in <module>\n",
      "    html_content = obj['Body'].read().decode('utf-8')  # HTML as string\n",
      "UnicodeDecodeError: 'utf-8' codec can't decode byte 0xff in position 0: invalid start byte\n",
      "\n",
      "Processing documents:   4%|▍         | 1950/46665 [9:08:46<1:12:53, 10.22it/s]ERROR:root:1950 | Error loading eu/LEG_EN_HTML_20250721_04_08/c277d948-f0d0-11eb-a71c-01aa75ed71a1/xhtml/L_2021273EN.01006102.tif.jpg:\n",
      "Traceback (most recent call last):\n",
      "  File \"/var/folders/zj/t8mz7g111911kcsdk6nwh8g00000gn/T/ipykernel_1963/64700856.py\", line 5, in <module>\n",
      "    html_content = obj['Body'].read().decode('utf-8')  # HTML as string\n",
      "UnicodeDecodeError: 'utf-8' codec can't decode byte 0xff in position 0: invalid start byte\n",
      "\n",
      "ERROR:root:1951 | Error loading eu/LEG_EN_HTML_20250721_04_08/c277d948-f0d0-11eb-a71c-01aa75ed71a1/xhtml/L_2021273EN.01003702.tif.jpg:\n",
      "Traceback (most recent call last):\n",
      "  File \"/var/folders/zj/t8mz7g111911kcsdk6nwh8g00000gn/T/ipykernel_1963/64700856.py\", line 5, in <module>\n",
      "    html_content = obj['Body'].read().decode('utf-8')  # HTML as string\n",
      "UnicodeDecodeError: 'utf-8' codec can't decode byte 0xff in position 0: invalid start byte\n",
      "\n",
      "Processing documents:   4%|▍         | 1952/46665 [9:08:46<1:06:00, 11.29it/s]"
     ]
    },
    {
     "name": "stdout",
     "output_type": "stream",
     "text": [
      "1949 | Error loading eu/LEG_EN_HTML_20250721_04_08/c277d948-f0d0-11eb-a71c-01aa75ed71a1/xhtml/L_2021273EN.01005801.tif.jpg | 'utf-8' codec can't decode byte 0xff in position 0: invalid start byte\n",
      "1950 | Error loading eu/LEG_EN_HTML_20250721_04_08/c277d948-f0d0-11eb-a71c-01aa75ed71a1/xhtml/L_2021273EN.01006102.tif.jpg | 'utf-8' codec can't decode byte 0xff in position 0: invalid start byte\n",
      "1951 | Error loading eu/LEG_EN_HTML_20250721_04_08/c277d948-f0d0-11eb-a71c-01aa75ed71a1/xhtml/L_2021273EN.01003702.tif.jpg | 'utf-8' codec can't decode byte 0xff in position 0: invalid start byte\n"
     ]
    },
    {
     "name": "stderr",
     "output_type": "stream",
     "text": [
      "ERROR:root:1952 | Error loading eu/LEG_EN_HTML_20250721_04_08/c277d948-f0d0-11eb-a71c-01aa75ed71a1/xhtml/L_2021273EN.01004101.tif.jpg:\n",
      "Traceback (most recent call last):\n",
      "  File \"/var/folders/zj/t8mz7g111911kcsdk6nwh8g00000gn/T/ipykernel_1963/64700856.py\", line 5, in <module>\n",
      "    html_content = obj['Body'].read().decode('utf-8')  # HTML as string\n",
      "UnicodeDecodeError: 'utf-8' codec can't decode byte 0xff in position 0: invalid start byte\n",
      "\n",
      "ERROR:root:1953 | Error loading eu/LEG_EN_HTML_20250721_04_08/c277d948-f0d0-11eb-a71c-01aa75ed71a1/xhtml/L_2021273EN.01005912.tif.jpg:\n",
      "Traceback (most recent call last):\n",
      "  File \"/var/folders/zj/t8mz7g111911kcsdk6nwh8g00000gn/T/ipykernel_1963/64700856.py\", line 5, in <module>\n",
      "    html_content = obj['Body'].read().decode('utf-8')  # HTML as string\n",
      "UnicodeDecodeError: 'utf-8' codec can't decode byte 0xff in position 0: invalid start byte\n",
      "\n",
      "Processing documents:   4%|▍         | 1954/46665 [9:08:46<1:03:58, 11.65it/s]ERROR:root:1954 | Error loading eu/LEG_EN_HTML_20250721_04_08/c277d948-f0d0-11eb-a71c-01aa75ed71a1/xhtml/L_2021273EN.01005902.tif.jpg:\n",
      "Traceback (most recent call last):\n",
      "  File \"/var/folders/zj/t8mz7g111911kcsdk6nwh8g00000gn/T/ipykernel_1963/64700856.py\", line 5, in <module>\n",
      "    html_content = obj['Body'].read().decode('utf-8')  # HTML as string\n",
      "UnicodeDecodeError: 'utf-8' codec can't decode byte 0xff in position 0: invalid start byte\n",
      "\n"
     ]
    },
    {
     "name": "stdout",
     "output_type": "stream",
     "text": [
      "1952 | Error loading eu/LEG_EN_HTML_20250721_04_08/c277d948-f0d0-11eb-a71c-01aa75ed71a1/xhtml/L_2021273EN.01004101.tif.jpg | 'utf-8' codec can't decode byte 0xff in position 0: invalid start byte\n",
      "1953 | Error loading eu/LEG_EN_HTML_20250721_04_08/c277d948-f0d0-11eb-a71c-01aa75ed71a1/xhtml/L_2021273EN.01005912.tif.jpg | 'utf-8' codec can't decode byte 0xff in position 0: invalid start byte\n",
      "1954 | Error loading eu/LEG_EN_HTML_20250721_04_08/c277d948-f0d0-11eb-a71c-01aa75ed71a1/xhtml/L_2021273EN.01005902.tif.jpg | 'utf-8' codec can't decode byte 0xff in position 0: invalid start byte\n"
     ]
    },
    {
     "name": "stderr",
     "output_type": "stream",
     "text": [
      "ERROR:root:1955 | Error loading eu/LEG_EN_HTML_20250721_04_08/c277d948-f0d0-11eb-a71c-01aa75ed71a1/xhtml/L_2021273EN.01005501.tif.jpg:\n",
      "Traceback (most recent call last):\n",
      "  File \"/var/folders/zj/t8mz7g111911kcsdk6nwh8g00000gn/T/ipykernel_1963/64700856.py\", line 5, in <module>\n",
      "    html_content = obj['Body'].read().decode('utf-8')  # HTML as string\n",
      "UnicodeDecodeError: 'utf-8' codec can't decode byte 0xff in position 0: invalid start byte\n",
      "\n",
      "Processing documents:   4%|▍         | 1956/46665 [9:08:46<1:16:27,  9.75it/s]ERROR:root:1956 | Error loading eu/LEG_EN_HTML_20250721_04_08/c277d948-f0d0-11eb-a71c-01aa75ed71a1/xhtml/L_2021273EN.01006001.tif.jpg:\n",
      "Traceback (most recent call last):\n",
      "  File \"/var/folders/zj/t8mz7g111911kcsdk6nwh8g00000gn/T/ipykernel_1963/64700856.py\", line 5, in <module>\n",
      "    html_content = obj['Body'].read().decode('utf-8')  # HTML as string\n",
      "UnicodeDecodeError: 'utf-8' codec can't decode byte 0xff in position 0: invalid start byte\n",
      "\n",
      "ERROR:root:1957 | Error loading eu/LEG_EN_HTML_20250721_04_08/c277d948-f0d0-11eb-a71c-01aa75ed71a1/xhtml/L_2021273EN.01003703.tif.jpg:\n",
      "Traceback (most recent call last):\n",
      "  File \"/var/folders/zj/t8mz7g111911kcsdk6nwh8g00000gn/T/ipykernel_1963/64700856.py\", line 5, in <module>\n",
      "    html_content = obj['Body'].read().decode('utf-8')  # HTML as string\n",
      "UnicodeDecodeError: 'utf-8' codec can't decode byte 0xff in position 0: invalid start byte\n",
      "\n",
      "Processing documents:   4%|▍         | 1958/46665 [9:08:47<1:15:02,  9.93it/s]"
     ]
    },
    {
     "name": "stdout",
     "output_type": "stream",
     "text": [
      "1955 | Error loading eu/LEG_EN_HTML_20250721_04_08/c277d948-f0d0-11eb-a71c-01aa75ed71a1/xhtml/L_2021273EN.01005501.tif.jpg | 'utf-8' codec can't decode byte 0xff in position 0: invalid start byte\n",
      "1956 | Error loading eu/LEG_EN_HTML_20250721_04_08/c277d948-f0d0-11eb-a71c-01aa75ed71a1/xhtml/L_2021273EN.01006001.tif.jpg | 'utf-8' codec can't decode byte 0xff in position 0: invalid start byte\n",
      "1957 | Error loading eu/LEG_EN_HTML_20250721_04_08/c277d948-f0d0-11eb-a71c-01aa75ed71a1/xhtml/L_2021273EN.01003703.tif.jpg | 'utf-8' codec can't decode byte 0xff in position 0: invalid start byte\n"
     ]
    },
    {
     "name": "stderr",
     "output_type": "stream",
     "text": [
      "ERROR:root:1958 | Error loading eu/LEG_EN_HTML_20250721_04_08/c277d948-f0d0-11eb-a71c-01aa75ed71a1/xhtml/L_2021273EN.01004204.tif.jpg:\n",
      "Traceback (most recent call last):\n",
      "  File \"/var/folders/zj/t8mz7g111911kcsdk6nwh8g00000gn/T/ipykernel_1963/64700856.py\", line 5, in <module>\n",
      "    html_content = obj['Body'].read().decode('utf-8')  # HTML as string\n",
      "UnicodeDecodeError: 'utf-8' codec can't decode byte 0xff in position 0: invalid start byte\n",
      "\n",
      "ERROR:root:1959 | Error loading eu/LEG_EN_HTML_20250721_04_08/c277d948-f0d0-11eb-a71c-01aa75ed71a1/xhtml/L_2021273EN.01005903.tif.jpg:\n",
      "Traceback (most recent call last):\n",
      "  File \"/var/folders/zj/t8mz7g111911kcsdk6nwh8g00000gn/T/ipykernel_1963/64700856.py\", line 5, in <module>\n",
      "    html_content = obj['Body'].read().decode('utf-8')  # HTML as string\n",
      "UnicodeDecodeError: 'utf-8' codec can't decode byte 0xff in position 0: invalid start byte\n",
      "\n",
      "Processing documents:   4%|▍         | 1960/46665 [9:08:47<1:05:21, 11.40it/s]ERROR:root:1960 | Error loading eu/LEG_EN_HTML_20250721_04_08/c277d948-f0d0-11eb-a71c-01aa75ed71a1/xhtml/L_2021273EN.01005913.tif.jpg:\n",
      "Traceback (most recent call last):\n",
      "  File \"/var/folders/zj/t8mz7g111911kcsdk6nwh8g00000gn/T/ipykernel_1963/64700856.py\", line 5, in <module>\n",
      "    html_content = obj['Body'].read().decode('utf-8')  # HTML as string\n",
      "UnicodeDecodeError: 'utf-8' codec can't decode byte 0xff in position 0: invalid start byte\n",
      "\n",
      "ERROR:root:1961 | Error loading eu/LEG_EN_HTML_20250721_04_08/c277d948-f0d0-11eb-a71c-01aa75ed71a1/xhtml/L_2021273EN.01003001.tif.jpg:\n",
      "Traceback (most recent call last):\n",
      "  File \"/var/folders/zj/t8mz7g111911kcsdk6nwh8g00000gn/T/ipykernel_1963/64700856.py\", line 5, in <module>\n",
      "    html_content = obj['Body'].read().decode('utf-8')  # HTML as string\n",
      "UnicodeDecodeError: 'utf-8' codec can't decode byte 0xff in position 0: invalid start byte\n",
      "\n",
      "Processing documents:   4%|▍         | 1962/46665 [9:08:47<1:01:45, 12.07it/s]"
     ]
    },
    {
     "name": "stdout",
     "output_type": "stream",
     "text": [
      "1958 | Error loading eu/LEG_EN_HTML_20250721_04_08/c277d948-f0d0-11eb-a71c-01aa75ed71a1/xhtml/L_2021273EN.01004204.tif.jpg | 'utf-8' codec can't decode byte 0xff in position 0: invalid start byte\n",
      "1959 | Error loading eu/LEG_EN_HTML_20250721_04_08/c277d948-f0d0-11eb-a71c-01aa75ed71a1/xhtml/L_2021273EN.01005903.tif.jpg | 'utf-8' codec can't decode byte 0xff in position 0: invalid start byte\n",
      "1960 | Error loading eu/LEG_EN_HTML_20250721_04_08/c277d948-f0d0-11eb-a71c-01aa75ed71a1/xhtml/L_2021273EN.01005913.tif.jpg | 'utf-8' codec can't decode byte 0xff in position 0: invalid start byte\n",
      "1961 | Error loading eu/LEG_EN_HTML_20250721_04_08/c277d948-f0d0-11eb-a71c-01aa75ed71a1/xhtml/L_2021273EN.01003001.tif.jpg | 'utf-8' codec can't decode byte 0xff in position 0: invalid start byte\n"
     ]
    },
    {
     "name": "stderr",
     "output_type": "stream",
     "text": [
      "ERROR:root:1962 | Error loading eu/LEG_EN_HTML_20250721_04_08/c277d948-f0d0-11eb-a71c-01aa75ed71a1/xhtml/L_2021273EN.01006304.tif.jpg:\n",
      "Traceback (most recent call last):\n",
      "  File \"/var/folders/zj/t8mz7g111911kcsdk6nwh8g00000gn/T/ipykernel_1963/64700856.py\", line 5, in <module>\n",
      "    html_content = obj['Body'].read().decode('utf-8')  # HTML as string\n",
      "UnicodeDecodeError: 'utf-8' codec can't decode byte 0xff in position 0: invalid start byte\n",
      "\n",
      "ERROR:root:1963 | Error loading eu/LEG_EN_HTML_20250721_04_08/c277d948-f0d0-11eb-a71c-01aa75ed71a1/xhtml/L_2021273EN.01002802.tif.jpg:\n",
      "Traceback (most recent call last):\n",
      "  File \"/var/folders/zj/t8mz7g111911kcsdk6nwh8g00000gn/T/ipykernel_1963/64700856.py\", line 5, in <module>\n",
      "    html_content = obj['Body'].read().decode('utf-8')  # HTML as string\n",
      "UnicodeDecodeError: 'utf-8' codec can't decode byte 0xff in position 0: invalid start byte\n",
      "\n",
      "Processing documents:   4%|▍         | 1964/46665 [9:08:47<1:01:44, 12.07it/s]ERROR:root:1964 | Error loading eu/LEG_EN_HTML_20250721_04_08/c277d948-f0d0-11eb-a71c-01aa75ed71a1/xhtml/L_2021273EN.01013401.tif.jpg:\n",
      "Traceback (most recent call last):\n",
      "  File \"/var/folders/zj/t8mz7g111911kcsdk6nwh8g00000gn/T/ipykernel_1963/64700856.py\", line 5, in <module>\n",
      "    html_content = obj['Body'].read().decode('utf-8')  # HTML as string\n",
      "UnicodeDecodeError: 'utf-8' codec can't decode byte 0xff in position 0: invalid start byte\n",
      "\n",
      "ERROR:root:1965 | Error loading eu/LEG_EN_HTML_20250721_04_08/c277d948-f0d0-11eb-a71c-01aa75ed71a1/xhtml/L_2021273EN.01004003.tif.jpg:\n",
      "Traceback (most recent call last):\n",
      "  File \"/var/folders/zj/t8mz7g111911kcsdk6nwh8g00000gn/T/ipykernel_1963/64700856.py\", line 5, in <module>\n",
      "    html_content = obj['Body'].read().decode('utf-8')  # HTML as string\n",
      "UnicodeDecodeError: 'utf-8' codec can't decode byte 0xff in position 0: invalid start byte\n",
      "\n",
      "Processing documents:   4%|▍         | 1966/46665 [9:08:47<55:44, 13.37it/s]  "
     ]
    },
    {
     "name": "stdout",
     "output_type": "stream",
     "text": [
      "1962 | Error loading eu/LEG_EN_HTML_20250721_04_08/c277d948-f0d0-11eb-a71c-01aa75ed71a1/xhtml/L_2021273EN.01006304.tif.jpg | 'utf-8' codec can't decode byte 0xff in position 0: invalid start byte\n",
      "1963 | Error loading eu/LEG_EN_HTML_20250721_04_08/c277d948-f0d0-11eb-a71c-01aa75ed71a1/xhtml/L_2021273EN.01002802.tif.jpg | 'utf-8' codec can't decode byte 0xff in position 0: invalid start byte\n",
      "1964 | Error loading eu/LEG_EN_HTML_20250721_04_08/c277d948-f0d0-11eb-a71c-01aa75ed71a1/xhtml/L_2021273EN.01013401.tif.jpg | 'utf-8' codec can't decode byte 0xff in position 0: invalid start byte\n",
      "1965 | Error loading eu/LEG_EN_HTML_20250721_04_08/c277d948-f0d0-11eb-a71c-01aa75ed71a1/xhtml/L_2021273EN.01004003.tif.jpg | 'utf-8' codec can't decode byte 0xff in position 0: invalid start byte\n"
     ]
    },
    {
     "name": "stderr",
     "output_type": "stream",
     "text": [
      "ERROR:root:1966 | Error loading eu/LEG_EN_HTML_20250721_04_08/c277d948-f0d0-11eb-a71c-01aa75ed71a1/xhtml/L_2021273EN.01007201.tif.jpg:\n",
      "Traceback (most recent call last):\n",
      "  File \"/var/folders/zj/t8mz7g111911kcsdk6nwh8g00000gn/T/ipykernel_1963/64700856.py\", line 5, in <module>\n",
      "    html_content = obj['Body'].read().decode('utf-8')  # HTML as string\n",
      "UnicodeDecodeError: 'utf-8' codec can't decode byte 0xff in position 0: invalid start byte\n",
      "\n",
      "ERROR:root:1967 | Error loading eu/LEG_EN_HTML_20250721_04_08/c277d948-f0d0-11eb-a71c-01aa75ed71a1/xhtml/L_2021273EN.01003504.tif.jpg:\n",
      "Traceback (most recent call last):\n",
      "  File \"/var/folders/zj/t8mz7g111911kcsdk6nwh8g00000gn/T/ipykernel_1963/64700856.py\", line 5, in <module>\n",
      "    html_content = obj['Body'].read().decode('utf-8')  # HTML as string\n",
      "UnicodeDecodeError: 'utf-8' codec can't decode byte 0xff in position 0: invalid start byte\n",
      "\n",
      "Processing documents:   4%|▍         | 1968/46665 [9:08:47<58:32, 12.72it/s]ERROR:root:1968 | Error loading eu/LEG_EN_HTML_20250721_04_08/c277d948-f0d0-11eb-a71c-01aa75ed71a1/xhtml/L_2021273EN.01006601.tif.jpg:\n",
      "Traceback (most recent call last):\n",
      "  File \"/var/folders/zj/t8mz7g111911kcsdk6nwh8g00000gn/T/ipykernel_1963/64700856.py\", line 5, in <module>\n",
      "    html_content = obj['Body'].read().decode('utf-8')  # HTML as string\n",
      "UnicodeDecodeError: 'utf-8' codec can't decode byte 0xff in position 0: invalid start byte\n",
      "\n"
     ]
    },
    {
     "name": "stdout",
     "output_type": "stream",
     "text": [
      "1966 | Error loading eu/LEG_EN_HTML_20250721_04_08/c277d948-f0d0-11eb-a71c-01aa75ed71a1/xhtml/L_2021273EN.01007201.tif.jpg | 'utf-8' codec can't decode byte 0xff in position 0: invalid start byte\n",
      "1967 | Error loading eu/LEG_EN_HTML_20250721_04_08/c277d948-f0d0-11eb-a71c-01aa75ed71a1/xhtml/L_2021273EN.01003504.tif.jpg | 'utf-8' codec can't decode byte 0xff in position 0: invalid start byte\n",
      "1968 | Error loading eu/LEG_EN_HTML_20250721_04_08/c277d948-f0d0-11eb-a71c-01aa75ed71a1/xhtml/L_2021273EN.01006601.tif.jpg | 'utf-8' codec can't decode byte 0xff in position 0: invalid start byte\n"
     ]
    },
    {
     "name": "stderr",
     "output_type": "stream",
     "text": [
      "ERROR:root:1969 | Error loading eu/LEG_EN_HTML_20250721_04_08/c277d948-f0d0-11eb-a71c-01aa75ed71a1/xhtml/L_2021273EN.01008202.tif.jpg:\n",
      "Traceback (most recent call last):\n",
      "  File \"/var/folders/zj/t8mz7g111911kcsdk6nwh8g00000gn/T/ipykernel_1963/64700856.py\", line 5, in <module>\n",
      "    html_content = obj['Body'].read().decode('utf-8')  # HTML as string\n",
      "UnicodeDecodeError: 'utf-8' codec can't decode byte 0xff in position 0: invalid start byte\n",
      "\n",
      "Processing documents:   4%|▍         | 1970/46665 [9:08:48<1:11:10, 10.47it/s]"
     ]
    },
    {
     "name": "stdout",
     "output_type": "stream",
     "text": [
      "1969 | Error loading eu/LEG_EN_HTML_20250721_04_08/c277d948-f0d0-11eb-a71c-01aa75ed71a1/xhtml/L_2021273EN.01008202.tif.jpg | 'utf-8' codec can't decode byte 0xff in position 0: invalid start byte\n"
     ]
    },
    {
     "name": "stderr",
     "output_type": "stream",
     "text": [
      "ERROR:root:1970 | Error loading eu/LEG_EN_HTML_20250721_04_08/c277d948-f0d0-11eb-a71c-01aa75ed71a1/xhtml/L_2021273EN.01004701.tif.jpg:\n",
      "Traceback (most recent call last):\n",
      "  File \"/var/folders/zj/t8mz7g111911kcsdk6nwh8g00000gn/T/ipykernel_1963/64700856.py\", line 5, in <module>\n",
      "    html_content = obj['Body'].read().decode('utf-8')  # HTML as string\n",
      "UnicodeDecodeError: 'utf-8' codec can't decode byte 0xff in position 0: invalid start byte\n",
      "\n",
      "ERROR:root:1971 | Error loading eu/LEG_EN_HTML_20250721_04_08/c277d948-f0d0-11eb-a71c-01aa75ed71a1/xhtml/L_2021273EN.01003102.tif.jpg:\n",
      "Traceback (most recent call last):\n",
      "  File \"/var/folders/zj/t8mz7g111911kcsdk6nwh8g00000gn/T/ipykernel_1963/64700856.py\", line 5, in <module>\n",
      "    html_content = obj['Body'].read().decode('utf-8')  # HTML as string\n",
      "UnicodeDecodeError: 'utf-8' codec can't decode byte 0xff in position 0: invalid start byte\n",
      "\n",
      "Processing documents:   4%|▍         | 1972/46665 [9:08:48<1:26:10,  8.64it/s]ERROR:root:1972 | Error loading eu/LEG_EN_HTML_20250721_04_08/c277d948-f0d0-11eb-a71c-01aa75ed71a1/xhtml/L_2021273EN.01010101.tif.jpg:\n",
      "Traceback (most recent call last):\n",
      "  File \"/var/folders/zj/t8mz7g111911kcsdk6nwh8g00000gn/T/ipykernel_1963/64700856.py\", line 5, in <module>\n",
      "    html_content = obj['Body'].read().decode('utf-8')  # HTML as string\n",
      "UnicodeDecodeError: 'utf-8' codec can't decode byte 0xff in position 0: invalid start byte\n",
      "\n"
     ]
    },
    {
     "name": "stdout",
     "output_type": "stream",
     "text": [
      "1970 | Error loading eu/LEG_EN_HTML_20250721_04_08/c277d948-f0d0-11eb-a71c-01aa75ed71a1/xhtml/L_2021273EN.01004701.tif.jpg | 'utf-8' codec can't decode byte 0xff in position 0: invalid start byte\n",
      "1971 | Error loading eu/LEG_EN_HTML_20250721_04_08/c277d948-f0d0-11eb-a71c-01aa75ed71a1/xhtml/L_2021273EN.01003102.tif.jpg | 'utf-8' codec can't decode byte 0xff in position 0: invalid start byte\n",
      "1972 | Error loading eu/LEG_EN_HTML_20250721_04_08/c277d948-f0d0-11eb-a71c-01aa75ed71a1/xhtml/L_2021273EN.01010101.tif.jpg | 'utf-8' codec can't decode byte 0xff in position 0: invalid start byte\n"
     ]
    },
    {
     "name": "stderr",
     "output_type": "stream",
     "text": [
      "ERROR:root:1973 | Error loading eu/LEG_EN_HTML_20250721_04_08/c277d948-f0d0-11eb-a71c-01aa75ed71a1/xhtml/L_2021273EN.01011501.tif.jpg:\n",
      "Traceback (most recent call last):\n",
      "  File \"/var/folders/zj/t8mz7g111911kcsdk6nwh8g00000gn/T/ipykernel_1963/64700856.py\", line 5, in <module>\n",
      "    html_content = obj['Body'].read().decode('utf-8')  # HTML as string\n",
      "UnicodeDecodeError: 'utf-8' codec can't decode byte 0xff in position 0: invalid start byte\n",
      "\n",
      "Processing documents:   4%|▍         | 1974/46665 [9:08:48<1:42:22,  7.28it/s]"
     ]
    },
    {
     "name": "stdout",
     "output_type": "stream",
     "text": [
      "1973 | Error loading eu/LEG_EN_HTML_20250721_04_08/c277d948-f0d0-11eb-a71c-01aa75ed71a1/xhtml/L_2021273EN.01011501.tif.jpg | 'utf-8' codec can't decode byte 0xff in position 0: invalid start byte\n"
     ]
    },
    {
     "name": "stderr",
     "output_type": "stream",
     "text": [
      "ERROR:root:1974 | Error loading eu/LEG_EN_HTML_20250721_04_08/c277d948-f0d0-11eb-a71c-01aa75ed71a1/xhtml/L_2021273EN.01005301.tif.jpg:\n",
      "Traceback (most recent call last):\n",
      "  File \"/var/folders/zj/t8mz7g111911kcsdk6nwh8g00000gn/T/ipykernel_1963/64700856.py\", line 5, in <module>\n",
      "    html_content = obj['Body'].read().decode('utf-8')  # HTML as string\n",
      "UnicodeDecodeError: 'utf-8' codec can't decode byte 0xff in position 0: invalid start byte\n",
      "\n",
      "Processing documents:   4%|▍         | 1975/46665 [9:08:49<1:56:16,  6.41it/s]ERROR:root:1975 | Error loading eu/LEG_EN_HTML_20250721_04_08/c277d948-f0d0-11eb-a71c-01aa75ed71a1/xhtml/L_2021273EN.01006103.tif.jpg:\n",
      "Traceback (most recent call last):\n",
      "  File \"/var/folders/zj/t8mz7g111911kcsdk6nwh8g00000gn/T/ipykernel_1963/64700856.py\", line 5, in <module>\n",
      "    html_content = obj['Body'].read().decode('utf-8')  # HTML as string\n",
      "UnicodeDecodeError: 'utf-8' codec can't decode byte 0xff in position 0: invalid start byte\n",
      "\n",
      "Processing documents:   4%|▍         | 1976/46665 [9:08:49<2:01:30,  6.13it/s]"
     ]
    },
    {
     "name": "stdout",
     "output_type": "stream",
     "text": [
      "1974 | Error loading eu/LEG_EN_HTML_20250721_04_08/c277d948-f0d0-11eb-a71c-01aa75ed71a1/xhtml/L_2021273EN.01005301.tif.jpg | 'utf-8' codec can't decode byte 0xff in position 0: invalid start byte\n",
      "1975 | Error loading eu/LEG_EN_HTML_20250721_04_08/c277d948-f0d0-11eb-a71c-01aa75ed71a1/xhtml/L_2021273EN.01006103.tif.jpg | 'utf-8' codec can't decode byte 0xff in position 0: invalid start byte\n"
     ]
    },
    {
     "name": "stderr",
     "output_type": "stream",
     "text": [
      "ERROR:root:1976 | Error loading eu/LEG_EN_HTML_20250721_04_08/c277d948-f0d0-11eb-a71c-01aa75ed71a1/xhtml/L_2021273EN.01002901.tif.jpg:\n",
      "Traceback (most recent call last):\n",
      "  File \"/var/folders/zj/t8mz7g111911kcsdk6nwh8g00000gn/T/ipykernel_1963/64700856.py\", line 5, in <module>\n",
      "    html_content = obj['Body'].read().decode('utf-8')  # HTML as string\n",
      "UnicodeDecodeError: 'utf-8' codec can't decode byte 0xff in position 0: invalid start byte\n",
      "\n"
     ]
    },
    {
     "name": "stdout",
     "output_type": "stream",
     "text": [
      "1976 | Error loading eu/LEG_EN_HTML_20250721_04_08/c277d948-f0d0-11eb-a71c-01aa75ed71a1/xhtml/L_2021273EN.01002901.tif.jpg | 'utf-8' codec can't decode byte 0xff in position 0: invalid start byte\n"
     ]
    },
    {
     "name": "stderr",
     "output_type": "stream",
     "text": [
      "Processing documents:   4%|▍         | 2019/46665 [9:16:50<79:17:56,  6.39s/it] ERROR:root:2019 | Error loading eu/LEG_EN_HTML_20250721_04_08/dbe27cc5-8142-11eb-9ac9-01aa75ed71a1/xhtml/CI2021081EN.01001101.tif.jpg:\n",
      "Traceback (most recent call last):\n",
      "  File \"/var/folders/zj/t8mz7g111911kcsdk6nwh8g00000gn/T/ipykernel_1963/64700856.py\", line 5, in <module>\n",
      "    html_content = obj['Body'].read().decode('utf-8')  # HTML as string\n",
      "UnicodeDecodeError: 'utf-8' codec can't decode byte 0xff in position 0: invalid start byte\n",
      "\n",
      "ERROR:root:2020 | Error loading eu/LEG_EN_HTML_20250721_04_08/dbe27cc5-8142-11eb-9ac9-01aa75ed71a1/xhtml/CI2021081EN.01001201.tif.jpg:\n",
      "Traceback (most recent call last):\n",
      "  File \"/var/folders/zj/t8mz7g111911kcsdk6nwh8g00000gn/T/ipykernel_1963/64700856.py\", line 5, in <module>\n",
      "    html_content = obj['Body'].read().decode('utf-8')  # HTML as string\n",
      "UnicodeDecodeError: 'utf-8' codec can't decode byte 0xff in position 0: invalid start byte\n",
      "\n",
      "Processing documents:   4%|▍         | 2021/46665 [9:16:50<43:04:27,  3.47s/it]"
     ]
    },
    {
     "name": "stdout",
     "output_type": "stream",
     "text": [
      "2019 | Error loading eu/LEG_EN_HTML_20250721_04_08/dbe27cc5-8142-11eb-9ac9-01aa75ed71a1/xhtml/CI2021081EN.01001101.tif.jpg | 'utf-8' codec can't decode byte 0xff in position 0: invalid start byte\n",
      "2020 | Error loading eu/LEG_EN_HTML_20250721_04_08/dbe27cc5-8142-11eb-9ac9-01aa75ed71a1/xhtml/CI2021081EN.01001201.tif.jpg | 'utf-8' codec can't decode byte 0xff in position 0: invalid start byte\n"
     ]
    },
    {
     "name": "stderr",
     "output_type": "stream",
     "text": [
      "Processing documents:   4%|▍         | 2022/46665 [9:17:03<73:56:32,  5.96s/it]ERROR:root:2022 | Error loading eu/LEG_EN_HTML_20250721_04_08/fc6da850-a6bb-11e8-99ee-01aa75ed71a1/xhtml/MTF_2018_9039_FIN_ENG_xhtml_01001.jpg:\n",
      "Traceback (most recent call last):\n",
      "  File \"/var/folders/zj/t8mz7g111911kcsdk6nwh8g00000gn/T/ipykernel_1963/64700856.py\", line 5, in <module>\n",
      "    html_content = obj['Body'].read().decode('utf-8')  # HTML as string\n",
      "UnicodeDecodeError: 'utf-8' codec can't decode byte 0xff in position 0: invalid start byte\n",
      "\n",
      "Processing documents:   4%|▍         | 2023/46665 [9:17:04<56:05:54,  4.52s/it]"
     ]
    },
    {
     "name": "stdout",
     "output_type": "stream",
     "text": [
      "2022 | Error loading eu/LEG_EN_HTML_20250721_04_08/fc6da850-a6bb-11e8-99ee-01aa75ed71a1/xhtml/MTF_2018_9039_FIN_ENG_xhtml_01001.jpg | 'utf-8' codec can't decode byte 0xff in position 0: invalid start byte\n"
     ]
    },
    {
     "name": "stderr",
     "output_type": "stream",
     "text": [
      "Processing documents:   5%|▍         | 2251/46665 [10:07:34<156:29:45, 12.68s/it]ERROR:root:2251 | Error loading eu/LEG_EN_HTML_20250721_04_08/acd71941-42b9-4adf-bdf6-6c840fc67d32/xhtml/L_1989156EN.01001702.tif.jpg:\n",
      "Traceback (most recent call last):\n",
      "  File \"/var/folders/zj/t8mz7g111911kcsdk6nwh8g00000gn/T/ipykernel_1963/64700856.py\", line 5, in <module>\n",
      "    html_content = obj['Body'].read().decode('utf-8')  # HTML as string\n",
      "UnicodeDecodeError: 'utf-8' codec can't decode byte 0xff in position 0: invalid start byte\n",
      "\n"
     ]
    },
    {
     "name": "stdout",
     "output_type": "stream",
     "text": [
      "2251 | Error loading eu/LEG_EN_HTML_20250721_04_08/acd71941-42b9-4adf-bdf6-6c840fc67d32/xhtml/L_1989156EN.01001702.tif.jpg | 'utf-8' codec can't decode byte 0xff in position 0: invalid start byte\n"
     ]
    },
    {
     "name": "stderr",
     "output_type": "stream",
     "text": [
      "Processing documents:   5%|▌         | 2481/46665 [11:08:17<58:48:24,  4.79s/it]   ERROR:root:2481 | Error loading eu/LEG_EN_HTML_20250721_04_08/c59e1997-04b4-4360-885a-b7e86198b1b5/xhtml/FOR-C_2007182EN.01000101.notes.0003.xml.jpg:\n",
      "Traceback (most recent call last):\n",
      "  File \"/var/folders/zj/t8mz7g111911kcsdk6nwh8g00000gn/T/ipykernel_1963/64700856.py\", line 5, in <module>\n",
      "    html_content = obj['Body'].read().decode('utf-8')  # HTML as string\n",
      "UnicodeDecodeError: 'utf-8' codec can't decode byte 0xff in position 0: invalid start byte\n",
      "\n",
      "ERROR:root:2482 | Error loading eu/LEG_EN_HTML_20250721_04_08/c59e1997-04b4-4360-885a-b7e86198b1b5/xhtml/FOR-C_2007182EN.01000101.notes.0002.xml.jpg:\n",
      "Traceback (most recent call last):\n",
      "  File \"/var/folders/zj/t8mz7g111911kcsdk6nwh8g00000gn/T/ipykernel_1963/64700856.py\", line 5, in <module>\n",
      "    html_content = obj['Body'].read().decode('utf-8')  # HTML as string\n",
      "UnicodeDecodeError: 'utf-8' codec can't decode byte 0xff in position 0: invalid start byte\n",
      "\n",
      "ERROR:root:2483 | Error loading eu/LEG_EN_HTML_20250721_04_08/c59e1997-04b4-4360-885a-b7e86198b1b5/xhtml/FOR-C_2007182EN.01000101.notes.0001.xml.jpg:\n",
      "Traceback (most recent call last):\n",
      "  File \"/var/folders/zj/t8mz7g111911kcsdk6nwh8g00000gn/T/ipykernel_1963/64700856.py\", line 5, in <module>\n",
      "    html_content = obj['Body'].read().decode('utf-8')  # HTML as string\n",
      "UnicodeDecodeError: 'utf-8' codec can't decode byte 0xff in position 0: invalid start byte\n",
      "\n",
      "Processing documents:   5%|▌         | 2484/46665 [11:08:17<26:04:06,  2.12s/it]"
     ]
    },
    {
     "name": "stdout",
     "output_type": "stream",
     "text": [
      "2481 | Error loading eu/LEG_EN_HTML_20250721_04_08/c59e1997-04b4-4360-885a-b7e86198b1b5/xhtml/FOR-C_2007182EN.01000101.notes.0003.xml.jpg | 'utf-8' codec can't decode byte 0xff in position 0: invalid start byte\n",
      "2482 | Error loading eu/LEG_EN_HTML_20250721_04_08/c59e1997-04b4-4360-885a-b7e86198b1b5/xhtml/FOR-C_2007182EN.01000101.notes.0002.xml.jpg | 'utf-8' codec can't decode byte 0xff in position 0: invalid start byte\n",
      "2483 | Error loading eu/LEG_EN_HTML_20250721_04_08/c59e1997-04b4-4360-885a-b7e86198b1b5/xhtml/FOR-C_2007182EN.01000101.notes.0001.xml.jpg | 'utf-8' codec can't decode byte 0xff in position 0: invalid start byte\n"
     ]
    },
    {
     "name": "stderr",
     "output_type": "stream",
     "text": [
      "Processing documents:   6%|▌         | 2638/46665 [11:34:59<67:34:41,  5.53s/it] ERROR:root:2638 | Error extracting metadata eu/LEG_EN_HTML_20250721_04_08/76962ce3-52ef-11f0-a9d0-01aa75ed71a1/xhtml/L_202501248EN.html:\n",
      "Traceback (most recent call last):\n",
      "  File \"/var/folders/zj/t8mz7g111911kcsdk6nwh8g00000gn/T/ipykernel_1963/64700856.py\", line 27, in <module>\n",
      "    sector, year = decompose_celex(row['celex']) if row['celex'] else (None, None)\n",
      "  File \"/var/folders/zj/t8mz7g111911kcsdk6nwh8g00000gn/T/ipykernel_1963/2677490457.py\", line 19, in decompose_celex\n",
      "    sector = celex[0]\n",
      "TypeError: 'float' object is not subscriptable\n",
      "\n"
     ]
    },
    {
     "name": "stdout",
     "output_type": "stream",
     "text": [
      "2638 | Error extracting metadata eu/LEG_EN_HTML_20250721_04_08/76962ce3-52ef-11f0-a9d0-01aa75ed71a1/xhtml/L_202501248EN.html | 'float' object is not subscriptable\n"
     ]
    },
    {
     "name": "stderr",
     "output_type": "stream",
     "text": [
      "Processing documents:   6%|▌         | 2650/46665 [11:36:38<63:52:40,  5.22s/it] ERROR:root:2650 | Error loading eu/LEG_EN_HTML_20250721_04_08/853f69fe-0226-4a67-b554-2dfb4d43c5e5/xhtml/FOR-C_2007072EN.01000901.notes.0002.xml.jpg:\n",
      "Traceback (most recent call last):\n",
      "  File \"/var/folders/zj/t8mz7g111911kcsdk6nwh8g00000gn/T/ipykernel_1963/64700856.py\", line 5, in <module>\n",
      "    html_content = obj['Body'].read().decode('utf-8')  # HTML as string\n",
      "UnicodeDecodeError: 'utf-8' codec can't decode byte 0xff in position 0: invalid start byte\n",
      "\n",
      "ERROR:root:2651 | Error loading eu/LEG_EN_HTML_20250721_04_08/853f69fe-0226-4a67-b554-2dfb4d43c5e5/xhtml/FOR-C_2007072EN.01002001.notes.0006.xml.jpg:\n",
      "Traceback (most recent call last):\n",
      "  File \"/var/folders/zj/t8mz7g111911kcsdk6nwh8g00000gn/T/ipykernel_1963/64700856.py\", line 5, in <module>\n",
      "    html_content = obj['Body'].read().decode('utf-8')  # HTML as string\n",
      "UnicodeDecodeError: 'utf-8' codec can't decode byte 0xff in position 0: invalid start byte\n",
      "\n",
      "ERROR:root:2652 | Error loading eu/LEG_EN_HTML_20250721_04_08/853f69fe-0226-4a67-b554-2dfb4d43c5e5/xhtml/FOR-C_2007072EN.01002001.notes.0016.xml.jpg:\n",
      "Traceback (most recent call last):\n",
      "  File \"/var/folders/zj/t8mz7g111911kcsdk6nwh8g00000gn/T/ipykernel_1963/64700856.py\", line 5, in <module>\n",
      "    html_content = obj['Body'].read().decode('utf-8')  # HTML as string\n",
      "UnicodeDecodeError: 'utf-8' codec can't decode byte 0xff in position 0: invalid start byte\n",
      "\n",
      "Processing documents:   6%|▌         | 2653/46665 [11:36:39<28:13:52,  2.31s/it]ERROR:root:2653 | Error loading eu/LEG_EN_HTML_20250721_04_08/853f69fe-0226-4a67-b554-2dfb4d43c5e5/xhtml/FOR-C_2007072EN.01002001.notes.0020.xml.jpg:\n",
      "Traceback (most recent call last):\n",
      "  File \"/var/folders/zj/t8mz7g111911kcsdk6nwh8g00000gn/T/ipykernel_1963/64700856.py\", line 5, in <module>\n",
      "    html_content = obj['Body'].read().decode('utf-8')  # HTML as string\n",
      "UnicodeDecodeError: 'utf-8' codec can't decode byte 0xff in position 0: invalid start byte\n",
      "\n"
     ]
    },
    {
     "name": "stdout",
     "output_type": "stream",
     "text": [
      "2650 | Error loading eu/LEG_EN_HTML_20250721_04_08/853f69fe-0226-4a67-b554-2dfb4d43c5e5/xhtml/FOR-C_2007072EN.01000901.notes.0002.xml.jpg | 'utf-8' codec can't decode byte 0xff in position 0: invalid start byte\n",
      "2651 | Error loading eu/LEG_EN_HTML_20250721_04_08/853f69fe-0226-4a67-b554-2dfb4d43c5e5/xhtml/FOR-C_2007072EN.01002001.notes.0006.xml.jpg | 'utf-8' codec can't decode byte 0xff in position 0: invalid start byte\n",
      "2652 | Error loading eu/LEG_EN_HTML_20250721_04_08/853f69fe-0226-4a67-b554-2dfb4d43c5e5/xhtml/FOR-C_2007072EN.01002001.notes.0016.xml.jpg | 'utf-8' codec can't decode byte 0xff in position 0: invalid start byte\n",
      "2653 | Error loading eu/LEG_EN_HTML_20250721_04_08/853f69fe-0226-4a67-b554-2dfb4d43c5e5/xhtml/FOR-C_2007072EN.01002001.notes.0020.xml.jpg | 'utf-8' codec can't decode byte 0xff in position 0: invalid start byte\n"
     ]
    },
    {
     "name": "stderr",
     "output_type": "stream",
     "text": [
      "ERROR:root:2654 | Error loading eu/LEG_EN_HTML_20250721_04_08/853f69fe-0226-4a67-b554-2dfb4d43c5e5/xhtml/FOR-C_2007072EN.01000101.notes.0004.xml.jpg:\n",
      "Traceback (most recent call last):\n",
      "  File \"/var/folders/zj/t8mz7g111911kcsdk6nwh8g00000gn/T/ipykernel_1963/64700856.py\", line 5, in <module>\n",
      "    html_content = obj['Body'].read().decode('utf-8')  # HTML as string\n",
      "UnicodeDecodeError: 'utf-8' codec can't decode byte 0xff in position 0: invalid start byte\n",
      "\n",
      "Processing documents:   6%|▌         | 2655/46665 [11:36:39<18:42:39,  1.53s/it]ERROR:root:2655 | Error loading eu/LEG_EN_HTML_20250721_04_08/853f69fe-0226-4a67-b554-2dfb4d43c5e5/xhtml/FOR-C_2007072EN.01000501.notes.0007.xml.jpg:\n",
      "Traceback (most recent call last):\n",
      "  File \"/var/folders/zj/t8mz7g111911kcsdk6nwh8g00000gn/T/ipykernel_1963/64700856.py\", line 5, in <module>\n",
      "    html_content = obj['Body'].read().decode('utf-8')  # HTML as string\n",
      "UnicodeDecodeError: 'utf-8' codec can't decode byte 0xff in position 0: invalid start byte\n",
      "\n",
      "ERROR:root:2656 | Error loading eu/LEG_EN_HTML_20250721_04_08/853f69fe-0226-4a67-b554-2dfb4d43c5e5/xhtml/FOR-C_2007072EN.01000101.notes.0005.xml.jpg:\n",
      "Traceback (most recent call last):\n",
      "  File \"/var/folders/zj/t8mz7g111911kcsdk6nwh8g00000gn/T/ipykernel_1963/64700856.py\", line 5, in <module>\n",
      "    html_content = obj['Body'].read().decode('utf-8')  # HTML as string\n",
      "UnicodeDecodeError: 'utf-8' codec can't decode byte 0xff in position 0: invalid start byte\n",
      "\n",
      "Processing documents:   6%|▌         | 2657/46665 [11:36:39<12:44:43,  1.04s/it]ERROR:root:2657 | Error loading eu/LEG_EN_HTML_20250721_04_08/853f69fe-0226-4a67-b554-2dfb4d43c5e5/xhtml/FOR-C_2007072EN.01000501.notes.0006.xml.jpg:\n",
      "Traceback (most recent call last):\n",
      "  File \"/var/folders/zj/t8mz7g111911kcsdk6nwh8g00000gn/T/ipykernel_1963/64700856.py\", line 5, in <module>\n",
      "    html_content = obj['Body'].read().decode('utf-8')  # HTML as string\n",
      "UnicodeDecodeError: 'utf-8' codec can't decode byte 0xff in position 0: invalid start byte\n",
      "\n",
      "ERROR:root:2658 | Error loading eu/LEG_EN_HTML_20250721_04_08/853f69fe-0226-4a67-b554-2dfb4d43c5e5/xhtml/FOR-C_2007072EN.01000901.notes.0003.xml.jpg:\n",
      "Traceback (most recent call last):\n",
      "  File \"/var/folders/zj/t8mz7g111911kcsdk6nwh8g00000gn/T/ipykernel_1963/64700856.py\", line 5, in <module>\n",
      "    html_content = obj['Body'].read().decode('utf-8')  # HTML as string\n",
      "UnicodeDecodeError: 'utf-8' codec can't decode byte 0xff in position 0: invalid start byte\n",
      "\n"
     ]
    },
    {
     "name": "stdout",
     "output_type": "stream",
     "text": [
      "2654 | Error loading eu/LEG_EN_HTML_20250721_04_08/853f69fe-0226-4a67-b554-2dfb4d43c5e5/xhtml/FOR-C_2007072EN.01000101.notes.0004.xml.jpg | 'utf-8' codec can't decode byte 0xff in position 0: invalid start byte\n",
      "2655 | Error loading eu/LEG_EN_HTML_20250721_04_08/853f69fe-0226-4a67-b554-2dfb4d43c5e5/xhtml/FOR-C_2007072EN.01000501.notes.0007.xml.jpg | 'utf-8' codec can't decode byte 0xff in position 0: invalid start byte\n",
      "2656 | Error loading eu/LEG_EN_HTML_20250721_04_08/853f69fe-0226-4a67-b554-2dfb4d43c5e5/xhtml/FOR-C_2007072EN.01000101.notes.0005.xml.jpg | 'utf-8' codec can't decode byte 0xff in position 0: invalid start byte\n",
      "2657 | Error loading eu/LEG_EN_HTML_20250721_04_08/853f69fe-0226-4a67-b554-2dfb4d43c5e5/xhtml/FOR-C_2007072EN.01000501.notes.0006.xml.jpg | 'utf-8' codec can't decode byte 0xff in position 0: invalid start byte\n"
     ]
    },
    {
     "name": "stderr",
     "output_type": "stream",
     "text": [
      "ERROR:root:2659 | Error loading eu/LEG_EN_HTML_20250721_04_08/853f69fe-0226-4a67-b554-2dfb4d43c5e5/xhtml/FOR-C_2007072EN.01002001.notes.0017.xml.jpg:\n",
      "Traceback (most recent call last):\n",
      "  File \"/var/folders/zj/t8mz7g111911kcsdk6nwh8g00000gn/T/ipykernel_1963/64700856.py\", line 5, in <module>\n",
      "    html_content = obj['Body'].read().decode('utf-8')  # HTML as string\n",
      "UnicodeDecodeError: 'utf-8' codec can't decode byte 0xff in position 0: invalid start byte\n",
      "\n",
      "Processing documents:   6%|▌         | 2660/46665 [11:36:39<7:43:26,  1.58it/s] ERROR:root:2660 | Error loading eu/LEG_EN_HTML_20250721_04_08/853f69fe-0226-4a67-b554-2dfb4d43c5e5/xhtml/FOR-C_2007072EN.01002001.notes.0007.xml.jpg:\n",
      "Traceback (most recent call last):\n",
      "  File \"/var/folders/zj/t8mz7g111911kcsdk6nwh8g00000gn/T/ipykernel_1963/64700856.py\", line 5, in <module>\n",
      "    html_content = obj['Body'].read().decode('utf-8')  # HTML as string\n",
      "UnicodeDecodeError: 'utf-8' codec can't decode byte 0xff in position 0: invalid start byte\n",
      "\n"
     ]
    },
    {
     "name": "stdout",
     "output_type": "stream",
     "text": [
      "2658 | Error loading eu/LEG_EN_HTML_20250721_04_08/853f69fe-0226-4a67-b554-2dfb4d43c5e5/xhtml/FOR-C_2007072EN.01000901.notes.0003.xml.jpg | 'utf-8' codec can't decode byte 0xff in position 0: invalid start byte\n",
      "2659 | Error loading eu/LEG_EN_HTML_20250721_04_08/853f69fe-0226-4a67-b554-2dfb4d43c5e5/xhtml/FOR-C_2007072EN.01002001.notes.0017.xml.jpg | 'utf-8' codec can't decode byte 0xff in position 0: invalid start byte\n",
      "2660 | Error loading eu/LEG_EN_HTML_20250721_04_08/853f69fe-0226-4a67-b554-2dfb4d43c5e5/xhtml/FOR-C_2007072EN.01002001.notes.0007.xml.jpg | 'utf-8' codec can't decode byte 0xff in position 0: invalid start byte\n"
     ]
    },
    {
     "name": "stderr",
     "output_type": "stream",
     "text": [
      "ERROR:root:2661 | Error loading eu/LEG_EN_HTML_20250721_04_08/853f69fe-0226-4a67-b554-2dfb4d43c5e5/xhtml/FOR-C_2007072EN.01000901.notes.0008.xml.jpg:\n",
      "Traceback (most recent call last):\n",
      "  File \"/var/folders/zj/t8mz7g111911kcsdk6nwh8g00000gn/T/ipykernel_1963/64700856.py\", line 5, in <module>\n",
      "    html_content = obj['Body'].read().decode('utf-8')  # HTML as string\n",
      "UnicodeDecodeError: 'utf-8' codec can't decode byte 0xff in position 0: invalid start byte\n",
      "\n",
      "Processing documents:   6%|▌         | 2662/46665 [11:36:39<5:46:11,  2.12it/s]ERROR:root:2662 | Error loading eu/LEG_EN_HTML_20250721_04_08/853f69fe-0226-4a67-b554-2dfb4d43c5e5/xhtml/FOR-C_2007072EN.01000501.notes.0004.xml.jpg:\n",
      "Traceback (most recent call last):\n",
      "  File \"/var/folders/zj/t8mz7g111911kcsdk6nwh8g00000gn/T/ipykernel_1963/64700856.py\", line 5, in <module>\n",
      "    html_content = obj['Body'].read().decode('utf-8')  # HTML as string\n",
      "UnicodeDecodeError: 'utf-8' codec can't decode byte 0xff in position 0: invalid start byte\n",
      "\n",
      "ERROR:root:2663 | Error loading eu/LEG_EN_HTML_20250721_04_08/853f69fe-0226-4a67-b554-2dfb4d43c5e5/xhtml/FOR-C_2007072EN.01000901.notes.0001.xml.jpg:\n",
      "Traceback (most recent call last):\n",
      "  File \"/var/folders/zj/t8mz7g111911kcsdk6nwh8g00000gn/T/ipykernel_1963/64700856.py\", line 5, in <module>\n",
      "    html_content = obj['Body'].read().decode('utf-8')  # HTML as string\n",
      "UnicodeDecodeError: 'utf-8' codec can't decode byte 0xff in position 0: invalid start byte\n",
      "\n",
      "Processing documents:   6%|▌         | 2664/46665 [11:36:39<4:19:45,  2.82it/s]ERROR:root:2664 | Error loading eu/LEG_EN_HTML_20250721_04_08/853f69fe-0226-4a67-b554-2dfb4d43c5e5/xhtml/FOR-C_2007072EN.01002001.notes.0005.xml.jpg:\n",
      "Traceback (most recent call last):\n",
      "  File \"/var/folders/zj/t8mz7g111911kcsdk6nwh8g00000gn/T/ipykernel_1963/64700856.py\", line 5, in <module>\n",
      "    html_content = obj['Body'].read().decode('utf-8')  # HTML as string\n",
      "UnicodeDecodeError: 'utf-8' codec can't decode byte 0xff in position 0: invalid start byte\n",
      "\n"
     ]
    },
    {
     "name": "stdout",
     "output_type": "stream",
     "text": [
      "2661 | Error loading eu/LEG_EN_HTML_20250721_04_08/853f69fe-0226-4a67-b554-2dfb4d43c5e5/xhtml/FOR-C_2007072EN.01000901.notes.0008.xml.jpg | 'utf-8' codec can't decode byte 0xff in position 0: invalid start byte\n",
      "2662 | Error loading eu/LEG_EN_HTML_20250721_04_08/853f69fe-0226-4a67-b554-2dfb4d43c5e5/xhtml/FOR-C_2007072EN.01000501.notes.0004.xml.jpg | 'utf-8' codec can't decode byte 0xff in position 0: invalid start byte\n",
      "2663 | Error loading eu/LEG_EN_HTML_20250721_04_08/853f69fe-0226-4a67-b554-2dfb4d43c5e5/xhtml/FOR-C_2007072EN.01000901.notes.0001.xml.jpg | 'utf-8' codec can't decode byte 0xff in position 0: invalid start byte\n",
      "2664 | Error loading eu/LEG_EN_HTML_20250721_04_08/853f69fe-0226-4a67-b554-2dfb4d43c5e5/xhtml/FOR-C_2007072EN.01002001.notes.0005.xml.jpg | 'utf-8' codec can't decode byte 0xff in position 0: invalid start byte\n"
     ]
    },
    {
     "name": "stderr",
     "output_type": "stream",
     "text": [
      "ERROR:root:2665 | Error loading eu/LEG_EN_HTML_20250721_04_08/853f69fe-0226-4a67-b554-2dfb4d43c5e5/xhtml/FOR-C_2007072EN.01002001.notes.0015.xml.jpg:\n",
      "Traceback (most recent call last):\n",
      "  File \"/var/folders/zj/t8mz7g111911kcsdk6nwh8g00000gn/T/ipykernel_1963/64700856.py\", line 5, in <module>\n",
      "    html_content = obj['Body'].read().decode('utf-8')  # HTML as string\n",
      "UnicodeDecodeError: 'utf-8' codec can't decode byte 0xff in position 0: invalid start byte\n",
      "\n",
      "Processing documents:   6%|▌         | 2666/46665 [11:36:39<3:17:28,  3.71it/s]ERROR:root:2666 | Error loading eu/LEG_EN_HTML_20250721_04_08/853f69fe-0226-4a67-b554-2dfb4d43c5e5/xhtml/FOR-C_2007072EN.01002001.notes.0014.xml.jpg:\n",
      "Traceback (most recent call last):\n",
      "  File \"/var/folders/zj/t8mz7g111911kcsdk6nwh8g00000gn/T/ipykernel_1963/64700856.py\", line 5, in <module>\n",
      "    html_content = obj['Body'].read().decode('utf-8')  # HTML as string\n",
      "UnicodeDecodeError: 'utf-8' codec can't decode byte 0xff in position 0: invalid start byte\n",
      "\n",
      "ERROR:root:2667 | Error loading eu/LEG_EN_HTML_20250721_04_08/853f69fe-0226-4a67-b554-2dfb4d43c5e5/xhtml/FOR-C_2007072EN.01002001.notes.0004.xml.jpg:\n",
      "Traceback (most recent call last):\n",
      "  File \"/var/folders/zj/t8mz7g111911kcsdk6nwh8g00000gn/T/ipykernel_1963/64700856.py\", line 5, in <module>\n",
      "    html_content = obj['Body'].read().decode('utf-8')  # HTML as string\n",
      "UnicodeDecodeError: 'utf-8' codec can't decode byte 0xff in position 0: invalid start byte\n",
      "\n",
      "ERROR:root:2668 | Error loading eu/LEG_EN_HTML_20250721_04_08/853f69fe-0226-4a67-b554-2dfb4d43c5e5/xhtml/FOR-C_2007072EN.01000501.notes.0005.xml.jpg:\n",
      "Traceback (most recent call last):\n",
      "  File \"/var/folders/zj/t8mz7g111911kcsdk6nwh8g00000gn/T/ipykernel_1963/64700856.py\", line 5, in <module>\n",
      "    html_content = obj['Body'].read().decode('utf-8')  # HTML as string\n",
      "UnicodeDecodeError: 'utf-8' codec can't decode byte 0xff in position 0: invalid start byte\n",
      "\n",
      "Processing documents:   6%|▌         | 2669/46665 [11:36:40<2:15:26,  5.41it/s]"
     ]
    },
    {
     "name": "stdout",
     "output_type": "stream",
     "text": [
      "2665 | Error loading eu/LEG_EN_HTML_20250721_04_08/853f69fe-0226-4a67-b554-2dfb4d43c5e5/xhtml/FOR-C_2007072EN.01002001.notes.0015.xml.jpg | 'utf-8' codec can't decode byte 0xff in position 0: invalid start byte\n",
      "2666 | Error loading eu/LEG_EN_HTML_20250721_04_08/853f69fe-0226-4a67-b554-2dfb4d43c5e5/xhtml/FOR-C_2007072EN.01002001.notes.0014.xml.jpg | 'utf-8' codec can't decode byte 0xff in position 0: invalid start byte\n",
      "2667 | Error loading eu/LEG_EN_HTML_20250721_04_08/853f69fe-0226-4a67-b554-2dfb4d43c5e5/xhtml/FOR-C_2007072EN.01002001.notes.0004.xml.jpg | 'utf-8' codec can't decode byte 0xff in position 0: invalid start byte\n",
      "2668 | Error loading eu/LEG_EN_HTML_20250721_04_08/853f69fe-0226-4a67-b554-2dfb4d43c5e5/xhtml/FOR-C_2007072EN.01000501.notes.0005.xml.jpg | 'utf-8' codec can't decode byte 0xff in position 0: invalid start byte\n"
     ]
    },
    {
     "name": "stderr",
     "output_type": "stream",
     "text": [
      "ERROR:root:2669 | Error loading eu/LEG_EN_HTML_20250721_04_08/853f69fe-0226-4a67-b554-2dfb4d43c5e5/xhtml/FOR-C_2007072EN.01001301.notes.0002.xml.jpg:\n",
      "Traceback (most recent call last):\n",
      "  File \"/var/folders/zj/t8mz7g111911kcsdk6nwh8g00000gn/T/ipykernel_1963/64700856.py\", line 5, in <module>\n",
      "    html_content = obj['Body'].read().decode('utf-8')  # HTML as string\n",
      "UnicodeDecodeError: 'utf-8' codec can't decode byte 0xff in position 0: invalid start byte\n",
      "\n",
      "ERROR:root:2670 | Error loading eu/LEG_EN_HTML_20250721_04_08/853f69fe-0226-4a67-b554-2dfb4d43c5e5/xhtml/FOR-C_2007072EN.01002001.notes.0018.xml.jpg:\n",
      "Traceback (most recent call last):\n",
      "  File \"/var/folders/zj/t8mz7g111911kcsdk6nwh8g00000gn/T/ipykernel_1963/64700856.py\", line 5, in <module>\n",
      "    html_content = obj['Body'].read().decode('utf-8')  # HTML as string\n",
      "UnicodeDecodeError: 'utf-8' codec can't decode byte 0xff in position 0: invalid start byte\n",
      "\n",
      "Processing documents:   6%|▌         | 2671/46665 [11:36:40<1:51:20,  6.59it/s]ERROR:root:2671 | Error loading eu/LEG_EN_HTML_20250721_04_08/853f69fe-0226-4a67-b554-2dfb4d43c5e5/xhtml/FOR-C_2007072EN.01002001.notes.0008.xml.jpg:\n",
      "Traceback (most recent call last):\n",
      "  File \"/var/folders/zj/t8mz7g111911kcsdk6nwh8g00000gn/T/ipykernel_1963/64700856.py\", line 5, in <module>\n",
      "    html_content = obj['Body'].read().decode('utf-8')  # HTML as string\n",
      "UnicodeDecodeError: 'utf-8' codec can't decode byte 0xff in position 0: invalid start byte\n",
      "\n",
      "ERROR:root:2672 | Error loading eu/LEG_EN_HTML_20250721_04_08/853f69fe-0226-4a67-b554-2dfb4d43c5e5/xhtml/FOR-C_2007072EN.01000101.notes.0003.xml.jpg:\n",
      "Traceback (most recent call last):\n",
      "  File \"/var/folders/zj/t8mz7g111911kcsdk6nwh8g00000gn/T/ipykernel_1963/64700856.py\", line 5, in <module>\n",
      "    html_content = obj['Body'].read().decode('utf-8')  # HTML as string\n",
      "UnicodeDecodeError: 'utf-8' codec can't decode byte 0xff in position 0: invalid start byte\n",
      "\n",
      "Processing documents:   6%|▌         | 2673/46665 [11:36:40<1:32:20,  7.94it/s]"
     ]
    },
    {
     "name": "stdout",
     "output_type": "stream",
     "text": [
      "2669 | Error loading eu/LEG_EN_HTML_20250721_04_08/853f69fe-0226-4a67-b554-2dfb4d43c5e5/xhtml/FOR-C_2007072EN.01001301.notes.0002.xml.jpg | 'utf-8' codec can't decode byte 0xff in position 0: invalid start byte\n",
      "2670 | Error loading eu/LEG_EN_HTML_20250721_04_08/853f69fe-0226-4a67-b554-2dfb4d43c5e5/xhtml/FOR-C_2007072EN.01002001.notes.0018.xml.jpg | 'utf-8' codec can't decode byte 0xff in position 0: invalid start byte\n",
      "2671 | Error loading eu/LEG_EN_HTML_20250721_04_08/853f69fe-0226-4a67-b554-2dfb4d43c5e5/xhtml/FOR-C_2007072EN.01002001.notes.0008.xml.jpg | 'utf-8' codec can't decode byte 0xff in position 0: invalid start byte\n",
      "2672 | Error loading eu/LEG_EN_HTML_20250721_04_08/853f69fe-0226-4a67-b554-2dfb4d43c5e5/xhtml/FOR-C_2007072EN.01000101.notes.0003.xml.jpg | 'utf-8' codec can't decode byte 0xff in position 0: invalid start byte\n"
     ]
    },
    {
     "name": "stderr",
     "output_type": "stream",
     "text": [
      "ERROR:root:2673 | Error loading eu/LEG_EN_HTML_20250721_04_08/853f69fe-0226-4a67-b554-2dfb4d43c5e5/xhtml/FOR-C_2007072EN.01002001.notes.0001.xml.jpg:\n",
      "Traceback (most recent call last):\n",
      "  File \"/var/folders/zj/t8mz7g111911kcsdk6nwh8g00000gn/T/ipykernel_1963/64700856.py\", line 5, in <module>\n",
      "    html_content = obj['Body'].read().decode('utf-8')  # HTML as string\n",
      "UnicodeDecodeError: 'utf-8' codec can't decode byte 0xff in position 0: invalid start byte\n",
      "\n",
      "ERROR:root:2674 | Error loading eu/LEG_EN_HTML_20250721_04_08/853f69fe-0226-4a67-b554-2dfb4d43c5e5/xhtml/FOR-C_2007072EN.01002001.notes.0011.xml.jpg:\n",
      "Traceback (most recent call last):\n",
      "  File \"/var/folders/zj/t8mz7g111911kcsdk6nwh8g00000gn/T/ipykernel_1963/64700856.py\", line 5, in <module>\n",
      "    html_content = obj['Body'].read().decode('utf-8')  # HTML as string\n",
      "UnicodeDecodeError: 'utf-8' codec can't decode byte 0xff in position 0: invalid start byte\n",
      "\n",
      "Processing documents:   6%|▌         | 2675/46665 [11:36:40<1:17:14,  9.49it/s]ERROR:root:2675 | Error loading eu/LEG_EN_HTML_20250721_04_08/853f69fe-0226-4a67-b554-2dfb4d43c5e5/xhtml/FOR-C_2007072EN.01000901.notes.0005.xml.jpg:\n",
      "Traceback (most recent call last):\n",
      "  File \"/var/folders/zj/t8mz7g111911kcsdk6nwh8g00000gn/T/ipykernel_1963/64700856.py\", line 5, in <module>\n",
      "    html_content = obj['Body'].read().decode('utf-8')  # HTML as string\n",
      "UnicodeDecodeError: 'utf-8' codec can't decode byte 0xff in position 0: invalid start byte\n",
      "\n",
      "ERROR:root:2676 | Error loading eu/LEG_EN_HTML_20250721_04_08/853f69fe-0226-4a67-b554-2dfb4d43c5e5/xhtml/FOR-C_2007072EN.01002001.notes.0010.xml.jpg:\n",
      "Traceback (most recent call last):\n",
      "  File \"/var/folders/zj/t8mz7g111911kcsdk6nwh8g00000gn/T/ipykernel_1963/64700856.py\", line 5, in <module>\n",
      "    html_content = obj['Body'].read().decode('utf-8')  # HTML as string\n",
      "UnicodeDecodeError: 'utf-8' codec can't decode byte 0xff in position 0: invalid start byte\n",
      "\n",
      "Processing documents:   6%|▌         | 2677/46665 [11:36:40<1:11:59, 10.18it/s]"
     ]
    },
    {
     "name": "stdout",
     "output_type": "stream",
     "text": [
      "2673 | Error loading eu/LEG_EN_HTML_20250721_04_08/853f69fe-0226-4a67-b554-2dfb4d43c5e5/xhtml/FOR-C_2007072EN.01002001.notes.0001.xml.jpg | 'utf-8' codec can't decode byte 0xff in position 0: invalid start byte\n",
      "2674 | Error loading eu/LEG_EN_HTML_20250721_04_08/853f69fe-0226-4a67-b554-2dfb4d43c5e5/xhtml/FOR-C_2007072EN.01002001.notes.0011.xml.jpg | 'utf-8' codec can't decode byte 0xff in position 0: invalid start byte\n",
      "2675 | Error loading eu/LEG_EN_HTML_20250721_04_08/853f69fe-0226-4a67-b554-2dfb4d43c5e5/xhtml/FOR-C_2007072EN.01000901.notes.0005.xml.jpg | 'utf-8' codec can't decode byte 0xff in position 0: invalid start byte\n",
      "2676 | Error loading eu/LEG_EN_HTML_20250721_04_08/853f69fe-0226-4a67-b554-2dfb4d43c5e5/xhtml/FOR-C_2007072EN.01002001.notes.0010.xml.jpg | 'utf-8' codec can't decode byte 0xff in position 0: invalid start byte\n"
     ]
    },
    {
     "name": "stderr",
     "output_type": "stream",
     "text": [
      "ERROR:root:2677 | Error loading eu/LEG_EN_HTML_20250721_04_08/853f69fe-0226-4a67-b554-2dfb4d43c5e5/xhtml/FOR-C_2007072EN.01000901.notes.0004.xml.jpg:\n",
      "Traceback (most recent call last):\n",
      "  File \"/var/folders/zj/t8mz7g111911kcsdk6nwh8g00000gn/T/ipykernel_1963/64700856.py\", line 5, in <module>\n",
      "    html_content = obj['Body'].read().decode('utf-8')  # HTML as string\n",
      "UnicodeDecodeError: 'utf-8' codec can't decode byte 0xff in position 0: invalid start byte\n",
      "\n",
      "ERROR:root:2678 | Error loading eu/LEG_EN_HTML_20250721_04_08/853f69fe-0226-4a67-b554-2dfb4d43c5e5/xhtml/FOR-C_2007072EN.01000501.notes.0001.xml.jpg:\n",
      "Traceback (most recent call last):\n",
      "  File \"/var/folders/zj/t8mz7g111911kcsdk6nwh8g00000gn/T/ipykernel_1963/64700856.py\", line 5, in <module>\n",
      "    html_content = obj['Body'].read().decode('utf-8')  # HTML as string\n",
      "UnicodeDecodeError: 'utf-8' codec can't decode byte 0xff in position 0: invalid start byte\n",
      "\n",
      "Processing documents:   6%|▌         | 2679/46665 [11:36:40<1:06:05, 11.09it/s]ERROR:root:2679 | Error loading eu/LEG_EN_HTML_20250721_04_08/853f69fe-0226-4a67-b554-2dfb4d43c5e5/xhtml/FOR-C_2007072EN.01001301.notes.0003.xml.jpg:\n",
      "Traceback (most recent call last):\n",
      "  File \"/var/folders/zj/t8mz7g111911kcsdk6nwh8g00000gn/T/ipykernel_1963/64700856.py\", line 5, in <module>\n",
      "    html_content = obj['Body'].read().decode('utf-8')  # HTML as string\n",
      "UnicodeDecodeError: 'utf-8' codec can't decode byte 0xff in position 0: invalid start byte\n",
      "\n",
      "ERROR:root:2680 | Error loading eu/LEG_EN_HTML_20250721_04_08/853f69fe-0226-4a67-b554-2dfb4d43c5e5/xhtml/FOR-C_2007072EN.01002001.notes.0009.xml.jpg:\n",
      "Traceback (most recent call last):\n",
      "  File \"/var/folders/zj/t8mz7g111911kcsdk6nwh8g00000gn/T/ipykernel_1963/64700856.py\", line 5, in <module>\n",
      "    html_content = obj['Body'].read().decode('utf-8')  # HTML as string\n",
      "UnicodeDecodeError: 'utf-8' codec can't decode byte 0xff in position 0: invalid start byte\n",
      "\n",
      "ERROR:root:2681 | Error loading eu/LEG_EN_HTML_20250721_04_08/853f69fe-0226-4a67-b554-2dfb4d43c5e5/xhtml/FOR-C_2007072EN.01002001.notes.0019.xml.jpg:\n",
      "Traceback (most recent call last):\n",
      "  File \"/var/folders/zj/t8mz7g111911kcsdk6nwh8g00000gn/T/ipykernel_1963/64700856.py\", line 5, in <module>\n",
      "    html_content = obj['Body'].read().decode('utf-8')  # HTML as string\n",
      "UnicodeDecodeError: 'utf-8' codec can't decode byte 0xff in position 0: invalid start byte\n",
      "\n",
      "Processing documents:   6%|▌         | 2682/46665 [11:36:40<53:32, 13.69it/s]  "
     ]
    },
    {
     "name": "stdout",
     "output_type": "stream",
     "text": [
      "2677 | Error loading eu/LEG_EN_HTML_20250721_04_08/853f69fe-0226-4a67-b554-2dfb4d43c5e5/xhtml/FOR-C_2007072EN.01000901.notes.0004.xml.jpg | 'utf-8' codec can't decode byte 0xff in position 0: invalid start byte\n",
      "2678 | Error loading eu/LEG_EN_HTML_20250721_04_08/853f69fe-0226-4a67-b554-2dfb4d43c5e5/xhtml/FOR-C_2007072EN.01000501.notes.0001.xml.jpg | 'utf-8' codec can't decode byte 0xff in position 0: invalid start byte\n",
      "2679 | Error loading eu/LEG_EN_HTML_20250721_04_08/853f69fe-0226-4a67-b554-2dfb4d43c5e5/xhtml/FOR-C_2007072EN.01001301.notes.0003.xml.jpg | 'utf-8' codec can't decode byte 0xff in position 0: invalid start byte\n",
      "2680 | Error loading eu/LEG_EN_HTML_20250721_04_08/853f69fe-0226-4a67-b554-2dfb4d43c5e5/xhtml/FOR-C_2007072EN.01002001.notes.0009.xml.jpg | 'utf-8' codec can't decode byte 0xff in position 0: invalid start byte\n",
      "2681 | Error loading eu/LEG_EN_HTML_20250721_04_08/853f69fe-0226-4a67-b554-2dfb4d43c5e5/xhtml/FOR-C_2007072EN.01002001.notes.0019.xml.jpg | 'utf-8' codec can't decode byte 0xff in position 0: invalid start byte\n"
     ]
    },
    {
     "name": "stderr",
     "output_type": "stream",
     "text": [
      "ERROR:root:2682 | Error loading eu/LEG_EN_HTML_20250721_04_08/853f69fe-0226-4a67-b554-2dfb4d43c5e5/xhtml/FOR-C_2007072EN.01000101.notes.0002.xml.jpg:\n",
      "Traceback (most recent call last):\n",
      "  File \"/var/folders/zj/t8mz7g111911kcsdk6nwh8g00000gn/T/ipykernel_1963/64700856.py\", line 5, in <module>\n",
      "    html_content = obj['Body'].read().decode('utf-8')  # HTML as string\n",
      "UnicodeDecodeError: 'utf-8' codec can't decode byte 0xff in position 0: invalid start byte\n",
      "\n",
      "ERROR:root:2683 | Error loading eu/LEG_EN_HTML_20250721_04_08/853f69fe-0226-4a67-b554-2dfb4d43c5e5/xhtml/FOR-C_2007072EN.01002001.notes.0002.xml.jpg:\n",
      "Traceback (most recent call last):\n",
      "  File \"/var/folders/zj/t8mz7g111911kcsdk6nwh8g00000gn/T/ipykernel_1963/64700856.py\", line 5, in <module>\n",
      "    html_content = obj['Body'].read().decode('utf-8')  # HTML as string\n",
      "UnicodeDecodeError: 'utf-8' codec can't decode byte 0xff in position 0: invalid start byte\n",
      "\n",
      "Processing documents:   6%|▌         | 2684/46665 [11:36:40<50:29, 14.52it/s]ERROR:root:2684 | Error loading eu/LEG_EN_HTML_20250721_04_08/853f69fe-0226-4a67-b554-2dfb4d43c5e5/xhtml/FOR-C_2007072EN.01002001.notes.0012.xml.jpg:\n",
      "Traceback (most recent call last):\n",
      "  File \"/var/folders/zj/t8mz7g111911kcsdk6nwh8g00000gn/T/ipykernel_1963/64700856.py\", line 5, in <module>\n",
      "    html_content = obj['Body'].read().decode('utf-8')  # HTML as string\n",
      "UnicodeDecodeError: 'utf-8' codec can't decode byte 0xff in position 0: invalid start byte\n",
      "\n",
      "ERROR:root:2685 | Error loading eu/LEG_EN_HTML_20250721_04_08/853f69fe-0226-4a67-b554-2dfb4d43c5e5/xhtml/FOR-C_2007072EN.01000901.notes.0006.xml.jpg:\n",
      "Traceback (most recent call last):\n",
      "  File \"/var/folders/zj/t8mz7g111911kcsdk6nwh8g00000gn/T/ipykernel_1963/64700856.py\", line 5, in <module>\n",
      "    html_content = obj['Body'].read().decode('utf-8')  # HTML as string\n",
      "UnicodeDecodeError: 'utf-8' codec can't decode byte 0xff in position 0: invalid start byte\n",
      "\n",
      "ERROR:root:2686 | Error loading eu/LEG_EN_HTML_20250721_04_08/853f69fe-0226-4a67-b554-2dfb4d43c5e5/xhtml/FOR-C_2007072EN.01000501.notes.0003.xml.jpg:\n",
      "Traceback (most recent call last):\n",
      "  File \"/var/folders/zj/t8mz7g111911kcsdk6nwh8g00000gn/T/ipykernel_1963/64700856.py\", line 5, in <module>\n",
      "    html_content = obj['Body'].read().decode('utf-8')  # HTML as string\n",
      "UnicodeDecodeError: 'utf-8' codec can't decode byte 0xff in position 0: invalid start byte\n",
      "\n",
      "Processing documents:   6%|▌         | 2687/46665 [11:36:41<43:10, 16.98it/s]"
     ]
    },
    {
     "name": "stdout",
     "output_type": "stream",
     "text": [
      "2682 | Error loading eu/LEG_EN_HTML_20250721_04_08/853f69fe-0226-4a67-b554-2dfb4d43c5e5/xhtml/FOR-C_2007072EN.01000101.notes.0002.xml.jpg | 'utf-8' codec can't decode byte 0xff in position 0: invalid start byte\n",
      "2683 | Error loading eu/LEG_EN_HTML_20250721_04_08/853f69fe-0226-4a67-b554-2dfb4d43c5e5/xhtml/FOR-C_2007072EN.01002001.notes.0002.xml.jpg | 'utf-8' codec can't decode byte 0xff in position 0: invalid start byte\n",
      "2684 | Error loading eu/LEG_EN_HTML_20250721_04_08/853f69fe-0226-4a67-b554-2dfb4d43c5e5/xhtml/FOR-C_2007072EN.01002001.notes.0012.xml.jpg | 'utf-8' codec can't decode byte 0xff in position 0: invalid start byte\n",
      "2685 | Error loading eu/LEG_EN_HTML_20250721_04_08/853f69fe-0226-4a67-b554-2dfb4d43c5e5/xhtml/FOR-C_2007072EN.01000901.notes.0006.xml.jpg | 'utf-8' codec can't decode byte 0xff in position 0: invalid start byte\n",
      "2686 | Error loading eu/LEG_EN_HTML_20250721_04_08/853f69fe-0226-4a67-b554-2dfb4d43c5e5/xhtml/FOR-C_2007072EN.01000501.notes.0003.xml.jpg | 'utf-8' codec can't decode byte 0xff in position 0: invalid start byte\n"
     ]
    },
    {
     "name": "stderr",
     "output_type": "stream",
     "text": [
      "ERROR:root:2687 | Error loading eu/LEG_EN_HTML_20250721_04_08/853f69fe-0226-4a67-b554-2dfb4d43c5e5/xhtml/FOR-C_2007072EN.01001301.notes.0001.xml.jpg:\n",
      "Traceback (most recent call last):\n",
      "  File \"/var/folders/zj/t8mz7g111911kcsdk6nwh8g00000gn/T/ipykernel_1963/64700856.py\", line 5, in <module>\n",
      "    html_content = obj['Body'].read().decode('utf-8')  # HTML as string\n",
      "UnicodeDecodeError: 'utf-8' codec can't decode byte 0xff in position 0: invalid start byte\n",
      "\n"
     ]
    },
    {
     "name": "stdout",
     "output_type": "stream",
     "text": [
      "2687 | Error loading eu/LEG_EN_HTML_20250721_04_08/853f69fe-0226-4a67-b554-2dfb4d43c5e5/xhtml/FOR-C_2007072EN.01001301.notes.0001.xml.jpg | 'utf-8' codec can't decode byte 0xff in position 0: invalid start byte\n"
     ]
    },
    {
     "name": "stderr",
     "output_type": "stream",
     "text": [
      "Processing documents:   6%|▌         | 2689/46665 [11:36:47<10:49:51,  1.13it/s]ERROR:root:2689 | Error loading eu/LEG_EN_HTML_20250721_04_08/853f69fe-0226-4a67-b554-2dfb4d43c5e5/xhtml/FOR-C_2007072EN.01000501.notes.0002.xml.jpg:\n",
      "Traceback (most recent call last):\n",
      "  File \"/var/folders/zj/t8mz7g111911kcsdk6nwh8g00000gn/T/ipykernel_1963/64700856.py\", line 5, in <module>\n",
      "    html_content = obj['Body'].read().decode('utf-8')  # HTML as string\n",
      "UnicodeDecodeError: 'utf-8' codec can't decode byte 0xff in position 0: invalid start byte\n",
      "\n",
      "ERROR:root:2690 | Error loading eu/LEG_EN_HTML_20250721_04_08/853f69fe-0226-4a67-b554-2dfb4d43c5e5/xhtml/FOR-C_2007072EN.01000101.notes.0001.xml.jpg:\n",
      "Traceback (most recent call last):\n",
      "  File \"/var/folders/zj/t8mz7g111911kcsdk6nwh8g00000gn/T/ipykernel_1963/64700856.py\", line 5, in <module>\n",
      "    html_content = obj['Body'].read().decode('utf-8')  # HTML as string\n",
      "UnicodeDecodeError: 'utf-8' codec can't decode byte 0xff in position 0: invalid start byte\n",
      "\n",
      "Processing documents:   6%|▌         | 2691/46665 [11:36:47<8:21:11,  1.46it/s] ERROR:root:2691 | Error loading eu/LEG_EN_HTML_20250721_04_08/853f69fe-0226-4a67-b554-2dfb4d43c5e5/xhtml/FOR-C_2007072EN.01002001.notes.0013.xml.jpg:\n",
      "Traceback (most recent call last):\n",
      "  File \"/var/folders/zj/t8mz7g111911kcsdk6nwh8g00000gn/T/ipykernel_1963/64700856.py\", line 5, in <module>\n",
      "    html_content = obj['Body'].read().decode('utf-8')  # HTML as string\n",
      "UnicodeDecodeError: 'utf-8' codec can't decode byte 0xff in position 0: invalid start byte\n",
      "\n",
      "ERROR:root:2692 | Error loading eu/LEG_EN_HTML_20250721_04_08/853f69fe-0226-4a67-b554-2dfb4d43c5e5/xhtml/FOR-C_2007072EN.01002001.notes.0003.xml.jpg:\n",
      "Traceback (most recent call last):\n",
      "  File \"/var/folders/zj/t8mz7g111911kcsdk6nwh8g00000gn/T/ipykernel_1963/64700856.py\", line 5, in <module>\n",
      "    html_content = obj['Body'].read().decode('utf-8')  # HTML as string\n",
      "UnicodeDecodeError: 'utf-8' codec can't decode byte 0xff in position 0: invalid start byte\n",
      "\n",
      "Processing documents:   6%|▌         | 2693/46665 [11:36:48<6:17:59,  1.94it/s]"
     ]
    },
    {
     "name": "stdout",
     "output_type": "stream",
     "text": [
      "2689 | Error loading eu/LEG_EN_HTML_20250721_04_08/853f69fe-0226-4a67-b554-2dfb4d43c5e5/xhtml/FOR-C_2007072EN.01000501.notes.0002.xml.jpg | 'utf-8' codec can't decode byte 0xff in position 0: invalid start byte\n",
      "2690 | Error loading eu/LEG_EN_HTML_20250721_04_08/853f69fe-0226-4a67-b554-2dfb4d43c5e5/xhtml/FOR-C_2007072EN.01000101.notes.0001.xml.jpg | 'utf-8' codec can't decode byte 0xff in position 0: invalid start byte\n",
      "2691 | Error loading eu/LEG_EN_HTML_20250721_04_08/853f69fe-0226-4a67-b554-2dfb4d43c5e5/xhtml/FOR-C_2007072EN.01002001.notes.0013.xml.jpg | 'utf-8' codec can't decode byte 0xff in position 0: invalid start byte\n",
      "2692 | Error loading eu/LEG_EN_HTML_20250721_04_08/853f69fe-0226-4a67-b554-2dfb4d43c5e5/xhtml/FOR-C_2007072EN.01002001.notes.0003.xml.jpg | 'utf-8' codec can't decode byte 0xff in position 0: invalid start byte\n"
     ]
    },
    {
     "name": "stderr",
     "output_type": "stream",
     "text": [
      "ERROR:root:2693 | Error loading eu/LEG_EN_HTML_20250721_04_08/853f69fe-0226-4a67-b554-2dfb4d43c5e5/xhtml/FOR-C_2007072EN.01000901.notes.0007.xml.jpg:\n",
      "Traceback (most recent call last):\n",
      "  File \"/var/folders/zj/t8mz7g111911kcsdk6nwh8g00000gn/T/ipykernel_1963/64700856.py\", line 5, in <module>\n",
      "    html_content = obj['Body'].read().decode('utf-8')  # HTML as string\n",
      "UnicodeDecodeError: 'utf-8' codec can't decode byte 0xff in position 0: invalid start byte\n",
      "\n"
     ]
    },
    {
     "name": "stdout",
     "output_type": "stream",
     "text": [
      "2693 | Error loading eu/LEG_EN_HTML_20250721_04_08/853f69fe-0226-4a67-b554-2dfb4d43c5e5/xhtml/FOR-C_2007072EN.01000901.notes.0007.xml.jpg | 'utf-8' codec can't decode byte 0xff in position 0: invalid start byte\n"
     ]
    },
    {
     "name": "stderr",
     "output_type": "stream",
     "text": [
      "Processing documents:   6%|▌         | 2782/46665 [11:49:34<108:01:47,  8.86s/it]ERROR:root:2782 | Error loading eu/LEG_EN_HTML_20250721_04_08/9b85eb16-60d1-4a32-9134-f760a9ad923d/xhtml/FOR-C_2007072EN.01000901.notes.0002.xml.jpg:\n",
      "Traceback (most recent call last):\n",
      "  File \"/var/folders/zj/t8mz7g111911kcsdk6nwh8g00000gn/T/ipykernel_1963/64700856.py\", line 5, in <module>\n",
      "    html_content = obj['Body'].read().decode('utf-8')  # HTML as string\n",
      "UnicodeDecodeError: 'utf-8' codec can't decode byte 0xff in position 0: invalid start byte\n",
      "\n",
      "ERROR:root:2783 | Error loading eu/LEG_EN_HTML_20250721_04_08/9b85eb16-60d1-4a32-9134-f760a9ad923d/xhtml/FOR-C_2007072EN.01002001.notes.0006.xml.jpg:\n",
      "Traceback (most recent call last):\n",
      "  File \"/var/folders/zj/t8mz7g111911kcsdk6nwh8g00000gn/T/ipykernel_1963/64700856.py\", line 5, in <module>\n",
      "    html_content = obj['Body'].read().decode('utf-8')  # HTML as string\n",
      "UnicodeDecodeError: 'utf-8' codec can't decode byte 0xff in position 0: invalid start byte\n",
      "\n",
      "Processing documents:   6%|▌         | 2784/46665 [11:49:34<58:33:00,  4.80s/it] ERROR:root:2784 | Error loading eu/LEG_EN_HTML_20250721_04_08/9b85eb16-60d1-4a32-9134-f760a9ad923d/xhtml/FOR-C_2007072EN.01002001.notes.0016.xml.jpg:\n",
      "Traceback (most recent call last):\n",
      "  File \"/var/folders/zj/t8mz7g111911kcsdk6nwh8g00000gn/T/ipykernel_1963/64700856.py\", line 5, in <module>\n",
      "    html_content = obj['Body'].read().decode('utf-8')  # HTML as string\n",
      "UnicodeDecodeError: 'utf-8' codec can't decode byte 0xff in position 0: invalid start byte\n",
      "\n"
     ]
    },
    {
     "name": "stdout",
     "output_type": "stream",
     "text": [
      "2782 | Error loading eu/LEG_EN_HTML_20250721_04_08/9b85eb16-60d1-4a32-9134-f760a9ad923d/xhtml/FOR-C_2007072EN.01000901.notes.0002.xml.jpg | 'utf-8' codec can't decode byte 0xff in position 0: invalid start byte\n",
      "2783 | Error loading eu/LEG_EN_HTML_20250721_04_08/9b85eb16-60d1-4a32-9134-f760a9ad923d/xhtml/FOR-C_2007072EN.01002001.notes.0006.xml.jpg | 'utf-8' codec can't decode byte 0xff in position 0: invalid start byte\n",
      "2784 | Error loading eu/LEG_EN_HTML_20250721_04_08/9b85eb16-60d1-4a32-9134-f760a9ad923d/xhtml/FOR-C_2007072EN.01002001.notes.0016.xml.jpg | 'utf-8' codec can't decode byte 0xff in position 0: invalid start byte\n"
     ]
    },
    {
     "name": "stderr",
     "output_type": "stream",
     "text": [
      "ERROR:root:2785 | Error loading eu/LEG_EN_HTML_20250721_04_08/9b85eb16-60d1-4a32-9134-f760a9ad923d/xhtml/FOR-C_2007072EN.01002001.notes.0020.xml.jpg:\n",
      "Traceback (most recent call last):\n",
      "  File \"/var/folders/zj/t8mz7g111911kcsdk6nwh8g00000gn/T/ipykernel_1963/64700856.py\", line 5, in <module>\n",
      "    html_content = obj['Body'].read().decode('utf-8')  # HTML as string\n",
      "UnicodeDecodeError: 'utf-8' codec can't decode byte 0xff in position 0: invalid start byte\n",
      "\n",
      "Processing documents:   6%|▌         | 2786/46665 [11:49:34<35:38:44,  2.92s/it]ERROR:root:2786 | Error loading eu/LEG_EN_HTML_20250721_04_08/9b85eb16-60d1-4a32-9134-f760a9ad923d/xhtml/FOR-C_2007072EN.01000101.notes.0004.xml.jpg:\n",
      "Traceback (most recent call last):\n",
      "  File \"/var/folders/zj/t8mz7g111911kcsdk6nwh8g00000gn/T/ipykernel_1963/64700856.py\", line 5, in <module>\n",
      "    html_content = obj['Body'].read().decode('utf-8')  # HTML as string\n",
      "UnicodeDecodeError: 'utf-8' codec can't decode byte 0xff in position 0: invalid start byte\n",
      "\n",
      "Processing documents:   6%|▌         | 2787/46665 [11:49:34<28:12:11,  2.31s/it]"
     ]
    },
    {
     "name": "stdout",
     "output_type": "stream",
     "text": [
      "2785 | Error loading eu/LEG_EN_HTML_20250721_04_08/9b85eb16-60d1-4a32-9134-f760a9ad923d/xhtml/FOR-C_2007072EN.01002001.notes.0020.xml.jpg | 'utf-8' codec can't decode byte 0xff in position 0: invalid start byte\n",
      "2786 | Error loading eu/LEG_EN_HTML_20250721_04_08/9b85eb16-60d1-4a32-9134-f760a9ad923d/xhtml/FOR-C_2007072EN.01000101.notes.0004.xml.jpg | 'utf-8' codec can't decode byte 0xff in position 0: invalid start byte\n"
     ]
    },
    {
     "name": "stderr",
     "output_type": "stream",
     "text": [
      "ERROR:root:2787 | Error loading eu/LEG_EN_HTML_20250721_04_08/9b85eb16-60d1-4a32-9134-f760a9ad923d/xhtml/FOR-C_2007072EN.01000501.notes.0007.xml.jpg:\n",
      "Traceback (most recent call last):\n",
      "  File \"/var/folders/zj/t8mz7g111911kcsdk6nwh8g00000gn/T/ipykernel_1963/64700856.py\", line 5, in <module>\n",
      "    html_content = obj['Body'].read().decode('utf-8')  # HTML as string\n",
      "UnicodeDecodeError: 'utf-8' codec can't decode byte 0xff in position 0: invalid start byte\n",
      "\n",
      "ERROR:root:2788 | Error loading eu/LEG_EN_HTML_20250721_04_08/9b85eb16-60d1-4a32-9134-f760a9ad923d/xhtml/FOR-C_2007072EN.01000101.notes.0005.xml.jpg:\n",
      "Traceback (most recent call last):\n",
      "  File \"/var/folders/zj/t8mz7g111911kcsdk6nwh8g00000gn/T/ipykernel_1963/64700856.py\", line 5, in <module>\n",
      "    html_content = obj['Body'].read().decode('utf-8')  # HTML as string\n",
      "UnicodeDecodeError: 'utf-8' codec can't decode byte 0xff in position 0: invalid start byte\n",
      "\n",
      "Processing documents:   6%|▌         | 2789/46665 [11:49:34<17:38:28,  1.45s/it]ERROR:root:2789 | Error loading eu/LEG_EN_HTML_20250721_04_08/9b85eb16-60d1-4a32-9134-f760a9ad923d/xhtml/FOR-C_2007072EN.01000501.notes.0006.xml.jpg:\n",
      "Traceback (most recent call last):\n",
      "  File \"/var/folders/zj/t8mz7g111911kcsdk6nwh8g00000gn/T/ipykernel_1963/64700856.py\", line 5, in <module>\n",
      "    html_content = obj['Body'].read().decode('utf-8')  # HTML as string\n",
      "UnicodeDecodeError: 'utf-8' codec can't decode byte 0xff in position 0: invalid start byte\n",
      "\n"
     ]
    },
    {
     "name": "stdout",
     "output_type": "stream",
     "text": [
      "2787 | Error loading eu/LEG_EN_HTML_20250721_04_08/9b85eb16-60d1-4a32-9134-f760a9ad923d/xhtml/FOR-C_2007072EN.01000501.notes.0007.xml.jpg | 'utf-8' codec can't decode byte 0xff in position 0: invalid start byte\n",
      "2788 | Error loading eu/LEG_EN_HTML_20250721_04_08/9b85eb16-60d1-4a32-9134-f760a9ad923d/xhtml/FOR-C_2007072EN.01000101.notes.0005.xml.jpg | 'utf-8' codec can't decode byte 0xff in position 0: invalid start byte\n",
      "2789 | Error loading eu/LEG_EN_HTML_20250721_04_08/9b85eb16-60d1-4a32-9134-f760a9ad923d/xhtml/FOR-C_2007072EN.01000501.notes.0006.xml.jpg | 'utf-8' codec can't decode byte 0xff in position 0: invalid start byte\n"
     ]
    },
    {
     "name": "stderr",
     "output_type": "stream",
     "text": [
      "ERROR:root:2790 | Error loading eu/LEG_EN_HTML_20250721_04_08/9b85eb16-60d1-4a32-9134-f760a9ad923d/xhtml/FOR-C_2007072EN.01000901.notes.0003.xml.jpg:\n",
      "Traceback (most recent call last):\n",
      "  File \"/var/folders/zj/t8mz7g111911kcsdk6nwh8g00000gn/T/ipykernel_1963/64700856.py\", line 5, in <module>\n",
      "    html_content = obj['Body'].read().decode('utf-8')  # HTML as string\n",
      "UnicodeDecodeError: 'utf-8' codec can't decode byte 0xff in position 0: invalid start byte\n",
      "\n",
      "Processing documents:   6%|▌         | 2791/46665 [11:49:34<11:38:57,  1.05it/s]ERROR:root:2791 | Error loading eu/LEG_EN_HTML_20250721_04_08/9b85eb16-60d1-4a32-9134-f760a9ad923d/xhtml/FOR-C_2007072EN.01002001.notes.0017.xml.jpg:\n",
      "Traceback (most recent call last):\n",
      "  File \"/var/folders/zj/t8mz7g111911kcsdk6nwh8g00000gn/T/ipykernel_1963/64700856.py\", line 5, in <module>\n",
      "    html_content = obj['Body'].read().decode('utf-8')  # HTML as string\n",
      "UnicodeDecodeError: 'utf-8' codec can't decode byte 0xff in position 0: invalid start byte\n",
      "\n",
      "ERROR:root:2792 | Error loading eu/LEG_EN_HTML_20250721_04_08/9b85eb16-60d1-4a32-9134-f760a9ad923d/xhtml/FOR-C_2007072EN.01002001.notes.0007.xml.jpg:\n",
      "Traceback (most recent call last):\n",
      "  File \"/var/folders/zj/t8mz7g111911kcsdk6nwh8g00000gn/T/ipykernel_1963/64700856.py\", line 5, in <module>\n",
      "    html_content = obj['Body'].read().decode('utf-8')  # HTML as string\n",
      "UnicodeDecodeError: 'utf-8' codec can't decode byte 0xff in position 0: invalid start byte\n",
      "\n",
      "Processing documents:   6%|▌         | 2793/46665 [11:49:35<8:02:34,  1.52it/s] "
     ]
    },
    {
     "name": "stdout",
     "output_type": "stream",
     "text": [
      "2790 | Error loading eu/LEG_EN_HTML_20250721_04_08/9b85eb16-60d1-4a32-9134-f760a9ad923d/xhtml/FOR-C_2007072EN.01000901.notes.0003.xml.jpg | 'utf-8' codec can't decode byte 0xff in position 0: invalid start byte\n",
      "2791 | Error loading eu/LEG_EN_HTML_20250721_04_08/9b85eb16-60d1-4a32-9134-f760a9ad923d/xhtml/FOR-C_2007072EN.01002001.notes.0017.xml.jpg | 'utf-8' codec can't decode byte 0xff in position 0: invalid start byte\n",
      "2792 | Error loading eu/LEG_EN_HTML_20250721_04_08/9b85eb16-60d1-4a32-9134-f760a9ad923d/xhtml/FOR-C_2007072EN.01002001.notes.0007.xml.jpg | 'utf-8' codec can't decode byte 0xff in position 0: invalid start byte\n"
     ]
    },
    {
     "name": "stderr",
     "output_type": "stream",
     "text": [
      "ERROR:root:2793 | Error loading eu/LEG_EN_HTML_20250721_04_08/9b85eb16-60d1-4a32-9134-f760a9ad923d/xhtml/FOR-C_2007072EN.01000901.notes.0008.xml.jpg:\n",
      "Traceback (most recent call last):\n",
      "  File \"/var/folders/zj/t8mz7g111911kcsdk6nwh8g00000gn/T/ipykernel_1963/64700856.py\", line 5, in <module>\n",
      "    html_content = obj['Body'].read().decode('utf-8')  # HTML as string\n",
      "UnicodeDecodeError: 'utf-8' codec can't decode byte 0xff in position 0: invalid start byte\n",
      "\n",
      "ERROR:root:2794 | Error loading eu/LEG_EN_HTML_20250721_04_08/9b85eb16-60d1-4a32-9134-f760a9ad923d/xhtml/FOR-C_2007072EN.01000501.notes.0004.xml.jpg:\n",
      "Traceback (most recent call last):\n",
      "  File \"/var/folders/zj/t8mz7g111911kcsdk6nwh8g00000gn/T/ipykernel_1963/64700856.py\", line 5, in <module>\n",
      "    html_content = obj['Body'].read().decode('utf-8')  # HTML as string\n",
      "UnicodeDecodeError: 'utf-8' codec can't decode byte 0xff in position 0: invalid start byte\n",
      "\n",
      "Processing documents:   6%|▌         | 2795/46665 [11:49:35<5:48:32,  2.10it/s]ERROR:root:2795 | Error loading eu/LEG_EN_HTML_20250721_04_08/9b85eb16-60d1-4a32-9134-f760a9ad923d/xhtml/FOR-C_2007072EN.01000901.notes.0001.xml.jpg:\n",
      "Traceback (most recent call last):\n",
      "  File \"/var/folders/zj/t8mz7g111911kcsdk6nwh8g00000gn/T/ipykernel_1963/64700856.py\", line 5, in <module>\n",
      "    html_content = obj['Body'].read().decode('utf-8')  # HTML as string\n",
      "UnicodeDecodeError: 'utf-8' codec can't decode byte 0xff in position 0: invalid start byte\n",
      "\n"
     ]
    },
    {
     "name": "stdout",
     "output_type": "stream",
     "text": [
      "2793 | Error loading eu/LEG_EN_HTML_20250721_04_08/9b85eb16-60d1-4a32-9134-f760a9ad923d/xhtml/FOR-C_2007072EN.01000901.notes.0008.xml.jpg | 'utf-8' codec can't decode byte 0xff in position 0: invalid start byte\n",
      "2794 | Error loading eu/LEG_EN_HTML_20250721_04_08/9b85eb16-60d1-4a32-9134-f760a9ad923d/xhtml/FOR-C_2007072EN.01000501.notes.0004.xml.jpg | 'utf-8' codec can't decode byte 0xff in position 0: invalid start byte\n",
      "2795 | Error loading eu/LEG_EN_HTML_20250721_04_08/9b85eb16-60d1-4a32-9134-f760a9ad923d/xhtml/FOR-C_2007072EN.01000901.notes.0001.xml.jpg | 'utf-8' codec can't decode byte 0xff in position 0: invalid start byte\n"
     ]
    },
    {
     "name": "stderr",
     "output_type": "stream",
     "text": [
      "ERROR:root:2796 | Error loading eu/LEG_EN_HTML_20250721_04_08/9b85eb16-60d1-4a32-9134-f760a9ad923d/xhtml/FOR-C_2007072EN.01002001.notes.0005.xml.jpg:\n",
      "Traceback (most recent call last):\n",
      "  File \"/var/folders/zj/t8mz7g111911kcsdk6nwh8g00000gn/T/ipykernel_1963/64700856.py\", line 5, in <module>\n",
      "    html_content = obj['Body'].read().decode('utf-8')  # HTML as string\n",
      "UnicodeDecodeError: 'utf-8' codec can't decode byte 0xff in position 0: invalid start byte\n",
      "\n",
      "Processing documents:   6%|▌         | 2797/46665 [11:49:35<4:20:33,  2.81it/s]ERROR:root:2797 | Error loading eu/LEG_EN_HTML_20250721_04_08/9b85eb16-60d1-4a32-9134-f760a9ad923d/xhtml/FOR-C_2007072EN.01002001.notes.0015.xml.jpg:\n",
      "Traceback (most recent call last):\n",
      "  File \"/var/folders/zj/t8mz7g111911kcsdk6nwh8g00000gn/T/ipykernel_1963/64700856.py\", line 5, in <module>\n",
      "    html_content = obj['Body'].read().decode('utf-8')  # HTML as string\n",
      "UnicodeDecodeError: 'utf-8' codec can't decode byte 0xff in position 0: invalid start byte\n",
      "\n",
      "ERROR:root:2798 | Error loading eu/LEG_EN_HTML_20250721_04_08/9b85eb16-60d1-4a32-9134-f760a9ad923d/xhtml/FOR-C_2007072EN.01002001.notes.0014.xml.jpg:\n",
      "Traceback (most recent call last):\n",
      "  File \"/var/folders/zj/t8mz7g111911kcsdk6nwh8g00000gn/T/ipykernel_1963/64700856.py\", line 5, in <module>\n",
      "    html_content = obj['Body'].read().decode('utf-8')  # HTML as string\n",
      "UnicodeDecodeError: 'utf-8' codec can't decode byte 0xff in position 0: invalid start byte\n",
      "\n",
      "Processing documents:   6%|▌         | 2799/46665 [11:49:35<3:12:19,  3.80it/s]ERROR:root:2799 | Error loading eu/LEG_EN_HTML_20250721_04_08/9b85eb16-60d1-4a32-9134-f760a9ad923d/xhtml/FOR-C_2007072EN.01002001.notes.0004.xml.jpg:\n",
      "Traceback (most recent call last):\n",
      "  File \"/var/folders/zj/t8mz7g111911kcsdk6nwh8g00000gn/T/ipykernel_1963/64700856.py\", line 5, in <module>\n",
      "    html_content = obj['Body'].read().decode('utf-8')  # HTML as string\n",
      "UnicodeDecodeError: 'utf-8' codec can't decode byte 0xff in position 0: invalid start byte\n",
      "\n"
     ]
    },
    {
     "name": "stdout",
     "output_type": "stream",
     "text": [
      "2796 | Error loading eu/LEG_EN_HTML_20250721_04_08/9b85eb16-60d1-4a32-9134-f760a9ad923d/xhtml/FOR-C_2007072EN.01002001.notes.0005.xml.jpg | 'utf-8' codec can't decode byte 0xff in position 0: invalid start byte\n",
      "2797 | Error loading eu/LEG_EN_HTML_20250721_04_08/9b85eb16-60d1-4a32-9134-f760a9ad923d/xhtml/FOR-C_2007072EN.01002001.notes.0015.xml.jpg | 'utf-8' codec can't decode byte 0xff in position 0: invalid start byte\n",
      "2798 | Error loading eu/LEG_EN_HTML_20250721_04_08/9b85eb16-60d1-4a32-9134-f760a9ad923d/xhtml/FOR-C_2007072EN.01002001.notes.0014.xml.jpg | 'utf-8' codec can't decode byte 0xff in position 0: invalid start byte\n",
      "2799 | Error loading eu/LEG_EN_HTML_20250721_04_08/9b85eb16-60d1-4a32-9134-f760a9ad923d/xhtml/FOR-C_2007072EN.01002001.notes.0004.xml.jpg | 'utf-8' codec can't decode byte 0xff in position 0: invalid start byte\n"
     ]
    },
    {
     "name": "stderr",
     "output_type": "stream",
     "text": [
      "ERROR:root:2800 | Error loading eu/LEG_EN_HTML_20250721_04_08/9b85eb16-60d1-4a32-9134-f760a9ad923d/xhtml/FOR-C_2007072EN.01000501.notes.0005.xml.jpg:\n",
      "Traceback (most recent call last):\n",
      "  File \"/var/folders/zj/t8mz7g111911kcsdk6nwh8g00000gn/T/ipykernel_1963/64700856.py\", line 5, in <module>\n",
      "    html_content = obj['Body'].read().decode('utf-8')  # HTML as string\n",
      "UnicodeDecodeError: 'utf-8' codec can't decode byte 0xff in position 0: invalid start byte\n",
      "\n",
      "Processing documents:   6%|▌         | 2801/46665 [11:49:35<2:31:45,  4.82it/s]ERROR:root:2801 | Error loading eu/LEG_EN_HTML_20250721_04_08/9b85eb16-60d1-4a32-9134-f760a9ad923d/xhtml/FOR-C_2007072EN.01001301.notes.0002.xml.jpg:\n",
      "Traceback (most recent call last):\n",
      "  File \"/var/folders/zj/t8mz7g111911kcsdk6nwh8g00000gn/T/ipykernel_1963/64700856.py\", line 5, in <module>\n",
      "    html_content = obj['Body'].read().decode('utf-8')  # HTML as string\n",
      "UnicodeDecodeError: 'utf-8' codec can't decode byte 0xff in position 0: invalid start byte\n",
      "\n",
      "ERROR:root:2802 | Error loading eu/LEG_EN_HTML_20250721_04_08/9b85eb16-60d1-4a32-9134-f760a9ad923d/xhtml/FOR-C_2007072EN.01002001.notes.0018.xml.jpg:\n",
      "Traceback (most recent call last):\n",
      "  File \"/var/folders/zj/t8mz7g111911kcsdk6nwh8g00000gn/T/ipykernel_1963/64700856.py\", line 5, in <module>\n",
      "    html_content = obj['Body'].read().decode('utf-8')  # HTML as string\n",
      "UnicodeDecodeError: 'utf-8' codec can't decode byte 0xff in position 0: invalid start byte\n",
      "\n",
      "Processing documents:   6%|▌         | 2803/46665 [11:49:35<1:59:07,  6.14it/s]ERROR:root:2803 | Error loading eu/LEG_EN_HTML_20250721_04_08/9b85eb16-60d1-4a32-9134-f760a9ad923d/xhtml/FOR-C_2007072EN.01002001.notes.0008.xml.jpg:\n",
      "Traceback (most recent call last):\n",
      "  File \"/var/folders/zj/t8mz7g111911kcsdk6nwh8g00000gn/T/ipykernel_1963/64700856.py\", line 5, in <module>\n",
      "    html_content = obj['Body'].read().decode('utf-8')  # HTML as string\n",
      "UnicodeDecodeError: 'utf-8' codec can't decode byte 0xff in position 0: invalid start byte\n",
      "\n"
     ]
    },
    {
     "name": "stdout",
     "output_type": "stream",
     "text": [
      "2800 | Error loading eu/LEG_EN_HTML_20250721_04_08/9b85eb16-60d1-4a32-9134-f760a9ad923d/xhtml/FOR-C_2007072EN.01000501.notes.0005.xml.jpg | 'utf-8' codec can't decode byte 0xff in position 0: invalid start byte\n",
      "2801 | Error loading eu/LEG_EN_HTML_20250721_04_08/9b85eb16-60d1-4a32-9134-f760a9ad923d/xhtml/FOR-C_2007072EN.01001301.notes.0002.xml.jpg | 'utf-8' codec can't decode byte 0xff in position 0: invalid start byte\n",
      "2802 | Error loading eu/LEG_EN_HTML_20250721_04_08/9b85eb16-60d1-4a32-9134-f760a9ad923d/xhtml/FOR-C_2007072EN.01002001.notes.0018.xml.jpg | 'utf-8' codec can't decode byte 0xff in position 0: invalid start byte\n",
      "2803 | Error loading eu/LEG_EN_HTML_20250721_04_08/9b85eb16-60d1-4a32-9134-f760a9ad923d/xhtml/FOR-C_2007072EN.01002001.notes.0008.xml.jpg | 'utf-8' codec can't decode byte 0xff in position 0: invalid start byte\n"
     ]
    },
    {
     "name": "stderr",
     "output_type": "stream",
     "text": [
      "ERROR:root:2804 | Error loading eu/LEG_EN_HTML_20250721_04_08/9b85eb16-60d1-4a32-9134-f760a9ad923d/xhtml/FOR-C_2007072EN.01000101.notes.0003.xml.jpg:\n",
      "Traceback (most recent call last):\n",
      "  File \"/var/folders/zj/t8mz7g111911kcsdk6nwh8g00000gn/T/ipykernel_1963/64700856.py\", line 5, in <module>\n",
      "    html_content = obj['Body'].read().decode('utf-8')  # HTML as string\n",
      "UnicodeDecodeError: 'utf-8' codec can't decode byte 0xff in position 0: invalid start byte\n",
      "\n",
      "ERROR:root:2805 | Error loading eu/LEG_EN_HTML_20250721_04_08/9b85eb16-60d1-4a32-9134-f760a9ad923d/xhtml/FOR-C_2007072EN.01002001.notes.0001.xml.jpg:\n",
      "Traceback (most recent call last):\n",
      "  File \"/var/folders/zj/t8mz7g111911kcsdk6nwh8g00000gn/T/ipykernel_1963/64700856.py\", line 5, in <module>\n",
      "    html_content = obj['Body'].read().decode('utf-8')  # HTML as string\n",
      "UnicodeDecodeError: 'utf-8' codec can't decode byte 0xff in position 0: invalid start byte\n",
      "\n",
      "Processing documents:   6%|▌         | 2806/46665 [11:49:36<1:31:55,  7.95it/s]ERROR:root:2806 | Error loading eu/LEG_EN_HTML_20250721_04_08/9b85eb16-60d1-4a32-9134-f760a9ad923d/xhtml/FOR-C_2007072EN.01002001.notes.0011.xml.jpg:\n",
      "Traceback (most recent call last):\n",
      "  File \"/var/folders/zj/t8mz7g111911kcsdk6nwh8g00000gn/T/ipykernel_1963/64700856.py\", line 5, in <module>\n",
      "    html_content = obj['Body'].read().decode('utf-8')  # HTML as string\n",
      "UnicodeDecodeError: 'utf-8' codec can't decode byte 0xff in position 0: invalid start byte\n",
      "\n"
     ]
    },
    {
     "name": "stdout",
     "output_type": "stream",
     "text": [
      "2804 | Error loading eu/LEG_EN_HTML_20250721_04_08/9b85eb16-60d1-4a32-9134-f760a9ad923d/xhtml/FOR-C_2007072EN.01000101.notes.0003.xml.jpg | 'utf-8' codec can't decode byte 0xff in position 0: invalid start byte\n",
      "2805 | Error loading eu/LEG_EN_HTML_20250721_04_08/9b85eb16-60d1-4a32-9134-f760a9ad923d/xhtml/FOR-C_2007072EN.01002001.notes.0001.xml.jpg | 'utf-8' codec can't decode byte 0xff in position 0: invalid start byte\n",
      "2806 | Error loading eu/LEG_EN_HTML_20250721_04_08/9b85eb16-60d1-4a32-9134-f760a9ad923d/xhtml/FOR-C_2007072EN.01002001.notes.0011.xml.jpg | 'utf-8' codec can't decode byte 0xff in position 0: invalid start byte\n"
     ]
    },
    {
     "name": "stderr",
     "output_type": "stream",
     "text": [
      "Processing documents:   6%|▌         | 2808/46665 [11:49:40<8:26:04,  1.44it/s]ERROR:root:2808 | Error loading eu/LEG_EN_HTML_20250721_04_08/9b85eb16-60d1-4a32-9134-f760a9ad923d/xhtml/FOR-C_2007072EN.01000901.notes.0005.xml.jpg:\n",
      "Traceback (most recent call last):\n",
      "  File \"/var/folders/zj/t8mz7g111911kcsdk6nwh8g00000gn/T/ipykernel_1963/64700856.py\", line 5, in <module>\n",
      "    html_content = obj['Body'].read().decode('utf-8')  # HTML as string\n",
      "UnicodeDecodeError: 'utf-8' codec can't decode byte 0xff in position 0: invalid start byte\n",
      "\n",
      "ERROR:root:2809 | Error loading eu/LEG_EN_HTML_20250721_04_08/9b85eb16-60d1-4a32-9134-f760a9ad923d/xhtml/FOR-C_2007072EN.01002001.notes.0010.xml.jpg:\n",
      "Traceback (most recent call last):\n",
      "  File \"/var/folders/zj/t8mz7g111911kcsdk6nwh8g00000gn/T/ipykernel_1963/64700856.py\", line 5, in <module>\n",
      "    html_content = obj['Body'].read().decode('utf-8')  # HTML as string\n",
      "UnicodeDecodeError: 'utf-8' codec can't decode byte 0xff in position 0: invalid start byte\n",
      "\n",
      "Processing documents:   6%|▌         | 2810/46665 [11:49:40<6:18:47,  1.93it/s]ERROR:root:2810 | Error loading eu/LEG_EN_HTML_20250721_04_08/9b85eb16-60d1-4a32-9134-f760a9ad923d/xhtml/FOR-C_2007072EN.01000901.notes.0004.xml.jpg:\n",
      "Traceback (most recent call last):\n",
      "  File \"/var/folders/zj/t8mz7g111911kcsdk6nwh8g00000gn/T/ipykernel_1963/64700856.py\", line 5, in <module>\n",
      "    html_content = obj['Body'].read().decode('utf-8')  # HTML as string\n",
      "UnicodeDecodeError: 'utf-8' codec can't decode byte 0xff in position 0: invalid start byte\n",
      "\n",
      "ERROR:root:2811 | Error loading eu/LEG_EN_HTML_20250721_04_08/9b85eb16-60d1-4a32-9134-f760a9ad923d/xhtml/FOR-C_2007072EN.01000501.notes.0001.xml.jpg:\n",
      "Traceback (most recent call last):\n",
      "  File \"/var/folders/zj/t8mz7g111911kcsdk6nwh8g00000gn/T/ipykernel_1963/64700856.py\", line 5, in <module>\n",
      "    html_content = obj['Body'].read().decode('utf-8')  # HTML as string\n",
      "UnicodeDecodeError: 'utf-8' codec can't decode byte 0xff in position 0: invalid start byte\n",
      "\n",
      "Processing documents:   6%|▌         | 2812/46665 [11:49:40<4:42:56,  2.58it/s]"
     ]
    },
    {
     "name": "stdout",
     "output_type": "stream",
     "text": [
      "2808 | Error loading eu/LEG_EN_HTML_20250721_04_08/9b85eb16-60d1-4a32-9134-f760a9ad923d/xhtml/FOR-C_2007072EN.01000901.notes.0005.xml.jpg | 'utf-8' codec can't decode byte 0xff in position 0: invalid start byte\n",
      "2809 | Error loading eu/LEG_EN_HTML_20250721_04_08/9b85eb16-60d1-4a32-9134-f760a9ad923d/xhtml/FOR-C_2007072EN.01002001.notes.0010.xml.jpg | 'utf-8' codec can't decode byte 0xff in position 0: invalid start byte\n",
      "2810 | Error loading eu/LEG_EN_HTML_20250721_04_08/9b85eb16-60d1-4a32-9134-f760a9ad923d/xhtml/FOR-C_2007072EN.01000901.notes.0004.xml.jpg | 'utf-8' codec can't decode byte 0xff in position 0: invalid start byte\n",
      "2811 | Error loading eu/LEG_EN_HTML_20250721_04_08/9b85eb16-60d1-4a32-9134-f760a9ad923d/xhtml/FOR-C_2007072EN.01000501.notes.0001.xml.jpg | 'utf-8' codec can't decode byte 0xff in position 0: invalid start byte\n"
     ]
    },
    {
     "name": "stderr",
     "output_type": "stream",
     "text": [
      "ERROR:root:2812 | Error loading eu/LEG_EN_HTML_20250721_04_08/9b85eb16-60d1-4a32-9134-f760a9ad923d/xhtml/FOR-C_2007072EN.01001301.notes.0003.xml.jpg:\n",
      "Traceback (most recent call last):\n",
      "  File \"/var/folders/zj/t8mz7g111911kcsdk6nwh8g00000gn/T/ipykernel_1963/64700856.py\", line 5, in <module>\n",
      "    html_content = obj['Body'].read().decode('utf-8')  # HTML as string\n",
      "UnicodeDecodeError: 'utf-8' codec can't decode byte 0xff in position 0: invalid start byte\n",
      "\n",
      "ERROR:root:2813 | Error loading eu/LEG_EN_HTML_20250721_04_08/9b85eb16-60d1-4a32-9134-f760a9ad923d/xhtml/FOR-C_2007072EN.01002001.notes.0009.xml.jpg:\n",
      "Traceback (most recent call last):\n",
      "  File \"/var/folders/zj/t8mz7g111911kcsdk6nwh8g00000gn/T/ipykernel_1963/64700856.py\", line 5, in <module>\n",
      "    html_content = obj['Body'].read().decode('utf-8')  # HTML as string\n",
      "UnicodeDecodeError: 'utf-8' codec can't decode byte 0xff in position 0: invalid start byte\n",
      "\n",
      "Processing documents:   6%|▌         | 2814/46665 [11:49:40<3:41:52,  3.29it/s]ERROR:root:2814 | Error loading eu/LEG_EN_HTML_20250721_04_08/9b85eb16-60d1-4a32-9134-f760a9ad923d/xhtml/FOR-C_2007072EN.01002001.notes.0019.xml.jpg:\n",
      "Traceback (most recent call last):\n",
      "  File \"/var/folders/zj/t8mz7g111911kcsdk6nwh8g00000gn/T/ipykernel_1963/64700856.py\", line 5, in <module>\n",
      "    html_content = obj['Body'].read().decode('utf-8')  # HTML as string\n",
      "UnicodeDecodeError: 'utf-8' codec can't decode byte 0xff in position 0: invalid start byte\n",
      "\n",
      "ERROR:root:2815 | Error loading eu/LEG_EN_HTML_20250721_04_08/9b85eb16-60d1-4a32-9134-f760a9ad923d/xhtml/FOR-C_2007072EN.01000101.notes.0002.xml.jpg:\n",
      "Traceback (most recent call last):\n",
      "  File \"/var/folders/zj/t8mz7g111911kcsdk6nwh8g00000gn/T/ipykernel_1963/64700856.py\", line 5, in <module>\n",
      "    html_content = obj['Body'].read().decode('utf-8')  # HTML as string\n",
      "UnicodeDecodeError: 'utf-8' codec can't decode byte 0xff in position 0: invalid start byte\n",
      "\n"
     ]
    },
    {
     "name": "stdout",
     "output_type": "stream",
     "text": [
      "2812 | Error loading eu/LEG_EN_HTML_20250721_04_08/9b85eb16-60d1-4a32-9134-f760a9ad923d/xhtml/FOR-C_2007072EN.01001301.notes.0003.xml.jpg | 'utf-8' codec can't decode byte 0xff in position 0: invalid start byte\n",
      "2813 | Error loading eu/LEG_EN_HTML_20250721_04_08/9b85eb16-60d1-4a32-9134-f760a9ad923d/xhtml/FOR-C_2007072EN.01002001.notes.0009.xml.jpg | 'utf-8' codec can't decode byte 0xff in position 0: invalid start byte\n",
      "2814 | Error loading eu/LEG_EN_HTML_20250721_04_08/9b85eb16-60d1-4a32-9134-f760a9ad923d/xhtml/FOR-C_2007072EN.01002001.notes.0019.xml.jpg | 'utf-8' codec can't decode byte 0xff in position 0: invalid start byte\n",
      "2815 | Error loading eu/LEG_EN_HTML_20250721_04_08/9b85eb16-60d1-4a32-9134-f760a9ad923d/xhtml/FOR-C_2007072EN.01000101.notes.0002.xml.jpg | 'utf-8' codec can't decode byte 0xff in position 0: invalid start byte\n"
     ]
    },
    {
     "name": "stderr",
     "output_type": "stream",
     "text": [
      "ERROR:root:2816 | Error loading eu/LEG_EN_HTML_20250721_04_08/9b85eb16-60d1-4a32-9134-f760a9ad923d/xhtml/FOR-C_2007072EN.01002001.notes.0002.xml.jpg:\n",
      "Traceback (most recent call last):\n",
      "  File \"/var/folders/zj/t8mz7g111911kcsdk6nwh8g00000gn/T/ipykernel_1963/64700856.py\", line 5, in <module>\n",
      "    html_content = obj['Body'].read().decode('utf-8')  # HTML as string\n",
      "UnicodeDecodeError: 'utf-8' codec can't decode byte 0xff in position 0: invalid start byte\n",
      "\n",
      "Processing documents:   6%|▌         | 2817/46665 [11:49:41<2:33:06,  4.77it/s]ERROR:root:2817 | Error loading eu/LEG_EN_HTML_20250721_04_08/9b85eb16-60d1-4a32-9134-f760a9ad923d/xhtml/FOR-C_2007072EN.01002001.notes.0012.xml.jpg:\n",
      "Traceback (most recent call last):\n",
      "  File \"/var/folders/zj/t8mz7g111911kcsdk6nwh8g00000gn/T/ipykernel_1963/64700856.py\", line 5, in <module>\n",
      "    html_content = obj['Body'].read().decode('utf-8')  # HTML as string\n",
      "UnicodeDecodeError: 'utf-8' codec can't decode byte 0xff in position 0: invalid start byte\n",
      "\n",
      "ERROR:root:2818 | Error loading eu/LEG_EN_HTML_20250721_04_08/9b85eb16-60d1-4a32-9134-f760a9ad923d/xhtml/FOR-C_2007072EN.01000901.notes.0006.xml.jpg:\n",
      "Traceback (most recent call last):\n",
      "  File \"/var/folders/zj/t8mz7g111911kcsdk6nwh8g00000gn/T/ipykernel_1963/64700856.py\", line 5, in <module>\n",
      "    html_content = obj['Body'].read().decode('utf-8')  # HTML as string\n",
      "UnicodeDecodeError: 'utf-8' codec can't decode byte 0xff in position 0: invalid start byte\n",
      "\n",
      "ERROR:root:2819 | Error loading eu/LEG_EN_HTML_20250721_04_08/9b85eb16-60d1-4a32-9134-f760a9ad923d/xhtml/FOR-C_2007072EN.01000501.notes.0003.xml.jpg:\n",
      "Traceback (most recent call last):\n",
      "  File \"/var/folders/zj/t8mz7g111911kcsdk6nwh8g00000gn/T/ipykernel_1963/64700856.py\", line 5, in <module>\n",
      "    html_content = obj['Body'].read().decode('utf-8')  # HTML as string\n",
      "UnicodeDecodeError: 'utf-8' codec can't decode byte 0xff in position 0: invalid start byte\n",
      "\n",
      "Processing documents:   6%|▌         | 2820/46665 [11:49:41<1:52:36,  6.49it/s]"
     ]
    },
    {
     "name": "stdout",
     "output_type": "stream",
     "text": [
      "2816 | Error loading eu/LEG_EN_HTML_20250721_04_08/9b85eb16-60d1-4a32-9134-f760a9ad923d/xhtml/FOR-C_2007072EN.01002001.notes.0002.xml.jpg | 'utf-8' codec can't decode byte 0xff in position 0: invalid start byte\n",
      "2817 | Error loading eu/LEG_EN_HTML_20250721_04_08/9b85eb16-60d1-4a32-9134-f760a9ad923d/xhtml/FOR-C_2007072EN.01002001.notes.0012.xml.jpg | 'utf-8' codec can't decode byte 0xff in position 0: invalid start byte\n",
      "2818 | Error loading eu/LEG_EN_HTML_20250721_04_08/9b85eb16-60d1-4a32-9134-f760a9ad923d/xhtml/FOR-C_2007072EN.01000901.notes.0006.xml.jpg | 'utf-8' codec can't decode byte 0xff in position 0: invalid start byte\n",
      "2819 | Error loading eu/LEG_EN_HTML_20250721_04_08/9b85eb16-60d1-4a32-9134-f760a9ad923d/xhtml/FOR-C_2007072EN.01000501.notes.0003.xml.jpg | 'utf-8' codec can't decode byte 0xff in position 0: invalid start byte\n"
     ]
    },
    {
     "name": "stderr",
     "output_type": "stream",
     "text": [
      "ERROR:root:2820 | Error loading eu/LEG_EN_HTML_20250721_04_08/9b85eb16-60d1-4a32-9134-f760a9ad923d/xhtml/FOR-C_2007072EN.01001301.notes.0001.xml.jpg:\n",
      "Traceback (most recent call last):\n",
      "  File \"/var/folders/zj/t8mz7g111911kcsdk6nwh8g00000gn/T/ipykernel_1963/64700856.py\", line 5, in <module>\n",
      "    html_content = obj['Body'].read().decode('utf-8')  # HTML as string\n",
      "UnicodeDecodeError: 'utf-8' codec can't decode byte 0xff in position 0: invalid start byte\n",
      "\n",
      "ERROR:root:2821 | Error loading eu/LEG_EN_HTML_20250721_04_08/9b85eb16-60d1-4a32-9134-f760a9ad923d/xhtml/FOR-C_2007072EN.01000501.notes.0002.xml.jpg:\n",
      "Traceback (most recent call last):\n",
      "  File \"/var/folders/zj/t8mz7g111911kcsdk6nwh8g00000gn/T/ipykernel_1963/64700856.py\", line 5, in <module>\n",
      "    html_content = obj['Body'].read().decode('utf-8')  # HTML as string\n",
      "UnicodeDecodeError: 'utf-8' codec can't decode byte 0xff in position 0: invalid start byte\n",
      "\n",
      "Processing documents:   6%|▌         | 2822/46665 [11:49:41<1:40:37,  7.26it/s]ERROR:root:2822 | Error loading eu/LEG_EN_HTML_20250721_04_08/9b85eb16-60d1-4a32-9134-f760a9ad923d/xhtml/FOR-C_2007072EN.01000101.notes.0001.xml.jpg:\n",
      "Traceback (most recent call last):\n",
      "  File \"/var/folders/zj/t8mz7g111911kcsdk6nwh8g00000gn/T/ipykernel_1963/64700856.py\", line 5, in <module>\n",
      "    html_content = obj['Body'].read().decode('utf-8')  # HTML as string\n",
      "UnicodeDecodeError: 'utf-8' codec can't decode byte 0xff in position 0: invalid start byte\n",
      "\n",
      "ERROR:root:2823 | Error loading eu/LEG_EN_HTML_20250721_04_08/9b85eb16-60d1-4a32-9134-f760a9ad923d/xhtml/FOR-C_2007072EN.01002001.notes.0013.xml.jpg:\n",
      "Traceback (most recent call last):\n",
      "  File \"/var/folders/zj/t8mz7g111911kcsdk6nwh8g00000gn/T/ipykernel_1963/64700856.py\", line 5, in <module>\n",
      "    html_content = obj['Body'].read().decode('utf-8')  # HTML as string\n",
      "UnicodeDecodeError: 'utf-8' codec can't decode byte 0xff in position 0: invalid start byte\n",
      "\n",
      "Processing documents:   6%|▌         | 2824/46665 [11:49:41<1:24:57,  8.60it/s]"
     ]
    },
    {
     "name": "stdout",
     "output_type": "stream",
     "text": [
      "2820 | Error loading eu/LEG_EN_HTML_20250721_04_08/9b85eb16-60d1-4a32-9134-f760a9ad923d/xhtml/FOR-C_2007072EN.01001301.notes.0001.xml.jpg | 'utf-8' codec can't decode byte 0xff in position 0: invalid start byte\n",
      "2821 | Error loading eu/LEG_EN_HTML_20250721_04_08/9b85eb16-60d1-4a32-9134-f760a9ad923d/xhtml/FOR-C_2007072EN.01000501.notes.0002.xml.jpg | 'utf-8' codec can't decode byte 0xff in position 0: invalid start byte\n",
      "2822 | Error loading eu/LEG_EN_HTML_20250721_04_08/9b85eb16-60d1-4a32-9134-f760a9ad923d/xhtml/FOR-C_2007072EN.01000101.notes.0001.xml.jpg | 'utf-8' codec can't decode byte 0xff in position 0: invalid start byte\n",
      "2823 | Error loading eu/LEG_EN_HTML_20250721_04_08/9b85eb16-60d1-4a32-9134-f760a9ad923d/xhtml/FOR-C_2007072EN.01002001.notes.0013.xml.jpg | 'utf-8' codec can't decode byte 0xff in position 0: invalid start byte\n"
     ]
    },
    {
     "name": "stderr",
     "output_type": "stream",
     "text": [
      "ERROR:root:2824 | Error loading eu/LEG_EN_HTML_20250721_04_08/9b85eb16-60d1-4a32-9134-f760a9ad923d/xhtml/FOR-C_2007072EN.01002001.notes.0003.xml.jpg:\n",
      "Traceback (most recent call last):\n",
      "  File \"/var/folders/zj/t8mz7g111911kcsdk6nwh8g00000gn/T/ipykernel_1963/64700856.py\", line 5, in <module>\n",
      "    html_content = obj['Body'].read().decode('utf-8')  # HTML as string\n",
      "UnicodeDecodeError: 'utf-8' codec can't decode byte 0xff in position 0: invalid start byte\n",
      "\n",
      "ERROR:root:2825 | Error loading eu/LEG_EN_HTML_20250721_04_08/9b85eb16-60d1-4a32-9134-f760a9ad923d/xhtml/FOR-C_2007072EN.01000901.notes.0007.xml.jpg:\n",
      "Traceback (most recent call last):\n",
      "  File \"/var/folders/zj/t8mz7g111911kcsdk6nwh8g00000gn/T/ipykernel_1963/64700856.py\", line 5, in <module>\n",
      "    html_content = obj['Body'].read().decode('utf-8')  # HTML as string\n",
      "UnicodeDecodeError: 'utf-8' codec can't decode byte 0xff in position 0: invalid start byte\n",
      "\n",
      "Processing documents:   6%|▌         | 2826/46665 [11:49:41<1:12:38, 10.06it/s]"
     ]
    },
    {
     "name": "stdout",
     "output_type": "stream",
     "text": [
      "2824 | Error loading eu/LEG_EN_HTML_20250721_04_08/9b85eb16-60d1-4a32-9134-f760a9ad923d/xhtml/FOR-C_2007072EN.01002001.notes.0003.xml.jpg | 'utf-8' codec can't decode byte 0xff in position 0: invalid start byte\n",
      "2825 | Error loading eu/LEG_EN_HTML_20250721_04_08/9b85eb16-60d1-4a32-9134-f760a9ad923d/xhtml/FOR-C_2007072EN.01000901.notes.0007.xml.jpg | 'utf-8' codec can't decode byte 0xff in position 0: invalid start byte\n"
     ]
    },
    {
     "name": "stderr",
     "output_type": "stream",
     "text": [
      "Processing documents:   6%|▋         | 3020/46665 [12:49:03<107:20:00,  8.85s/it]  ERROR:root:3020 | Error loading eu/LEG_EN_HTML_20250721_04_08/e6e6ee52-e3b7-4196-a846-6b8dffa5db52/xhtml/FOR-C_2007072EN.01000901.notes.0002.xml.jpg:\n",
      "Traceback (most recent call last):\n",
      "  File \"/var/folders/zj/t8mz7g111911kcsdk6nwh8g00000gn/T/ipykernel_1963/64700856.py\", line 5, in <module>\n",
      "    html_content = obj['Body'].read().decode('utf-8')  # HTML as string\n",
      "UnicodeDecodeError: 'utf-8' codec can't decode byte 0xff in position 0: invalid start byte\n",
      "\n",
      "ERROR:root:3021 | Error loading eu/LEG_EN_HTML_20250721_04_08/e6e6ee52-e3b7-4196-a846-6b8dffa5db52/xhtml/FOR-C_2007072EN.01002001.notes.0006.xml.jpg:\n",
      "Traceback (most recent call last):\n",
      "  File \"/var/folders/zj/t8mz7g111911kcsdk6nwh8g00000gn/T/ipykernel_1963/64700856.py\", line 5, in <module>\n",
      "    html_content = obj['Body'].read().decode('utf-8')  # HTML as string\n",
      "UnicodeDecodeError: 'utf-8' codec can't decode byte 0xff in position 0: invalid start byte\n",
      "\n",
      "Processing documents:   6%|▋         | 3022/46665 [12:49:03<58:11:07,  4.80s/it] ERROR:root:3022 | Error loading eu/LEG_EN_HTML_20250721_04_08/e6e6ee52-e3b7-4196-a846-6b8dffa5db52/xhtml/FOR-C_2007072EN.01002001.notes.0016.xml.jpg:\n",
      "Traceback (most recent call last):\n",
      "  File \"/var/folders/zj/t8mz7g111911kcsdk6nwh8g00000gn/T/ipykernel_1963/64700856.py\", line 5, in <module>\n",
      "    html_content = obj['Body'].read().decode('utf-8')  # HTML as string\n",
      "UnicodeDecodeError: 'utf-8' codec can't decode byte 0xff in position 0: invalid start byte\n",
      "\n",
      "ERROR:root:3023 | Error loading eu/LEG_EN_HTML_20250721_04_08/e6e6ee52-e3b7-4196-a846-6b8dffa5db52/xhtml/FOR-C_2007072EN.01002001.notes.0020.xml.jpg:\n",
      "Traceback (most recent call last):\n",
      "  File \"/var/folders/zj/t8mz7g111911kcsdk6nwh8g00000gn/T/ipykernel_1963/64700856.py\", line 5, in <module>\n",
      "    html_content = obj['Body'].read().decode('utf-8')  # HTML as string\n",
      "UnicodeDecodeError: 'utf-8' codec can't decode byte 0xff in position 0: invalid start byte\n",
      "\n",
      "ERROR:root:3024 | Error loading eu/LEG_EN_HTML_20250721_04_08/e6e6ee52-e3b7-4196-a846-6b8dffa5db52/xhtml/FOR-C_2007072EN.01000101.notes.0004.xml.jpg:\n",
      "Traceback (most recent call last):\n",
      "  File \"/var/folders/zj/t8mz7g111911kcsdk6nwh8g00000gn/T/ipykernel_1963/64700856.py\", line 5, in <module>\n",
      "    html_content = obj['Body'].read().decode('utf-8')  # HTML as string\n",
      "UnicodeDecodeError: 'utf-8' codec can't decode byte 0xff in position 0: invalid start byte\n",
      "\n",
      "Processing documents:   6%|▋         | 3025/46665 [12:49:03<29:32:15,  2.44s/it]"
     ]
    },
    {
     "name": "stdout",
     "output_type": "stream",
     "text": [
      "3020 | Error loading eu/LEG_EN_HTML_20250721_04_08/e6e6ee52-e3b7-4196-a846-6b8dffa5db52/xhtml/FOR-C_2007072EN.01000901.notes.0002.xml.jpg | 'utf-8' codec can't decode byte 0xff in position 0: invalid start byte\n",
      "3021 | Error loading eu/LEG_EN_HTML_20250721_04_08/e6e6ee52-e3b7-4196-a846-6b8dffa5db52/xhtml/FOR-C_2007072EN.01002001.notes.0006.xml.jpg | 'utf-8' codec can't decode byte 0xff in position 0: invalid start byte\n",
      "3022 | Error loading eu/LEG_EN_HTML_20250721_04_08/e6e6ee52-e3b7-4196-a846-6b8dffa5db52/xhtml/FOR-C_2007072EN.01002001.notes.0016.xml.jpg | 'utf-8' codec can't decode byte 0xff in position 0: invalid start byte\n",
      "3023 | Error loading eu/LEG_EN_HTML_20250721_04_08/e6e6ee52-e3b7-4196-a846-6b8dffa5db52/xhtml/FOR-C_2007072EN.01002001.notes.0020.xml.jpg | 'utf-8' codec can't decode byte 0xff in position 0: invalid start byte\n",
      "3024 | Error loading eu/LEG_EN_HTML_20250721_04_08/e6e6ee52-e3b7-4196-a846-6b8dffa5db52/xhtml/FOR-C_2007072EN.01000101.notes.0004.xml.jpg | 'utf-8' codec can't decode byte 0xff in position 0: invalid start byte\n"
     ]
    },
    {
     "name": "stderr",
     "output_type": "stream",
     "text": [
      "ERROR:root:3025 | Error loading eu/LEG_EN_HTML_20250721_04_08/e6e6ee52-e3b7-4196-a846-6b8dffa5db52/xhtml/FOR-C_2007072EN.01000501.notes.0007.xml.jpg:\n",
      "Traceback (most recent call last):\n",
      "  File \"/var/folders/zj/t8mz7g111911kcsdk6nwh8g00000gn/T/ipykernel_1963/64700856.py\", line 5, in <module>\n",
      "    html_content = obj['Body'].read().decode('utf-8')  # HTML as string\n",
      "UnicodeDecodeError: 'utf-8' codec can't decode byte 0xff in position 0: invalid start byte\n",
      "\n",
      "ERROR:root:3026 | Error loading eu/LEG_EN_HTML_20250721_04_08/e6e6ee52-e3b7-4196-a846-6b8dffa5db52/xhtml/FOR-C_2007072EN.01000101.notes.0005.xml.jpg:\n",
      "Traceback (most recent call last):\n",
      "  File \"/var/folders/zj/t8mz7g111911kcsdk6nwh8g00000gn/T/ipykernel_1963/64700856.py\", line 5, in <module>\n",
      "    html_content = obj['Body'].read().decode('utf-8')  # HTML as string\n",
      "UnicodeDecodeError: 'utf-8' codec can't decode byte 0xff in position 0: invalid start byte\n",
      "\n",
      "Processing documents:   6%|▋         | 3027/46665 [12:49:04<20:18:28,  1.68s/it]"
     ]
    },
    {
     "name": "stdout",
     "output_type": "stream",
     "text": [
      "3025 | Error loading eu/LEG_EN_HTML_20250721_04_08/e6e6ee52-e3b7-4196-a846-6b8dffa5db52/xhtml/FOR-C_2007072EN.01000501.notes.0007.xml.jpg | 'utf-8' codec can't decode byte 0xff in position 0: invalid start byte\n",
      "3026 | Error loading eu/LEG_EN_HTML_20250721_04_08/e6e6ee52-e3b7-4196-a846-6b8dffa5db52/xhtml/FOR-C_2007072EN.01000101.notes.0005.xml.jpg | 'utf-8' codec can't decode byte 0xff in position 0: invalid start byte\n"
     ]
    },
    {
     "name": "stderr",
     "output_type": "stream",
     "text": [
      "ERROR:root:3028 | Error loading eu/LEG_EN_HTML_20250721_04_08/e6e6ee52-e3b7-4196-a846-6b8dffa5db52/xhtml/FOR-C_2007072EN.01000501.notes.0006.xml.jpg:\n",
      "Traceback (most recent call last):\n",
      "  File \"/var/folders/zj/t8mz7g111911kcsdk6nwh8g00000gn/T/ipykernel_1963/64700856.py\", line 5, in <module>\n",
      "    html_content = obj['Body'].read().decode('utf-8')  # HTML as string\n",
      "UnicodeDecodeError: 'utf-8' codec can't decode byte 0xff in position 0: invalid start byte\n",
      "\n",
      "Processing documents:   6%|▋         | 3029/46665 [12:49:13<31:14:40,  2.58s/it]ERROR:root:3029 | Error loading eu/LEG_EN_HTML_20250721_04_08/e6e6ee52-e3b7-4196-a846-6b8dffa5db52/xhtml/FOR-C_2007072EN.01000901.notes.0003.xml.jpg:\n",
      "Traceback (most recent call last):\n",
      "  File \"/var/folders/zj/t8mz7g111911kcsdk6nwh8g00000gn/T/ipykernel_1963/64700856.py\", line 5, in <module>\n",
      "    html_content = obj['Body'].read().decode('utf-8')  # HTML as string\n",
      "UnicodeDecodeError: 'utf-8' codec can't decode byte 0xff in position 0: invalid start byte\n",
      "\n",
      "Processing documents:   6%|▋         | 3030/46665 [12:49:13<25:52:01,  2.13s/it]"
     ]
    },
    {
     "name": "stdout",
     "output_type": "stream",
     "text": [
      "3028 | Error loading eu/LEG_EN_HTML_20250721_04_08/e6e6ee52-e3b7-4196-a846-6b8dffa5db52/xhtml/FOR-C_2007072EN.01000501.notes.0006.xml.jpg | 'utf-8' codec can't decode byte 0xff in position 0: invalid start byte\n",
      "3029 | Error loading eu/LEG_EN_HTML_20250721_04_08/e6e6ee52-e3b7-4196-a846-6b8dffa5db52/xhtml/FOR-C_2007072EN.01000901.notes.0003.xml.jpg | 'utf-8' codec can't decode byte 0xff in position 0: invalid start byte\n"
     ]
    },
    {
     "name": "stderr",
     "output_type": "stream",
     "text": [
      "ERROR:root:3030 | Error loading eu/LEG_EN_HTML_20250721_04_08/e6e6ee52-e3b7-4196-a846-6b8dffa5db52/xhtml/FOR-C_2007072EN.01002001.notes.0017.xml.jpg:\n",
      "Traceback (most recent call last):\n",
      "  File \"/var/folders/zj/t8mz7g111911kcsdk6nwh8g00000gn/T/ipykernel_1963/64700856.py\", line 5, in <module>\n",
      "    html_content = obj['Body'].read().decode('utf-8')  # HTML as string\n",
      "UnicodeDecodeError: 'utf-8' codec can't decode byte 0xff in position 0: invalid start byte\n",
      "\n",
      "ERROR:root:3031 | Error loading eu/LEG_EN_HTML_20250721_04_08/e6e6ee52-e3b7-4196-a846-6b8dffa5db52/xhtml/FOR-C_2007072EN.01002001.notes.0007.xml.jpg:\n",
      "Traceback (most recent call last):\n",
      "  File \"/var/folders/zj/t8mz7g111911kcsdk6nwh8g00000gn/T/ipykernel_1963/64700856.py\", line 5, in <module>\n",
      "    html_content = obj['Body'].read().decode('utf-8')  # HTML as string\n",
      "UnicodeDecodeError: 'utf-8' codec can't decode byte 0xff in position 0: invalid start byte\n",
      "\n",
      "Processing documents:   6%|▋         | 3032/46665 [12:49:13<17:15:09,  1.42s/it]ERROR:root:3032 | Error loading eu/LEG_EN_HTML_20250721_04_08/e6e6ee52-e3b7-4196-a846-6b8dffa5db52/xhtml/FOR-C_2007072EN.01000901.notes.0008.xml.jpg:\n",
      "Traceback (most recent call last):\n",
      "  File \"/var/folders/zj/t8mz7g111911kcsdk6nwh8g00000gn/T/ipykernel_1963/64700856.py\", line 5, in <module>\n",
      "    html_content = obj['Body'].read().decode('utf-8')  # HTML as string\n",
      "UnicodeDecodeError: 'utf-8' codec can't decode byte 0xff in position 0: invalid start byte\n",
      "\n",
      "ERROR:root:3033 | Error loading eu/LEG_EN_HTML_20250721_04_08/e6e6ee52-e3b7-4196-a846-6b8dffa5db52/xhtml/FOR-C_2007072EN.01000501.notes.0004.xml.jpg:\n",
      "Traceback (most recent call last):\n",
      "  File \"/var/folders/zj/t8mz7g111911kcsdk6nwh8g00000gn/T/ipykernel_1963/64700856.py\", line 5, in <module>\n",
      "    html_content = obj['Body'].read().decode('utf-8')  # HTML as string\n",
      "UnicodeDecodeError: 'utf-8' codec can't decode byte 0xff in position 0: invalid start byte\n",
      "\n",
      "Processing documents:   7%|▋         | 3034/46665 [12:49:13<11:51:06,  1.02it/s]"
     ]
    },
    {
     "name": "stdout",
     "output_type": "stream",
     "text": [
      "3030 | Error loading eu/LEG_EN_HTML_20250721_04_08/e6e6ee52-e3b7-4196-a846-6b8dffa5db52/xhtml/FOR-C_2007072EN.01002001.notes.0017.xml.jpg | 'utf-8' codec can't decode byte 0xff in position 0: invalid start byte\n",
      "3031 | Error loading eu/LEG_EN_HTML_20250721_04_08/e6e6ee52-e3b7-4196-a846-6b8dffa5db52/xhtml/FOR-C_2007072EN.01002001.notes.0007.xml.jpg | 'utf-8' codec can't decode byte 0xff in position 0: invalid start byte\n",
      "3032 | Error loading eu/LEG_EN_HTML_20250721_04_08/e6e6ee52-e3b7-4196-a846-6b8dffa5db52/xhtml/FOR-C_2007072EN.01000901.notes.0008.xml.jpg | 'utf-8' codec can't decode byte 0xff in position 0: invalid start byte\n",
      "3033 | Error loading eu/LEG_EN_HTML_20250721_04_08/e6e6ee52-e3b7-4196-a846-6b8dffa5db52/xhtml/FOR-C_2007072EN.01000501.notes.0004.xml.jpg | 'utf-8' codec can't decode byte 0xff in position 0: invalid start byte\n"
     ]
    },
    {
     "name": "stderr",
     "output_type": "stream",
     "text": [
      "ERROR:root:3034 | Error loading eu/LEG_EN_HTML_20250721_04_08/e6e6ee52-e3b7-4196-a846-6b8dffa5db52/xhtml/FOR-C_2007072EN.01000901.notes.0001.xml.jpg:\n",
      "Traceback (most recent call last):\n",
      "  File \"/var/folders/zj/t8mz7g111911kcsdk6nwh8g00000gn/T/ipykernel_1963/64700856.py\", line 5, in <module>\n",
      "    html_content = obj['Body'].read().decode('utf-8')  # HTML as string\n",
      "UnicodeDecodeError: 'utf-8' codec can't decode byte 0xff in position 0: invalid start byte\n",
      "\n",
      "ERROR:root:3035 | Error loading eu/LEG_EN_HTML_20250721_04_08/e6e6ee52-e3b7-4196-a846-6b8dffa5db52/xhtml/FOR-C_2007072EN.01002001.notes.0005.xml.jpg:\n",
      "Traceback (most recent call last):\n",
      "  File \"/var/folders/zj/t8mz7g111911kcsdk6nwh8g00000gn/T/ipykernel_1963/64700856.py\", line 5, in <module>\n",
      "    html_content = obj['Body'].read().decode('utf-8')  # HTML as string\n",
      "UnicodeDecodeError: 'utf-8' codec can't decode byte 0xff in position 0: invalid start byte\n",
      "\n",
      "Processing documents:   7%|▋         | 3036/46665 [12:49:13<8:39:47,  1.40it/s] "
     ]
    },
    {
     "name": "stdout",
     "output_type": "stream",
     "text": [
      "3034 | Error loading eu/LEG_EN_HTML_20250721_04_08/e6e6ee52-e3b7-4196-a846-6b8dffa5db52/xhtml/FOR-C_2007072EN.01000901.notes.0001.xml.jpg | 'utf-8' codec can't decode byte 0xff in position 0: invalid start byte\n",
      "3035 | Error loading eu/LEG_EN_HTML_20250721_04_08/e6e6ee52-e3b7-4196-a846-6b8dffa5db52/xhtml/FOR-C_2007072EN.01002001.notes.0005.xml.jpg | 'utf-8' codec can't decode byte 0xff in position 0: invalid start byte\n"
     ]
    },
    {
     "name": "stderr",
     "output_type": "stream",
     "text": [
      "ERROR:root:3036 | Error loading eu/LEG_EN_HTML_20250721_04_08/e6e6ee52-e3b7-4196-a846-6b8dffa5db52/xhtml/FOR-C_2007072EN.01002001.notes.0015.xml.jpg:\n",
      "Traceback (most recent call last):\n",
      "  File \"/var/folders/zj/t8mz7g111911kcsdk6nwh8g00000gn/T/ipykernel_1963/64700856.py\", line 5, in <module>\n",
      "    html_content = obj['Body'].read().decode('utf-8')  # HTML as string\n",
      "UnicodeDecodeError: 'utf-8' codec can't decode byte 0xff in position 0: invalid start byte\n",
      "\n",
      "Processing documents:   7%|▋         | 3037/46665 [12:49:14<7:17:13,  1.66it/s]ERROR:root:3037 | Error loading eu/LEG_EN_HTML_20250721_04_08/e6e6ee52-e3b7-4196-a846-6b8dffa5db52/xhtml/FOR-C_2007072EN.01002001.notes.0014.xml.jpg:\n",
      "Traceback (most recent call last):\n",
      "  File \"/var/folders/zj/t8mz7g111911kcsdk6nwh8g00000gn/T/ipykernel_1963/64700856.py\", line 5, in <module>\n",
      "    html_content = obj['Body'].read().decode('utf-8')  # HTML as string\n",
      "UnicodeDecodeError: 'utf-8' codec can't decode byte 0xff in position 0: invalid start byte\n",
      "\n",
      "ERROR:root:3038 | Error loading eu/LEG_EN_HTML_20250721_04_08/e6e6ee52-e3b7-4196-a846-6b8dffa5db52/xhtml/FOR-C_2007072EN.01002001.notes.0004.xml.jpg:\n",
      "Traceback (most recent call last):\n",
      "  File \"/var/folders/zj/t8mz7g111911kcsdk6nwh8g00000gn/T/ipykernel_1963/64700856.py\", line 5, in <module>\n",
      "    html_content = obj['Body'].read().decode('utf-8')  # HTML as string\n",
      "UnicodeDecodeError: 'utf-8' codec can't decode byte 0xff in position 0: invalid start byte\n",
      "\n",
      "Processing documents:   7%|▋         | 3039/46665 [12:49:14<4:59:47,  2.43it/s]ERROR:root:3039 | Error loading eu/LEG_EN_HTML_20250721_04_08/e6e6ee52-e3b7-4196-a846-6b8dffa5db52/xhtml/FOR-C_2007072EN.01000501.notes.0005.xml.jpg:\n",
      "Traceback (most recent call last):\n",
      "  File \"/var/folders/zj/t8mz7g111911kcsdk6nwh8g00000gn/T/ipykernel_1963/64700856.py\", line 5, in <module>\n",
      "    html_content = obj['Body'].read().decode('utf-8')  # HTML as string\n",
      "UnicodeDecodeError: 'utf-8' codec can't decode byte 0xff in position 0: invalid start byte\n",
      "\n"
     ]
    },
    {
     "name": "stdout",
     "output_type": "stream",
     "text": [
      "3036 | Error loading eu/LEG_EN_HTML_20250721_04_08/e6e6ee52-e3b7-4196-a846-6b8dffa5db52/xhtml/FOR-C_2007072EN.01002001.notes.0015.xml.jpg | 'utf-8' codec can't decode byte 0xff in position 0: invalid start byte\n",
      "3037 | Error loading eu/LEG_EN_HTML_20250721_04_08/e6e6ee52-e3b7-4196-a846-6b8dffa5db52/xhtml/FOR-C_2007072EN.01002001.notes.0014.xml.jpg | 'utf-8' codec can't decode byte 0xff in position 0: invalid start byte\n",
      "3038 | Error loading eu/LEG_EN_HTML_20250721_04_08/e6e6ee52-e3b7-4196-a846-6b8dffa5db52/xhtml/FOR-C_2007072EN.01002001.notes.0004.xml.jpg | 'utf-8' codec can't decode byte 0xff in position 0: invalid start byte\n",
      "3039 | Error loading eu/LEG_EN_HTML_20250721_04_08/e6e6ee52-e3b7-4196-a846-6b8dffa5db52/xhtml/FOR-C_2007072EN.01000501.notes.0005.xml.jpg | 'utf-8' codec can't decode byte 0xff in position 0: invalid start byte\n"
     ]
    },
    {
     "name": "stderr",
     "output_type": "stream",
     "text": [
      "ERROR:root:3040 | Error loading eu/LEG_EN_HTML_20250721_04_08/e6e6ee52-e3b7-4196-a846-6b8dffa5db52/xhtml/FOR-C_2007072EN.01001301.notes.0002.xml.jpg:\n",
      "Traceback (most recent call last):\n",
      "  File \"/var/folders/zj/t8mz7g111911kcsdk6nwh8g00000gn/T/ipykernel_1963/64700856.py\", line 5, in <module>\n",
      "    html_content = obj['Body'].read().decode('utf-8')  # HTML as string\n",
      "UnicodeDecodeError: 'utf-8' codec can't decode byte 0xff in position 0: invalid start byte\n",
      "\n",
      "ERROR:root:3041 | Error loading eu/LEG_EN_HTML_20250721_04_08/e6e6ee52-e3b7-4196-a846-6b8dffa5db52/xhtml/FOR-C_2007072EN.01002001.notes.0018.xml.jpg:\n",
      "Traceback (most recent call last):\n",
      "  File \"/var/folders/zj/t8mz7g111911kcsdk6nwh8g00000gn/T/ipykernel_1963/64700856.py\", line 5, in <module>\n",
      "    html_content = obj['Body'].read().decode('utf-8')  # HTML as string\n",
      "UnicodeDecodeError: 'utf-8' codec can't decode byte 0xff in position 0: invalid start byte\n",
      "\n",
      "Processing documents:   7%|▋         | 3042/46665 [12:49:14<3:07:45,  3.87it/s]ERROR:root:3042 | Error loading eu/LEG_EN_HTML_20250721_04_08/e6e6ee52-e3b7-4196-a846-6b8dffa5db52/xhtml/FOR-C_2007072EN.01002001.notes.0008.xml.jpg:\n",
      "Traceback (most recent call last):\n",
      "  File \"/var/folders/zj/t8mz7g111911kcsdk6nwh8g00000gn/T/ipykernel_1963/64700856.py\", line 5, in <module>\n",
      "    html_content = obj['Body'].read().decode('utf-8')  # HTML as string\n",
      "UnicodeDecodeError: 'utf-8' codec can't decode byte 0xff in position 0: invalid start byte\n",
      "\n",
      "ERROR:root:3043 | Error loading eu/LEG_EN_HTML_20250721_04_08/e6e6ee52-e3b7-4196-a846-6b8dffa5db52/xhtml/FOR-C_2007072EN.01000101.notes.0003.xml.jpg:\n",
      "Traceback (most recent call last):\n",
      "  File \"/var/folders/zj/t8mz7g111911kcsdk6nwh8g00000gn/T/ipykernel_1963/64700856.py\", line 5, in <module>\n",
      "    html_content = obj['Body'].read().decode('utf-8')  # HTML as string\n",
      "UnicodeDecodeError: 'utf-8' codec can't decode byte 0xff in position 0: invalid start byte\n",
      "\n",
      "ERROR:root:3044 | Error loading eu/LEG_EN_HTML_20250721_04_08/e6e6ee52-e3b7-4196-a846-6b8dffa5db52/xhtml/FOR-C_2007072EN.01002001.notes.0001.xml.jpg:\n",
      "Traceback (most recent call last):\n",
      "  File \"/var/folders/zj/t8mz7g111911kcsdk6nwh8g00000gn/T/ipykernel_1963/64700856.py\", line 5, in <module>\n",
      "    html_content = obj['Body'].read().decode('utf-8')  # HTML as string\n",
      "UnicodeDecodeError: 'utf-8' codec can't decode byte 0xff in position 0: invalid start byte\n",
      "\n",
      "Processing documents:   7%|▋         | 3045/46665 [12:49:14<2:07:59,  5.68it/s]"
     ]
    },
    {
     "name": "stdout",
     "output_type": "stream",
     "text": [
      "3040 | Error loading eu/LEG_EN_HTML_20250721_04_08/e6e6ee52-e3b7-4196-a846-6b8dffa5db52/xhtml/FOR-C_2007072EN.01001301.notes.0002.xml.jpg | 'utf-8' codec can't decode byte 0xff in position 0: invalid start byte\n",
      "3041 | Error loading eu/LEG_EN_HTML_20250721_04_08/e6e6ee52-e3b7-4196-a846-6b8dffa5db52/xhtml/FOR-C_2007072EN.01002001.notes.0018.xml.jpg | 'utf-8' codec can't decode byte 0xff in position 0: invalid start byte\n",
      "3042 | Error loading eu/LEG_EN_HTML_20250721_04_08/e6e6ee52-e3b7-4196-a846-6b8dffa5db52/xhtml/FOR-C_2007072EN.01002001.notes.0008.xml.jpg | 'utf-8' codec can't decode byte 0xff in position 0: invalid start byte\n",
      "3043 | Error loading eu/LEG_EN_HTML_20250721_04_08/e6e6ee52-e3b7-4196-a846-6b8dffa5db52/xhtml/FOR-C_2007072EN.01000101.notes.0003.xml.jpg | 'utf-8' codec can't decode byte 0xff in position 0: invalid start byte\n",
      "3044 | Error loading eu/LEG_EN_HTML_20250721_04_08/e6e6ee52-e3b7-4196-a846-6b8dffa5db52/xhtml/FOR-C_2007072EN.01002001.notes.0001.xml.jpg | 'utf-8' codec can't decode byte 0xff in position 0: invalid start byte\n"
     ]
    },
    {
     "name": "stderr",
     "output_type": "stream",
     "text": [
      "ERROR:root:3045 | Error loading eu/LEG_EN_HTML_20250721_04_08/e6e6ee52-e3b7-4196-a846-6b8dffa5db52/xhtml/FOR-C_2007072EN.01002001.notes.0011.xml.jpg:\n",
      "Traceback (most recent call last):\n",
      "  File \"/var/folders/zj/t8mz7g111911kcsdk6nwh8g00000gn/T/ipykernel_1963/64700856.py\", line 5, in <module>\n",
      "    html_content = obj['Body'].read().decode('utf-8')  # HTML as string\n",
      "UnicodeDecodeError: 'utf-8' codec can't decode byte 0xff in position 0: invalid start byte\n",
      "\n",
      "ERROR:root:3046 | Error loading eu/LEG_EN_HTML_20250721_04_08/e6e6ee52-e3b7-4196-a846-6b8dffa5db52/xhtml/FOR-C_2007072EN.01000901.notes.0005.xml.jpg:\n",
      "Traceback (most recent call last):\n",
      "  File \"/var/folders/zj/t8mz7g111911kcsdk6nwh8g00000gn/T/ipykernel_1963/64700856.py\", line 5, in <module>\n",
      "    html_content = obj['Body'].read().decode('utf-8')  # HTML as string\n",
      "UnicodeDecodeError: 'utf-8' codec can't decode byte 0xff in position 0: invalid start byte\n",
      "\n",
      "Processing documents:   7%|▋         | 3047/46665 [12:49:14<1:46:44,  6.81it/s]ERROR:root:3047 | Error loading eu/LEG_EN_HTML_20250721_04_08/e6e6ee52-e3b7-4196-a846-6b8dffa5db52/xhtml/FOR-C_2007072EN.01002001.notes.0010.xml.jpg:\n",
      "Traceback (most recent call last):\n",
      "  File \"/var/folders/zj/t8mz7g111911kcsdk6nwh8g00000gn/T/ipykernel_1963/64700856.py\", line 5, in <module>\n",
      "    html_content = obj['Body'].read().decode('utf-8')  # HTML as string\n",
      "UnicodeDecodeError: 'utf-8' codec can't decode byte 0xff in position 0: invalid start byte\n",
      "\n",
      "ERROR:root:3048 | Error loading eu/LEG_EN_HTML_20250721_04_08/e6e6ee52-e3b7-4196-a846-6b8dffa5db52/xhtml/FOR-C_2007072EN.01000901.notes.0004.xml.jpg:\n",
      "Traceback (most recent call last):\n",
      "  File \"/var/folders/zj/t8mz7g111911kcsdk6nwh8g00000gn/T/ipykernel_1963/64700856.py\", line 5, in <module>\n",
      "    html_content = obj['Body'].read().decode('utf-8')  # HTML as string\n",
      "UnicodeDecodeError: 'utf-8' codec can't decode byte 0xff in position 0: invalid start byte\n",
      "\n",
      "Processing documents:   7%|▋         | 3049/46665 [12:49:14<1:29:34,  8.12it/s]"
     ]
    },
    {
     "name": "stdout",
     "output_type": "stream",
     "text": [
      "3045 | Error loading eu/LEG_EN_HTML_20250721_04_08/e6e6ee52-e3b7-4196-a846-6b8dffa5db52/xhtml/FOR-C_2007072EN.01002001.notes.0011.xml.jpg | 'utf-8' codec can't decode byte 0xff in position 0: invalid start byte\n",
      "3046 | Error loading eu/LEG_EN_HTML_20250721_04_08/e6e6ee52-e3b7-4196-a846-6b8dffa5db52/xhtml/FOR-C_2007072EN.01000901.notes.0005.xml.jpg | 'utf-8' codec can't decode byte 0xff in position 0: invalid start byte\n",
      "3047 | Error loading eu/LEG_EN_HTML_20250721_04_08/e6e6ee52-e3b7-4196-a846-6b8dffa5db52/xhtml/FOR-C_2007072EN.01002001.notes.0010.xml.jpg | 'utf-8' codec can't decode byte 0xff in position 0: invalid start byte\n",
      "3048 | Error loading eu/LEG_EN_HTML_20250721_04_08/e6e6ee52-e3b7-4196-a846-6b8dffa5db52/xhtml/FOR-C_2007072EN.01000901.notes.0004.xml.jpg | 'utf-8' codec can't decode byte 0xff in position 0: invalid start byte\n"
     ]
    },
    {
     "name": "stderr",
     "output_type": "stream",
     "text": [
      "ERROR:root:3049 | Error loading eu/LEG_EN_HTML_20250721_04_08/e6e6ee52-e3b7-4196-a846-6b8dffa5db52/xhtml/FOR-C_2007072EN.01000501.notes.0001.xml.jpg:\n",
      "Traceback (most recent call last):\n",
      "  File \"/var/folders/zj/t8mz7g111911kcsdk6nwh8g00000gn/T/ipykernel_1963/64700856.py\", line 5, in <module>\n",
      "    html_content = obj['Body'].read().decode('utf-8')  # HTML as string\n",
      "UnicodeDecodeError: 'utf-8' codec can't decode byte 0xff in position 0: invalid start byte\n",
      "\n",
      "ERROR:root:3050 | Error loading eu/LEG_EN_HTML_20250721_04_08/e6e6ee52-e3b7-4196-a846-6b8dffa5db52/xhtml/FOR-C_2007072EN.01001301.notes.0003.xml.jpg:\n",
      "Traceback (most recent call last):\n",
      "  File \"/var/folders/zj/t8mz7g111911kcsdk6nwh8g00000gn/T/ipykernel_1963/64700856.py\", line 5, in <module>\n",
      "    html_content = obj['Body'].read().decode('utf-8')  # HTML as string\n",
      "UnicodeDecodeError: 'utf-8' codec can't decode byte 0xff in position 0: invalid start byte\n",
      "\n",
      "Processing documents:   7%|▋         | 3051/46665 [12:49:14<1:21:35,  8.91it/s]ERROR:root:3051 | Error loading eu/LEG_EN_HTML_20250721_04_08/e6e6ee52-e3b7-4196-a846-6b8dffa5db52/xhtml/FOR-C_2007072EN.01002001.notes.0009.xml.jpg:\n",
      "Traceback (most recent call last):\n",
      "  File \"/var/folders/zj/t8mz7g111911kcsdk6nwh8g00000gn/T/ipykernel_1963/64700856.py\", line 5, in <module>\n",
      "    html_content = obj['Body'].read().decode('utf-8')  # HTML as string\n",
      "UnicodeDecodeError: 'utf-8' codec can't decode byte 0xff in position 0: invalid start byte\n",
      "\n",
      "ERROR:root:3052 | Error loading eu/LEG_EN_HTML_20250721_04_08/e6e6ee52-e3b7-4196-a846-6b8dffa5db52/xhtml/FOR-C_2007072EN.01002001.notes.0019.xml.jpg:\n",
      "Traceback (most recent call last):\n",
      "  File \"/var/folders/zj/t8mz7g111911kcsdk6nwh8g00000gn/T/ipykernel_1963/64700856.py\", line 5, in <module>\n",
      "    html_content = obj['Body'].read().decode('utf-8')  # HTML as string\n",
      "UnicodeDecodeError: 'utf-8' codec can't decode byte 0xff in position 0: invalid start byte\n",
      "\n"
     ]
    },
    {
     "name": "stdout",
     "output_type": "stream",
     "text": [
      "3049 | Error loading eu/LEG_EN_HTML_20250721_04_08/e6e6ee52-e3b7-4196-a846-6b8dffa5db52/xhtml/FOR-C_2007072EN.01000501.notes.0001.xml.jpg | 'utf-8' codec can't decode byte 0xff in position 0: invalid start byte\n",
      "3050 | Error loading eu/LEG_EN_HTML_20250721_04_08/e6e6ee52-e3b7-4196-a846-6b8dffa5db52/xhtml/FOR-C_2007072EN.01001301.notes.0003.xml.jpg | 'utf-8' codec can't decode byte 0xff in position 0: invalid start byte\n",
      "3051 | Error loading eu/LEG_EN_HTML_20250721_04_08/e6e6ee52-e3b7-4196-a846-6b8dffa5db52/xhtml/FOR-C_2007072EN.01002001.notes.0009.xml.jpg | 'utf-8' codec can't decode byte 0xff in position 0: invalid start byte\n"
     ]
    },
    {
     "name": "stderr",
     "output_type": "stream",
     "text": [
      "Processing documents:   7%|▋         | 3053/46665 [12:49:14<1:09:21, 10.48it/s]ERROR:root:3053 | Error loading eu/LEG_EN_HTML_20250721_04_08/e6e6ee52-e3b7-4196-a846-6b8dffa5db52/xhtml/FOR-C_2007072EN.01000101.notes.0002.xml.jpg:\n",
      "Traceback (most recent call last):\n",
      "  File \"/var/folders/zj/t8mz7g111911kcsdk6nwh8g00000gn/T/ipykernel_1963/64700856.py\", line 5, in <module>\n",
      "    html_content = obj['Body'].read().decode('utf-8')  # HTML as string\n",
      "UnicodeDecodeError: 'utf-8' codec can't decode byte 0xff in position 0: invalid start byte\n",
      "\n",
      "ERROR:root:3054 | Error loading eu/LEG_EN_HTML_20250721_04_08/e6e6ee52-e3b7-4196-a846-6b8dffa5db52/xhtml/FOR-C_2007072EN.01002001.notes.0002.xml.jpg:\n",
      "Traceback (most recent call last):\n",
      "  File \"/var/folders/zj/t8mz7g111911kcsdk6nwh8g00000gn/T/ipykernel_1963/64700856.py\", line 5, in <module>\n",
      "    html_content = obj['Body'].read().decode('utf-8')  # HTML as string\n",
      "UnicodeDecodeError: 'utf-8' codec can't decode byte 0xff in position 0: invalid start byte\n",
      "\n",
      "Processing documents:   7%|▋         | 3055/46665 [12:49:15<1:05:56, 11.02it/s]"
     ]
    },
    {
     "name": "stdout",
     "output_type": "stream",
     "text": [
      "3052 | Error loading eu/LEG_EN_HTML_20250721_04_08/e6e6ee52-e3b7-4196-a846-6b8dffa5db52/xhtml/FOR-C_2007072EN.01002001.notes.0019.xml.jpg | 'utf-8' codec can't decode byte 0xff in position 0: invalid start byte\n",
      "3053 | Error loading eu/LEG_EN_HTML_20250721_04_08/e6e6ee52-e3b7-4196-a846-6b8dffa5db52/xhtml/FOR-C_2007072EN.01000101.notes.0002.xml.jpg | 'utf-8' codec can't decode byte 0xff in position 0: invalid start byte\n",
      "3054 | Error loading eu/LEG_EN_HTML_20250721_04_08/e6e6ee52-e3b7-4196-a846-6b8dffa5db52/xhtml/FOR-C_2007072EN.01002001.notes.0002.xml.jpg | 'utf-8' codec can't decode byte 0xff in position 0: invalid start byte\n"
     ]
    },
    {
     "name": "stderr",
     "output_type": "stream",
     "text": [
      "ERROR:root:3055 | Error loading eu/LEG_EN_HTML_20250721_04_08/e6e6ee52-e3b7-4196-a846-6b8dffa5db52/xhtml/FOR-C_2007072EN.01002001.notes.0012.xml.jpg:\n",
      "Traceback (most recent call last):\n",
      "  File \"/var/folders/zj/t8mz7g111911kcsdk6nwh8g00000gn/T/ipykernel_1963/64700856.py\", line 5, in <module>\n",
      "    html_content = obj['Body'].read().decode('utf-8')  # HTML as string\n",
      "UnicodeDecodeError: 'utf-8' codec can't decode byte 0xff in position 0: invalid start byte\n",
      "\n",
      "ERROR:root:3056 | Error loading eu/LEG_EN_HTML_20250721_04_08/e6e6ee52-e3b7-4196-a846-6b8dffa5db52/xhtml/FOR-C_2007072EN.01000901.notes.0006.xml.jpg:\n",
      "Traceback (most recent call last):\n",
      "  File \"/var/folders/zj/t8mz7g111911kcsdk6nwh8g00000gn/T/ipykernel_1963/64700856.py\", line 5, in <module>\n",
      "    html_content = obj['Body'].read().decode('utf-8')  # HTML as string\n",
      "UnicodeDecodeError: 'utf-8' codec can't decode byte 0xff in position 0: invalid start byte\n",
      "\n",
      "Processing documents:   7%|▋         | 3057/46665 [12:49:15<1:00:55, 11.93it/s]ERROR:root:3057 | Error loading eu/LEG_EN_HTML_20250721_04_08/e6e6ee52-e3b7-4196-a846-6b8dffa5db52/xhtml/FOR-C_2007072EN.01000501.notes.0003.xml.jpg:\n",
      "Traceback (most recent call last):\n",
      "  File \"/var/folders/zj/t8mz7g111911kcsdk6nwh8g00000gn/T/ipykernel_1963/64700856.py\", line 5, in <module>\n",
      "    html_content = obj['Body'].read().decode('utf-8')  # HTML as string\n",
      "UnicodeDecodeError: 'utf-8' codec can't decode byte 0xff in position 0: invalid start byte\n",
      "\n",
      "ERROR:root:3058 | Error loading eu/LEG_EN_HTML_20250721_04_08/e6e6ee52-e3b7-4196-a846-6b8dffa5db52/xhtml/FOR-C_2007072EN.01001301.notes.0001.xml.jpg:\n",
      "Traceback (most recent call last):\n",
      "  File \"/var/folders/zj/t8mz7g111911kcsdk6nwh8g00000gn/T/ipykernel_1963/64700856.py\", line 5, in <module>\n",
      "    html_content = obj['Body'].read().decode('utf-8')  # HTML as string\n",
      "UnicodeDecodeError: 'utf-8' codec can't decode byte 0xff in position 0: invalid start byte\n",
      "\n",
      "Processing documents:   7%|▋         | 3059/46665 [12:49:15<55:50, 13.02it/s]  ERROR:root:3059 | Error loading eu/LEG_EN_HTML_20250721_04_08/e6e6ee52-e3b7-4196-a846-6b8dffa5db52/xhtml/FOR-C_2007072EN.01000501.notes.0002.xml.jpg:\n",
      "Traceback (most recent call last):\n",
      "  File \"/var/folders/zj/t8mz7g111911kcsdk6nwh8g00000gn/T/ipykernel_1963/64700856.py\", line 5, in <module>\n",
      "    html_content = obj['Body'].read().decode('utf-8')  # HTML as string\n",
      "UnicodeDecodeError: 'utf-8' codec can't decode byte 0xff in position 0: invalid start byte\n",
      "\n"
     ]
    },
    {
     "name": "stdout",
     "output_type": "stream",
     "text": [
      "3055 | Error loading eu/LEG_EN_HTML_20250721_04_08/e6e6ee52-e3b7-4196-a846-6b8dffa5db52/xhtml/FOR-C_2007072EN.01002001.notes.0012.xml.jpg | 'utf-8' codec can't decode byte 0xff in position 0: invalid start byte\n",
      "3056 | Error loading eu/LEG_EN_HTML_20250721_04_08/e6e6ee52-e3b7-4196-a846-6b8dffa5db52/xhtml/FOR-C_2007072EN.01000901.notes.0006.xml.jpg | 'utf-8' codec can't decode byte 0xff in position 0: invalid start byte\n",
      "3057 | Error loading eu/LEG_EN_HTML_20250721_04_08/e6e6ee52-e3b7-4196-a846-6b8dffa5db52/xhtml/FOR-C_2007072EN.01000501.notes.0003.xml.jpg | 'utf-8' codec can't decode byte 0xff in position 0: invalid start byte\n",
      "3058 | Error loading eu/LEG_EN_HTML_20250721_04_08/e6e6ee52-e3b7-4196-a846-6b8dffa5db52/xhtml/FOR-C_2007072EN.01001301.notes.0001.xml.jpg | 'utf-8' codec can't decode byte 0xff in position 0: invalid start byte\n",
      "3059 | Error loading eu/LEG_EN_HTML_20250721_04_08/e6e6ee52-e3b7-4196-a846-6b8dffa5db52/xhtml/FOR-C_2007072EN.01000501.notes.0002.xml.jpg | 'utf-8' codec can't decode byte 0xff in position 0: invalid start byte\n"
     ]
    },
    {
     "name": "stderr",
     "output_type": "stream",
     "text": [
      "ERROR:root:3060 | Error loading eu/LEG_EN_HTML_20250721_04_08/e6e6ee52-e3b7-4196-a846-6b8dffa5db52/xhtml/FOR-C_2007072EN.01000101.notes.0001.xml.jpg:\n",
      "Traceback (most recent call last):\n",
      "  File \"/var/folders/zj/t8mz7g111911kcsdk6nwh8g00000gn/T/ipykernel_1963/64700856.py\", line 5, in <module>\n",
      "    html_content = obj['Body'].read().decode('utf-8')  # HTML as string\n",
      "UnicodeDecodeError: 'utf-8' codec can't decode byte 0xff in position 0: invalid start byte\n",
      "\n",
      "ERROR:root:3061 | Error loading eu/LEG_EN_HTML_20250721_04_08/e6e6ee52-e3b7-4196-a846-6b8dffa5db52/xhtml/FOR-C_2007072EN.01002001.notes.0013.xml.jpg:\n",
      "Traceback (most recent call last):\n",
      "  File \"/var/folders/zj/t8mz7g111911kcsdk6nwh8g00000gn/T/ipykernel_1963/64700856.py\", line 5, in <module>\n",
      "    html_content = obj['Body'].read().decode('utf-8')  # HTML as string\n",
      "UnicodeDecodeError: 'utf-8' codec can't decode byte 0xff in position 0: invalid start byte\n",
      "\n",
      "Processing documents:   7%|▋         | 3062/46665 [12:49:15<47:31, 15.29it/s]ERROR:root:3062 | Error loading eu/LEG_EN_HTML_20250721_04_08/e6e6ee52-e3b7-4196-a846-6b8dffa5db52/xhtml/FOR-C_2007072EN.01002001.notes.0003.xml.jpg:\n",
      "Traceback (most recent call last):\n",
      "  File \"/var/folders/zj/t8mz7g111911kcsdk6nwh8g00000gn/T/ipykernel_1963/64700856.py\", line 5, in <module>\n",
      "    html_content = obj['Body'].read().decode('utf-8')  # HTML as string\n",
      "UnicodeDecodeError: 'utf-8' codec can't decode byte 0xff in position 0: invalid start byte\n",
      "\n",
      "ERROR:root:3063 | Error loading eu/LEG_EN_HTML_20250721_04_08/e6e6ee52-e3b7-4196-a846-6b8dffa5db52/xhtml/FOR-C_2007072EN.01000901.notes.0007.xml.jpg:\n",
      "Traceback (most recent call last):\n",
      "  File \"/var/folders/zj/t8mz7g111911kcsdk6nwh8g00000gn/T/ipykernel_1963/64700856.py\", line 5, in <module>\n",
      "    html_content = obj['Body'].read().decode('utf-8')  # HTML as string\n",
      "UnicodeDecodeError: 'utf-8' codec can't decode byte 0xff in position 0: invalid start byte\n",
      "\n",
      "Processing documents:   7%|▋         | 3064/46665 [12:49:15<50:09, 14.49it/s]"
     ]
    },
    {
     "name": "stdout",
     "output_type": "stream",
     "text": [
      "3060 | Error loading eu/LEG_EN_HTML_20250721_04_08/e6e6ee52-e3b7-4196-a846-6b8dffa5db52/xhtml/FOR-C_2007072EN.01000101.notes.0001.xml.jpg | 'utf-8' codec can't decode byte 0xff in position 0: invalid start byte\n",
      "3061 | Error loading eu/LEG_EN_HTML_20250721_04_08/e6e6ee52-e3b7-4196-a846-6b8dffa5db52/xhtml/FOR-C_2007072EN.01002001.notes.0013.xml.jpg | 'utf-8' codec can't decode byte 0xff in position 0: invalid start byte\n",
      "3062 | Error loading eu/LEG_EN_HTML_20250721_04_08/e6e6ee52-e3b7-4196-a846-6b8dffa5db52/xhtml/FOR-C_2007072EN.01002001.notes.0003.xml.jpg | 'utf-8' codec can't decode byte 0xff in position 0: invalid start byte\n",
      "3063 | Error loading eu/LEG_EN_HTML_20250721_04_08/e6e6ee52-e3b7-4196-a846-6b8dffa5db52/xhtml/FOR-C_2007072EN.01000901.notes.0007.xml.jpg | 'utf-8' codec can't decode byte 0xff in position 0: invalid start byte\n"
     ]
    },
    {
     "name": "stderr",
     "output_type": "stream",
     "text": [
      "Processing documents:   7%|▋         | 3067/46665 [12:50:04<182:26:47, 15.07s/it]\n"
     ]
    },
    {
     "ename": "KeyboardInterrupt",
     "evalue": "",
     "output_type": "error",
     "traceback": [
      "\u001b[0;31m---------------------------------------------------------------------------\u001b[0m",
      "\u001b[0;31mKeyboardInterrupt\u001b[0m                         Traceback (most recent call last)",
      "Cell \u001b[0;32mIn[16], line 41\u001b[0m\n\u001b[1;32m     39\u001b[0m     texts \u001b[38;5;241m=\u001b[39m [chunk \u001b[38;5;28;01mfor\u001b[39;00m chunk \u001b[38;5;129;01min\u001b[39;00m chunks]\n\u001b[1;32m     40\u001b[0m     embeddings \u001b[38;5;241m=\u001b[39m HuggingFaceEmbeddings(model_name\u001b[38;5;241m=\u001b[39m\u001b[38;5;124m\"\u001b[39m\u001b[38;5;124mall-MiniLM-L6-v2\u001b[39m\u001b[38;5;124m\"\u001b[39m, model_kwargs\u001b[38;5;241m=\u001b[39m{\u001b[38;5;124m\"\u001b[39m\u001b[38;5;124mdevice\u001b[39m\u001b[38;5;124m\"\u001b[39m: \u001b[38;5;124m\"\u001b[39m\u001b[38;5;124mcpu\u001b[39m\u001b[38;5;124m\"\u001b[39m})\n\u001b[0;32m---> 41\u001b[0m     \u001b[43mcollection\u001b[49m\u001b[38;5;241;43m.\u001b[39;49m\u001b[43madd\u001b[49m\u001b[43m(\u001b[49m\n\u001b[1;32m     42\u001b[0m \u001b[43m        \u001b[49m\u001b[43mdocuments\u001b[49m\u001b[38;5;241;43m=\u001b[39;49m\u001b[43mtexts\u001b[49m\u001b[43m,\u001b[49m\n\u001b[1;32m     43\u001b[0m \u001b[43m        \u001b[49m\u001b[43mmetadatas\u001b[49m\u001b[38;5;241;43m=\u001b[39;49m\u001b[43m[\u001b[49m\u001b[43mmeta\u001b[49m\u001b[43m \u001b[49m\u001b[38;5;28;43;01mfor\u001b[39;49;00m\u001b[43m \u001b[49m\u001b[43m_\u001b[49m\u001b[43m \u001b[49m\u001b[38;5;129;43;01min\u001b[39;49;00m\u001b[43m \u001b[49m\u001b[38;5;28;43mrange\u001b[39;49m\u001b[43m(\u001b[49m\u001b[38;5;28;43mlen\u001b[39;49m\u001b[43m(\u001b[49m\u001b[43mtexts\u001b[49m\u001b[43m)\u001b[49m\u001b[43m)\u001b[49m\u001b[43m]\u001b[49m\u001b[43m,\u001b[49m\n\u001b[1;32m     44\u001b[0m \u001b[43m        \u001b[49m\u001b[43membeddings\u001b[49m\u001b[38;5;241;43m=\u001b[39;49m\u001b[43membeddings\u001b[49m\u001b[38;5;241;43m.\u001b[39;49m\u001b[43membed_documents\u001b[49m\u001b[43m(\u001b[49m\u001b[43mtexts\u001b[49m\u001b[43m)\u001b[49m\u001b[43m,\u001b[49m\n\u001b[1;32m     45\u001b[0m \u001b[43m        \u001b[49m\u001b[43mids\u001b[49m\u001b[38;5;241;43m=\u001b[39;49m\u001b[43m[\u001b[49m\u001b[38;5;124;43mf\u001b[39;49m\u001b[38;5;124;43m\"\u001b[39;49m\u001b[38;5;132;43;01m{\u001b[39;49;00m\u001b[43mmake_id\u001b[49m\u001b[43m(\u001b[49m\u001b[43mrow\u001b[49m\u001b[43m[\u001b[49m\u001b[38;5;124;43m'\u001b[39;49m\u001b[38;5;124;43mdoc-path\u001b[39;49m\u001b[38;5;124;43m'\u001b[39;49m\u001b[43m]\u001b[49m\u001b[43m)\u001b[49m\u001b[38;5;132;43;01m}\u001b[39;49;00m\u001b[38;5;124;43m_\u001b[39;49m\u001b[38;5;132;43;01m{\u001b[39;49;00m\u001b[43mi\u001b[49m\u001b[38;5;132;43;01m}\u001b[39;49;00m\u001b[38;5;124;43m\"\u001b[39;49m\u001b[43m \u001b[49m\u001b[38;5;28;43;01mfor\u001b[39;49;00m\u001b[43m \u001b[49m\u001b[43mi\u001b[49m\u001b[43m \u001b[49m\u001b[38;5;129;43;01min\u001b[39;49;00m\u001b[43m \u001b[49m\u001b[38;5;28;43mrange\u001b[39;49m\u001b[43m(\u001b[49m\u001b[38;5;28;43mlen\u001b[39;49m\u001b[43m(\u001b[49m\u001b[43mtexts\u001b[49m\u001b[43m)\u001b[49m\u001b[43m)\u001b[49m\u001b[43m]\u001b[49m\n\u001b[1;32m     46\u001b[0m \u001b[43m    \u001b[49m\u001b[43m)\u001b[49m\n\u001b[1;32m     47\u001b[0m \u001b[38;5;28;01mexcept\u001b[39;00m \u001b[38;5;167;01mException\u001b[39;00m \u001b[38;5;28;01mas\u001b[39;00m e:\n\u001b[1;32m     48\u001b[0m     logging\u001b[38;5;241m.\u001b[39merror(\u001b[38;5;124m\"\u001b[39m\u001b[38;5;132;01m%d\u001b[39;00m\u001b[38;5;124m | Error embedding \u001b[39m\u001b[38;5;132;01m%s\u001b[39;00m\u001b[38;5;124m:\u001b[39m\u001b[38;5;130;01m\\n\u001b[39;00m\u001b[38;5;132;01m%s\u001b[39;00m\u001b[38;5;124m\"\u001b[39m, idx, row[\u001b[38;5;124m\"\u001b[39m\u001b[38;5;124mdoc-path\u001b[39m\u001b[38;5;124m\"\u001b[39m], traceback\u001b[38;5;241m.\u001b[39mformat_exc())\n",
      "File \u001b[0;32m~/anaconda3/envs/regpy10ch/lib/python3.10/site-packages/chromadb/api/models/Collection.py:89\u001b[0m, in \u001b[0;36mCollection.add\u001b[0;34m(self, ids, embeddings, metadatas, documents, images, uris)\u001b[0m\n\u001b[1;32m     59\u001b[0m \u001b[38;5;250m\u001b[39m\u001b[38;5;124;03m\"\"\"Add embeddings to the data store.\u001b[39;00m\n\u001b[1;32m     60\u001b[0m \u001b[38;5;124;03mArgs:\u001b[39;00m\n\u001b[1;32m     61\u001b[0m \u001b[38;5;124;03m    ids: The ids of the embeddings you wish to add\u001b[39;00m\n\u001b[0;32m   (...)\u001b[0m\n\u001b[1;32m     77\u001b[0m \n\u001b[1;32m     78\u001b[0m \u001b[38;5;124;03m\"\"\"\u001b[39;00m\n\u001b[1;32m     80\u001b[0m add_request \u001b[38;5;241m=\u001b[39m \u001b[38;5;28mself\u001b[39m\u001b[38;5;241m.\u001b[39m_validate_and_prepare_add_request(\n\u001b[1;32m     81\u001b[0m     ids\u001b[38;5;241m=\u001b[39mids,\n\u001b[1;32m     82\u001b[0m     embeddings\u001b[38;5;241m=\u001b[39membeddings,\n\u001b[0;32m   (...)\u001b[0m\n\u001b[1;32m     86\u001b[0m     uris\u001b[38;5;241m=\u001b[39muris,\n\u001b[1;32m     87\u001b[0m )\n\u001b[0;32m---> 89\u001b[0m \u001b[38;5;28;43mself\u001b[39;49m\u001b[38;5;241;43m.\u001b[39;49m\u001b[43m_client\u001b[49m\u001b[38;5;241;43m.\u001b[39;49m\u001b[43m_add\u001b[49m\u001b[43m(\u001b[49m\n\u001b[1;32m     90\u001b[0m \u001b[43m    \u001b[49m\u001b[43mcollection_id\u001b[49m\u001b[38;5;241;43m=\u001b[39;49m\u001b[38;5;28;43mself\u001b[39;49m\u001b[38;5;241;43m.\u001b[39;49m\u001b[43mid\u001b[49m\u001b[43m,\u001b[49m\n\u001b[1;32m     91\u001b[0m \u001b[43m    \u001b[49m\u001b[43mids\u001b[49m\u001b[38;5;241;43m=\u001b[39;49m\u001b[43madd_request\u001b[49m\u001b[43m[\u001b[49m\u001b[38;5;124;43m\"\u001b[39;49m\u001b[38;5;124;43mids\u001b[39;49m\u001b[38;5;124;43m\"\u001b[39;49m\u001b[43m]\u001b[49m\u001b[43m,\u001b[49m\n\u001b[1;32m     92\u001b[0m \u001b[43m    \u001b[49m\u001b[43membeddings\u001b[49m\u001b[38;5;241;43m=\u001b[39;49m\u001b[43madd_request\u001b[49m\u001b[43m[\u001b[49m\u001b[38;5;124;43m\"\u001b[39;49m\u001b[38;5;124;43membeddings\u001b[39;49m\u001b[38;5;124;43m\"\u001b[39;49m\u001b[43m]\u001b[49m\u001b[43m,\u001b[49m\n\u001b[1;32m     93\u001b[0m \u001b[43m    \u001b[49m\u001b[43mmetadatas\u001b[49m\u001b[38;5;241;43m=\u001b[39;49m\u001b[43madd_request\u001b[49m\u001b[43m[\u001b[49m\u001b[38;5;124;43m\"\u001b[39;49m\u001b[38;5;124;43mmetadatas\u001b[39;49m\u001b[38;5;124;43m\"\u001b[39;49m\u001b[43m]\u001b[49m\u001b[43m,\u001b[49m\n\u001b[1;32m     94\u001b[0m \u001b[43m    \u001b[49m\u001b[43mdocuments\u001b[49m\u001b[38;5;241;43m=\u001b[39;49m\u001b[43madd_request\u001b[49m\u001b[43m[\u001b[49m\u001b[38;5;124;43m\"\u001b[39;49m\u001b[38;5;124;43mdocuments\u001b[39;49m\u001b[38;5;124;43m\"\u001b[39;49m\u001b[43m]\u001b[49m\u001b[43m,\u001b[49m\n\u001b[1;32m     95\u001b[0m \u001b[43m    \u001b[49m\u001b[43muris\u001b[49m\u001b[38;5;241;43m=\u001b[39;49m\u001b[43madd_request\u001b[49m\u001b[43m[\u001b[49m\u001b[38;5;124;43m\"\u001b[39;49m\u001b[38;5;124;43muris\u001b[39;49m\u001b[38;5;124;43m\"\u001b[39;49m\u001b[43m]\u001b[49m\u001b[43m,\u001b[49m\n\u001b[1;32m     96\u001b[0m \u001b[43m    \u001b[49m\u001b[43mtenant\u001b[49m\u001b[38;5;241;43m=\u001b[39;49m\u001b[38;5;28;43mself\u001b[39;49m\u001b[38;5;241;43m.\u001b[39;49m\u001b[43mtenant\u001b[49m\u001b[43m,\u001b[49m\n\u001b[1;32m     97\u001b[0m \u001b[43m    \u001b[49m\u001b[43mdatabase\u001b[49m\u001b[38;5;241;43m=\u001b[39;49m\u001b[38;5;28;43mself\u001b[39;49m\u001b[38;5;241;43m.\u001b[39;49m\u001b[43mdatabase\u001b[49m\u001b[43m,\u001b[49m\n\u001b[1;32m     98\u001b[0m \u001b[43m\u001b[49m\u001b[43m)\u001b[49m\n",
      "File \u001b[0;32m~/anaconda3/envs/regpy10ch/lib/python3.10/site-packages/chromadb/api/rust.py:407\u001b[0m, in \u001b[0;36mRustBindingsAPI._add\u001b[0;34m(self, ids, collection_id, embeddings, metadatas, documents, uris, tenant, database)\u001b[0m\n\u001b[1;32m    385\u001b[0m \u001b[38;5;129m@override\u001b[39m\n\u001b[1;32m    386\u001b[0m \u001b[38;5;28;01mdef\u001b[39;00m\u001b[38;5;250m \u001b[39m\u001b[38;5;21m_add\u001b[39m(\n\u001b[1;32m    387\u001b[0m     \u001b[38;5;28mself\u001b[39m,\n\u001b[0;32m   (...)\u001b[0m\n\u001b[1;32m    395\u001b[0m     database: \u001b[38;5;28mstr\u001b[39m \u001b[38;5;241m=\u001b[39m DEFAULT_DATABASE,\n\u001b[1;32m    396\u001b[0m ) \u001b[38;5;241m-\u001b[39m\u001b[38;5;241m>\u001b[39m \u001b[38;5;28mbool\u001b[39m:\n\u001b[1;32m    397\u001b[0m     \u001b[38;5;28mself\u001b[39m\u001b[38;5;241m.\u001b[39mproduct_telemetry_client\u001b[38;5;241m.\u001b[39mcapture(\n\u001b[1;32m    398\u001b[0m         CollectionAddEvent(\n\u001b[1;32m    399\u001b[0m             collection_uuid\u001b[38;5;241m=\u001b[39m\u001b[38;5;28mstr\u001b[39m(collection_id),\n\u001b[0;32m   (...)\u001b[0m\n\u001b[1;32m    404\u001b[0m         )\n\u001b[1;32m    405\u001b[0m     )\n\u001b[0;32m--> 407\u001b[0m     \u001b[38;5;28;01mreturn\u001b[39;00m \u001b[38;5;28;43mself\u001b[39;49m\u001b[38;5;241;43m.\u001b[39;49m\u001b[43mbindings\u001b[49m\u001b[38;5;241;43m.\u001b[39;49m\u001b[43madd\u001b[49m\u001b[43m(\u001b[49m\n\u001b[1;32m    408\u001b[0m \u001b[43m        \u001b[49m\u001b[43mids\u001b[49m\u001b[43m,\u001b[49m\n\u001b[1;32m    409\u001b[0m \u001b[43m        \u001b[49m\u001b[38;5;28;43mstr\u001b[39;49m\u001b[43m(\u001b[49m\u001b[43mcollection_id\u001b[49m\u001b[43m)\u001b[49m\u001b[43m,\u001b[49m\n\u001b[1;32m    410\u001b[0m \u001b[43m        \u001b[49m\u001b[43membeddings\u001b[49m\u001b[43m,\u001b[49m\n\u001b[1;32m    411\u001b[0m \u001b[43m        \u001b[49m\u001b[43mmetadatas\u001b[49m\u001b[43m,\u001b[49m\n\u001b[1;32m    412\u001b[0m \u001b[43m        \u001b[49m\u001b[43mdocuments\u001b[49m\u001b[43m,\u001b[49m\n\u001b[1;32m    413\u001b[0m \u001b[43m        \u001b[49m\u001b[43muris\u001b[49m\u001b[43m,\u001b[49m\n\u001b[1;32m    414\u001b[0m \u001b[43m        \u001b[49m\u001b[43mtenant\u001b[49m\u001b[43m,\u001b[49m\n\u001b[1;32m    415\u001b[0m \u001b[43m        \u001b[49m\u001b[43mdatabase\u001b[49m\u001b[43m,\u001b[49m\n\u001b[1;32m    416\u001b[0m \u001b[43m    \u001b[49m\u001b[43m)\u001b[49m\n",
      "\u001b[0;31mKeyboardInterrupt\u001b[0m: "
     ]
    }
   ],
   "source": [
    "for idx, row in tqdm(documents.iterrows(), desc=\"Processing documents\", total=documents.shape[0]):\n",
    "    # Load document from S3\n",
    "    try:\n",
    "        obj = s3.get_object(Bucket=bucket_name, Key=row[\"doc-path\"])\n",
    "        html_content = obj['Body'].read().decode('utf-8')  # HTML as string\n",
    "        soup = BeautifulSoup(html_content, 'html.parser')\n",
    "        text = soup.get_text(separator=\"\\n\")  # plain text\n",
    "    except Exception as e:\n",
    "        logging.error(\"%d | Error loading %s:\\n%s\", idx, row[\"doc-path\"], traceback.format_exc())\n",
    "        print(f\"{idx} | Error loading {row['doc-path']} | {e}\")\n",
    "        continue\n",
    "    \n",
    "    # Extract metadata\n",
    "    try:\n",
    "        meta = {}\n",
    "        if soup.title:\n",
    "            meta['title'] = soup.title.string\n",
    "        for m in soup.find_all(\"meta\"):\n",
    "            if m.get(\"name\") and m.get(\"content\"):\n",
    "                meta[m[\"name\"].lower()] = m[\"content\"]\n",
    "        meta_download = la_mtd[(la_mtd[\"work-id\"] == row[\"work-id\"]) & (la_mtd[\"doc\"] == row[\"doc\"])]\n",
    "        terms = meta_download[\"TERMS (PT-NPT)\"].dropna().astype(str).unique()\n",
    "        meta['eurovoc-terms'] = ';'.join(terms)\n",
    "        mts = meta_download[\"MT\"].dropna().astype(str).unique()\n",
    "        meta['eurovoc-mt'] = ';'.join(mts)\n",
    "\n",
    "        sector, year = decompose_celex(row['celex']) if row['celex'] else (None, None)\n",
    "        meta['celex'] = row['celex'] if row['celex'] else None\n",
    "        meta['celex-sector'] = sector # a character\n",
    "        meta['celex-year'] = int(year) # a 4-digit number\n",
    "    except Exception as e:\n",
    "        logging.error(\"%d | Error extracting metadata %s:\\n%s\", idx, row[\"doc-path\"], traceback.format_exc())\n",
    "        print(f\"{idx} | Error extracting metadata {row['doc-path']} | {e}\")\n",
    "\n",
    "\n",
    "    # Split, embed, and store\n",
    "    try:\n",
    "        chunks = text_splitter.split_text(text)\n",
    "        texts = [chunk for chunk in chunks]\n",
    "        embeddings = HuggingFaceEmbeddings(model_name=\"all-MiniLM-L6-v2\", model_kwargs={\"device\": \"cpu\"})\n",
    "        collection.add(\n",
    "            documents=texts,\n",
    "            metadatas=[meta for _ in range(len(texts))],\n",
    "            embeddings=embeddings.embed_documents(texts),\n",
    "            ids=[f\"{make_id(row['doc-path'])}_{i}\" for i in range(len(texts))]\n",
    "        )\n",
    "    except Exception as e:\n",
    "        logging.error(\"%d | Error embedding %s:\\n%s\", idx, row[\"doc-path\"], traceback.format_exc())\n",
    "        print(f\"{idx} | Error embedding {row['doc-path']} | {e}\")\n",
    "        continue"
   ]
  },
  {
   "cell_type": "markdown",
   "id": "d36528cd",
   "metadata": {},
   "source": [
    "## Parallel"
   ]
  },
  {
   "cell_type": "code",
   "execution_count": 7,
   "id": "450ea33c",
   "metadata": {},
   "outputs": [],
   "source": [
    "def parallel_extract(batch_func, df, collection, num_processes=4):\n",
    "    chunks = np.array_split(df, num_processes)\n",
    "    args = [(chunk, collection) for chunk in chunks]\n",
    "\n",
    "    with Pool(processes=num_processes) as pool:\n",
    "        pool.starmap(batch_func, args)"
   ]
  },
  {
   "cell_type": "code",
   "execution_count": null,
   "id": "0851685d",
   "metadata": {},
   "outputs": [],
   "source": [
    "from helper.chroma import process_documents_batch\n",
    "parallel_extract(process_documents_batch, documents, collection, num_processes=4)"
   ]
  },
  {
   "cell_type": "code",
   "execution_count": 10,
   "id": "20465cf5",
   "metadata": {},
   "outputs": [],
   "source": [
    "from concurrent.futures import ThreadPoolExecutor\n",
    "\n",
    "def parallel_extract_threads(batch_func, df, collection, num_threads=4):\n",
    "    chunks = np.array_split(df, num_threads)\n",
    "\n",
    "    with ThreadPoolExecutor(max_workers=num_threads) as executor:\n",
    "        futures = [executor.submit(batch_func, chunk, collection) for chunk in chunks]\n",
    "        results = [f.result() for f in futures]"
   ]
  },
  {
   "cell_type": "code",
   "execution_count": 11,
   "id": "a5b30bff",
   "metadata": {},
   "outputs": [
    {
     "name": "stderr",
     "output_type": "stream",
     "text": [
      "/Users/demouser/anaconda3/envs/regpy10ch/lib/python3.10/site-packages/numpy/_core/fromnumeric.py:57: FutureWarning: 'DataFrame.swapaxes' is deprecated and will be removed in a future version. Please use 'DataFrame.transpose' instead.\n",
      "  return bound(*args, **kwds)\n"
     ]
    },
    {
     "name": "stderr",
     "output_type": "stream",
     "text": [
      "\n",
      "A module that was compiled using NumPy 1.x cannot be run in\n",
      "NumPy 2.2.6 as it may crash. To support both 1.x and 2.x\n",
      "versions of NumPy, modules must be compiled with NumPy 2.0.\n",
      "Some module may need to rebuild instead e.g. with 'pybind11>=2.12'.\n",
      "\n",
      "If you are a user of the module, the easiest solution will be to\n",
      "downgrade to 'numpy<2' or try to upgrade the affected module.\n",
      "We expect that some modules will need time to support NumPy 2.\n",
      "\n",
      "Traceback (most recent call last):  File \"/Users/demouser/anaconda3/envs/regpy10ch/lib/python3.10/threading.py\", line 973, in _bootstrap\n",
      "    self._bootstrap_inner()\n",
      "  File \"/Users/demouser/anaconda3/envs/regpy10ch/lib/python3.10/threading.py\", line 1016, in _bootstrap_inner\n",
      "    self.run()\n",
      "  File \"/Users/demouser/anaconda3/envs/regpy10ch/lib/python3.10/site-packages/ipykernel/ipkernel.py\", line 772, in run_closure\n",
      "    _threading_Thread_run(self)\n",
      "  File \"/Users/demouser/anaconda3/envs/regpy10ch/lib/python3.10/threading.py\", line 953, in run\n",
      "    self._target(*self._args, **self._kwargs)\n",
      "  File \"/Users/demouser/anaconda3/envs/regpy10ch/lib/python3.10/concurrent/futures/thread.py\", line 83, in _worker\n",
      "    work_item.run()\n",
      "  File \"/Users/demouser/anaconda3/envs/regpy10ch/lib/python3.10/concurrent/futures/thread.py\", line 58, in run\n",
      "    result = self.fn(*self.args, **self.kwargs)\n",
      "  File \"/Users/demouser/Library/CloudStorage/OneDrive-NationalUniversityofSingapore/Reg-Guru/backend/helper/chroma.py\", line 149, in process_documents_batch\n",
      "    embeddings = HuggingFaceEmbeddings(model_name=\"all-MiniLM-L6-v2\", model_kwargs={\"device\": \"cpu\"})\n",
      "  File \"/Users/demouser/anaconda3/envs/regpy10ch/lib/python3.10/site-packages/langchain_huggingface/embeddings/huggingface.py\", line 69, in __init__\n",
      "    import sentence_transformers  # type: ignore[import]\n",
      "  File \"/Users/demouser/anaconda3/envs/regpy10ch/lib/python3.10/site-packages/sentence_transformers/__init__.py\", line 10, in <module>\n",
      "    from sentence_transformers.backend import (\n",
      "  File \"/Users/demouser/anaconda3/envs/regpy10ch/lib/python3.10/site-packages/sentence_transformers/backend/__init__.py\", line 3, in <module>\n",
      "    from .load import load_onnx_model, load_openvino_model\n",
      "  File \"/Users/demouser/anaconda3/envs/regpy10ch/lib/python3.10/site-packages/sentence_transformers/backend/load.py\", line 7, in <module>\n",
      "    from transformers.configuration_utils import PretrainedConfig\n",
      "  File \"/Users/demouser/anaconda3/envs/regpy10ch/lib/python3.10/site-packages/transformers/__init__.py\", line 27, in <module>\n",
      "    from . import dependency_versions_check\n",
      "  File \"/Users/demouser/anaconda3/envs/regpy10ch/lib/python3.10/site-packages/transformers/dependency_versions_check.py\", line 16, in <module>\n",
      "    from .utils.versions import require_version, require_version_core\n",
      "  File \"/Users/demouser/anaconda3/envs/regpy10ch/lib/python3.10/site-packages/transformers/utils/__init__.py\", line 24, in <module>\n",
      "    from .auto_docstring import (\n",
      "  File \"/Users/demouser/anaconda3/envs/regpy10ch/lib/python3.10/site-packages/transformers/utils/auto_docstring.py\", line 30, in <module>\n",
      "    from .generic import ModelOutput\n",
      "  File \"/Users/demouser/anaconda3/envs/regpy10ch/lib/python3.10/site-packages/transformers/utils/generic.py\", line 53, in <module>\n",
      "    import torch  # noqa: F401\n",
      "  File \"/Users/demouser/anaconda3/envs/regpy10ch/lib/python3.10/site-packages/torch/__init__.py\", line 1477, in <module>\n",
      "    from .functional import *  # noqa: F403\n",
      "  File \"/Users/demouser/anaconda3/envs/regpy10ch/lib/python3.10/site-packages/torch/functional.py\", line 9, in <module>\n",
      "    import torch.nn.functional as F\n",
      "  File \"/Users/demouser/anaconda3/envs/regpy10ch/lib/python3.10/site-packages/torch/nn/__init__.py\", line 1, in <module>\n",
      "    from .modules import *  # noqa: F403\n",
      "  File \"/Users/demouser/anaconda3/envs/regpy10ch/lib/python3.10/site-packages/torch/nn/modules/__init__.py\", line 35, in <module>\n",
      "    from .transformer import TransformerEncoder, TransformerDecoder, \\\n",
      "  File \"/Users/demouser/anaconda3/envs/regpy10ch/lib/python3.10/site-packages/torch/nn/modules/transformer.py\", line 20, in <module>\n",
      "    device: torch.device = torch.device(torch._C._get_default_device()),  # torch.device('cpu'),\n",
      "/Users/demouser/anaconda3/envs/regpy10ch/lib/python3.10/site-packages/torch/nn/modules/transformer.py:20: UserWarning: Failed to initialize NumPy: _ARRAY_API not found (Triggered internally at /Users/runner/work/pytorch/pytorch/pytorch/torch/csrc/utils/tensor_numpy.cpp:84.)\n",
      "  device: torch.device = torch.device(torch._C._get_default_device()),  # torch.device('cpu'),\n"
     ]
    },
    {
     "name": "stdout",
     "output_type": "stream",
     "text": [
      "[99737] 3 | Error processing eu/LEG_EN_HTML_20250721_04_08/39bcdc85-2e3b-4e36-a488-5197ee502afd/html/31999Y0917_02_en.html | Numpy is not available\n",
      "[99737] 2 | Error processing eu/LEG_EN_HTML_20250721_04_08/65a9ddff-3e78-403b-ab34-98d7973be2b3/xhtml/L_2010117EN.01006001.doc.html | Numpy is not available\n",
      "[99737] 4 | Error processing eu/LEG_EN_HTML_20250721_04_08/a4d26b15-882d-11e9-9369-01aa75ed71a1/xhtml/L_2019148EN.01000101.doc.html | Numpy is not available\n",
      "[99737] 0 | Error processing eu/LEG_EN_HTML_20250721_04_08/1a1e8486-a474-11e9-9d01-01aa75ed71a1/xhtml/L_2019187EN.01004101.doc.html | Numpy is not available\n",
      "[99737] 1 | Error processing eu/LEG_EN_HTML_20250721_04_08/5fa72f58-9564-4ebe-a5a5-853e206ae2ed/html/32000R0212en.html | Numpy is not available\n"
     ]
    }
   ],
   "source": [
    "from helper.chroma import process_documents_batch\n",
    "parallel_extract_threads(process_documents_batch, documents, collection, num_threads=4)"
   ]
  },
  {
   "cell_type": "markdown",
   "id": "05a3b0fc",
   "metadata": {},
   "source": [
    "# Check chroma client"
   ]
  },
  {
   "cell_type": "code",
   "execution_count": 20,
   "id": "88591bd5",
   "metadata": {},
   "outputs": [
    {
     "name": "stdout",
     "output_type": "stream",
     "text": [
      "Number of embeddings: 118643\n"
     ]
    },
    {
     "data": {
      "text/plain": [
       "['9000786f2ac2_0',\n",
       " '9000786f2ac2_1',\n",
       " '9000786f2ac2_2',\n",
       " '9000786f2ac2_3',\n",
       " '9000786f2ac2_4',\n",
       " '9000786f2ac2_5',\n",
       " '9000786f2ac2_6',\n",
       " '9000786f2ac2_7',\n",
       " '9000786f2ac2_8',\n",
       " '9000786f2ac2_9']"
      ]
     },
     "execution_count": 20,
     "metadata": {},
     "output_type": "execute_result"
    }
   ],
   "source": [
    "print(\"Number of embeddings:\", collection.count())\n",
    "results = collection.peek()\n",
    "results['ids']"
   ]
  },
  {
   "cell_type": "code",
   "execution_count": 21,
   "id": "9ff19d6c",
   "metadata": {},
   "outputs": [
    {
     "data": {
      "text/plain": [
       "2674"
      ]
     },
     "execution_count": 21,
     "metadata": {},
     "output_type": "execute_result"
    }
   ],
   "source": [
    "all_ids = collection.get()[\"ids\"]\n",
    "doc_ids = set([i.split('_')[0] for i in all_ids])\n",
    "len(doc_ids)"
   ]
  },
  {
   "cell_type": "code",
   "execution_count": 25,
   "id": "79742dc5",
   "metadata": {},
   "outputs": [],
   "source": [
    "from langchain.chains import RetrievalQA\n",
    "from langchain_openai import ChatOpenAI\n",
    "from langchain_community.vectorstores import Chroma\n",
    "from langchain.prompts import ChatPromptTemplate"
   ]
  },
  {
   "cell_type": "code",
   "execution_count": 27,
   "id": "632c12f2",
   "metadata": {},
   "outputs": [],
   "source": [
    "# Prompt template\n",
    "prompt_template = \"\"\"Answer the question in a concise manner based on the following context:\n",
    "{context}\n",
    "\n",
    "Question: {question}\n",
    "\n",
    "If the context does not contain the answer, use other sources.\n",
    "\"\"\"\n",
    "prompt = ChatPromptTemplate.from_template(prompt_template)"
   ]
  },
  {
   "cell_type": "code",
   "execution_count": null,
   "id": "bc941249",
   "metadata": {},
   "outputs": [],
   "source": [
    "collection = ch_client.get_or_create_collection(name=\"legal\")\n",
    "if collection.count() == 0:\n",
    "    print(\"Vectorstore is empty.\")\n",
    "else:\n",
    "    print(f\"Vectorstore loaded. [{len(doc_ids)} documents. {collection.count()} embeddings.]\")\n",
    "llm = ChatOpenAI(model=\"gpt-4o\", temperature=0.1)\n",
    "embeddings = HuggingFaceEmbeddings(model_name=\"all-MiniLM-L6-v2\", model_kwargs={\"device\": \"cpu\"})\n",
    "vectorstore = Chroma(\n",
    "    client=ch_client,\n",
    "    collection_name=\"legal\",\n",
    "    embedding_function=embeddings  # same embedding function used for inserts\n",
    ")"
   ]
  },
  {
   "cell_type": "code",
   "execution_count": 38,
   "id": "34cf0f0e",
   "metadata": {},
   "outputs": [],
   "source": [
    "retriever = vectorstore.as_retriever(\n",
    "    search_kwargs={\n",
    "        \"k\": 5,\n",
    "        \"filter\":{\n",
    "            \"celex-year\": 2010\n",
    "        }\n",
    "    }\n",
    ")\n",
    "qa = RetrievalQA.from_chain_type(\n",
    "    llm=llm,  # or whichever LLM\n",
    "    retriever=retriever,\n",
    "    chain_type=\"stuff\",\n",
    "    chain_type_kwargs={\"prompt\": prompt},\n",
    "    return_source_documents=True\n",
    ")"
   ]
  },
  {
   "cell_type": "code",
   "execution_count": 32,
   "id": "d6091821",
   "metadata": {},
   "outputs": [
    {
     "name": "stdout",
     "output_type": "stream",
     "text": [
      "{'query': 'Which chemical was classified as a substance of very high concern for its endocrine-disrupting effects under the EU Commission Implementing Decision 2019/1194?', 'result': 'The chemical 4-tert-butylphenol (PTBP) was classified as a substance of very high concern for its endocrine-disrupting effects under the EU Commission Implementing Decision 2019/1194.', 'source_documents': [Document(metadata={'celex-year': 2019, 'celex-sector': '3', 'celex': '32019D1194', 'title': 'L_2019187EN.01004101.xml', 'eurovoc-terms': 'fish;endocrine disease;fish disease;chemical product;endocrine disruptor;environmental protection', 'eurovoc-mt': '5641 fisheries;2841 health;5631 agricultural activity;6811 chemistry;5216 deterioration of the environment;5206 environmental policy'}, page_content='HAS ADOPTED THIS DECISION:\\n\\n\\n\\n\\n\\n\\n\\n\\nArticle 1\\n\\n\\n\\n\\n1.\\xa0\\xa0\\xa04-tert-butylphenol (PTBP) (EC No 202-679-0, CAS No 98-54-4) is identified as a substance of very high concern pursuant to Article 57(f) of Regulation (EC) No 1907/2006 due to its endocrine disrupting properties with probable serious effects to the environment which give rise to an equivalent level of concern to those of other substances listed in Article 57(a) to (e) of that Regulation.\\n\\n\\n\\n\\n\\n\\n2.\\xa0\\xa0\\xa0The substance referred to in paragraph 1 shall be included in the candidate list referred to in Article 59(1) of Regulation (EC) No 1907/2006 with the following indication under ‘Reason for inclusion’: ‘Endocrine disrupting properties (Article 57(f) - environment)’.\\n\\n\\n\\n\\n\\n\\n\\n\\nArticle 2\\n\\n\\nThis Decision is addressed to the European Chemicals Agency.\\n\\n\\n\\n\\n\\n\\n\\n\\n\\n\\nDone at Brussels, 5\\xa0July 2019.\\n\\n\\n\\n\\n\\n\\nFor the Commission\\n\\n\\n\\n\\nElżbieta BIEŃKOWSKA\\n            \\n\\n\\n\\n\\nMember of the Commission'), Document(metadata={'eurovoc-mt': '5216 deterioration of the environment;2006 trade policy;2031 marketing;5606 agricultural policy;5626 means of agricultural production', 'celex-year': 2024, 'title': 'L_202401696EN.000101.fmx.xml', 'celex': '32024R1696', 'celex-sector': '3', 'eurovoc-terms': 'endocrine disruptor;withdrawal from the market;market approval;plant health control;toxic substance;pesticide'}, page_content='(\\n3\\n)\\n\\xa0\\xa0Commission Regulation (EU)\\xa02018/605 of 19\\xa0April 2018 amending Annex\\xa0II to Regulation (EC) No\\xa01107/2009 by setting out scientific criteria for the determination of endocrine disrupting properties (\\nOJ\\xa0L\\xa0101, 20.4.2018, p.\\xa033\\n, ELI:\\xa0\\nhttp://data.europa.eu/eli/reg/2018/605/oj\\n).\\n\\n\\n\\n\\n(\\n4\\n)\\n\\xa0\\xa0Peer review of the pesticide risk assessment of the active substance acibenzolar-S-methyl,\\n\\n\\n\\n\\nEFSA Journal\\n 2021;19(7):6687 \\nhttps://doi.org/10.2903/j.efsa.2021.6687\\n.\\n\\n\\n\\n\\n(\\n5\\n)\\n\\xa0\\xa0Regulation (EC) No\\xa01272/2008 of the European Parliament and of the Council of 16\\xa0December 2008 on classification, labelling and packaging of substances and mixtures, amending and repealing Directives\\xa067/548/EEC and\\xa01999/45/EC, and amending Regulation (EC) No\\xa01907/2006 (\\nOJ\\xa0L\\xa0353, 31.12.2008, p.\\xa01\\n, ELI:\\xa0\\nhttp://data.europa.eu/eli/reg/2008/1272/oj\\n).'), Document(metadata={'celex-sector': '3', 'celex': '32019D1194', 'eurovoc-terms': 'fish;endocrine disease;fish disease;chemical product;endocrine disruptor;environmental protection', 'title': 'L_2019187EN.01004101.xml', 'celex-year': 2019, 'eurovoc-mt': '5641 fisheries;2841 health;5631 agricultural activity;6811 chemistry;5216 deterioration of the environment;5206 environmental policy'}, page_content='Whereas:\\n\\n\\n\\n\\n\\n\\n\\n\\n\\n\\n\\n\\n\\n\\n\\n\\n(1)\\n\\n\\n\\n\\n\\n\\nOn 30\\xa0August 2016, Germany submitted to the European Chemicals Agency (‘the Agency’), in accordance with Article 59(3) of Regulation (EC) No 1907/2006, a dossier prepared in accordance with Annex XV to that Regulation (‘Annex XV dossier’) for the identification of 4-tert-butylphenol [(PTBP) (EC No 202-679-0, CAS No\\xa098-54-4) as a substance of very high concern according to Article 57(f) of that Regulation due to its endocrine disrupting properties, for which there is scientific evidence of probable serious effects to the environment which give rise to an equivalent level of concern to those of other substances listed in points (a) to (e) of Article 57 of Regulation (EC) No 1907/2006.\\n\\n\\n\\n\\n\\n\\n\\n\\n\\n\\n\\n\\n\\n\\n\\n\\n\\n\\n\\n\\n\\n\\n\\n\\n\\n\\n(2)'), Document(metadata={'celex-sector': '3', 'celex-year': 2019, 'title': 'L_2019060EN.01001201.xml', 'eurovoc-mt': '5626 means of agricultural production;2031 marketing;5606 agricultural policy', 'eurovoc-terms': 'plant health product;market approval;plant health control', 'celex': '32019R0337'}, page_content='(\\n4\\n)\\n\\xa0\\xa0ECHA (European Chemicals Agency) and EFSA (European Food Safety Authority) with the technical support of the Joint Research Centre (JRC), Andersson N, Arena M, Auteri D, Barmaz S, Grignard E, Kienzler A, Lepper P, Lostia AM, Munn S, Parra Morte JM, Pellizzato F, Tarazona J, Terron A and Van der Linden S, 2018. Guidance for the identification of endocrine disruptors in the context of Regulations (EU) No 528/2012 and (EC) No 1107/2009. \\nEFSA Journal\\n 2018;16(6):5311, 135 pp.\\xa0https://doi.org/10.2903/j.efsa.2018.5311. ECHA-18-G-01-EN.\\n\\n\\n\\n\\n(\\n5\\n)\\n\\xa0\\xa0Commission Implementing Regulation (EU) No 540/2011 of 25\\xa0May 2011 implementing Regulation (EC) No 1107/2009 of the European Parliament and of the Council as regards the list of approved active substances (\\nOJ\\xa0L\\xa0153, 11.6.2011, p.\\xa01\\n).\\n\\n\\n\\n\\n\\n\\n\\n\\n\\n\\nANNEX I\\n\\n\\n\\n\\n\\n\\n\\n\\n\\n\\n\\n\\n\\n\\n\\n\\n\\n\\n\\n\\n\\n\\nCommon Name,\\n\\n\\nIdentification Numbers\\n\\n\\n\\n\\n\\n\\nIUPAC Name\\n\\n\\n\\n\\n\\n\\nPurity\\n\\xa0(\\n1\\n)\\n\\n\\n\\n\\n\\n\\n\\n\\nDate of approval\\n\\n\\n\\n\\n\\n\\nExpiration of approval\\n\\n\\n\\n\\n\\n\\nSpecific provisions'), Document(metadata={'title': 'L_2019187EN.01004101.xml', 'celex-year': 2019, 'celex': '32019D1194', 'eurovoc-terms': 'fish;endocrine disease;fish disease;chemical product;endocrine disruptor;environmental protection', 'celex-sector': '3', 'eurovoc-mt': '5641 fisheries;2841 health;5631 agricultural activity;6811 chemistry;5216 deterioration of the environment;5206 environmental policy'}, page_content='Done at Brussels, 5\\xa0July 2019.\\n\\n\\n\\n\\n\\n\\nFor the Commission\\n\\n\\n\\n\\nElżbieta BIEŃKOWSKA\\n            \\n\\n\\n\\n\\nMember of the Commission\\n\\n\\n\\n\\n\\n\\n\\n\\n\\n\\n\\n\\n\\n\\n(\\n1\\n)\\n\\xa0\\xa0\\n            \\nOJ\\xa0L\\xa0396, 30.12.2006, p.\\xa01\\n.\\n\\n\\n\\n\\n(\\n2\\n)\\n\\xa0\\xa0http://echa.europa.eu/role-of-the-member-state-committee-in-the-authorisation-process/svhc-opinions-of-the-member-state-committee\\n\\n\\n\\n\\n(\\n3\\n)\\n\\xa0\\xa0Demska-Zakęś, K. (2005). Wpływ wybranych ksenobiotyków na rozwój układu płciowego ryb. (Olsztyn, Uniwersytet Warminsko-Mazurski w Olsztynie - UWM Olsztyn), p.\\xa061.\\n\\n\\n\\n\\n(\\n4\\n)\\n\\xa0\\xa0World Health Organization/International Programme on Chemical Safety (WHO/IPCS), 2002. Global Assessment of the State-of-the-science of Endocrine Disruptors.\\xa0WHO/PCS/EDC/02.2, publicly available at http://www.who.int/ipcs/publications/new_issues/endocrine_disruptors/en/\\n\\n\\n\\n\\n(\\n5\\n)\\n\\xa0\\xa04-nonylphenol, branched and linear; 4-tert-octylphenol (CAS-No: 140-66-1; EC-No: 205-426-2); 4- -heptylphenol, branched and linear; 4-tert-pentylphenol (CAS-No: 80-46-6; EC-No: 201-280-9).')]}\n"
     ]
    }
   ],
   "source": [
    "# Query it\n",
    "response = qa.invoke(\"Which chemical was classified as a substance of very high concern for its endocrine-disrupting effects under the EU Commission Implementing Decision 2019/1194?\")\n",
    "print(response)"
   ]
  },
  {
   "cell_type": "code",
   "execution_count": 33,
   "id": "94ece8c9",
   "metadata": {},
   "outputs": [
    {
     "data": {
      "text/plain": [
       "{'query': 'On what date did EU Regulation 402/2010 become effective?',\n",
       " 'result': 'The context provided does not mention EU Regulation 402/2010 or its effective date. Therefore, based on external sources, EU Regulation 402/2010 became effective on May 20, 2010.',\n",
       " 'source_documents': [Document(metadata={'title': 'L_202402781EN.000101.fmx.xml', 'celex-year': 2024, 'celex-sector': '3', 'eurovoc-terms': 'market approval;plant health control;plant health product', 'eurovoc-mt': '2031 marketing;5606 agricultural policy;5626 means of agricultural production', 'celex': '32024R2781'}, page_content='HAS ADOPTED THIS REGULATION:\\n\\n\\n\\n\\n\\n\\n\\n\\nArticle\\xa01\\n\\n\\nThe Annex to Implementing Regulation (EU) No\\xa0540/2011 is amended in accordance with the Annex to this Regulation.\\n\\n\\n\\n\\n\\n\\nArticle\\xa02\\n\\n\\nThis Regulation shall enter into force on the twentieth day following that of its publication in the \\nOfficial Journal of the European Union\\n.\\n\\n\\n\\n\\n\\n\\n\\n\\n\\n\\nThis Regulation shall be binding in its entirety and directly applicable in all Member States.\\n\\n\\nDone at Brussels, 31\\xa0October 2024.\\n\\n\\n\\n\\n\\n\\nFor the Commission\\n\\n\\n\\n\\n\\n\\nThe President\\n\\n\\n\\n\\nUrsula VON DER LEYEN\\n            \\n\\n\\n\\n\\n\\n\\n\\n\\n\\n\\n\\n\\n(\\n1\\n)\\n\\xa0\\xa0\\n            \\nOJ\\xa0L\\xa0309, 24.11.2009, p.\\xa01\\n, ELI: \\nhttp://data.europa.eu/eli/reg/2009/1107/oj\\n.'),\n",
       "  Document(metadata={'celex-year': 2023, 'eurovoc-mt': '0806 international affairs;1211 civil law;7226 Asia and Oceania;7231 economic geography;7236 political geography;1016 European construction', 'title': 'LI2023020EN.01000101.xml', 'celex': '32023R0152', 'celex-sector': '3', 'eurovoc-terms': 'international sanctions;natural person;Iran;EU restrictive measure;economic sanctions;legal person'}, page_content='Whereas:\\n\\n\\n\\n\\n\\n\\n\\n\\n\\n\\n\\n\\n\\n\\n\\n\\n(1)\\n\\n\\n\\n\\n\\n\\nOn 12\\xa0April 2011, the Council adopted Regulation (EU) No\\xa0359/2011.\\n\\n\\n\\n\\n\\n\\n\\n\\n\\n\\n\\n\\n\\n\\n\\n\\n\\n\\n\\n\\n\\n\\n\\n\\n\\n\\n(2)'),\n",
       "  Document(metadata={'eurovoc-terms': 'plant health control;market approval;pesticide;withdrawal from the market', 'celex': '32013R0368', 'celex-year': 2013, 'celex-sector': '3', 'title': 'L_2013111EN.01003601.xml', 'eurovoc-mt': '5606 agricultural policy;2031 marketing;5626 means of agricultural production;2006 trade policy'}, page_content='Amendments to Implementing Regulation (EU) No 540/2011\\n\\n\\n\\n\\nThe Annex to Implementing Regulation (EU) No 540/2011 is amended in accordance with Annex II to this Regulation.\\n\\n\\n\\n\\n\\n\\nArticle 4\\n\\n\\n\\n\\nEntry into force and date of application\\n\\n\\n\\n\\nThis Regulation shall enter into force on the twentieth day following that of its publication in the \\nOfficial Journal of the European Union\\n.\\n\\n\\nIt shall apply from 1 June 2013.\\n\\n\\n\\n\\n\\n\\n\\n\\n\\n\\nThis Regulation shall be binding in its entirety and directly applicable in all Member States.\\n\\n\\nDone at Brussels, 22 April 2013.\\n\\n\\n\\n\\n\\n\\nFor the Commission\\n\\n\\n\\n\\n\\n\\nThe President\\n\\n\\n\\n\\nJosé Manuel BARROSO\\n            \\n\\n\\n\\n\\n\\n\\n\\n\\n\\n\\n\\n\\n(\\n1\\n)\\n\\xa0\\xa0\\n            \\nOJ L 309, 24.11.2009, p. 1\\n.\\n\\n\\n\\n\\n(\\n2\\n)\\n\\xa0\\xa0\\n            \\nOJ L 230, 19.8.1991, p. 1\\n.\\n\\n\\n\\n\\n(\\n3\\n)\\n\\xa0\\xa0\\n            \\nOJ L 213, 15.8.2007, p. 29\\n.\\n\\n\\n\\n\\n(\\n4\\n)\\n\\xa0\\xa0\\n            \\nEFSA Journal\\n 2012; 10(9):2865. Available online: www.efsa.europa.eu\\n\\n\\n\\n\\n(\\n5\\n)\\n\\xa0\\xa0\\n            \\nOJ L 366, 15.12.1992, p. 10\\n.'),\n",
       "  Document(metadata={'celex-year': 2024, 'celex': '32024R3122', 'eurovoc-mt': '5206 environmental policy;2031 marketing;5216 deterioration of the environment;3606 natural and applied sciences;2841 health;1011 European Union law;6811 chemistry', 'eurovoc-terms': 'reduction of gas emissions;packaging product;greenhouse gas;labelling;substance of human origin;medical device;derogation from EU law;blood transfusion;market approval;fluorine', 'title': 'L_202403122EN.000101.fmx.xml', 'celex-sector': '3'}, page_content='Article\\xa02\\n\\n\\nThis Regulation shall enter into force on the day following that of its publication in the \\nOfficial Journal of the European Union\\n.\\n\\n\\nIt shall apply from 1\\xa0January 2025.\\n\\n\\n\\n\\n\\n\\n\\n\\n\\n\\nThis Regulation shall be binding in its entirety and directly applicable in all Member States.\\n\\n\\nDone at Brussels, 16\\xa0December 2024.\\n\\n\\n\\n\\n\\n\\nFor the Commission\\n\\n\\n\\n\\n\\n\\nThe President\\n\\n\\n\\n\\nUrsula VON DER LEYEN\\n            \\n\\n\\n\\n\\n\\n\\n\\n\\n\\n\\n\\n\\n(\\n1\\n)\\n\\xa0\\xa0\\n            \\nOJ L, 2024/573, 20.2.2024, ELI: http://data.europa.eu/eli/reg/2024/573/oj\\n.\\n\\n\\n\\n\\n\\n\\nELI: http://data.europa.eu/eli/reg_impl/2024/3122/oj\\n\\n\\nISSN 1977-0677 (electronic edition)'),\n",
       "  Document(metadata={'eurovoc-mt': '3231 information and information processing;1006 EU institutions and European civil service;5216 deterioration of the environment;5206 environmental policy;3221 documentation;6411 technology and technical regulations;4821 maritime and inland waterway transport', 'eurovoc-terms': 'exchange of information;European Maritime Safety Agency;greenhouse gas;information system;environmental monitoring;reduction of gas emissions;electronic document management;technical rule;pollution from ships;maritime transport', 'title': 'L_202302449EN.000101.fmx.xml', 'celex-year': 2023, 'celex': '32023R2449', 'celex-sector': '3'}, page_content='2.\\xa0\\xa0\\xa0The electronic version of the template of the report at company level shall contain the information set out in Annex\\xa0IV.\\n\\n\\n\\n\\n\\n\\n\\n\\nArticle\\xa05\\n\\n\\n\\n\\nRepeal\\n\\n\\n\\n\\n\\n\\n1.\\xa0\\xa0\\xa0Implementing Regulation (EU)\\xa02016/1927 is repealed with effect from 1\\xa0January 2024.\\n\\n\\n\\n\\n\\n\\n2.\\xa0\\xa0\\xa0References to Implementing Regulation (EU)\\xa02016/1927 shall be construed as references to this Regulation.\\n\\n\\n\\n\\n\\n\\n\\n\\nArticle\\xa06\\n\\n\\n\\n\\nEntry into force\\n\\n\\n\\n\\nThis Regulation shall enter into force on the twentieth day following that of its publication in the \\nOfficial Journal of the European Union\\n.\\n\\n\\nIt shall apply from 1\\xa0January 2024.\\n\\n\\n\\n\\n\\n\\n\\n\\n\\n\\nThis Regulation shall be binding in its entirety and directly applicable in all Member States.\\n\\n\\nDone at Brussels, 6\\xa0November 2023.\\n\\n\\n\\n\\n\\n\\nFor the Commission\\n\\n\\n\\n\\n\\n\\nThe President\\n\\n\\n\\n\\nUrsula VON DER LEYEN\\n            \\n\\n\\n\\n\\n\\n\\n\\n\\n\\n\\n\\n\\n(\\n1\\n)\\n\\xa0\\xa0\\n            \\nOJ\\xa0L\\xa0123, 19.5.2015, p.\\xa055\\n.')]}"
      ]
     },
     "execution_count": 33,
     "metadata": {},
     "output_type": "execute_result"
    }
   ],
   "source": [
    "qn = \"On what date did EU Regulation 402/2010 become effective?\"\n",
    "response = qa.invoke(qn)\n",
    "response"
   ]
  },
  {
   "cell_type": "code",
   "execution_count": 34,
   "id": "880473f4",
   "metadata": {},
   "outputs": [
    {
     "data": {
      "text/plain": [
       "'32024R2781'"
      ]
     },
     "execution_count": 34,
     "metadata": {},
     "output_type": "execute_result"
    }
   ],
   "source": [
    "response['source_documents'][0].metadata['celex']"
   ]
  },
  {
   "cell_type": "code",
   "execution_count": 41,
   "id": "afcbcf7e",
   "metadata": {},
   "outputs": [
    {
     "data": {
      "text/plain": [
       "{'query': 'On what day should EU Regulation 402/2010 enter into force?',\n",
       " 'result': 'EU Regulation 402/2010 should enter into force on the day following its publication in the Official Journal of the European Union.',\n",
       " 'source_documents': [Document(metadata={'celex': '32010R0832', 'title': 'L_2010248EN.01000101.xml', 'celex-year': 2010, 'eurovoc-terms': 'management information system;Cohesion Fund;regional disparity;European Regional Development Fund;dissemination of information;administrative transparency;economic and social cohesion;European Social Fund;management audit', 'celex-sector': '3', 'eurovoc-mt': '4021 management;1021 EU finance;1616 regions and regional policy;3221 documentation;0436 executive power and public service;1016 European construction'}, page_content='(8)\\n\\n\\n\\n\\n\\n\\nRegulation (EC) No 1828/2006 should therefore be amended accordingly.\\n\\n\\n\\n\\n\\n\\n\\n\\n\\n\\n\\n\\n\\n\\n\\n\\n\\n\\n\\n\\n\\n\\n\\n\\n\\n\\n(9)\\n\\n\\n\\n\\n\\n\\nFor reasons of coherence it is appropriate that the amendments to Regulation (EC) No 1828/2006 apply from the same date as Regulation (EU) No 539/2010 and Regulation (EU) No 437/2010.\\n\\n\\n\\n\\n\\n\\n\\n\\n\\n\\n\\n\\n\\n\\n\\n\\n\\n\\n\\n\\n\\n\\n\\n\\n\\n\\n(10)\\n\\n\\n\\n\\n\\n\\nIt is necessary that all the advantages to beneficiaries which result from Regulation (EU) No 539/2010 and Regulation (EU) No 437/2010 apply as soon as possible. Therefore, this Regulation should enter into force as a matter of urgency.\\n\\n\\n\\n\\n\\n\\n\\n\\n\\n\\n\\n\\n\\n\\n\\n\\n\\n\\n\\n\\n\\n\\n\\n\\n\\n\\n(11)\\n\\n\\n\\n\\n\\n\\nThe measures provided for in this Regulation are in accordance with the opinion of the Coordination Committee of the Funds,\\n\\n\\n\\n\\n\\n\\n\\n\\n\\n\\n\\n\\nHAS ADOPTED THIS REGULATION:\\n\\n\\n\\n\\n\\n\\n\\n\\nArticle 1\\n\\n\\nRegulation (EC) No 1828/2006 is amended as follows:\\n\\n\\n\\n\\n\\n\\n\\n\\n\\n\\n\\n\\n\\n\\n(1)\\n\\n\\n\\n\\n\\n\\nArticle 43 is amended as follows:\\n\\n\\n\\n\\n\\n\\n\\n\\n\\n\\n\\n\\n\\n\\n(a)\\n\\n\\n\\n\\n\\n\\nparagraph 1 is replaced by the following:'),\n",
       "  Document(metadata={'celex-year': 2010, 'celex-sector': '3', 'eurovoc-terms': 'social-security harmonisation;EU Member State;social-security benefit;expatriate worker;worker (EU)', 'celex': '32010D0424(02)', 'eurovoc-mt': '2836 social protection;7231 economic geography;4411 labour market', 'title': 'C_2010106EN.01000501.xml'}, page_content='8.\\n\\n\\n\\n\\n\\n\\nThis Decision shall be published in the \\nOfficial Journal of the European Union\\n. It shall apply from the date of entry into force of Regulation (EC) No 987/2009.\\n\\n\\n\\n\\n\\n\\n\\n\\n\\n\\n\\n\\n\\n\\n\\n\\nThe Chair of the Administrative Commission\\n\\n\\n\\n\\nGabriela PIKOROVÁ\\n\\n\\n\\n\\n\\n\\n\\n\\n\\n\\n(\\n1\\n)\\n\\xa0\\xa0\\nOJ L 166, 30.4.2004, p. 1\\n.\\n\\n\\n\\n\\n(\\n2\\n)\\n\\xa0\\xa0\\nOJ L 284, 30.10.2009, p. 1\\n.'),\n",
       "  Document(metadata={'eurovoc-terms': 'marketing standard;plant health product;pharmaceutical product;exchange of information;testing', 'celex-year': 2010, 'celex': '32010R0078', 'celex-sector': '3', 'eurovoc-mt': '2031 marketing;5626 means of agricultural production;2841 health;3231 information and information processing;6411 technology and technical regulations', 'title': 'L_2010024EN.01000701.xml'}, page_content='Article 2\\n\\n\\n\\n\\nTransitional provisions\\n\\n\\n\\n\\nArticle 10 of Regulation (EC) No 33/2008 shall continue to apply, as unamended, to active substances for which the draft assessment report by the rapporteur Member State was submitted to the Commission, as provided for in Article 8(1) of Regulation (EC) No 33/2008, before the entry into force of this Regulation.\\n\\n\\n\\n\\n\\n\\nArticle 3\\n\\n\\n\\n\\nEntry into force\\n\\n\\n\\n\\nThis Regulation shall enter into force on the day following its publication in the \\nOfficial Journal of the European Union\\n.\\n\\n\\n\\n\\n\\n\\n\\n\\n\\n\\nThis Regulation shall be binding in its entirety and directly applicable in all Member States.\\n\\n\\nDone at Brussels, 27 January 2010.\\n\\n\\n\\n\\n\\n\\nFor the Commission\\n\\n\\n\\n\\n\\n\\nThe President\\n\\n\\n\\n\\nJosé Manuel BARROSO\\n            \\n\\n\\n\\n\\n\\n\\n\\n\\n\\n\\n\\n\\n(\\n1\\n)\\n\\xa0\\xa0\\n            \\nOJ L 230, 19.8.1991, p. 1\\n.\\n\\n\\n\\n\\n(\\n2\\n)\\n\\xa0\\xa0\\n            \\nOJ L 15, 18.1.2008, p. 5\\n.\\n\\n\\n\\n\\n(\\n3\\n)\\n\\xa0\\xa0\\n            \\nOJ L 319, 23.11.2002, p. 3\\n.\\n\\n\\n\\n\\n(\\n4\\n)\\n\\xa0\\xa0\\n            \\nOJ L 192, 31.7.2003, p. 40\\n.'),\n",
       "  Document(metadata={'eurovoc-mt': '7206 Europe;7231 economic geography;7236 political geography;4031 competition;6811 chemistry;2016 trade;2021 international trade;5626 means of agricultural production', 'eurovoc-terms': 'Russia;anti-dumping measure;chemical compound;import;originating product;chemical fertiliser;anti-dumping legislation', 'title': 'L_2010254EN.01000501.xml', 'celex': '32010R0856', 'celex-year': 2010, 'celex-sector': '3'}, page_content='Article 2\\n\\n\\nThis Regulation shall enter into force on the day following its publication in the \\nOfficial Journal of the European Union\\n.\\n\\n\\n\\n\\n\\n\\n\\n\\n\\n\\nThis Regulation shall be binding in its entirety and directly applicable in all Member States.\\n\\n\\nDone at Brussels, 27 September 2010.\\n\\n\\n\\n\\n\\n\\nFor the Council\\n\\n\\n\\n\\n\\n\\nThe President\\n\\n\\n\\n\\nK. PEETERS\\n            \\n\\n\\n\\n\\n\\n\\n\\n\\n\\n\\n\\n\\n(\\n1\\n)\\n\\xa0\\xa0\\n            \\nOJ L\\xa0343, 22.12.2009, p.\\xa051\\n.\\n\\n\\n\\n\\n(\\n2\\n)\\n\\xa0\\xa0\\n            \\nOJ L\\xa0198, 23.8.1995, p.\\xa01\\n.\\n\\n\\n\\n\\n(\\n3\\n)\\n\\xa0\\xa0\\n            \\nOJ L\\xa093, 26.3.1998, p.\\xa01\\n.\\n\\n\\n\\n\\n(\\n4\\n)\\n\\xa0\\xa0\\n            \\nOJ L\\xa0102, 18.4.2002, p.\\xa01\\n.\\n\\n\\n\\n\\n(\\n5\\n)\\n\\xa0\\xa0\\n            \\nOJ L\\xa0160, 23.6.2005, p.\\xa01\\n.\\n\\n\\n\\n\\n(\\n6\\n)\\n\\xa0\\xa0\\n            \\nOJ L\\xa0185, 12.7.2008, p.\\xa01\\n.\\n\\n\\n\\n\\n(\\n7\\n)\\n\\xa0\\xa0\\n            \\nOJ L\\xa0278, 23.10.2009, p.\\xa01\\n.\\n\\n\\n\\n\\n(\\n8\\n)\\n\\xa0\\xa0\\n            \\nOJ L\\xa0185, 12.7.2008, p.\\xa043\\n.\\n\\n\\n\\n\\n(\\n9\\n)\\n\\xa0\\xa0\\n            \\nOJ C\\xa0152, 4.7.2009, p.\\xa040\\n.\\n\\n\\n\\n\\n(\\n10\\n)\\n\\xa0\\xa0\\n            \\nOJ L\\xa0253, 11.10.1993, p.\\xa01\\n.'),\n",
       "  Document(metadata={'celex-year': 2010, 'title': 'L_2010163EN.01000101.xml', 'celex-sector': '3', 'celex': '32010R0564', 'eurovoc-terms': 'European official;regulations for civil servants;Lithuania;servant (EU);pension scheme;wage determination;Latvia', 'eurovoc-mt': '1006 EU institutions and European civil service;0436 executive power and public service;7206 Europe;7231 economic geography;7236 political geography;2836 social protection;4421 personnel management and staff remuneration'}, page_content='—\\n\\n\\n\\n\\n\\n\\nLatvia 73,3,\\n\\n\\n\\n\\n\\n\\n\\n\\n\\n\\n\\n\\n\\n\\nArticle 3\\n\\n\\nThis Regulation shall enter into force on the day following its publication in the \\nOfficial Journal of the European Union\\n.\\n\\n\\n\\n\\n\\n\\n\\n\\n\\n\\nThis Regulation shall be binding in its entirety and directly applicable in all Member States.\\n\\n\\nDone at Luxembourg, 29 June 2010.\\n\\n\\n\\n\\n\\n\\nFor the Council\\n\\n\\n\\n\\n\\n\\nThe President\\n\\n\\n\\n\\nE. ESPINOSA\\n            \\n\\n\\n\\n\\n\\n\\n\\n\\n\\n\\n\\n\\n(\\n1\\n)\\n\\xa0\\xa0\\n            \\nOJ L\\xa056, 4.3.1968, p.\\xa01\\n.')]}"
      ]
     },
     "execution_count": 41,
     "metadata": {},
     "output_type": "execute_result"
    }
   ],
   "source": [
    "qn = \"On what day should EU Regulation 402/2010 enter into force?\"\n",
    "response = qa.invoke(qn)\n",
    "response"
   ]
  },
  {
   "cell_type": "code",
   "execution_count": null,
   "id": "9a3d6553",
   "metadata": {},
   "outputs": [],
   "source": []
  },
  {
   "cell_type": "markdown",
   "id": "db446b1e",
   "metadata": {},
   "source": [
    "# To Solve\n",
    "1. Long '\\n' sequences in the document content\n",
    "2. utf-8 error in processing"
   ]
  },
  {
   "cell_type": "code",
   "execution_count": null,
   "id": "89ebc674",
   "metadata": {},
   "outputs": [],
   "source": [
    "structure = {'eu': ['eurlex-download', 'eurlex-sparql', 'eurlex-sample'], 'sg': ['mas', 'sso']}\n",
    "for f in ['raw', 'processed']:\n",
    "    for region, sources in structure.items():\n",
    "        for source in sources:\n",
    "            dir_path = f\"data_ingestion/{f}/{region}/{source}\"\n",
    "            if not os.path.exists(dir_path):\n",
    "                os.makedirs(dir_path)"
   ]
  },
  {
   "cell_type": "code",
   "execution_count": 43,
   "id": "dcb96c39",
   "metadata": {},
   "outputs": [],
   "source": [
    "for f in ['common', 'eu', 'sg', 'us', 'pipelines']:\n",
    "    dir_path = f\"data_ingestion/src/{f}\"\n",
    "    if not os.path.exists(dir_path):\n",
    "        os.makedirs(dir_path)"
   ]
  },
  {
   "cell_type": "code",
   "execution_count": 4,
   "id": "32a80d77",
   "metadata": {},
   "outputs": [],
   "source": [
    "for f in ['chroma']:\n",
    "    for r in ['eu', 'sg', 'us']:\n",
    "        dir_path = f\"/Users/demouser/Library/CloudStorage/OneDrive-NationalUniversityofSingapore/Reg-Guru/backend/data_ingestion/{f}/{r}\" \n",
    "        if not os.path.exists(dir_path):\n",
    "            os.makedirs(dir_path)"
   ]
  }
 ],
 "metadata": {
  "kernelspec": {
   "display_name": "regpy10ch",
   "language": "python",
   "name": "python3"
  },
  "language_info": {
   "codemirror_mode": {
    "name": "ipython",
    "version": 3
   },
   "file_extension": ".py",
   "mimetype": "text/x-python",
   "name": "python",
   "nbconvert_exporter": "python",
   "pygments_lexer": "ipython3",
   "version": "3.10.18"
  }
 },
 "nbformat": 4,
 "nbformat_minor": 5
}
